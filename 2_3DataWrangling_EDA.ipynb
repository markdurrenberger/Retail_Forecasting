{
 "cells": [
  {
   "cell_type": "code",
   "execution_count": 48,
   "metadata": {},
   "outputs": [],
   "source": [
    "import os\n",
    "import pandas as pd\n",
    "import datetime\n",
    "import seaborn as sns\n",
    "import matplotlib.pyplot as plt\n",
    "import numpy as np\n",
    "%matplotlib inline"
   ]
  },
  {
   "cell_type": "markdown",
   "metadata": {},
   "source": [
    "# DSM Step 2 - Data Wrangling\n",
    "\n",
    "Need to load the data provided, get an understanding of what is in each file and prepare for EDA stage."
   ]
  },
  {
   "cell_type": "code",
   "execution_count": 49,
   "metadata": {},
   "outputs": [
    {
     "ename": "FileNotFoundError",
     "evalue": "[WinError 2] The system cannot find the file specified: 'data'",
     "output_type": "error",
     "traceback": [
      "\u001b[1;31m---------------------------------------------------------------------------\u001b[0m",
      "\u001b[1;31mFileNotFoundError\u001b[0m                         Traceback (most recent call last)",
      "\u001b[1;32m<ipython-input-49-d4f89ee4a760>\u001b[0m in \u001b[0;36m<module>\u001b[1;34m\u001b[0m\n\u001b[1;32m----> 1\u001b[1;33m \u001b[0mos\u001b[0m\u001b[1;33m.\u001b[0m\u001b[0mchdir\u001b[0m\u001b[1;33m(\u001b[0m\u001b[1;34m\"data\"\u001b[0m\u001b[1;33m)\u001b[0m\u001b[1;33m\u001b[0m\u001b[1;33m\u001b[0m\u001b[0m\n\u001b[0m",
      "\u001b[1;31mFileNotFoundError\u001b[0m: [WinError 2] The system cannot find the file specified: 'data'"
     ]
    }
   ],
   "source": [
    "os.chdir(\"data\")"
   ]
  },
  {
   "cell_type": "code",
   "execution_count": 50,
   "metadata": {},
   "outputs": [
    {
     "data": {
      "text/plain": [
       "['Cust w Industry a Last Purchased.xlsx',\n",
       " 'REPEATSALE Items Purchased Report 2015 2020 dept 700.XLS',\n",
       " 'Revised Customer Ranking Report 2015-2020.xlsx',\n",
       " 'Sales Report by Zip Code (2010-2020).pdf',\n",
       " 'Tele-Rad County Opportunity 1.18.19.xlsx',\n",
       " 'Tele-Rad County Opportunty Detail 2019.xlsx',\n",
       " 'Tele-Rad County Ownership 1.18.19.xlsx',\n",
       " 'Tele-Rad Product Mix 8.5.2020.pdf',\n",
       " 'Tele-Rad Product Trend Data.xlsx']"
      ]
     },
     "execution_count": 50,
     "metadata": {},
     "output_type": "execute_result"
    }
   ],
   "source": [
    "os.listdir()"
   ]
  },
  {
   "cell_type": "markdown",
   "metadata": {},
   "source": [
    "## File 1: Cust w Industry \n",
    "\n",
    "This file contains the identifying information for each customer, save customer name has been replaced with an Account Number for privacy purposes."
   ]
  },
  {
   "cell_type": "code",
   "execution_count": 64,
   "metadata": {},
   "outputs": [
    {
     "name": "stdout",
     "output_type": "stream",
     "text": [
      "  Industry/Vertical     Contact Owner Account Number    City State/Province  \\\n",
      "0    911 & Dispatch     Keith Johnson         1ALLCD     NaN            NaN   \n",
      "1    911 & Dispatch  Jessica Spindler         1ALPCO  ALPENA             MI   \n",
      "2    911 & Dispatch  Jessica Spindler         7BENCS  BEULAH             MI   \n",
      "3    911 & Dispatch  Jessica Spindler         7CCECD     NaN            NaN   \n",
      "4    911 & Dispatch     Tom Gillespie         4EDWFD     NaN            NaN   \n",
      "\n",
      "   Postal/ZIP Last Purchased  \n",
      "0         NaN     2020-05-18  \n",
      "1  49707-2453     2020-02-13  \n",
      "2       49617     2019-07-29  \n",
      "3         NaN     2020-05-18  \n",
      "4         NaN     2020-01-24  \n",
      "    Industry/Vertical  Contact Owner Account Number City State/Province  \\\n",
      "545   Law Enforcement  Keith Johnson         1OTTSD  NaN            NaN   \n",
      "\n",
      "    Postal/ZIP Last Purchased  \n",
      "545        NaN     2020-05-08  \n"
     ]
    }
   ],
   "source": [
    "customers = pd.read_excel('Cust w Industry a Last Purchased.xlsx', header=0)\n",
    "print(customers.head())\n",
    "# This file lists the last purchase of each customer, and the customer's \"vertical\"\n",
    "print(customers[customers['Account Number']=='1OTTSD'])"
   ]
  },
  {
   "cell_type": "code",
   "execution_count": 65,
   "metadata": {},
   "outputs": [
    {
     "name": "stdout",
     "output_type": "stream",
     "text": [
      "<class 'pandas.core.frame.DataFrame'>\n",
      "RangeIndex: 805 entries, 0 to 804\n",
      "Data columns (total 7 columns):\n",
      " #   Column             Non-Null Count  Dtype         \n",
      "---  ------             --------------  -----         \n",
      " 0   Industry/Vertical  805 non-null    object        \n",
      " 1   Contact Owner      805 non-null    object        \n",
      " 2   Account Number     805 non-null    object        \n",
      " 3   City               206 non-null    object        \n",
      " 4   State/Province     207 non-null    object        \n",
      " 5   Postal/ZIP         206 non-null    object        \n",
      " 6   Last Purchased     619 non-null    datetime64[ns]\n",
      "dtypes: datetime64[ns](1), object(6)\n",
      "memory usage: 44.1+ KB\n"
     ]
    }
   ],
   "source": [
    "# Examine datatypes\n",
    "customers.info()"
   ]
  },
  {
   "cell_type": "code",
   "execution_count": 66,
   "metadata": {},
   "outputs": [
    {
     "name": "stdout",
     "output_type": "stream",
     "text": [
      "% missing of Zip: 0.74\n",
      "% missing of City: 0.74\n",
      "% missing of State: 0.74\n"
     ]
    }
   ],
   "source": [
    "# How many of the Zip, City, State are missing?\n",
    "print('% missing of Zip: {:.2f}'.format(customers['Postal/ZIP'].isnull().sum() / len(customers['Postal/ZIP'])))\n",
    "print('% missing of City: {:.2f}'.format(customers['City'].isnull().sum() / len(customers['City'])))\n",
    "print('% missing of State: {:.2f}'.format(customers['State/Province'].isnull().sum() / len(customers['State/Province'])))"
   ]
  },
  {
   "cell_type": "markdown",
   "metadata": {},
   "source": [
    "74% of Zip/City/State are missing. There isn't a way to systematically look this up in this data file since no customer names. Will drop unless can find something helpful elsewhere.\n",
    "\n",
    "Note from review - the Customer Ranking includes Zip codes, which can be used.\n",
    "\n",
    "From talking to Micah, they use county as their primary internal unit of geography. I'll grab the ZIP codes from the customer ranking data, then turn that into a county column. "
   ]
  },
  {
   "cell_type": "code",
   "execution_count": 68,
   "metadata": {},
   "outputs": [],
   "source": [
    "# Drop city/state - ZIP will be the value used for TR's purposes\n",
    "customers.drop(['City','State/Province'], axis=1, inplace=True)"
   ]
  },
  {
   "cell_type": "markdown",
   "metadata": {},
   "source": [
    "### Categorical Data\n",
    "Three of the columns - contact owner, account number & industry/vertical - seem like they should be categorical."
   ]
  },
  {
   "cell_type": "code",
   "execution_count": 69,
   "metadata": {},
   "outputs": [
    {
     "data": {
      "text/plain": [
       "array(['911 & Dispatch', 'Agriculture', 'Argiculture',\n",
       "       'College & Universities', 'Colleges & Universities',\n",
       "       'Colleges and Universities', 'Construction', 'Fire & EMS',\n",
       "       'Government Services', 'Healthcare', 'Hopitality', 'Hospitality',\n",
       "       'hospitality', 'K12 Education', 'Law Enforcement', 'Manufacturing',\n",
       "       'Mining', 'Mining & Materials', 'Oil & Gas', 'Property Management',\n",
       "       'Religious Institutions', 'Retail', 'Security', 'Service',\n",
       "       'Services & Training', 'Telecommunications', 'Transportation',\n",
       "       'Utilities', 'Warehousing'], dtype=object)"
      ]
     },
     "execution_count": 69,
     "metadata": {},
     "output_type": "execute_result"
    }
   ],
   "source": [
    "# Categorical data - 1) Industry/Vertical\n",
    "\n",
    "# Industry/Vertical - there are some misspellings and things to clean up\n",
    "customers['Industry/Vertical'].unique()"
   ]
  },
  {
   "cell_type": "markdown",
   "metadata": {},
   "source": [
    "When it comes to unique categories I see:\n",
    "* 911 & Dispatch\n",
    "* Agriculture (argiculture)\n",
    "* Colleges & Universities (college & universities, colleges and universities)\n",
    "* Construction\n",
    "* Fire & EMS\n",
    "* Gov't Services\n",
    "* Healthcare\n",
    "* Hospitality (Hopitality, hospitality)\n",
    "* K12 Education\n",
    "* Law Enforcement\n",
    "* Manufacturing\n",
    "* Mining & Materials (mining)\n",
    "* Oil & Gas\n",
    "* Property Management\n",
    "* Religious Institutions\n",
    "* Retail\n",
    "* Security\n",
    "* Services & Training (service)\n",
    "* Telecommunications\n",
    "* Transportation\n",
    "* Utilities\n",
    "* Warehousing\n",
    "\n",
    "22 unique categories"
   ]
  },
  {
   "cell_type": "code",
   "execution_count": 70,
   "metadata": {},
   "outputs": [],
   "source": [
    "# Define a function to map misspelled ones\n",
    "def map_verticals(item):\n",
    "    lookup = {\n",
    "        'Argiculture':'Agriculture',\n",
    "        'College & Universities':'Colleges & Universities',\n",
    "        'Colleges and Universities':'Colleges & Universities',\n",
    "        'Hopitality':'Hospitality',\n",
    "        'hospitality':'Hospitality',\n",
    "        'Mining':'Mining & Materials',\n",
    "        'Service':'Services & Training'\n",
    "    }\n",
    "    \n",
    "    if item in lookup.keys():\n",
    "        return lookup[item]\n",
    "    else: \n",
    "        return item"
   ]
  },
  {
   "cell_type": "code",
   "execution_count": 71,
   "metadata": {},
   "outputs": [
    {
     "name": "stdout",
     "output_type": "stream",
     "text": [
      "['911 & Dispatch' 'Agriculture' 'Colleges & Universities' 'Construction'\n",
      " 'Fire & EMS' 'Government Services' 'Healthcare' 'Hospitality'\n",
      " 'K12 Education' 'Law Enforcement' 'Manufacturing' 'Mining & Materials'\n",
      " 'Oil & Gas' 'Property Management' 'Religious Institutions' 'Retail'\n",
      " 'Security' 'Services & Training' 'Telecommunications' 'Transportation'\n",
      " 'Utilities' 'Warehousing']\n",
      "22\n"
     ]
    }
   ],
   "source": [
    "# Apply function\n",
    "customers['Industry/Vertical'] = customers['Industry/Vertical'].apply(map_verticals)\n",
    "print(customers['Industry/Vertical'].unique())\n",
    "print(len(customers['Industry/Vertical'].unique()))"
   ]
  },
  {
   "cell_type": "code",
   "execution_count": 72,
   "metadata": {},
   "outputs": [
    {
     "name": "stdout",
     "output_type": "stream",
     "text": [
      "<class 'pandas.core.frame.DataFrame'>\n",
      "RangeIndex: 805 entries, 0 to 804\n",
      "Data columns (total 5 columns):\n",
      " #   Column             Non-Null Count  Dtype         \n",
      "---  ------             --------------  -----         \n",
      " 0   Industry/Vertical  805 non-null    category      \n",
      " 1   Contact Owner      805 non-null    object        \n",
      " 2   Account Number     805 non-null    object        \n",
      " 3   Postal/ZIP         206 non-null    object        \n",
      " 4   Last Purchased     619 non-null    datetime64[ns]\n",
      "dtypes: category(1), datetime64[ns](1), object(3)\n",
      "memory usage: 26.9+ KB\n"
     ]
    }
   ],
   "source": [
    "# Change dtype to category\n",
    "customers['Industry/Vertical'] = customers['Industry/Vertical'].astype('category')\n",
    "customers.info()"
   ]
  },
  {
   "cell_type": "markdown",
   "metadata": {},
   "source": [
    "__Categorical Data 2:__ Contact Owners"
   ]
  },
  {
   "cell_type": "code",
   "execution_count": 73,
   "metadata": {},
   "outputs": [
    {
     "data": {
      "text/plain": [
       "array(['Keith Johnson', 'Jessica Spindler', 'Tom Gillespie',\n",
       "       'Patrick McBride', 'Pat McBride', 'Kelly Hoek', 'Skip Petrovich'],\n",
       "      dtype=object)"
      ]
     },
     "execution_count": 73,
     "metadata": {},
     "output_type": "execute_result"
    }
   ],
   "source": [
    "# Contact Owners\n",
    "customers['Contact Owner'].unique()"
   ]
  },
  {
   "cell_type": "code",
   "execution_count": 74,
   "metadata": {},
   "outputs": [
    {
     "data": {
      "text/plain": [
       "Jessica Spindler    195\n",
       "Pat McBride         134\n",
       "Kelly Hoek          132\n",
       "Keith Johnson       129\n",
       "Tom Gillespie       124\n",
       "Skip Petrovich       91\n",
       "Name: Contact Owner, dtype: int64"
      ]
     },
     "execution_count": 74,
     "metadata": {},
     "output_type": "execute_result"
    }
   ],
   "source": [
    "# Change Patrick McBride to Pat McBride\n",
    "customers['Contact Owner'].replace('Patrick McBride', 'Pat McBride', inplace=True)\n",
    "customers['Contact Owner'] = customers['Contact Owner'].astype('category')\n",
    "customers['Contact Owner'].value_counts()"
   ]
  },
  {
   "cell_type": "markdown",
   "metadata": {},
   "source": [
    "__Categorical Data 3:__ Account Number.\n",
    "\n",
    "This will also serve as the index/reference for each customer"
   ]
  },
  {
   "cell_type": "code",
   "execution_count": 75,
   "metadata": {},
   "outputs": [],
   "source": [
    "customers['Account Number'] = customers['Account Number'].astype('category')"
   ]
  },
  {
   "cell_type": "code",
   "execution_count": 76,
   "metadata": {},
   "outputs": [
    {
     "name": "stdout",
     "output_type": "stream",
     "text": [
      "<class 'pandas.core.frame.DataFrame'>\n",
      "RangeIndex: 805 entries, 0 to 804\n",
      "Data columns (total 5 columns):\n",
      " #   Column             Non-Null Count  Dtype         \n",
      "---  ------             --------------  -----         \n",
      " 0   Industry/Vertical  805 non-null    category      \n",
      " 1   Contact Owner      805 non-null    category      \n",
      " 2   Account Number     805 non-null    category      \n",
      " 3   Postal/ZIP         206 non-null    object        \n",
      " 4   Last Purchased     619 non-null    datetime64[ns]\n",
      "dtypes: category(3), datetime64[ns](1), object(1)\n",
      "memory usage: 63.1+ KB\n"
     ]
    }
   ],
   "source": [
    "customers.info()"
   ]
  },
  {
   "cell_type": "code",
   "execution_count": 77,
   "metadata": {},
   "outputs": [
    {
     "data": {
      "text/html": [
       "<div>\n",
       "<style scoped>\n",
       "    .dataframe tbody tr th:only-of-type {\n",
       "        vertical-align: middle;\n",
       "    }\n",
       "\n",
       "    .dataframe tbody tr th {\n",
       "        vertical-align: top;\n",
       "    }\n",
       "\n",
       "    .dataframe thead th {\n",
       "        text-align: right;\n",
       "    }\n",
       "</style>\n",
       "<table border=\"1\" class=\"dataframe\">\n",
       "  <thead>\n",
       "    <tr style=\"text-align: right;\">\n",
       "      <th></th>\n",
       "      <th>Industry/Vertical</th>\n",
       "      <th>Contact Owner</th>\n",
       "      <th>Postal/ZIP</th>\n",
       "      <th>Last Purchased</th>\n",
       "    </tr>\n",
       "    <tr>\n",
       "      <th>Account Number</th>\n",
       "      <th></th>\n",
       "      <th></th>\n",
       "      <th></th>\n",
       "      <th></th>\n",
       "    </tr>\n",
       "  </thead>\n",
       "  <tbody>\n",
       "    <tr>\n",
       "      <th>1ALLCD</th>\n",
       "      <td>911 &amp; Dispatch</td>\n",
       "      <td>Keith Johnson</td>\n",
       "      <td>NaN</td>\n",
       "      <td>2020-05-18</td>\n",
       "    </tr>\n",
       "    <tr>\n",
       "      <th>1ALPCO</th>\n",
       "      <td>911 &amp; Dispatch</td>\n",
       "      <td>Jessica Spindler</td>\n",
       "      <td>49707-2453</td>\n",
       "      <td>2020-02-13</td>\n",
       "    </tr>\n",
       "    <tr>\n",
       "      <th>7BENCS</th>\n",
       "      <td>911 &amp; Dispatch</td>\n",
       "      <td>Jessica Spindler</td>\n",
       "      <td>49617</td>\n",
       "      <td>2019-07-29</td>\n",
       "    </tr>\n",
       "    <tr>\n",
       "      <th>7CCECD</th>\n",
       "      <td>911 &amp; Dispatch</td>\n",
       "      <td>Jessica Spindler</td>\n",
       "      <td>NaN</td>\n",
       "      <td>2020-05-18</td>\n",
       "    </tr>\n",
       "    <tr>\n",
       "      <th>4EDWFD</th>\n",
       "      <td>911 &amp; Dispatch</td>\n",
       "      <td>Tom Gillespie</td>\n",
       "      <td>NaN</td>\n",
       "      <td>2020-01-24</td>\n",
       "    </tr>\n",
       "  </tbody>\n",
       "</table>\n",
       "</div>"
      ],
      "text/plain": [
       "               Industry/Vertical     Contact Owner  Postal/ZIP Last Purchased\n",
       "Account Number                                                               \n",
       "1ALLCD            911 & Dispatch     Keith Johnson         NaN     2020-05-18\n",
       "1ALPCO            911 & Dispatch  Jessica Spindler  49707-2453     2020-02-13\n",
       "7BENCS            911 & Dispatch  Jessica Spindler       49617     2019-07-29\n",
       "7CCECD            911 & Dispatch  Jessica Spindler         NaN     2020-05-18\n",
       "4EDWFD            911 & Dispatch     Tom Gillespie         NaN     2020-01-24"
      ]
     },
     "execution_count": 77,
     "metadata": {},
     "output_type": "execute_result"
    }
   ],
   "source": [
    "customers.set_index(['Account Number'], drop=True, inplace=True)\n",
    "customers.head()"
   ]
  },
  {
   "cell_type": "markdown",
   "metadata": {},
   "source": [
    "__Last Purchased:__\n",
    "\n",
    "This final column is missing some data, but let's look at it more closely."
   ]
  },
  {
   "cell_type": "code",
   "execution_count": 80,
   "metadata": {},
   "outputs": [
    {
     "data": {
      "text/plain": [
       "count                     619\n",
       "unique                    253\n",
       "top       2020-04-30 00:00:00\n",
       "freq                       37\n",
       "first     2012-01-26 00:00:00\n",
       "last      2020-05-18 00:00:00\n",
       "Name: Last Purchased, dtype: object"
      ]
     },
     "execution_count": 80,
     "metadata": {},
     "output_type": "execute_result"
    }
   ],
   "source": [
    "customers['Last Purchased'].describe()"
   ]
  },
  {
   "cell_type": "markdown",
   "metadata": {},
   "source": [
    "This goes back to 2012. The full sales data the provided me goes back to 2015, so if missing values here mean last sale was a while back, those rows likely would end up getting dropped anyway.\n",
    "\n",
    "I'll leave this column alone for now, but check it against full sales data to see if I can determine if a blank entry here simply means last purchase was long ago."
   ]
  },
  {
   "cell_type": "markdown",
   "metadata": {},
   "source": [
    "## File 2: REPEATSALE Items Purchased 2015-2020\n",
    "\n",
    "This is a list of all the sales of communications equipment from 2015 to 2020."
   ]
  },
  {
   "cell_type": "code",
   "execution_count": 12,
   "metadata": {},
   "outputs": [
    {
     "data": {
      "text/html": [
       "<div>\n",
       "<style scoped>\n",
       "    .dataframe tbody tr th:only-of-type {\n",
       "        vertical-align: middle;\n",
       "    }\n",
       "\n",
       "    .dataframe tbody tr th {\n",
       "        vertical-align: top;\n",
       "    }\n",
       "\n",
       "    .dataframe thead th {\n",
       "        text-align: right;\n",
       "    }\n",
       "</style>\n",
       "<table border=\"1\" class=\"dataframe\">\n",
       "  <thead>\n",
       "    <tr style=\"text-align: right;\">\n",
       "      <th></th>\n",
       "      <th>CUSTOMER #</th>\n",
       "      <th>ORDER TYPE</th>\n",
       "      <th>ORDER #</th>\n",
       "      <th>INVOICE DATE</th>\n",
       "      <th>QTY SHIPPED</th>\n",
       "      <th>ITEM #</th>\n",
       "      <th>DESCRIPTION</th>\n",
       "      <th>ITEM PRICE</th>\n",
       "    </tr>\n",
       "  </thead>\n",
       "  <tbody>\n",
       "    <tr>\n",
       "      <th>0</th>\n",
       "      <td>1HOLPS</td>\n",
       "      <td>O</td>\n",
       "      <td>16588</td>\n",
       "      <td>05/08/15</td>\n",
       "      <td>1.0</td>\n",
       "      <td>T3000</td>\n",
       "      <td>MOTO MTR3000 BASE RADIO</td>\n",
       "      <td>6020.8</td>\n",
       "    </tr>\n",
       "    <tr>\n",
       "      <th>1</th>\n",
       "      <td>1EACCD</td>\n",
       "      <td>O</td>\n",
       "      <td>17800</td>\n",
       "      <td>12/31/15</td>\n",
       "      <td>2.0</td>\n",
       "      <td>ADP-U</td>\n",
       "      <td>UNIVERSAL PIPE MOUNT 4-1/2\"</td>\n",
       "      <td>519.0</td>\n",
       "    </tr>\n",
       "    <tr>\n",
       "      <th>2</th>\n",
       "      <td>1EACCD</td>\n",
       "      <td>O</td>\n",
       "      <td>17800</td>\n",
       "      <td>12/31/15</td>\n",
       "      <td>1.0</td>\n",
       "      <td>CONTINGENCY</td>\n",
       "      <td>CONTINGENCY</td>\n",
       "      <td>5000.0</td>\n",
       "    </tr>\n",
       "    <tr>\n",
       "      <th>3</th>\n",
       "      <td>1VANAI</td>\n",
       "      <td>O</td>\n",
       "      <td>17887</td>\n",
       "      <td>04/17/15</td>\n",
       "      <td>2.0</td>\n",
       "      <td>AAM27QNH9LA1</td>\n",
       "      <td>XPR 4550 403-470 1-25W 160 CH</td>\n",
       "      <td>681.0</td>\n",
       "    </tr>\n",
       "    <tr>\n",
       "      <th>4</th>\n",
       "      <td>1VANAI</td>\n",
       "      <td>O</td>\n",
       "      <td>17887</td>\n",
       "      <td>04/17/15</td>\n",
       "      <td>2.0</td>\n",
       "      <td>SEC1223MOTOTRBO</td>\n",
       "      <td>SAMLEX BASE STATION PWR SUPPLY</td>\n",
       "      <td>156.0</td>\n",
       "    </tr>\n",
       "  </tbody>\n",
       "</table>\n",
       "</div>"
      ],
      "text/plain": [
       "  CUSTOMER # ORDER TYPE  ORDER # INVOICE DATE  QTY SHIPPED           ITEM #  \\\n",
       "0     1HOLPS          O    16588     05/08/15          1.0            T3000   \n",
       "1     1EACCD          O    17800     12/31/15          2.0            ADP-U   \n",
       "2     1EACCD          O    17800     12/31/15          1.0      CONTINGENCY   \n",
       "3     1VANAI          O    17887     04/17/15          2.0     AAM27QNH9LA1   \n",
       "4     1VANAI          O    17887     04/17/15          2.0  SEC1223MOTOTRBO   \n",
       "\n",
       "                      DESCRIPTION  ITEM PRICE  \n",
       "0         MOTO MTR3000 BASE RADIO      6020.8  \n",
       "1     UNIVERSAL PIPE MOUNT 4-1/2\"       519.0  \n",
       "2                     CONTINGENCY      5000.0  \n",
       "3   XPR 4550 403-470 1-25W 160 CH       681.0  \n",
       "4  SAMLEX BASE STATION PWR SUPPLY       156.0  "
      ]
     },
     "execution_count": 12,
     "metadata": {},
     "output_type": "execute_result"
    }
   ],
   "source": [
    "sales = pd.read_excel('REPEATSALE Items Purchased Report 2015 2020 dept 700.XLS', header=0)\n",
    "sales.head()"
   ]
  },
  {
   "cell_type": "code",
   "execution_count": 81,
   "metadata": {},
   "outputs": [
    {
     "name": "stdout",
     "output_type": "stream",
     "text": [
      "<class 'pandas.core.frame.DataFrame'>\n",
      "Int64Index: 11418 entries, 16588 to 48966\n",
      "Data columns (total 7 columns):\n",
      " #   Column        Non-Null Count  Dtype  \n",
      "---  ------        --------------  -----  \n",
      " 0   CUSTOMER #    11418 non-null  object \n",
      " 1   ORDER TYPE    11418 non-null  object \n",
      " 2   INVOICE DATE  11418 non-null  object \n",
      " 3   QTY SHIPPED   11418 non-null  float64\n",
      " 4   ITEM #        11418 non-null  object \n",
      " 5   DESCRIPTION   11399 non-null  object \n",
      " 6   ITEM PRICE    11418 non-null  float64\n",
      "dtypes: float64(2), object(5)\n",
      "memory usage: 713.6+ KB\n"
     ]
    }
   ],
   "source": [
    "sales.info()"
   ]
  },
  {
   "cell_type": "code",
   "execution_count": 13,
   "metadata": {},
   "outputs": [
    {
     "data": {
      "text/plain": [
       "O    11418\n",
       "Name: ORDER TYPE, dtype: int64"
      ]
     },
     "execution_count": 13,
     "metadata": {},
     "output_type": "execute_result"
    }
   ],
   "source": [
    "sales['ORDER TYPE'].value_counts()"
   ]
  },
  {
   "cell_type": "markdown",
   "metadata": {},
   "source": [
    "Notes on the columns here:\n",
    "* Customer # - should match up with Account Numbers\n",
    "* Order Type - these are all O, want to clarify my understanding, but likely will be irrelevant for this project since all the same\n",
    "* Order # - should serve as index for the sales dataframe\n",
    "\n",
    "Other columns all fairly self explanatory. Need to explore them in EDA stage."
   ]
  },
  {
   "cell_type": "code",
   "execution_count": 14,
   "metadata": {},
   "outputs": [
    {
     "data": {
      "text/html": [
       "<div>\n",
       "<style scoped>\n",
       "    .dataframe tbody tr th:only-of-type {\n",
       "        vertical-align: middle;\n",
       "    }\n",
       "\n",
       "    .dataframe tbody tr th {\n",
       "        vertical-align: top;\n",
       "    }\n",
       "\n",
       "    .dataframe thead th {\n",
       "        text-align: right;\n",
       "    }\n",
       "</style>\n",
       "<table border=\"1\" class=\"dataframe\">\n",
       "  <thead>\n",
       "    <tr style=\"text-align: right;\">\n",
       "      <th></th>\n",
       "      <th>CUSTOMER #</th>\n",
       "      <th>ORDER TYPE</th>\n",
       "      <th>INVOICE DATE</th>\n",
       "      <th>QTY SHIPPED</th>\n",
       "      <th>ITEM #</th>\n",
       "      <th>DESCRIPTION</th>\n",
       "      <th>ITEM PRICE</th>\n",
       "    </tr>\n",
       "    <tr>\n",
       "      <th>ORDER #</th>\n",
       "      <th></th>\n",
       "      <th></th>\n",
       "      <th></th>\n",
       "      <th></th>\n",
       "      <th></th>\n",
       "      <th></th>\n",
       "      <th></th>\n",
       "    </tr>\n",
       "  </thead>\n",
       "  <tbody>\n",
       "    <tr>\n",
       "      <th>16588</th>\n",
       "      <td>1HOLPS</td>\n",
       "      <td>O</td>\n",
       "      <td>05/08/15</td>\n",
       "      <td>1.0</td>\n",
       "      <td>T3000</td>\n",
       "      <td>MOTO MTR3000 BASE RADIO</td>\n",
       "      <td>6020.8</td>\n",
       "    </tr>\n",
       "    <tr>\n",
       "      <th>17800</th>\n",
       "      <td>1EACCD</td>\n",
       "      <td>O</td>\n",
       "      <td>12/31/15</td>\n",
       "      <td>2.0</td>\n",
       "      <td>ADP-U</td>\n",
       "      <td>UNIVERSAL PIPE MOUNT 4-1/2\"</td>\n",
       "      <td>519.0</td>\n",
       "    </tr>\n",
       "    <tr>\n",
       "      <th>17800</th>\n",
       "      <td>1EACCD</td>\n",
       "      <td>O</td>\n",
       "      <td>12/31/15</td>\n",
       "      <td>1.0</td>\n",
       "      <td>CONTINGENCY</td>\n",
       "      <td>CONTINGENCY</td>\n",
       "      <td>5000.0</td>\n",
       "    </tr>\n",
       "    <tr>\n",
       "      <th>17887</th>\n",
       "      <td>1VANAI</td>\n",
       "      <td>O</td>\n",
       "      <td>04/17/15</td>\n",
       "      <td>2.0</td>\n",
       "      <td>AAM27QNH9LA1</td>\n",
       "      <td>XPR 4550 403-470 1-25W 160 CH</td>\n",
       "      <td>681.0</td>\n",
       "    </tr>\n",
       "    <tr>\n",
       "      <th>17887</th>\n",
       "      <td>1VANAI</td>\n",
       "      <td>O</td>\n",
       "      <td>04/17/15</td>\n",
       "      <td>2.0</td>\n",
       "      <td>SEC1223MOTOTRBO</td>\n",
       "      <td>SAMLEX BASE STATION PWR SUPPLY</td>\n",
       "      <td>156.0</td>\n",
       "    </tr>\n",
       "  </tbody>\n",
       "</table>\n",
       "</div>"
      ],
      "text/plain": [
       "        CUSTOMER # ORDER TYPE INVOICE DATE  QTY SHIPPED           ITEM #  \\\n",
       "ORDER #                                                                    \n",
       "16588       1HOLPS          O     05/08/15          1.0            T3000   \n",
       "17800       1EACCD          O     12/31/15          2.0            ADP-U   \n",
       "17800       1EACCD          O     12/31/15          1.0      CONTINGENCY   \n",
       "17887       1VANAI          O     04/17/15          2.0     AAM27QNH9LA1   \n",
       "17887       1VANAI          O     04/17/15          2.0  SEC1223MOTOTRBO   \n",
       "\n",
       "                            DESCRIPTION  ITEM PRICE  \n",
       "ORDER #                                              \n",
       "16588           MOTO MTR3000 BASE RADIO      6020.8  \n",
       "17800       UNIVERSAL PIPE MOUNT 4-1/2\"       519.0  \n",
       "17800                       CONTINGENCY      5000.0  \n",
       "17887     XPR 4550 403-470 1-25W 160 CH       681.0  \n",
       "17887    SAMLEX BASE STATION PWR SUPPLY       156.0  "
      ]
     },
     "execution_count": 14,
     "metadata": {},
     "output_type": "execute_result"
    }
   ],
   "source": [
    "sales.set_index(['ORDER #'], drop=True, inplace=True)\n",
    "sales.head()"
   ]
  },
  {
   "cell_type": "code",
   "execution_count": 15,
   "metadata": {},
   "outputs": [
    {
     "name": "stdout",
     "output_type": "stream",
     "text": [
      "634 805\n"
     ]
    }
   ],
   "source": [
    "# Confirm that Customer # from sales data match up with Account Number from customer data\n",
    "sales_list = list(sales['CUSTOMER #'].unique())\n",
    "customer_list = list(customers.index)\n",
    "print(len(sales_list), len(customer_list))"
   ]
  },
  {
   "cell_type": "markdown",
   "metadata": {},
   "source": [
    "Lengths are different. It appears there are 171 customers that are in the customer list (i.e. have a customer record) but NOT in the sales list (i.e. haven't made a purchase in the 2015 to 2020 window)."
   ]
  },
  {
   "cell_type": "code",
   "execution_count": 16,
   "metadata": {},
   "outputs": [
    {
     "data": {
      "text/plain": [
       "338"
      ]
     },
     "execution_count": 16,
     "metadata": {},
     "output_type": "execute_result"
    }
   ],
   "source": [
    "# Create a list of the customer Accounts that don't show up on the sales reports\n",
    "differences1 = np.setdiff1d(customer_list, sales_list, assume_unique=True)\n",
    "len(differences1)"
   ]
  },
  {
   "cell_type": "markdown",
   "metadata": {},
   "source": [
    "So actually it appears there are 338 customers that don't appear in the sales data. There's likely some of the sales reports that aren't in the customer data."
   ]
  },
  {
   "cell_type": "code",
   "execution_count": 17,
   "metadata": {},
   "outputs": [
    {
     "data": {
      "text/plain": [
       "167"
      ]
     },
     "execution_count": 17,
     "metadata": {},
     "output_type": "execute_result"
    }
   ],
   "source": [
    "# Create a list of the accounts that ARE in the sales list but not the customer\n",
    "differences2 = np.setdiff1d(sales_list, customer_list, assume_unique=True)\n",
    "len(differences2)"
   ]
  },
  {
   "cell_type": "markdown",
   "metadata": {},
   "source": [
    "It looks like there were a total of 467 customers (out of the original 805) that did NOT make a purchase of the items included in the sales data."
   ]
  },
  {
   "cell_type": "code",
   "execution_count": 18,
   "metadata": {},
   "outputs": [
    {
     "data": {
      "text/plain": [
       "29"
      ]
     },
     "execution_count": 18,
     "metadata": {},
     "output_type": "execute_result"
    }
   ],
   "source": [
    "# Create list of Account Numbers that had last sale prior to 2015\n",
    "no_sale_post2015 = customers[customers['Last Purchased'] < '2015']\n",
    "len(no_sale_post2015)"
   ]
  },
  {
   "cell_type": "markdown",
   "metadata": {},
   "source": [
    "Hm, so there were only 29 on that customer list that had a last sale prior to 2015. The rest must not be showing up in the sales data for another reason.\n",
    "\n",
    "__Need to learn more from Micah/Marissa about what the sales data I rec'd is/isn't__\n",
    "\n",
    "Ultimately I'll likely end up merging the sales/customer data so any irrelevant account numbers won't factor in. But want to make sure there isn't data I'm missing or that could help illuminate this so we could incude more data overall."
   ]
  },
  {
   "cell_type": "markdown",
   "metadata": {},
   "source": [
    "## File 3: Revised Customer Ranking Report 2015-2020\n",
    "\n",
    "This looks like a ranking of total sales by customer including their initial sale date. \n",
    "\n",
    "Could use this to create things like length of time as a customer."
   ]
  },
  {
   "cell_type": "code",
   "execution_count": 19,
   "metadata": {},
   "outputs": [
    {
     "data": {
      "text/html": [
       "<div>\n",
       "<style scoped>\n",
       "    .dataframe tbody tr th:only-of-type {\n",
       "        vertical-align: middle;\n",
       "    }\n",
       "\n",
       "    .dataframe tbody tr th {\n",
       "        vertical-align: top;\n",
       "    }\n",
       "\n",
       "    .dataframe thead th {\n",
       "        text-align: right;\n",
       "    }\n",
       "</style>\n",
       "<table border=\"1\" class=\"dataframe\">\n",
       "  <thead>\n",
       "    <tr style=\"text-align: right;\">\n",
       "      <th></th>\n",
       "      <th>Rank</th>\n",
       "      <th>Customer</th>\n",
       "      <th>Amount</th>\n",
       "      <th>Address 2</th>\n",
       "      <th>Address 3</th>\n",
       "      <th>Open Date</th>\n",
       "    </tr>\n",
       "  </thead>\n",
       "  <tbody>\n",
       "    <tr>\n",
       "      <th>0</th>\n",
       "      <td>1</td>\n",
       "      <td>1MIPMA</td>\n",
       "      <td>2791114.69</td>\n",
       "      <td>IL</td>\n",
       "      <td></td>\n",
       "      <td>11/01/1999</td>\n",
       "    </tr>\n",
       "    <tr>\n",
       "      <th>1</th>\n",
       "      <td>2</td>\n",
       "      <td>1MOTMS</td>\n",
       "      <td>1544416.02</td>\n",
       "      <td>***DO NOT/SEND TO MOTOROLA***</td>\n",
       "      <td>MI</td>\n",
       "      <td>2/15/2002</td>\n",
       "    </tr>\n",
       "    <tr>\n",
       "      <th>2</th>\n",
       "      <td>3</td>\n",
       "      <td>1FOURW</td>\n",
       "      <td>1123935.02</td>\n",
       "      <td>11111 WILSON ROAD</td>\n",
       "      <td>NEW BUFFALO MI 49117</td>\n",
       "      <td>1/29/2008</td>\n",
       "    </tr>\n",
       "    <tr>\n",
       "      <th>3</th>\n",
       "      <td>4</td>\n",
       "      <td>7CCECD</td>\n",
       "      <td>1011834.96</td>\n",
       "      <td>PETOSKEY MI 49770</td>\n",
       "      <td></td>\n",
       "      <td>11/01/1999</td>\n",
       "    </tr>\n",
       "    <tr>\n",
       "      <th>4</th>\n",
       "      <td>5</td>\n",
       "      <td>1OTTSD</td>\n",
       "      <td>848407.03</td>\n",
       "      <td>WEST OLIVE MI 49460</td>\n",
       "      <td></td>\n",
       "      <td>11/01/1999</td>\n",
       "    </tr>\n",
       "  </tbody>\n",
       "</table>\n",
       "</div>"
      ],
      "text/plain": [
       "   Rank Customer      Amount                      Address 2  \\\n",
       "0     1   1MIPMA  2791114.69                             IL   \n",
       "1     2   1MOTMS  1544416.02  ***DO NOT/SEND TO MOTOROLA***   \n",
       "2     3   1FOURW  1123935.02              11111 WILSON ROAD   \n",
       "3     4   7CCECD  1011834.96              PETOSKEY MI 49770   \n",
       "4     5   1OTTSD   848407.03            WEST OLIVE MI 49460   \n",
       "\n",
       "              Address 3   Open Date  \n",
       "0                        11/01/1999  \n",
       "1                    MI   2/15/2002  \n",
       "2  NEW BUFFALO MI 49117   1/29/2008  \n",
       "3                        11/01/1999  \n",
       "4                        11/01/1999  "
      ]
     },
     "execution_count": 19,
     "metadata": {},
     "output_type": "execute_result"
    }
   ],
   "source": [
    "customer_totals = pd.read_excel('Revised Customer Ranking Report 2015-2020.xlsx', header=1)\n",
    "customer_totals.head()\n",
    "# This file lists lifetime sales by customer, along with that customer's \"start date\" aka initial\n",
    "# sale."
   ]
  },
  {
   "cell_type": "code",
   "execution_count": 20,
   "metadata": {},
   "outputs": [
    {
     "data": {
      "text/plain": [
       "1070"
      ]
     },
     "execution_count": 20,
     "metadata": {},
     "output_type": "execute_result"
    }
   ],
   "source": [
    "# How many customers in this file?\n",
    "len(customer_totals['Customer'])"
   ]
  },
  {
   "cell_type": "markdown",
   "metadata": {},
   "source": [
    "This list of customers contains 1070, compared to the 805 in the original list of customers. "
   ]
  },
  {
   "cell_type": "code",
   "execution_count": 21,
   "metadata": {},
   "outputs": [
    {
     "name": "stdout",
     "output_type": "stream",
     "text": [
      "HOLLAND MI 49423            37\n",
      "HOLLAND MI 49424            22\n",
      "GRAND RAPIDS MI 49503       21\n",
      "ZEELAND MI 49464            16\n",
      "CADILLAC MI 49601           14\n",
      "                            ..\n",
      "IL 60196                     1\n",
      "PO BOX 8                     1\n",
      "2380 RILEY STREET            1\n",
      "ST IGNACE MI 49781           1\n",
      "NEW BOSTON MI 48164-9265     1\n",
      "Name: Address 2, Length: 651, dtype: int64\n",
      "0.0\n"
     ]
    }
   ],
   "source": [
    "# How many of these customers are missing addresses?\n",
    "print(customer_totals['Address 2'].value_counts())\n",
    "print(customer_totals['Address 2'].isnull().sum() / len(customer_totals['Address 2']))"
   ]
  },
  {
   "cell_type": "markdown",
   "metadata": {},
   "source": [
    "None are missing addresses! Sweet! Can use that information to populate the Zip at least."
   ]
  },
  {
   "cell_type": "code",
   "execution_count": 22,
   "metadata": {},
   "outputs": [],
   "source": [
    "### Step to do: parse zip codes from the addresses for as many of these as I can\n",
    "### Will merge this information with my customers dataframe to add these additional details to it"
   ]
  },
  {
   "cell_type": "markdown",
   "metadata": {},
   "source": [
    "## File 4: Sales Report by Zip Code\"\n",
    "\n",
    "This file is being set aside. It includes total sales by zip code from 2010 to 2020. The issues are:\n",
    "* that timeframe doesn't match with the 2015 to 2020 timeframe of the rest of the data\n",
    "* it is completely aggregated by zip with no way of breaking it out any further\n",
    "* with a list of all the sales I can re-create this kind of \"gouped by zip code\" data easily, and ONLY for the time frame that matches the rest of the data"
   ]
  },
  {
   "cell_type": "markdown",
   "metadata": {},
   "source": [
    "## Files 5 & 6: TR county Opp Detail 2019 & 1.18.19\n",
    "\n",
    "Not loading this in yet until I confirm my understanding. This could be useful for visualizations."
   ]
  },
  {
   "cell_type": "code",
   "execution_count": 23,
   "metadata": {},
   "outputs": [],
   "source": [
    "### This was my code to load the data before...dont' remember what _tr was....\n",
    "### Setting all this aside for now until I have conversation with them\n",
    "# Load county data\n",
    "#county_2018 = pd.read_excel('Tele-Rad County Opportunity 1.18.19.xlsx', header=0, usecols=[1,2,3,4,5,6])\n",
    "#county_2019 = pd.read_excel('Tele-Rad County Opportunty Detail 2019.xlsx', usecols=[1,2,3,4,5,6])\n",
    "#county_tr2017 = pd.read_excel('Tele-Rad County Ownership 1.18.19.xlsx', header=1, \n",
    "#                              usecols=[0,2,3,4])\n",
    "#county_tr2018 = pd.read_excel('Tele-Rad County Ownership 1.18.19.xlsx', header=1, \n",
    "#                              usecols=[0,5,6,7])"
   ]
  },
  {
   "cell_type": "markdown",
   "metadata": {},
   "source": [
    "## File 7: TR County Ownership\n",
    "\n",
    "Same as above, need a deeper conversation/understanding"
   ]
  },
  {
   "cell_type": "markdown",
   "metadata": {},
   "source": [
    "## File 8: TR Product Mix\n",
    "\n",
    "This was a visualization of total sales by product. Micah sent me the details. Will use that information instead"
   ]
  },
  {
   "cell_type": "markdown",
   "metadata": {},
   "source": [
    "## File 9: TR Product Trend Data\n",
    "\n",
    "I'm not really understanding this all that well"
   ]
  },
  {
   "cell_type": "markdown",
   "metadata": {},
   "source": [
    "# DSM Step 3: EDA"
   ]
  },
  {
   "cell_type": "code",
   "execution_count": 24,
   "metadata": {},
   "outputs": [
    {
     "data": {
      "text/html": [
       "<div>\n",
       "<style scoped>\n",
       "    .dataframe tbody tr th:only-of-type {\n",
       "        vertical-align: middle;\n",
       "    }\n",
       "\n",
       "    .dataframe tbody tr th {\n",
       "        vertical-align: top;\n",
       "    }\n",
       "\n",
       "    .dataframe thead th {\n",
       "        text-align: right;\n",
       "    }\n",
       "</style>\n",
       "<table border=\"1\" class=\"dataframe\">\n",
       "  <thead>\n",
       "    <tr style=\"text-align: right;\">\n",
       "      <th></th>\n",
       "      <th>Industry/Vertical</th>\n",
       "      <th>Contact Owner</th>\n",
       "      <th>City</th>\n",
       "      <th>State/Province</th>\n",
       "      <th>Postal/ZIP</th>\n",
       "      <th>Last Purchased</th>\n",
       "    </tr>\n",
       "    <tr>\n",
       "      <th>Account Number</th>\n",
       "      <th></th>\n",
       "      <th></th>\n",
       "      <th></th>\n",
       "      <th></th>\n",
       "      <th></th>\n",
       "      <th></th>\n",
       "    </tr>\n",
       "  </thead>\n",
       "  <tbody>\n",
       "    <tr>\n",
       "      <th>1ALLCD</th>\n",
       "      <td>911 &amp; Dispatch</td>\n",
       "      <td>Keith Johnson</td>\n",
       "      <td>NaN</td>\n",
       "      <td>NaN</td>\n",
       "      <td>NaN</td>\n",
       "      <td>2020-05-18</td>\n",
       "    </tr>\n",
       "    <tr>\n",
       "      <th>1ALPCO</th>\n",
       "      <td>911 &amp; Dispatch</td>\n",
       "      <td>Jessica Spindler</td>\n",
       "      <td>ALPENA</td>\n",
       "      <td>MI</td>\n",
       "      <td>49707-2453</td>\n",
       "      <td>2020-02-13</td>\n",
       "    </tr>\n",
       "    <tr>\n",
       "      <th>7BENCS</th>\n",
       "      <td>911 &amp; Dispatch</td>\n",
       "      <td>Jessica Spindler</td>\n",
       "      <td>BEULAH</td>\n",
       "      <td>MI</td>\n",
       "      <td>49617</td>\n",
       "      <td>2019-07-29</td>\n",
       "    </tr>\n",
       "    <tr>\n",
       "      <th>7CCECD</th>\n",
       "      <td>911 &amp; Dispatch</td>\n",
       "      <td>Jessica Spindler</td>\n",
       "      <td>NaN</td>\n",
       "      <td>NaN</td>\n",
       "      <td>NaN</td>\n",
       "      <td>2020-05-18</td>\n",
       "    </tr>\n",
       "    <tr>\n",
       "      <th>4EDWFD</th>\n",
       "      <td>911 &amp; Dispatch</td>\n",
       "      <td>Tom Gillespie</td>\n",
       "      <td>NaN</td>\n",
       "      <td>NaN</td>\n",
       "      <td>NaN</td>\n",
       "      <td>2020-01-24</td>\n",
       "    </tr>\n",
       "  </tbody>\n",
       "</table>\n",
       "</div>"
      ],
      "text/plain": [
       "               Industry/Vertical     Contact Owner    City State/Province  \\\n",
       "Account Number                                                              \n",
       "1ALLCD            911 & Dispatch     Keith Johnson     NaN            NaN   \n",
       "1ALPCO            911 & Dispatch  Jessica Spindler  ALPENA             MI   \n",
       "7BENCS            911 & Dispatch  Jessica Spindler  BEULAH             MI   \n",
       "7CCECD            911 & Dispatch  Jessica Spindler     NaN            NaN   \n",
       "4EDWFD            911 & Dispatch     Tom Gillespie     NaN            NaN   \n",
       "\n",
       "                Postal/ZIP Last Purchased  \n",
       "Account Number                             \n",
       "1ALLCD                 NaN     2020-05-18  \n",
       "1ALPCO          49707-2453     2020-02-13  \n",
       "7BENCS               49617     2019-07-29  \n",
       "7CCECD                 NaN     2020-05-18  \n",
       "4EDWFD                 NaN     2020-01-24  "
      ]
     },
     "execution_count": 24,
     "metadata": {},
     "output_type": "execute_result"
    }
   ],
   "source": [
    "customers.head()"
   ]
  },
  {
   "cell_type": "code",
   "execution_count": 25,
   "metadata": {},
   "outputs": [
    {
     "data": {
      "image/png": "[encoded data removed]",
      "text/plain": [
       "<Figure size 432x288 with 1 Axes>"
      ]
     },
     "metadata": {
      "needs_background": "light"
     },
     "output_type": "display_data"
    }
   ],
   "source": [
    "sns.countplot(y='Industry/Vertical', data=customers)\n",
    "plt.tight_layout()"
   ]
  },
  {
   "cell_type": "code",
   "execution_count": 26,
   "metadata": {},
   "outputs": [
    {
     "data": {
      "text/plain": [
       "array(['911 & Dispatch', 'Agriculture', 'Argiculture',\n",
       "       'College & Universities', 'Colleges & Universities',\n",
       "       'Colleges and Universities', 'Construction', 'Fire & EMS',\n",
       "       'Government Services', 'Healthcare', 'Hopitality', 'Hospitality',\n",
       "       'hospitality', 'K12 Education', 'Law Enforcement', 'Manufacturing',\n",
       "       'Mining', 'Mining & Materials', 'Oil & Gas', 'Property Management',\n",
       "       'Religious Institutions', 'Retail', 'Security', 'Service',\n",
       "       'Services & Training', 'Telecommunications', 'Transportation',\n",
       "       'Utilities', 'Warehousing'], dtype=object)"
      ]
     },
     "execution_count": 26,
     "metadata": {},
     "output_type": "execute_result"
    }
   ],
   "source": [
    "# Clean up industry/verticals\n",
    "customers['Industry/Vertical'].unique()"
   ]
  },
  {
   "cell_type": "code",
   "execution_count": null,
   "metadata": {},
   "outputs": [],
   "source": []
  }
 ],
 "metadata": {
  "kernelspec": {
   "display_name": "Python 3",
   "language": "python",
   "name": "python3"
  },
  "language_info": {
   "codemirror_mode": {
    "name": "ipython",
    "version": 3
   },
   "file_extension": ".py",
   "mimetype": "text/x-python",
   "name": "python",
   "nbconvert_exporter": "python",
   "pygments_lexer": "ipython3",
   "version": "3.7.6"
  }
 },
 "nbformat": 4,
 "nbformat_minor": 4
}
