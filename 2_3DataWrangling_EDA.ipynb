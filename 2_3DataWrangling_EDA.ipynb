{
 "cells": [
  {
   "cell_type": "code",
   "execution_count": 1,
   "metadata": {},
   "outputs": [],
   "source": [
    "import os\n",
    "import pandas as pd\n",
    "import datetime\n",
    "import seaborn as sns\n",
    "import matplotlib.pyplot as plt\n",
    "import numpy as np\n",
    "%matplotlib inline"
   ]
  },
  {
   "cell_type": "markdown",
   "metadata": {},
   "source": [
    "# DSM Step 2 - Data Wrangling\n",
    "\n",
    "Need to load the data provided, get an understanding of what is in each file and prepare for EDA stage."
   ]
  },
  {
   "cell_type": "code",
   "execution_count": 2,
   "metadata": {},
   "outputs": [],
   "source": [
    "os.chdir(\"data/raw\")"
   ]
  },
  {
   "cell_type": "code",
   "execution_count": 3,
   "metadata": {},
   "outputs": [
    {
     "data": {
      "text/plain": [
       "['Cust w Industry a Last Purchased.xlsx',\n",
       " 'REPEATSALE Items Purchased Report 2015 2020 dept 700.XLS',\n",
       " 'Revised Customer Ranking Report 2015-2020.xlsx',\n",
       " 'Sales Report by Zip Code (2010-2020).pdf',\n",
       " 'Tele-Rad County Opportunity 1.18.19.xlsx',\n",
       " 'Tele-Rad County Opportunty Detail 2019.xlsx',\n",
       " 'Tele-Rad County Ownership 1.18.19.xlsx',\n",
       " 'Tele-Rad Product Mix 8.5.2020.pdf',\n",
       " 'Tele-Rad Product Trend Data.xlsx']"
      ]
     },
     "execution_count": 3,
     "metadata": {},
     "output_type": "execute_result"
    }
   ],
   "source": [
    "os.listdir()"
   ]
  },
  {
   "cell_type": "markdown",
   "metadata": {},
   "source": [
    "## File 1: Cust w Industry \n",
    "\n",
    "This file contains the identifying information for each customer, save customer name has been replaced with an Account Number for privacy purposes."
   ]
  },
  {
   "cell_type": "code",
   "execution_count": 4,
   "metadata": {},
   "outputs": [
    {
     "name": "stdout",
     "output_type": "stream",
     "text": [
      "  Industry/Vertical     Contact Owner Account Number    City State/Province  \\\n",
      "0    911 & Dispatch     Keith Johnson         1ALLCD     NaN            NaN   \n",
      "1    911 & Dispatch  Jessica Spindler         1ALPCO  ALPENA             MI   \n",
      "2    911 & Dispatch  Jessica Spindler         7BENCS  BEULAH             MI   \n",
      "3    911 & Dispatch  Jessica Spindler         7CCECD     NaN            NaN   \n",
      "4    911 & Dispatch     Tom Gillespie         4EDWFD     NaN            NaN   \n",
      "\n",
      "   Postal/ZIP Last Purchased  \n",
      "0         NaN     2020-05-18  \n",
      "1  49707-2453     2020-02-13  \n",
      "2       49617     2019-07-29  \n",
      "3         NaN     2020-05-18  \n",
      "4         NaN     2020-01-24  \n",
      "    Industry/Vertical  Contact Owner Account Number City State/Province  \\\n",
      "545   Law Enforcement  Keith Johnson         1OTTSD  NaN            NaN   \n",
      "\n",
      "    Postal/ZIP Last Purchased  \n",
      "545        NaN     2020-05-08  \n"
     ]
    }
   ],
   "source": [
    "customers = pd.read_excel('Cust w Industry a Last Purchased.xlsx', header=0)\n",
    "print(customers.head())\n",
    "# This file lists the last purchase of each customer, and the customer's \"vertical\"\n",
    "print(customers[customers['Account Number']=='1OTTSD'])"
   ]
  },
  {
   "cell_type": "code",
   "execution_count": 5,
   "metadata": {},
   "outputs": [
    {
     "name": "stdout",
     "output_type": "stream",
     "text": [
      "<class 'pandas.core.frame.DataFrame'>\n",
      "RangeIndex: 805 entries, 0 to 804\n",
      "Data columns (total 7 columns):\n",
      " #   Column             Non-Null Count  Dtype         \n",
      "---  ------             --------------  -----         \n",
      " 0   Industry/Vertical  805 non-null    object        \n",
      " 1   Contact Owner      805 non-null    object        \n",
      " 2   Account Number     805 non-null    object        \n",
      " 3   City               206 non-null    object        \n",
      " 4   State/Province     207 non-null    object        \n",
      " 5   Postal/ZIP         206 non-null    object        \n",
      " 6   Last Purchased     619 non-null    datetime64[ns]\n",
      "dtypes: datetime64[ns](1), object(6)\n",
      "memory usage: 44.1+ KB\n"
     ]
    }
   ],
   "source": [
    "# Examine datatypes\n",
    "customers.info()"
   ]
  },
  {
   "cell_type": "code",
   "execution_count": 6,
   "metadata": {},
   "outputs": [
    {
     "name": "stdout",
     "output_type": "stream",
     "text": [
      "% missing of Zip: 0.74\n",
      "% missing of City: 0.74\n",
      "% missing of State: 0.74\n"
     ]
    }
   ],
   "source": [
    "# How many of the Zip, City, State are missing?\n",
    "print('% missing of Zip: {:.2f}'.format(customers['Postal/ZIP'].isnull().sum() / len(customers['Postal/ZIP'])))\n",
    "print('% missing of City: {:.2f}'.format(customers['City'].isnull().sum() / len(customers['City'])))\n",
    "print('% missing of State: {:.2f}'.format(customers['State/Province'].isnull().sum() / len(customers['State/Province'])))"
   ]
  },
  {
   "cell_type": "markdown",
   "metadata": {},
   "source": [
    "74% of Zip/City/State are missing. There isn't a way to systematically look this up in this data file since no customer names. Will drop unless can find something helpful elsewhere.\n",
    "\n",
    "Note from review - the Customer Ranking includes Zip codes, which can be used.\n",
    "\n",
    "From talking to Micah, they use county as their primary internal unit of geography. I'll grab the ZIP codes from the customer ranking data, then turn that into a county column. "
   ]
  },
  {
   "cell_type": "code",
   "execution_count": 7,
   "metadata": {},
   "outputs": [],
   "source": [
    "# Drop city/state - ZIP will be the value used for TR's purposes\n",
    "customers.drop(['City','State/Province'], axis=1, inplace=True)"
   ]
  },
  {
   "cell_type": "markdown",
   "metadata": {},
   "source": [
    "### Categorical Data\n",
    "Three of the columns - contact owner, account number & industry/vertical - seem like they should be categorical."
   ]
  },
  {
   "cell_type": "code",
   "execution_count": 8,
   "metadata": {},
   "outputs": [
    {
     "data": {
      "text/plain": [
       "array(['911 & Dispatch', 'Agriculture', 'Argiculture',\n",
       "       'College & Universities', 'Colleges & Universities',\n",
       "       'Colleges and Universities', 'Construction', 'Fire & EMS',\n",
       "       'Government Services', 'Healthcare', 'Hopitality', 'Hospitality',\n",
       "       'hospitality', 'K12 Education', 'Law Enforcement', 'Manufacturing',\n",
       "       'Mining', 'Mining & Materials', 'Oil & Gas', 'Property Management',\n",
       "       'Religious Institutions', 'Retail', 'Security', 'Service',\n",
       "       'Services & Training', 'Telecommunications', 'Transportation',\n",
       "       'Utilities', 'Warehousing'], dtype=object)"
      ]
     },
     "execution_count": 8,
     "metadata": {},
     "output_type": "execute_result"
    }
   ],
   "source": [
    "# Categorical data - 1) Industry/Vertical\n",
    "\n",
    "# Industry/Vertical - there are some misspellings and things to clean up\n",
    "customers['Industry/Vertical'].unique()"
   ]
  },
  {
   "cell_type": "markdown",
   "metadata": {},
   "source": [
    "When it comes to unique categories I see:\n",
    "* 911 & Dispatch\n",
    "* Agriculture (argiculture)\n",
    "* Colleges & Universities (college & universities, colleges and universities)\n",
    "* Construction\n",
    "* Fire & EMS\n",
    "* Gov't Services\n",
    "* Healthcare\n",
    "* Hospitality (Hopitality, hospitality)\n",
    "* K12 Education\n",
    "* Law Enforcement\n",
    "* Manufacturing\n",
    "* Mining & Materials (mining)\n",
    "* Oil & Gas\n",
    "* Property Management\n",
    "* Religious Institutions\n",
    "* Retail\n",
    "* Security\n",
    "* Services & Training (service)\n",
    "* Telecommunications\n",
    "* Transportation\n",
    "* Utilities\n",
    "* Warehousing\n",
    "\n",
    "22 unique categories"
   ]
  },
  {
   "cell_type": "code",
   "execution_count": 9,
   "metadata": {},
   "outputs": [],
   "source": [
    "# Define a function to map misspelled ones\n",
    "def map_verticals(item):\n",
    "    lookup = {\n",
    "        'Argiculture':'Agriculture',\n",
    "        'College & Universities':'Colleges & Universities',\n",
    "        'Colleges and Universities':'Colleges & Universities',\n",
    "        'Hopitality':'Hospitality',\n",
    "        'hospitality':'Hospitality',\n",
    "        'Mining':'Mining & Materials',\n",
    "        'Service':'Services & Training'\n",
    "    }\n",
    "    \n",
    "    if item in lookup.keys():\n",
    "        return lookup[item]\n",
    "    else: \n",
    "        return item"
   ]
  },
  {
   "cell_type": "code",
   "execution_count": 10,
   "metadata": {},
   "outputs": [
    {
     "name": "stdout",
     "output_type": "stream",
     "text": [
      "['911 & Dispatch' 'Agriculture' 'Colleges & Universities' 'Construction'\n",
      " 'Fire & EMS' 'Government Services' 'Healthcare' 'Hospitality'\n",
      " 'K12 Education' 'Law Enforcement' 'Manufacturing' 'Mining & Materials'\n",
      " 'Oil & Gas' 'Property Management' 'Religious Institutions' 'Retail'\n",
      " 'Security' 'Services & Training' 'Telecommunications' 'Transportation'\n",
      " 'Utilities' 'Warehousing']\n",
      "22\n"
     ]
    }
   ],
   "source": [
    "# Apply function\n",
    "customers['Industry/Vertical'] = customers['Industry/Vertical'].apply(map_verticals)\n",
    "print(customers['Industry/Vertical'].unique())\n",
    "print(len(customers['Industry/Vertical'].unique()))"
   ]
  },
  {
   "cell_type": "code",
   "execution_count": 11,
   "metadata": {},
   "outputs": [
    {
     "name": "stdout",
     "output_type": "stream",
     "text": [
      "<class 'pandas.core.frame.DataFrame'>\n",
      "RangeIndex: 805 entries, 0 to 804\n",
      "Data columns (total 5 columns):\n",
      " #   Column             Non-Null Count  Dtype         \n",
      "---  ------             --------------  -----         \n",
      " 0   Industry/Vertical  805 non-null    category      \n",
      " 1   Contact Owner      805 non-null    object        \n",
      " 2   Account Number     805 non-null    object        \n",
      " 3   Postal/ZIP         206 non-null    object        \n",
      " 4   Last Purchased     619 non-null    datetime64[ns]\n",
      "dtypes: category(1), datetime64[ns](1), object(3)\n",
      "memory usage: 26.9+ KB\n"
     ]
    }
   ],
   "source": [
    "# Change dtype to category\n",
    "customers['Industry/Vertical'] = customers['Industry/Vertical'].astype('category')\n",
    "customers.info()"
   ]
  },
  {
   "cell_type": "markdown",
   "metadata": {},
   "source": [
    "__Categorical Data 2:__ Contact Owners"
   ]
  },
  {
   "cell_type": "code",
   "execution_count": 12,
   "metadata": {},
   "outputs": [
    {
     "data": {
      "text/plain": [
       "array(['Keith Johnson', 'Jessica Spindler', 'Tom Gillespie',\n",
       "       'Patrick McBride', 'Pat McBride', 'Kelly Hoek', 'Skip Petrovich'],\n",
       "      dtype=object)"
      ]
     },
     "execution_count": 12,
     "metadata": {},
     "output_type": "execute_result"
    }
   ],
   "source": [
    "# Contact Owners\n",
    "customers['Contact Owner'].unique()"
   ]
  },
  {
   "cell_type": "code",
   "execution_count": 13,
   "metadata": {},
   "outputs": [
    {
     "data": {
      "text/plain": [
       "Jessica Spindler    195\n",
       "Pat McBride         134\n",
       "Kelly Hoek          132\n",
       "Keith Johnson       129\n",
       "Tom Gillespie       124\n",
       "Skip Petrovich       91\n",
       "Name: Contact Owner, dtype: int64"
      ]
     },
     "execution_count": 13,
     "metadata": {},
     "output_type": "execute_result"
    }
   ],
   "source": [
    "# Change Patrick McBride to Pat McBride\n",
    "customers['Contact Owner'].replace('Patrick McBride', 'Pat McBride', inplace=True)\n",
    "customers['Contact Owner'] = customers['Contact Owner'].astype('category')\n",
    "customers['Contact Owner'].value_counts()"
   ]
  },
  {
   "cell_type": "markdown",
   "metadata": {},
   "source": [
    "__Categorical Data 3:__ Account Number.\n",
    "\n",
    "This will also serve as the index/reference for each customer"
   ]
  },
  {
   "cell_type": "code",
   "execution_count": 14,
   "metadata": {},
   "outputs": [],
   "source": [
    "customers['Account Number'] = customers['Account Number'].astype('category')"
   ]
  },
  {
   "cell_type": "code",
   "execution_count": 15,
   "metadata": {},
   "outputs": [
    {
     "name": "stdout",
     "output_type": "stream",
     "text": [
      "<class 'pandas.core.frame.DataFrame'>\n",
      "RangeIndex: 805 entries, 0 to 804\n",
      "Data columns (total 5 columns):\n",
      " #   Column             Non-Null Count  Dtype         \n",
      "---  ------             --------------  -----         \n",
      " 0   Industry/Vertical  805 non-null    category      \n",
      " 1   Contact Owner      805 non-null    category      \n",
      " 2   Account Number     805 non-null    category      \n",
      " 3   Postal/ZIP         206 non-null    object        \n",
      " 4   Last Purchased     619 non-null    datetime64[ns]\n",
      "dtypes: category(3), datetime64[ns](1), object(1)\n",
      "memory usage: 63.1+ KB\n"
     ]
    }
   ],
   "source": [
    "customers.info()"
   ]
  },
  {
   "cell_type": "code",
   "execution_count": 16,
   "metadata": {},
   "outputs": [
    {
     "data": {
      "text/html": [
       "<div>\n",
       "<style scoped>\n",
       "    .dataframe tbody tr th:only-of-type {\n",
       "        vertical-align: middle;\n",
       "    }\n",
       "\n",
       "    .dataframe tbody tr th {\n",
       "        vertical-align: top;\n",
       "    }\n",
       "\n",
       "    .dataframe thead th {\n",
       "        text-align: right;\n",
       "    }\n",
       "</style>\n",
       "<table border=\"1\" class=\"dataframe\">\n",
       "  <thead>\n",
       "    <tr style=\"text-align: right;\">\n",
       "      <th></th>\n",
       "      <th>Industry/Vertical</th>\n",
       "      <th>Contact Owner</th>\n",
       "      <th>Postal/ZIP</th>\n",
       "      <th>Last Purchased</th>\n",
       "    </tr>\n",
       "    <tr>\n",
       "      <th>Account Number</th>\n",
       "      <th></th>\n",
       "      <th></th>\n",
       "      <th></th>\n",
       "      <th></th>\n",
       "    </tr>\n",
       "  </thead>\n",
       "  <tbody>\n",
       "    <tr>\n",
       "      <th>1ALLCD</th>\n",
       "      <td>911 &amp; Dispatch</td>\n",
       "      <td>Keith Johnson</td>\n",
       "      <td>NaN</td>\n",
       "      <td>2020-05-18</td>\n",
       "    </tr>\n",
       "    <tr>\n",
       "      <th>1ALPCO</th>\n",
       "      <td>911 &amp; Dispatch</td>\n",
       "      <td>Jessica Spindler</td>\n",
       "      <td>49707-2453</td>\n",
       "      <td>2020-02-13</td>\n",
       "    </tr>\n",
       "    <tr>\n",
       "      <th>7BENCS</th>\n",
       "      <td>911 &amp; Dispatch</td>\n",
       "      <td>Jessica Spindler</td>\n",
       "      <td>49617</td>\n",
       "      <td>2019-07-29</td>\n",
       "    </tr>\n",
       "    <tr>\n",
       "      <th>7CCECD</th>\n",
       "      <td>911 &amp; Dispatch</td>\n",
       "      <td>Jessica Spindler</td>\n",
       "      <td>NaN</td>\n",
       "      <td>2020-05-18</td>\n",
       "    </tr>\n",
       "    <tr>\n",
       "      <th>4EDWFD</th>\n",
       "      <td>911 &amp; Dispatch</td>\n",
       "      <td>Tom Gillespie</td>\n",
       "      <td>NaN</td>\n",
       "      <td>2020-01-24</td>\n",
       "    </tr>\n",
       "  </tbody>\n",
       "</table>\n",
       "</div>"
      ],
      "text/plain": [
       "               Industry/Vertical     Contact Owner  Postal/ZIP Last Purchased\n",
       "Account Number                                                               \n",
       "1ALLCD            911 & Dispatch     Keith Johnson         NaN     2020-05-18\n",
       "1ALPCO            911 & Dispatch  Jessica Spindler  49707-2453     2020-02-13\n",
       "7BENCS            911 & Dispatch  Jessica Spindler       49617     2019-07-29\n",
       "7CCECD            911 & Dispatch  Jessica Spindler         NaN     2020-05-18\n",
       "4EDWFD            911 & Dispatch     Tom Gillespie         NaN     2020-01-24"
      ]
     },
     "execution_count": 16,
     "metadata": {},
     "output_type": "execute_result"
    }
   ],
   "source": [
    "customers.set_index(['Account Number'], drop=True, inplace=True)\n",
    "customers.head()"
   ]
  },
  {
   "cell_type": "markdown",
   "metadata": {},
   "source": [
    "__Last Purchased:__\n",
    "\n",
    "This final column is missing some data, but let's look at it more closely."
   ]
  },
  {
   "cell_type": "code",
   "execution_count": 17,
   "metadata": {},
   "outputs": [
    {
     "data": {
      "text/plain": [
       "count                     619\n",
       "unique                    253\n",
       "top       2020-04-30 00:00:00\n",
       "freq                       37\n",
       "first     2012-01-26 00:00:00\n",
       "last      2020-05-18 00:00:00\n",
       "Name: Last Purchased, dtype: object"
      ]
     },
     "execution_count": 17,
     "metadata": {},
     "output_type": "execute_result"
    }
   ],
   "source": [
    "customers['Last Purchased'].describe()"
   ]
  },
  {
   "cell_type": "markdown",
   "metadata": {},
   "source": [
    "This goes back to 2012. The full sales data the provided me goes back to 2015, so if missing values here mean last sale was a while back, those rows likely would end up getting dropped anyway.\n",
    "\n",
    "I'll leave this column alone for now, but check it against full sales data to see if I can determine if a blank entry here simply means last purchase was long ago."
   ]
  },
  {
   "cell_type": "code",
   "execution_count": 18,
   "metadata": {},
   "outputs": [
    {
     "name": "stdout",
     "output_type": "stream",
     "text": [
      "<class 'pandas.core.frame.DataFrame'>\n",
      "CategoricalIndex: 805 entries, 1ALLCD to 1INTWA\n",
      "Data columns (total 4 columns):\n",
      " #   Column             Non-Null Count  Dtype         \n",
      "---  ------             --------------  -----         \n",
      " 0   Industry/Vertical  805 non-null    category      \n",
      " 1   Contact Owner      805 non-null    category      \n",
      " 2   Postal/ZIP         206 non-null    object        \n",
      " 3   Last Purchased     619 non-null    datetime64[ns]\n",
      "dtypes: category(2), datetime64[ns](1), object(1)\n",
      "memory usage: 63.0+ KB\n"
     ]
    }
   ],
   "source": [
    "# Final Check\n",
    "customers.info()"
   ]
  },
  {
   "cell_type": "markdown",
   "metadata": {},
   "source": [
    "## File 2: REPEATSALE Items Purchased 2015-2020\n",
    "\n",
    "This is a list of all the sales of communications equipment from 2015 to 2020."
   ]
  },
  {
   "cell_type": "code",
   "execution_count": 19,
   "metadata": {},
   "outputs": [
    {
     "data": {
      "text/html": [
       "<div>\n",
       "<style scoped>\n",
       "    .dataframe tbody tr th:only-of-type {\n",
       "        vertical-align: middle;\n",
       "    }\n",
       "\n",
       "    .dataframe tbody tr th {\n",
       "        vertical-align: top;\n",
       "    }\n",
       "\n",
       "    .dataframe thead th {\n",
       "        text-align: right;\n",
       "    }\n",
       "</style>\n",
       "<table border=\"1\" class=\"dataframe\">\n",
       "  <thead>\n",
       "    <tr style=\"text-align: right;\">\n",
       "      <th></th>\n",
       "      <th>CUSTOMER #</th>\n",
       "      <th>ORDER TYPE</th>\n",
       "      <th>ORDER #</th>\n",
       "      <th>INVOICE DATE</th>\n",
       "      <th>QTY SHIPPED</th>\n",
       "      <th>ITEM #</th>\n",
       "      <th>DESCRIPTION</th>\n",
       "      <th>ITEM PRICE</th>\n",
       "    </tr>\n",
       "  </thead>\n",
       "  <tbody>\n",
       "    <tr>\n",
       "      <th>0</th>\n",
       "      <td>1HOLPS</td>\n",
       "      <td>O</td>\n",
       "      <td>16588</td>\n",
       "      <td>05/08/15</td>\n",
       "      <td>1.0</td>\n",
       "      <td>T3000</td>\n",
       "      <td>MOTO MTR3000 BASE RADIO</td>\n",
       "      <td>6020.8</td>\n",
       "    </tr>\n",
       "    <tr>\n",
       "      <th>1</th>\n",
       "      <td>1EACCD</td>\n",
       "      <td>O</td>\n",
       "      <td>17800</td>\n",
       "      <td>12/31/15</td>\n",
       "      <td>2.0</td>\n",
       "      <td>ADP-U</td>\n",
       "      <td>UNIVERSAL PIPE MOUNT 4-1/2\"</td>\n",
       "      <td>519.0</td>\n",
       "    </tr>\n",
       "    <tr>\n",
       "      <th>2</th>\n",
       "      <td>1EACCD</td>\n",
       "      <td>O</td>\n",
       "      <td>17800</td>\n",
       "      <td>12/31/15</td>\n",
       "      <td>1.0</td>\n",
       "      <td>CONTINGENCY</td>\n",
       "      <td>CONTINGENCY</td>\n",
       "      <td>5000.0</td>\n",
       "    </tr>\n",
       "    <tr>\n",
       "      <th>3</th>\n",
       "      <td>1VANAI</td>\n",
       "      <td>O</td>\n",
       "      <td>17887</td>\n",
       "      <td>04/17/15</td>\n",
       "      <td>2.0</td>\n",
       "      <td>AAM27QNH9LA1</td>\n",
       "      <td>XPR 4550 403-470 1-25W 160 CH</td>\n",
       "      <td>681.0</td>\n",
       "    </tr>\n",
       "    <tr>\n",
       "      <th>4</th>\n",
       "      <td>1VANAI</td>\n",
       "      <td>O</td>\n",
       "      <td>17887</td>\n",
       "      <td>04/17/15</td>\n",
       "      <td>2.0</td>\n",
       "      <td>SEC1223MOTOTRBO</td>\n",
       "      <td>SAMLEX BASE STATION PWR SUPPLY</td>\n",
       "      <td>156.0</td>\n",
       "    </tr>\n",
       "  </tbody>\n",
       "</table>\n",
       "</div>"
      ],
      "text/plain": [
       "  CUSTOMER # ORDER TYPE  ORDER # INVOICE DATE  QTY SHIPPED           ITEM #  \\\n",
       "0     1HOLPS          O    16588     05/08/15          1.0            T3000   \n",
       "1     1EACCD          O    17800     12/31/15          2.0            ADP-U   \n",
       "2     1EACCD          O    17800     12/31/15          1.0      CONTINGENCY   \n",
       "3     1VANAI          O    17887     04/17/15          2.0     AAM27QNH9LA1   \n",
       "4     1VANAI          O    17887     04/17/15          2.0  SEC1223MOTOTRBO   \n",
       "\n",
       "                      DESCRIPTION  ITEM PRICE  \n",
       "0         MOTO MTR3000 BASE RADIO      6020.8  \n",
       "1     UNIVERSAL PIPE MOUNT 4-1/2\"       519.0  \n",
       "2                     CONTINGENCY      5000.0  \n",
       "3   XPR 4550 403-470 1-25W 160 CH       681.0  \n",
       "4  SAMLEX BASE STATION PWR SUPPLY       156.0  "
      ]
     },
     "execution_count": 19,
     "metadata": {},
     "output_type": "execute_result"
    }
   ],
   "source": [
    "sales = pd.read_excel('REPEATSALE Items Purchased Report 2015 2020 dept 700.XLS', header=0)\n",
    "sales.head()"
   ]
  },
  {
   "cell_type": "code",
   "execution_count": 20,
   "metadata": {},
   "outputs": [
    {
     "name": "stdout",
     "output_type": "stream",
     "text": [
      "<class 'pandas.core.frame.DataFrame'>\n",
      "RangeIndex: 11418 entries, 0 to 11417\n",
      "Data columns (total 8 columns):\n",
      " #   Column        Non-Null Count  Dtype  \n",
      "---  ------        --------------  -----  \n",
      " 0   CUSTOMER #    11418 non-null  object \n",
      " 1   ORDER TYPE    11418 non-null  object \n",
      " 2   ORDER #       11418 non-null  int64  \n",
      " 3   INVOICE DATE  11418 non-null  object \n",
      " 4   QTY SHIPPED   11418 non-null  float64\n",
      " 5   ITEM #        11418 non-null  object \n",
      " 6   DESCRIPTION   11399 non-null  object \n",
      " 7   ITEM PRICE    11418 non-null  float64\n",
      "dtypes: float64(2), int64(1), object(5)\n",
      "memory usage: 713.8+ KB\n"
     ]
    }
   ],
   "source": [
    "sales.info()"
   ]
  },
  {
   "cell_type": "markdown",
   "metadata": {},
   "source": [
    "__Initial Thoughts:__\n",
    "There are some data types to fix first off. \n",
    "Only one column is missing data here - description. That column should tie to Item #, so we likely could drop it anyway. I'll double check that first.\n",
    "\n",
    "The first thing that stands out though is the order type column."
   ]
  },
  {
   "cell_type": "code",
   "execution_count": 21,
   "metadata": {},
   "outputs": [
    {
     "data": {
      "text/plain": [
       "O    11418\n",
       "Name: ORDER TYPE, dtype: int64"
      ]
     },
     "execution_count": 21,
     "metadata": {},
     "output_type": "execute_result"
    }
   ],
   "source": [
    "# Check order type\n",
    "sales['ORDER TYPE'].value_counts()"
   ]
  },
  {
   "cell_type": "code",
   "execution_count": 22,
   "metadata": {},
   "outputs": [
    {
     "data": {
      "text/html": [
       "<div>\n",
       "<style scoped>\n",
       "    .dataframe tbody tr th:only-of-type {\n",
       "        vertical-align: middle;\n",
       "    }\n",
       "\n",
       "    .dataframe tbody tr th {\n",
       "        vertical-align: top;\n",
       "    }\n",
       "\n",
       "    .dataframe thead th {\n",
       "        text-align: right;\n",
       "    }\n",
       "</style>\n",
       "<table border=\"1\" class=\"dataframe\">\n",
       "  <thead>\n",
       "    <tr style=\"text-align: right;\">\n",
       "      <th></th>\n",
       "      <th>CUSTOMER #</th>\n",
       "      <th>ORDER #</th>\n",
       "      <th>INVOICE DATE</th>\n",
       "      <th>QTY SHIPPED</th>\n",
       "      <th>ITEM #</th>\n",
       "      <th>DESCRIPTION</th>\n",
       "      <th>ITEM PRICE</th>\n",
       "    </tr>\n",
       "  </thead>\n",
       "  <tbody>\n",
       "    <tr>\n",
       "      <th>0</th>\n",
       "      <td>1HOLPS</td>\n",
       "      <td>16588</td>\n",
       "      <td>05/08/15</td>\n",
       "      <td>1.0</td>\n",
       "      <td>T3000</td>\n",
       "      <td>MOTO MTR3000 BASE RADIO</td>\n",
       "      <td>6020.8</td>\n",
       "    </tr>\n",
       "    <tr>\n",
       "      <th>1</th>\n",
       "      <td>1EACCD</td>\n",
       "      <td>17800</td>\n",
       "      <td>12/31/15</td>\n",
       "      <td>2.0</td>\n",
       "      <td>ADP-U</td>\n",
       "      <td>UNIVERSAL PIPE MOUNT 4-1/2\"</td>\n",
       "      <td>519.0</td>\n",
       "    </tr>\n",
       "    <tr>\n",
       "      <th>2</th>\n",
       "      <td>1EACCD</td>\n",
       "      <td>17800</td>\n",
       "      <td>12/31/15</td>\n",
       "      <td>1.0</td>\n",
       "      <td>CONTINGENCY</td>\n",
       "      <td>CONTINGENCY</td>\n",
       "      <td>5000.0</td>\n",
       "    </tr>\n",
       "    <tr>\n",
       "      <th>3</th>\n",
       "      <td>1VANAI</td>\n",
       "      <td>17887</td>\n",
       "      <td>04/17/15</td>\n",
       "      <td>2.0</td>\n",
       "      <td>AAM27QNH9LA1</td>\n",
       "      <td>XPR 4550 403-470 1-25W 160 CH</td>\n",
       "      <td>681.0</td>\n",
       "    </tr>\n",
       "    <tr>\n",
       "      <th>4</th>\n",
       "      <td>1VANAI</td>\n",
       "      <td>17887</td>\n",
       "      <td>04/17/15</td>\n",
       "      <td>2.0</td>\n",
       "      <td>SEC1223MOTOTRBO</td>\n",
       "      <td>SAMLEX BASE STATION PWR SUPPLY</td>\n",
       "      <td>156.0</td>\n",
       "    </tr>\n",
       "  </tbody>\n",
       "</table>\n",
       "</div>"
      ],
      "text/plain": [
       "  CUSTOMER #  ORDER # INVOICE DATE  QTY SHIPPED           ITEM #  \\\n",
       "0     1HOLPS    16588     05/08/15          1.0            T3000   \n",
       "1     1EACCD    17800     12/31/15          2.0            ADP-U   \n",
       "2     1EACCD    17800     12/31/15          1.0      CONTINGENCY   \n",
       "3     1VANAI    17887     04/17/15          2.0     AAM27QNH9LA1   \n",
       "4     1VANAI    17887     04/17/15          2.0  SEC1223MOTOTRBO   \n",
       "\n",
       "                      DESCRIPTION  ITEM PRICE  \n",
       "0         MOTO MTR3000 BASE RADIO      6020.8  \n",
       "1     UNIVERSAL PIPE MOUNT 4-1/2\"       519.0  \n",
       "2                     CONTINGENCY      5000.0  \n",
       "3   XPR 4550 403-470 1-25W 160 CH       681.0  \n",
       "4  SAMLEX BASE STATION PWR SUPPLY       156.0  "
      ]
     },
     "execution_count": 22,
     "metadata": {},
     "output_type": "execute_result"
    }
   ],
   "source": [
    "# All Order Types are the same, so can drop that column\n",
    "sales.drop('ORDER TYPE', axis=1, inplace=True)\n",
    "sales.head()"
   ]
  },
  {
   "cell_type": "markdown",
   "metadata": {},
   "source": [
    "__Other notes on columns:__\n",
    "* Customer # - should match up with Account Numbers, make categorical\n",
    "* Order # - should serve as index for the sales dataframe\n",
    "* Invoice Date - should be a datetime dtype\n",
    "* Qty Shipped - if all whole quantities, could use int rather than float\n",
    "* Item/Description - these provide the same information. item column is complete, so will keep that. Will create a function/dict to return the description of a given item # though.\n",
    "* Item Price - leave as float"
   ]
  },
  {
   "cell_type": "markdown",
   "metadata": {},
   "source": [
    "__Order Number__"
   ]
  },
  {
   "cell_type": "code",
   "execution_count": 23,
   "metadata": {},
   "outputs": [
    {
     "data": {
      "text/html": [
       "<div>\n",
       "<style scoped>\n",
       "    .dataframe tbody tr th:only-of-type {\n",
       "        vertical-align: middle;\n",
       "    }\n",
       "\n",
       "    .dataframe tbody tr th {\n",
       "        vertical-align: top;\n",
       "    }\n",
       "\n",
       "    .dataframe thead th {\n",
       "        text-align: right;\n",
       "    }\n",
       "</style>\n",
       "<table border=\"1\" class=\"dataframe\">\n",
       "  <thead>\n",
       "    <tr style=\"text-align: right;\">\n",
       "      <th></th>\n",
       "      <th>CUSTOMER #</th>\n",
       "      <th>INVOICE DATE</th>\n",
       "      <th>QTY SHIPPED</th>\n",
       "      <th>ITEM #</th>\n",
       "      <th>DESCRIPTION</th>\n",
       "      <th>ITEM PRICE</th>\n",
       "    </tr>\n",
       "    <tr>\n",
       "      <th>ORDER #</th>\n",
       "      <th></th>\n",
       "      <th></th>\n",
       "      <th></th>\n",
       "      <th></th>\n",
       "      <th></th>\n",
       "      <th></th>\n",
       "    </tr>\n",
       "  </thead>\n",
       "  <tbody>\n",
       "    <tr>\n",
       "      <th>16588</th>\n",
       "      <td>1HOLPS</td>\n",
       "      <td>05/08/15</td>\n",
       "      <td>1.0</td>\n",
       "      <td>T3000</td>\n",
       "      <td>MOTO MTR3000 BASE RADIO</td>\n",
       "      <td>6020.8</td>\n",
       "    </tr>\n",
       "    <tr>\n",
       "      <th>17800</th>\n",
       "      <td>1EACCD</td>\n",
       "      <td>12/31/15</td>\n",
       "      <td>2.0</td>\n",
       "      <td>ADP-U</td>\n",
       "      <td>UNIVERSAL PIPE MOUNT 4-1/2\"</td>\n",
       "      <td>519.0</td>\n",
       "    </tr>\n",
       "    <tr>\n",
       "      <th>17800</th>\n",
       "      <td>1EACCD</td>\n",
       "      <td>12/31/15</td>\n",
       "      <td>1.0</td>\n",
       "      <td>CONTINGENCY</td>\n",
       "      <td>CONTINGENCY</td>\n",
       "      <td>5000.0</td>\n",
       "    </tr>\n",
       "    <tr>\n",
       "      <th>17887</th>\n",
       "      <td>1VANAI</td>\n",
       "      <td>04/17/15</td>\n",
       "      <td>2.0</td>\n",
       "      <td>AAM27QNH9LA1</td>\n",
       "      <td>XPR 4550 403-470 1-25W 160 CH</td>\n",
       "      <td>681.0</td>\n",
       "    </tr>\n",
       "    <tr>\n",
       "      <th>17887</th>\n",
       "      <td>1VANAI</td>\n",
       "      <td>04/17/15</td>\n",
       "      <td>2.0</td>\n",
       "      <td>SEC1223MOTOTRBO</td>\n",
       "      <td>SAMLEX BASE STATION PWR SUPPLY</td>\n",
       "      <td>156.0</td>\n",
       "    </tr>\n",
       "  </tbody>\n",
       "</table>\n",
       "</div>"
      ],
      "text/plain": [
       "        CUSTOMER # INVOICE DATE  QTY SHIPPED           ITEM #  \\\n",
       "ORDER #                                                         \n",
       "16588       1HOLPS     05/08/15          1.0            T3000   \n",
       "17800       1EACCD     12/31/15          2.0            ADP-U   \n",
       "17800       1EACCD     12/31/15          1.0      CONTINGENCY   \n",
       "17887       1VANAI     04/17/15          2.0     AAM27QNH9LA1   \n",
       "17887       1VANAI     04/17/15          2.0  SEC1223MOTOTRBO   \n",
       "\n",
       "                            DESCRIPTION  ITEM PRICE  \n",
       "ORDER #                                              \n",
       "16588           MOTO MTR3000 BASE RADIO      6020.8  \n",
       "17800       UNIVERSAL PIPE MOUNT 4-1/2\"       519.0  \n",
       "17800                       CONTINGENCY      5000.0  \n",
       "17887     XPR 4550 403-470 1-25W 160 CH       681.0  \n",
       "17887    SAMLEX BASE STATION PWR SUPPLY       156.0  "
      ]
     },
     "execution_count": 23,
     "metadata": {},
     "output_type": "execute_result"
    }
   ],
   "source": [
    "sales.set_index(['ORDER #'], drop=True, inplace=True)\n",
    "sales.head()"
   ]
  },
  {
   "cell_type": "markdown",
   "metadata": {},
   "source": [
    "__Customer Number__"
   ]
  },
  {
   "cell_type": "code",
   "execution_count": 24,
   "metadata": {},
   "outputs": [
    {
     "name": "stdout",
     "output_type": "stream",
     "text": [
      "634 805\n"
     ]
    }
   ],
   "source": [
    "# Confirm that Customer # from sales data match up with Account Number from customer data\n",
    "sales_list = list(sales['CUSTOMER #'].unique())\n",
    "customer_list = list(customers.index)\n",
    "print(len(sales_list), len(customer_list))"
   ]
  },
  {
   "cell_type": "markdown",
   "metadata": {},
   "source": [
    "Lengths are different. It appears there are 171 customers that are in the customer list (i.e. have a customer record) but NOT in the sales list (i.e. haven't made a purchase in the 2015 to 2020 window)."
   ]
  },
  {
   "cell_type": "code",
   "execution_count": 25,
   "metadata": {},
   "outputs": [
    {
     "data": {
      "text/plain": [
       "338"
      ]
     },
     "execution_count": 25,
     "metadata": {},
     "output_type": "execute_result"
    }
   ],
   "source": [
    "# Create a list of the customer Accounts that don't show up on the sales reports\n",
    "differences1 = np.setdiff1d(customer_list, sales_list, assume_unique=True)\n",
    "len(differences1)"
   ]
  },
  {
   "cell_type": "markdown",
   "metadata": {},
   "source": [
    "So actually it appears there are 338 customers that don't appear in the sales data. There's likely some of the sales reports that aren't in the customer data."
   ]
  },
  {
   "cell_type": "code",
   "execution_count": 26,
   "metadata": {},
   "outputs": [
    {
     "data": {
      "text/plain": [
       "167"
      ]
     },
     "execution_count": 26,
     "metadata": {},
     "output_type": "execute_result"
    }
   ],
   "source": [
    "# Create a list of the accounts that ARE in the sales list but not the customer\n",
    "differences2 = np.setdiff1d(sales_list, customer_list, assume_unique=True)\n",
    "len(differences2)"
   ]
  },
  {
   "cell_type": "markdown",
   "metadata": {},
   "source": [
    "It looks like there were a total of 467 customers (out of the original 805) that did NOT make a purchase of the items included in the sales data."
   ]
  },
  {
   "cell_type": "code",
   "execution_count": 27,
   "metadata": {},
   "outputs": [
    {
     "data": {
      "text/plain": [
       "29"
      ]
     },
     "execution_count": 27,
     "metadata": {},
     "output_type": "execute_result"
    }
   ],
   "source": [
    "# Create list of Account Numbers that had last sale prior to 2015\n",
    "no_sale_post2015 = customers[customers['Last Purchased'] < '2015']\n",
    "len(no_sale_post2015)"
   ]
  },
  {
   "cell_type": "markdown",
   "metadata": {},
   "source": [
    "Hm, so there were only 29 on that customer list that had a last sale prior to 2015. The rest must not be showing up in the sales data for another reason.\n",
    "\n",
    "__Need to learn more from Micah/Marissa about what the sales data I rec'd is/isn't__\n",
    "\n",
    "Ultimately I'll likely end up merging the sales/customer data so any irrelevant account numbers won't factor in. But want to make sure there isn't data I'm missing or that could help illuminate this so we could incude more data overall."
   ]
  },
  {
   "cell_type": "code",
   "execution_count": 28,
   "metadata": {},
   "outputs": [],
   "source": [
    "# Change to categorical\n",
    "sales['CUSTOMER #'] = sales['CUSTOMER #'].astype('category')"
   ]
  },
  {
   "cell_type": "markdown",
   "metadata": {},
   "source": [
    "__Invoice Date__"
   ]
  },
  {
   "cell_type": "code",
   "execution_count": 29,
   "metadata": {},
   "outputs": [],
   "source": [
    "sales['INVOICE DATE'] = pd.to_datetime(sales['INVOICE DATE'])"
   ]
  },
  {
   "cell_type": "markdown",
   "metadata": {},
   "source": [
    "__Quantity Shipped__\n",
    "\n",
    "Will int work here?"
   ]
  },
  {
   "cell_type": "code",
   "execution_count": 30,
   "metadata": {},
   "outputs": [
    {
     "name": "stdout",
     "output_type": "stream",
     "text": [
      "94\n"
     ]
    }
   ],
   "source": [
    "check = []\n",
    "\n",
    "for x in sales['QTY SHIPPED'].unique():\n",
    "    check.append(x.is_integer())\n",
    "    \n",
    "print(sum(check))"
   ]
  },
  {
   "cell_type": "markdown",
   "metadata": {},
   "source": [
    "So there are 3 non-integer values in the quantity shipped column. Will leave as floats."
   ]
  },
  {
   "cell_type": "markdown",
   "metadata": {},
   "source": [
    "__Item # / Description__\n",
    "\n",
    "These represent the same information, so only need to keep one. Will keep the item # for modeling purposes but will leave the Description in for my own information to make EDA on the items/sales easiser for me to understand."
   ]
  },
  {
   "cell_type": "code",
   "execution_count": 32,
   "metadata": {},
   "outputs": [],
   "source": [
    "### Not using this code at this stage, but this is what I'll do come modelling time to drop the column\n",
    "\n",
    "# Storing the descriptions for future use \n",
    "#descriptions = sales['DESCRIPTION'].values\n",
    "\n",
    "# Dropping from df\n",
    "#sales.drop('DESCRIPTION', axis=1, inplace=True)"
   ]
  },
  {
   "cell_type": "code",
   "execution_count": 31,
   "metadata": {},
   "outputs": [
    {
     "name": "stdout",
     "output_type": "stream",
     "text": [
      "        CUSTOMER # INVOICE DATE  QTY SHIPPED           ITEM #  \\\n",
      "ORDER #                                                         \n",
      "16588       1HOLPS   2015-05-08          1.0            T3000   \n",
      "17800       1EACCD   2015-12-31          2.0            ADP-U   \n",
      "17800       1EACCD   2015-12-31          1.0      CONTINGENCY   \n",
      "17887       1VANAI   2015-04-17          2.0     AAM27QNH9LA1   \n",
      "17887       1VANAI   2015-04-17          2.0  SEC1223MOTOTRBO   \n",
      "\n",
      "                            DESCRIPTION  ITEM PRICE  \n",
      "ORDER #                                              \n",
      "16588           MOTO MTR3000 BASE RADIO      6020.8  \n",
      "17800       UNIVERSAL PIPE MOUNT 4-1/2\"       519.0  \n",
      "17800                       CONTINGENCY      5000.0  \n",
      "17887     XPR 4550 403-470 1-25W 160 CH       681.0  \n",
      "17887    SAMLEX BASE STATION PWR SUPPLY       156.0  \n",
      "<class 'pandas.core.frame.DataFrame'>\n",
      "Int64Index: 11418 entries, 16588 to 48966\n",
      "Data columns (total 6 columns):\n",
      " #   Column        Non-Null Count  Dtype         \n",
      "---  ------        --------------  -----         \n",
      " 0   CUSTOMER #    11418 non-null  category      \n",
      " 1   INVOICE DATE  11418 non-null  datetime64[ns]\n",
      " 2   QTY SHIPPED   11418 non-null  float64       \n",
      " 3   ITEM #        11418 non-null  object        \n",
      " 4   DESCRIPTION   11399 non-null  object        \n",
      " 5   ITEM PRICE    11418 non-null  float64       \n",
      "dtypes: category(1), datetime64[ns](1), float64(2), object(2)\n",
      "memory usage: 582.5+ KB\n",
      "None\n"
     ]
    }
   ],
   "source": [
    "print(sales.head())\n",
    "print(sales.info())"
   ]
  },
  {
   "cell_type": "code",
   "execution_count": 32,
   "metadata": {},
   "outputs": [],
   "source": [
    "sales.to_csv('..\\interim\\sales.csv')"
   ]
  },
  {
   "cell_type": "markdown",
   "metadata": {},
   "source": [
    "## File 3: Revised Customer Ranking Report 2015-2020\n",
    "\n",
    "This looks like a ranking of total sales by customer including their initial sale date. \n",
    "\n",
    "Could use this to create things like length of time as a customer."
   ]
  },
  {
   "cell_type": "code",
   "execution_count": 33,
   "metadata": {},
   "outputs": [
    {
     "data": {
      "text/html": [
       "<div>\n",
       "<style scoped>\n",
       "    .dataframe tbody tr th:only-of-type {\n",
       "        vertical-align: middle;\n",
       "    }\n",
       "\n",
       "    .dataframe tbody tr th {\n",
       "        vertical-align: top;\n",
       "    }\n",
       "\n",
       "    .dataframe thead th {\n",
       "        text-align: right;\n",
       "    }\n",
       "</style>\n",
       "<table border=\"1\" class=\"dataframe\">\n",
       "  <thead>\n",
       "    <tr style=\"text-align: right;\">\n",
       "      <th></th>\n",
       "      <th>Rank</th>\n",
       "      <th>Customer</th>\n",
       "      <th>Amount</th>\n",
       "      <th>Address 2</th>\n",
       "      <th>Address 3</th>\n",
       "      <th>Open Date</th>\n",
       "    </tr>\n",
       "  </thead>\n",
       "  <tbody>\n",
       "    <tr>\n",
       "      <th>0</th>\n",
       "      <td>1</td>\n",
       "      <td>1MIPMA</td>\n",
       "      <td>2791114.69</td>\n",
       "      <td>IL</td>\n",
       "      <td></td>\n",
       "      <td>11/01/1999</td>\n",
       "    </tr>\n",
       "    <tr>\n",
       "      <th>1</th>\n",
       "      <td>2</td>\n",
       "      <td>1MOTMS</td>\n",
       "      <td>1544416.02</td>\n",
       "      <td>***DO NOT/SEND TO MOTOROLA***</td>\n",
       "      <td>MI</td>\n",
       "      <td>2/15/2002</td>\n",
       "    </tr>\n",
       "    <tr>\n",
       "      <th>2</th>\n",
       "      <td>3</td>\n",
       "      <td>1FOURW</td>\n",
       "      <td>1123935.02</td>\n",
       "      <td>11111 WILSON ROAD</td>\n",
       "      <td>NEW BUFFALO MI 49117</td>\n",
       "      <td>1/29/2008</td>\n",
       "    </tr>\n",
       "    <tr>\n",
       "      <th>3</th>\n",
       "      <td>4</td>\n",
       "      <td>7CCECD</td>\n",
       "      <td>1011834.96</td>\n",
       "      <td>PETOSKEY MI 49770</td>\n",
       "      <td></td>\n",
       "      <td>11/01/1999</td>\n",
       "    </tr>\n",
       "    <tr>\n",
       "      <th>4</th>\n",
       "      <td>5</td>\n",
       "      <td>1OTTSD</td>\n",
       "      <td>848407.03</td>\n",
       "      <td>WEST OLIVE MI 49460</td>\n",
       "      <td></td>\n",
       "      <td>11/01/1999</td>\n",
       "    </tr>\n",
       "  </tbody>\n",
       "</table>\n",
       "</div>"
      ],
      "text/plain": [
       "   Rank Customer      Amount                      Address 2  \\\n",
       "0     1   1MIPMA  2791114.69                             IL   \n",
       "1     2   1MOTMS  1544416.02  ***DO NOT/SEND TO MOTOROLA***   \n",
       "2     3   1FOURW  1123935.02              11111 WILSON ROAD   \n",
       "3     4   7CCECD  1011834.96              PETOSKEY MI 49770   \n",
       "4     5   1OTTSD   848407.03            WEST OLIVE MI 49460   \n",
       "\n",
       "              Address 3   Open Date  \n",
       "0                        11/01/1999  \n",
       "1                    MI   2/15/2002  \n",
       "2  NEW BUFFALO MI 49117   1/29/2008  \n",
       "3                        11/01/1999  \n",
       "4                        11/01/1999  "
      ]
     },
     "execution_count": 33,
     "metadata": {},
     "output_type": "execute_result"
    }
   ],
   "source": [
    "customer_totals = pd.read_excel('Revised Customer Ranking Report 2015-2020.xlsx', header=1)\n",
    "customer_totals.head()\n",
    "# This file lists lifetime sales by customer, along with that customer's \"start date\" aka initial\n",
    "# sale."
   ]
  },
  {
   "cell_type": "code",
   "execution_count": 34,
   "metadata": {},
   "outputs": [
    {
     "name": "stdout",
     "output_type": "stream",
     "text": [
      "<class 'pandas.core.frame.DataFrame'>\n",
      "RangeIndex: 1070 entries, 0 to 1069\n",
      "Data columns (total 6 columns):\n",
      " #   Column     Non-Null Count  Dtype  \n",
      "---  ------     --------------  -----  \n",
      " 0   Rank       1070 non-null   int64  \n",
      " 1   Customer   1070 non-null   object \n",
      " 2   Amount     1070 non-null   float64\n",
      " 3   Address 2  1070 non-null   object \n",
      " 4   Address 3  1070 non-null   object \n",
      " 5   Open Date  1070 non-null   object \n",
      "dtypes: float64(1), int64(1), object(4)\n",
      "memory usage: 50.3+ KB\n"
     ]
    }
   ],
   "source": [
    "customer_totals.info()"
   ]
  },
  {
   "cell_type": "markdown",
   "metadata": {},
   "source": [
    "This list of customers contains 1070, compared to the 805 in the original list of customers. "
   ]
  },
  {
   "cell_type": "code",
   "execution_count": 35,
   "metadata": {},
   "outputs": [
    {
     "name": "stdout",
     "output_type": "stream",
     "text": [
      "HOLLAND MI 49423              37\n",
      "HOLLAND MI 49424              22\n",
      "GRAND RAPIDS MI 49503         21\n",
      "ZEELAND MI 49464              16\n",
      "CADILLAC MI 49601             14\n",
      "                              ..\n",
      "2608 Government Center Dr      1\n",
      "4111 W 4 MILE ROAD             1\n",
      "WAYLAND MI 49348-1208          1\n",
      "4525 STAUFFER AVE              1\n",
      "GRAND RAPIDS MI 49506-1801     1\n",
      "Name: Address 2, Length: 651, dtype: int64\n",
      "0.0\n"
     ]
    }
   ],
   "source": [
    "# How many of these customers are missing addresses?\n",
    "print(customer_totals['Address 2'].value_counts())\n",
    "print(customer_totals['Address 2'].isnull().sum() / len(customer_totals['Address 2']))"
   ]
  },
  {
   "cell_type": "markdown",
   "metadata": {},
   "source": [
    "None are missing addresses! Sweet! Can use that information to populate the Zip at least."
   ]
  },
  {
   "cell_type": "markdown",
   "metadata": {},
   "source": [
    "__Plan for this set of data:__\n",
    "\n",
    "This data will help add more information to the existing customers dataframe. Will keep:\n",
    "* Customer rank\n",
    "* Lifetime sales\n",
    "* Start date\n",
    "\n",
    "Also will pull Zip codes from the addresses and use that to make a \"county\" column."
   ]
  },
  {
   "cell_type": "code",
   "execution_count": 36,
   "metadata": {},
   "outputs": [
    {
     "data": {
      "text/html": [
       "<div>\n",
       "<style scoped>\n",
       "    .dataframe tbody tr th:only-of-type {\n",
       "        vertical-align: middle;\n",
       "    }\n",
       "\n",
       "    .dataframe tbody tr th {\n",
       "        vertical-align: top;\n",
       "    }\n",
       "\n",
       "    .dataframe thead th {\n",
       "        text-align: right;\n",
       "    }\n",
       "</style>\n",
       "<table border=\"1\" class=\"dataframe\">\n",
       "  <thead>\n",
       "    <tr style=\"text-align: right;\">\n",
       "      <th></th>\n",
       "      <th>Industry/Vertical</th>\n",
       "      <th>Contact Owner</th>\n",
       "      <th>Postal/ZIP</th>\n",
       "      <th>Last Purchased</th>\n",
       "    </tr>\n",
       "    <tr>\n",
       "      <th>Account Number</th>\n",
       "      <th></th>\n",
       "      <th></th>\n",
       "      <th></th>\n",
       "      <th></th>\n",
       "    </tr>\n",
       "  </thead>\n",
       "  <tbody>\n",
       "    <tr>\n",
       "      <th>1ALLCD</th>\n",
       "      <td>911 &amp; Dispatch</td>\n",
       "      <td>Keith Johnson</td>\n",
       "      <td>NaN</td>\n",
       "      <td>2020-05-18</td>\n",
       "    </tr>\n",
       "    <tr>\n",
       "      <th>1ALPCO</th>\n",
       "      <td>911 &amp; Dispatch</td>\n",
       "      <td>Jessica Spindler</td>\n",
       "      <td>49707-2453</td>\n",
       "      <td>2020-02-13</td>\n",
       "    </tr>\n",
       "    <tr>\n",
       "      <th>7BENCS</th>\n",
       "      <td>911 &amp; Dispatch</td>\n",
       "      <td>Jessica Spindler</td>\n",
       "      <td>49617</td>\n",
       "      <td>2019-07-29</td>\n",
       "    </tr>\n",
       "    <tr>\n",
       "      <th>7CCECD</th>\n",
       "      <td>911 &amp; Dispatch</td>\n",
       "      <td>Jessica Spindler</td>\n",
       "      <td>NaN</td>\n",
       "      <td>2020-05-18</td>\n",
       "    </tr>\n",
       "    <tr>\n",
       "      <th>4EDWFD</th>\n",
       "      <td>911 &amp; Dispatch</td>\n",
       "      <td>Tom Gillespie</td>\n",
       "      <td>NaN</td>\n",
       "      <td>2020-01-24</td>\n",
       "    </tr>\n",
       "  </tbody>\n",
       "</table>\n",
       "</div>"
      ],
      "text/plain": [
       "               Industry/Vertical     Contact Owner  Postal/ZIP Last Purchased\n",
       "Account Number                                                               \n",
       "1ALLCD            911 & Dispatch     Keith Johnson         NaN     2020-05-18\n",
       "1ALPCO            911 & Dispatch  Jessica Spindler  49707-2453     2020-02-13\n",
       "7BENCS            911 & Dispatch  Jessica Spindler       49617     2019-07-29\n",
       "7CCECD            911 & Dispatch  Jessica Spindler         NaN     2020-05-18\n",
       "4EDWFD            911 & Dispatch     Tom Gillespie         NaN     2020-01-24"
      ]
     },
     "execution_count": 36,
     "metadata": {},
     "output_type": "execute_result"
    }
   ],
   "source": [
    "customers.head()"
   ]
  },
  {
   "cell_type": "code",
   "execution_count": 37,
   "metadata": {},
   "outputs": [
    {
     "data": {
      "text/html": [
       "<div>\n",
       "<style scoped>\n",
       "    .dataframe tbody tr th:only-of-type {\n",
       "        vertical-align: middle;\n",
       "    }\n",
       "\n",
       "    .dataframe tbody tr th {\n",
       "        vertical-align: top;\n",
       "    }\n",
       "\n",
       "    .dataframe thead th {\n",
       "        text-align: right;\n",
       "    }\n",
       "</style>\n",
       "<table border=\"1\" class=\"dataframe\">\n",
       "  <thead>\n",
       "    <tr style=\"text-align: right;\">\n",
       "      <th></th>\n",
       "      <th>Industry/Vertical</th>\n",
       "      <th>Contact Owner</th>\n",
       "      <th>Postal/ZIP</th>\n",
       "      <th>Last Purchased</th>\n",
       "      <th>Rank</th>\n",
       "      <th>Customer</th>\n",
       "      <th>Amount</th>\n",
       "      <th>Address 2</th>\n",
       "      <th>Address 3</th>\n",
       "      <th>Open Date</th>\n",
       "    </tr>\n",
       "  </thead>\n",
       "  <tbody>\n",
       "    <tr>\n",
       "      <th>0</th>\n",
       "      <td>911 &amp; Dispatch</td>\n",
       "      <td>Keith Johnson</td>\n",
       "      <td>NaN</td>\n",
       "      <td>2020-05-18</td>\n",
       "      <td>9.0</td>\n",
       "      <td>1ALLCD</td>\n",
       "      <td>434459.15</td>\n",
       "      <td>ALLEGAN MI 49010</td>\n",
       "      <td></td>\n",
       "      <td>11/01/1999</td>\n",
       "    </tr>\n",
       "    <tr>\n",
       "      <th>1</th>\n",
       "      <td>911 &amp; Dispatch</td>\n",
       "      <td>Jessica Spindler</td>\n",
       "      <td>49707-2453</td>\n",
       "      <td>2020-02-13</td>\n",
       "      <td>74.0</td>\n",
       "      <td>1ALPCO</td>\n",
       "      <td>69214.06</td>\n",
       "      <td>STE 2</td>\n",
       "      <td>ALPENA MI 49707-2453</td>\n",
       "      <td>9/06/2013</td>\n",
       "    </tr>\n",
       "    <tr>\n",
       "      <th>2</th>\n",
       "      <td>911 &amp; Dispatch</td>\n",
       "      <td>Jessica Spindler</td>\n",
       "      <td>49617</td>\n",
       "      <td>2019-07-29</td>\n",
       "      <td>440.0</td>\n",
       "      <td>7BENCS</td>\n",
       "      <td>6049.34</td>\n",
       "      <td>505 S. MICHIGAN AVE.</td>\n",
       "      <td>BEULAH MI 49617</td>\n",
       "      <td>11/01/1999</td>\n",
       "    </tr>\n",
       "    <tr>\n",
       "      <th>3</th>\n",
       "      <td>911 &amp; Dispatch</td>\n",
       "      <td>Jessica Spindler</td>\n",
       "      <td>NaN</td>\n",
       "      <td>2020-05-18</td>\n",
       "      <td>4.0</td>\n",
       "      <td>7CCECD</td>\n",
       "      <td>1011834.96</td>\n",
       "      <td>PETOSKEY MI 49770</td>\n",
       "      <td></td>\n",
       "      <td>11/01/1999</td>\n",
       "    </tr>\n",
       "    <tr>\n",
       "      <th>4</th>\n",
       "      <td>911 &amp; Dispatch</td>\n",
       "      <td>Tom Gillespie</td>\n",
       "      <td>NaN</td>\n",
       "      <td>2020-01-24</td>\n",
       "      <td>162.0</td>\n",
       "      <td>4EDWFD</td>\n",
       "      <td>27984.04</td>\n",
       "      <td>EDWARDSBURG MI 49112</td>\n",
       "      <td></td>\n",
       "      <td>11/01/1999</td>\n",
       "    </tr>\n",
       "  </tbody>\n",
       "</table>\n",
       "</div>"
      ],
      "text/plain": [
       "  Industry/Vertical     Contact Owner  Postal/ZIP Last Purchased   Rank  \\\n",
       "0    911 & Dispatch     Keith Johnson         NaN     2020-05-18    9.0   \n",
       "1    911 & Dispatch  Jessica Spindler  49707-2453     2020-02-13   74.0   \n",
       "2    911 & Dispatch  Jessica Spindler       49617     2019-07-29  440.0   \n",
       "3    911 & Dispatch  Jessica Spindler         NaN     2020-05-18    4.0   \n",
       "4    911 & Dispatch     Tom Gillespie         NaN     2020-01-24  162.0   \n",
       "\n",
       "  Customer      Amount             Address 2             Address 3   Open Date  \n",
       "0   1ALLCD   434459.15      ALLEGAN MI 49010                        11/01/1999  \n",
       "1   1ALPCO    69214.06                 STE 2  ALPENA MI 49707-2453   9/06/2013  \n",
       "2   7BENCS     6049.34  505 S. MICHIGAN AVE.       BEULAH MI 49617  11/01/1999  \n",
       "3   7CCECD  1011834.96     PETOSKEY MI 49770                        11/01/1999  \n",
       "4   4EDWFD    27984.04  EDWARDSBURG MI 49112                        11/01/1999  "
      ]
     },
     "execution_count": 37,
     "metadata": {},
     "output_type": "execute_result"
    }
   ],
   "source": [
    "# Merge 3 columns to keep into customers dataframe\n",
    "combined = customers.merge(customer_totals, how='left', left_on='Account Number',\n",
    "                           right_on='Customer')\n",
    "\n",
    "combined.head()"
   ]
  },
  {
   "cell_type": "code",
   "execution_count": 38,
   "metadata": {},
   "outputs": [
    {
     "name": "stdout",
     "output_type": "stream",
     "text": [
      "805\n"
     ]
    }
   ],
   "source": [
    "print(len(combined))"
   ]
  },
  {
   "cell_type": "markdown",
   "metadata": {},
   "source": [
    "Perfect, so we ended up with just the 805 customers from our original customer dataframe. Now to clean up this information."
   ]
  },
  {
   "cell_type": "code",
   "execution_count": 39,
   "metadata": {},
   "outputs": [],
   "source": [
    "combined.set_index('Customer', inplace=True)"
   ]
  },
  {
   "cell_type": "code",
   "execution_count": 40,
   "metadata": {},
   "outputs": [
    {
     "data": {
      "text/html": [
       "<div>\n",
       "<style scoped>\n",
       "    .dataframe tbody tr th:only-of-type {\n",
       "        vertical-align: middle;\n",
       "    }\n",
       "\n",
       "    .dataframe tbody tr th {\n",
       "        vertical-align: top;\n",
       "    }\n",
       "\n",
       "    .dataframe thead th {\n",
       "        text-align: right;\n",
       "    }\n",
       "</style>\n",
       "<table border=\"1\" class=\"dataframe\">\n",
       "  <thead>\n",
       "    <tr style=\"text-align: right;\">\n",
       "      <th></th>\n",
       "      <th>Industry/Vertical</th>\n",
       "      <th>Contact Owner</th>\n",
       "      <th>Postal/ZIP</th>\n",
       "      <th>Last Purchased</th>\n",
       "      <th>Rank</th>\n",
       "      <th>Amount</th>\n",
       "      <th>Address 2</th>\n",
       "      <th>Address 3</th>\n",
       "      <th>Open Date</th>\n",
       "    </tr>\n",
       "    <tr>\n",
       "      <th>Customer</th>\n",
       "      <th></th>\n",
       "      <th></th>\n",
       "      <th></th>\n",
       "      <th></th>\n",
       "      <th></th>\n",
       "      <th></th>\n",
       "      <th></th>\n",
       "      <th></th>\n",
       "      <th></th>\n",
       "    </tr>\n",
       "  </thead>\n",
       "  <tbody>\n",
       "    <tr>\n",
       "      <th>1FOURW</th>\n",
       "      <td>Hospitality</td>\n",
       "      <td>Tom Gillespie</td>\n",
       "      <td>49117</td>\n",
       "      <td>2020-05-18</td>\n",
       "      <td>3.0</td>\n",
       "      <td>1123935.02</td>\n",
       "      <td>11111 WILSON ROAD</td>\n",
       "      <td>NEW BUFFALO MI 49117</td>\n",
       "      <td>1/29/2008</td>\n",
       "    </tr>\n",
       "    <tr>\n",
       "      <th>7CCECD</th>\n",
       "      <td>911 &amp; Dispatch</td>\n",
       "      <td>Jessica Spindler</td>\n",
       "      <td>NaN</td>\n",
       "      <td>2020-05-18</td>\n",
       "      <td>4.0</td>\n",
       "      <td>1011834.96</td>\n",
       "      <td>PETOSKEY MI 49770</td>\n",
       "      <td></td>\n",
       "      <td>11/01/1999</td>\n",
       "    </tr>\n",
       "    <tr>\n",
       "      <th>1OTTSD</th>\n",
       "      <td>Law Enforcement</td>\n",
       "      <td>Keith Johnson</td>\n",
       "      <td>NaN</td>\n",
       "      <td>2020-05-08</td>\n",
       "      <td>5.0</td>\n",
       "      <td>848407.03</td>\n",
       "      <td>WEST OLIVE MI 49460</td>\n",
       "      <td></td>\n",
       "      <td>11/01/1999</td>\n",
       "    </tr>\n",
       "    <tr>\n",
       "      <th>1KENCD</th>\n",
       "      <td>911 &amp; Dispatch</td>\n",
       "      <td>Keith Johnson</td>\n",
       "      <td>NaN</td>\n",
       "      <td>2019-06-28</td>\n",
       "      <td>6.0</td>\n",
       "      <td>592820.26</td>\n",
       "      <td>PO BOX 905</td>\n",
       "      <td>WYOMING MI 49509</td>\n",
       "      <td>6/12/2017</td>\n",
       "    </tr>\n",
       "    <tr>\n",
       "      <th>4BERSH</th>\n",
       "      <td>Government Services</td>\n",
       "      <td>Tom Gillespie</td>\n",
       "      <td>NaN</td>\n",
       "      <td>2020-05-15</td>\n",
       "      <td>7.0</td>\n",
       "      <td>563431.43</td>\n",
       "      <td>701 MAIN STREET</td>\n",
       "      <td>ST. JOSEPH MI 49085-1392</td>\n",
       "      <td>11/01/1999</td>\n",
       "    </tr>\n",
       "  </tbody>\n",
       "</table>\n",
       "</div>"
      ],
      "text/plain": [
       "            Industry/Vertical     Contact Owner Postal/ZIP Last Purchased  \\\n",
       "Customer                                                                    \n",
       "1FOURW            Hospitality     Tom Gillespie      49117     2020-05-18   \n",
       "7CCECD         911 & Dispatch  Jessica Spindler        NaN     2020-05-18   \n",
       "1OTTSD        Law Enforcement     Keith Johnson        NaN     2020-05-08   \n",
       "1KENCD         911 & Dispatch     Keith Johnson        NaN     2019-06-28   \n",
       "4BERSH    Government Services     Tom Gillespie        NaN     2020-05-15   \n",
       "\n",
       "          Rank      Amount            Address 2                 Address 3  \\\n",
       "Customer                                                                    \n",
       "1FOURW     3.0  1123935.02    11111 WILSON ROAD      NEW BUFFALO MI 49117   \n",
       "7CCECD     4.0  1011834.96    PETOSKEY MI 49770                             \n",
       "1OTTSD     5.0   848407.03  WEST OLIVE MI 49460                             \n",
       "1KENCD     6.0   592820.26           PO BOX 905          WYOMING MI 49509   \n",
       "4BERSH     7.0   563431.43      701 MAIN STREET  ST. JOSEPH MI 49085-1392   \n",
       "\n",
       "           Open Date  \n",
       "Customer              \n",
       "1FOURW     1/29/2008  \n",
       "7CCECD    11/01/1999  \n",
       "1OTTSD    11/01/1999  \n",
       "1KENCD     6/12/2017  \n",
       "4BERSH    11/01/1999  "
      ]
     },
     "execution_count": 40,
     "metadata": {},
     "output_type": "execute_result"
    }
   ],
   "source": [
    "combined.sort_values('Rank', inplace=True)\n",
    "combined.head()"
   ]
  },
  {
   "cell_type": "markdown",
   "metadata": {},
   "source": [
    "__How to get the Zip codes cleaned up?__\n",
    "\n",
    "Combine both address columns. \n",
    "Create a function that strips all but the last 5 digits, unless the 5th from last is a dash, then it keeps the next 5 prior to those.\n",
    "\n",
    "Let's try that"
   ]
  },
  {
   "cell_type": "code",
   "execution_count": 41,
   "metadata": {},
   "outputs": [],
   "source": [
    "combined['Address'] = combined['Address 2'] + combined['Address 3']"
   ]
  },
  {
   "cell_type": "code",
   "execution_count": 42,
   "metadata": {},
   "outputs": [],
   "source": [
    "combined.drop(['Address 2','Address 3'], axis=1, inplace=True)"
   ]
  },
  {
   "cell_type": "code",
   "execution_count": 43,
   "metadata": {},
   "outputs": [
    {
     "data": {
      "text/html": [
       "<div>\n",
       "<style scoped>\n",
       "    .dataframe tbody tr th:only-of-type {\n",
       "        vertical-align: middle;\n",
       "    }\n",
       "\n",
       "    .dataframe tbody tr th {\n",
       "        vertical-align: top;\n",
       "    }\n",
       "\n",
       "    .dataframe thead th {\n",
       "        text-align: right;\n",
       "    }\n",
       "</style>\n",
       "<table border=\"1\" class=\"dataframe\">\n",
       "  <thead>\n",
       "    <tr style=\"text-align: right;\">\n",
       "      <th></th>\n",
       "      <th>Industry/Vertical</th>\n",
       "      <th>Contact Owner</th>\n",
       "      <th>Postal/ZIP</th>\n",
       "      <th>Last Purchased</th>\n",
       "      <th>Rank</th>\n",
       "      <th>Amount</th>\n",
       "      <th>Open Date</th>\n",
       "      <th>Address</th>\n",
       "    </tr>\n",
       "    <tr>\n",
       "      <th>Customer</th>\n",
       "      <th></th>\n",
       "      <th></th>\n",
       "      <th></th>\n",
       "      <th></th>\n",
       "      <th></th>\n",
       "      <th></th>\n",
       "      <th></th>\n",
       "      <th></th>\n",
       "    </tr>\n",
       "  </thead>\n",
       "  <tbody>\n",
       "    <tr>\n",
       "      <th>1FOURW</th>\n",
       "      <td>Hospitality</td>\n",
       "      <td>Tom Gillespie</td>\n",
       "      <td>49117</td>\n",
       "      <td>2020-05-18</td>\n",
       "      <td>3.0</td>\n",
       "      <td>1123935.02</td>\n",
       "      <td>1/29/2008</td>\n",
       "      <td>11111 WILSON ROADNEW BUFFALO MI 49117</td>\n",
       "    </tr>\n",
       "    <tr>\n",
       "      <th>7CCECD</th>\n",
       "      <td>911 &amp; Dispatch</td>\n",
       "      <td>Jessica Spindler</td>\n",
       "      <td>NaN</td>\n",
       "      <td>2020-05-18</td>\n",
       "      <td>4.0</td>\n",
       "      <td>1011834.96</td>\n",
       "      <td>11/01/1999</td>\n",
       "      <td>PETOSKEY MI 49770</td>\n",
       "    </tr>\n",
       "    <tr>\n",
       "      <th>1OTTSD</th>\n",
       "      <td>Law Enforcement</td>\n",
       "      <td>Keith Johnson</td>\n",
       "      <td>NaN</td>\n",
       "      <td>2020-05-08</td>\n",
       "      <td>5.0</td>\n",
       "      <td>848407.03</td>\n",
       "      <td>11/01/1999</td>\n",
       "      <td>WEST OLIVE MI 49460</td>\n",
       "    </tr>\n",
       "    <tr>\n",
       "      <th>1KENCD</th>\n",
       "      <td>911 &amp; Dispatch</td>\n",
       "      <td>Keith Johnson</td>\n",
       "      <td>NaN</td>\n",
       "      <td>2019-06-28</td>\n",
       "      <td>6.0</td>\n",
       "      <td>592820.26</td>\n",
       "      <td>6/12/2017</td>\n",
       "      <td>PO BOX 905WYOMING MI 49509</td>\n",
       "    </tr>\n",
       "    <tr>\n",
       "      <th>4BERSH</th>\n",
       "      <td>Government Services</td>\n",
       "      <td>Tom Gillespie</td>\n",
       "      <td>NaN</td>\n",
       "      <td>2020-05-15</td>\n",
       "      <td>7.0</td>\n",
       "      <td>563431.43</td>\n",
       "      <td>11/01/1999</td>\n",
       "      <td>701 MAIN STREETST. JOSEPH MI 49085-1392</td>\n",
       "    </tr>\n",
       "  </tbody>\n",
       "</table>\n",
       "</div>"
      ],
      "text/plain": [
       "            Industry/Vertical     Contact Owner Postal/ZIP Last Purchased  \\\n",
       "Customer                                                                    \n",
       "1FOURW            Hospitality     Tom Gillespie      49117     2020-05-18   \n",
       "7CCECD         911 & Dispatch  Jessica Spindler        NaN     2020-05-18   \n",
       "1OTTSD        Law Enforcement     Keith Johnson        NaN     2020-05-08   \n",
       "1KENCD         911 & Dispatch     Keith Johnson        NaN     2019-06-28   \n",
       "4BERSH    Government Services     Tom Gillespie        NaN     2020-05-15   \n",
       "\n",
       "          Rank      Amount   Open Date  \\\n",
       "Customer                                 \n",
       "1FOURW     3.0  1123935.02   1/29/2008   \n",
       "7CCECD     4.0  1011834.96  11/01/1999   \n",
       "1OTTSD     5.0   848407.03  11/01/1999   \n",
       "1KENCD     6.0   592820.26   6/12/2017   \n",
       "4BERSH     7.0   563431.43  11/01/1999   \n",
       "\n",
       "                                          Address  \n",
       "Customer                                           \n",
       "1FOURW      11111 WILSON ROADNEW BUFFALO MI 49117  \n",
       "7CCECD                   PETOSKEY MI 49770         \n",
       "1OTTSD                 WEST OLIVE MI 49460         \n",
       "1KENCD                 PO BOX 905WYOMING MI 49509  \n",
       "4BERSH    701 MAIN STREETST. JOSEPH MI 49085-1392  "
      ]
     },
     "execution_count": 43,
     "metadata": {},
     "output_type": "execute_result"
    }
   ],
   "source": [
    "combined.head()"
   ]
  },
  {
   "cell_type": "code",
   "execution_count": 44,
   "metadata": {},
   "outputs": [],
   "source": [
    "# Create my zip-returning function\n",
    "\n",
    "def get_zip(address):\n",
    "    '''Takes a string address and returns the zip code'''\n",
    "    address = str(address).strip()\n",
    "    try:\n",
    "        if address[-5]=='-':\n",
    "            return address[-10:-5]\n",
    "        else:\n",
    "            return address[-5:]\n",
    "    except:\n",
    "        return"
   ]
  },
  {
   "cell_type": "code",
   "execution_count": 45,
   "metadata": {},
   "outputs": [
    {
     "name": "stdout",
     "output_type": "stream",
     "text": [
      "49085\n",
      "49509\n"
     ]
    }
   ],
   "source": [
    "# Testing function\n",
    "print(get_zip('701 MAIN STREETST. JOSEPH MI 49085-1392'))\n",
    "\n",
    "print(get_zip('PO BOX 905WYOMING MI 49509'))"
   ]
  },
  {
   "cell_type": "code",
   "execution_count": 46,
   "metadata": {},
   "outputs": [
    {
     "data": {
      "text/html": [
       "<div>\n",
       "<style scoped>\n",
       "    .dataframe tbody tr th:only-of-type {\n",
       "        vertical-align: middle;\n",
       "    }\n",
       "\n",
       "    .dataframe tbody tr th {\n",
       "        vertical-align: top;\n",
       "    }\n",
       "\n",
       "    .dataframe thead th {\n",
       "        text-align: right;\n",
       "    }\n",
       "</style>\n",
       "<table border=\"1\" class=\"dataframe\">\n",
       "  <thead>\n",
       "    <tr style=\"text-align: right;\">\n",
       "      <th></th>\n",
       "      <th>Industry/Vertical</th>\n",
       "      <th>Contact Owner</th>\n",
       "      <th>Postal/ZIP</th>\n",
       "      <th>Last Purchased</th>\n",
       "      <th>Rank</th>\n",
       "      <th>Amount</th>\n",
       "      <th>Open Date</th>\n",
       "      <th>Address</th>\n",
       "      <th>Zip</th>\n",
       "    </tr>\n",
       "    <tr>\n",
       "      <th>Customer</th>\n",
       "      <th></th>\n",
       "      <th></th>\n",
       "      <th></th>\n",
       "      <th></th>\n",
       "      <th></th>\n",
       "      <th></th>\n",
       "      <th></th>\n",
       "      <th></th>\n",
       "      <th></th>\n",
       "    </tr>\n",
       "  </thead>\n",
       "  <tbody>\n",
       "    <tr>\n",
       "      <th>1FOURW</th>\n",
       "      <td>Hospitality</td>\n",
       "      <td>Tom Gillespie</td>\n",
       "      <td>49117</td>\n",
       "      <td>2020-05-18</td>\n",
       "      <td>3.0</td>\n",
       "      <td>1123935.02</td>\n",
       "      <td>1/29/2008</td>\n",
       "      <td>11111 WILSON ROADNEW BUFFALO MI 49117</td>\n",
       "      <td>49117</td>\n",
       "    </tr>\n",
       "    <tr>\n",
       "      <th>7CCECD</th>\n",
       "      <td>911 &amp; Dispatch</td>\n",
       "      <td>Jessica Spindler</td>\n",
       "      <td>NaN</td>\n",
       "      <td>2020-05-18</td>\n",
       "      <td>4.0</td>\n",
       "      <td>1011834.96</td>\n",
       "      <td>11/01/1999</td>\n",
       "      <td>PETOSKEY MI 49770</td>\n",
       "      <td>49770</td>\n",
       "    </tr>\n",
       "    <tr>\n",
       "      <th>1OTTSD</th>\n",
       "      <td>Law Enforcement</td>\n",
       "      <td>Keith Johnson</td>\n",
       "      <td>NaN</td>\n",
       "      <td>2020-05-08</td>\n",
       "      <td>5.0</td>\n",
       "      <td>848407.03</td>\n",
       "      <td>11/01/1999</td>\n",
       "      <td>WEST OLIVE MI 49460</td>\n",
       "      <td>49460</td>\n",
       "    </tr>\n",
       "    <tr>\n",
       "      <th>1KENCD</th>\n",
       "      <td>911 &amp; Dispatch</td>\n",
       "      <td>Keith Johnson</td>\n",
       "      <td>NaN</td>\n",
       "      <td>2019-06-28</td>\n",
       "      <td>6.0</td>\n",
       "      <td>592820.26</td>\n",
       "      <td>6/12/2017</td>\n",
       "      <td>PO BOX 905WYOMING MI 49509</td>\n",
       "      <td>49509</td>\n",
       "    </tr>\n",
       "    <tr>\n",
       "      <th>4BERSH</th>\n",
       "      <td>Government Services</td>\n",
       "      <td>Tom Gillespie</td>\n",
       "      <td>NaN</td>\n",
       "      <td>2020-05-15</td>\n",
       "      <td>7.0</td>\n",
       "      <td>563431.43</td>\n",
       "      <td>11/01/1999</td>\n",
       "      <td>701 MAIN STREETST. JOSEPH MI 49085-1392</td>\n",
       "      <td>49085</td>\n",
       "    </tr>\n",
       "  </tbody>\n",
       "</table>\n",
       "</div>"
      ],
      "text/plain": [
       "            Industry/Vertical     Contact Owner Postal/ZIP Last Purchased  \\\n",
       "Customer                                                                    \n",
       "1FOURW            Hospitality     Tom Gillespie      49117     2020-05-18   \n",
       "7CCECD         911 & Dispatch  Jessica Spindler        NaN     2020-05-18   \n",
       "1OTTSD        Law Enforcement     Keith Johnson        NaN     2020-05-08   \n",
       "1KENCD         911 & Dispatch     Keith Johnson        NaN     2019-06-28   \n",
       "4BERSH    Government Services     Tom Gillespie        NaN     2020-05-15   \n",
       "\n",
       "          Rank      Amount   Open Date  \\\n",
       "Customer                                 \n",
       "1FOURW     3.0  1123935.02   1/29/2008   \n",
       "7CCECD     4.0  1011834.96  11/01/1999   \n",
       "1OTTSD     5.0   848407.03  11/01/1999   \n",
       "1KENCD     6.0   592820.26   6/12/2017   \n",
       "4BERSH     7.0   563431.43  11/01/1999   \n",
       "\n",
       "                                          Address    Zip  \n",
       "Customer                                                  \n",
       "1FOURW      11111 WILSON ROADNEW BUFFALO MI 49117  49117  \n",
       "7CCECD                   PETOSKEY MI 49770         49770  \n",
       "1OTTSD                 WEST OLIVE MI 49460         49460  \n",
       "1KENCD                 PO BOX 905WYOMING MI 49509  49509  \n",
       "4BERSH    701 MAIN STREETST. JOSEPH MI 49085-1392  49085  "
      ]
     },
     "execution_count": 46,
     "metadata": {},
     "output_type": "execute_result"
    }
   ],
   "source": [
    "combined['Zip'] = combined['Address'].apply(get_zip)\n",
    "combined.head()"
   ]
  },
  {
   "cell_type": "code",
   "execution_count": 47,
   "metadata": {},
   "outputs": [],
   "source": [
    "combined.drop(['Postal/ZIP','Address'], axis=1, inplace=True)"
   ]
  },
  {
   "cell_type": "code",
   "execution_count": 48,
   "metadata": {},
   "outputs": [
    {
     "data": {
      "text/html": [
       "<div>\n",
       "<style scoped>\n",
       "    .dataframe tbody tr th:only-of-type {\n",
       "        vertical-align: middle;\n",
       "    }\n",
       "\n",
       "    .dataframe tbody tr th {\n",
       "        vertical-align: top;\n",
       "    }\n",
       "\n",
       "    .dataframe thead th {\n",
       "        text-align: right;\n",
       "    }\n",
       "</style>\n",
       "<table border=\"1\" class=\"dataframe\">\n",
       "  <thead>\n",
       "    <tr style=\"text-align: right;\">\n",
       "      <th></th>\n",
       "      <th>Industry/Vertical</th>\n",
       "      <th>Contact Owner</th>\n",
       "      <th>Last Purchased</th>\n",
       "      <th>Rank</th>\n",
       "      <th>Amount</th>\n",
       "      <th>Open Date</th>\n",
       "      <th>Zip</th>\n",
       "    </tr>\n",
       "    <tr>\n",
       "      <th>Customer</th>\n",
       "      <th></th>\n",
       "      <th></th>\n",
       "      <th></th>\n",
       "      <th></th>\n",
       "      <th></th>\n",
       "      <th></th>\n",
       "      <th></th>\n",
       "    </tr>\n",
       "  </thead>\n",
       "  <tbody>\n",
       "    <tr>\n",
       "      <th>1FOURW</th>\n",
       "      <td>Hospitality</td>\n",
       "      <td>Tom Gillespie</td>\n",
       "      <td>2020-05-18</td>\n",
       "      <td>3.0</td>\n",
       "      <td>1123935.02</td>\n",
       "      <td>1/29/2008</td>\n",
       "      <td>49117</td>\n",
       "    </tr>\n",
       "    <tr>\n",
       "      <th>7CCECD</th>\n",
       "      <td>911 &amp; Dispatch</td>\n",
       "      <td>Jessica Spindler</td>\n",
       "      <td>2020-05-18</td>\n",
       "      <td>4.0</td>\n",
       "      <td>1011834.96</td>\n",
       "      <td>11/01/1999</td>\n",
       "      <td>49770</td>\n",
       "    </tr>\n",
       "    <tr>\n",
       "      <th>1OTTSD</th>\n",
       "      <td>Law Enforcement</td>\n",
       "      <td>Keith Johnson</td>\n",
       "      <td>2020-05-08</td>\n",
       "      <td>5.0</td>\n",
       "      <td>848407.03</td>\n",
       "      <td>11/01/1999</td>\n",
       "      <td>49460</td>\n",
       "    </tr>\n",
       "    <tr>\n",
       "      <th>1KENCD</th>\n",
       "      <td>911 &amp; Dispatch</td>\n",
       "      <td>Keith Johnson</td>\n",
       "      <td>2019-06-28</td>\n",
       "      <td>6.0</td>\n",
       "      <td>592820.26</td>\n",
       "      <td>6/12/2017</td>\n",
       "      <td>49509</td>\n",
       "    </tr>\n",
       "    <tr>\n",
       "      <th>4BERSH</th>\n",
       "      <td>Government Services</td>\n",
       "      <td>Tom Gillespie</td>\n",
       "      <td>2020-05-15</td>\n",
       "      <td>7.0</td>\n",
       "      <td>563431.43</td>\n",
       "      <td>11/01/1999</td>\n",
       "      <td>49085</td>\n",
       "    </tr>\n",
       "  </tbody>\n",
       "</table>\n",
       "</div>"
      ],
      "text/plain": [
       "            Industry/Vertical     Contact Owner Last Purchased  Rank  \\\n",
       "Customer                                                               \n",
       "1FOURW            Hospitality     Tom Gillespie     2020-05-18   3.0   \n",
       "7CCECD         911 & Dispatch  Jessica Spindler     2020-05-18   4.0   \n",
       "1OTTSD        Law Enforcement     Keith Johnson     2020-05-08   5.0   \n",
       "1KENCD         911 & Dispatch     Keith Johnson     2019-06-28   6.0   \n",
       "4BERSH    Government Services     Tom Gillespie     2020-05-15   7.0   \n",
       "\n",
       "              Amount   Open Date    Zip  \n",
       "Customer                                 \n",
       "1FOURW    1123935.02   1/29/2008  49117  \n",
       "7CCECD    1011834.96  11/01/1999  49770  \n",
       "1OTTSD     848407.03  11/01/1999  49460  \n",
       "1KENCD     592820.26   6/12/2017  49509  \n",
       "4BERSH     563431.43  11/01/1999  49085  "
      ]
     },
     "metadata": {},
     "output_type": "display_data"
    },
    {
     "name": "stdout",
     "output_type": "stream",
     "text": [
      "<class 'pandas.core.frame.DataFrame'>\n",
      "Index: 805 entries, 1FOURW to nan\n",
      "Data columns (total 7 columns):\n",
      " #   Column             Non-Null Count  Dtype         \n",
      "---  ------             --------------  -----         \n",
      " 0   Industry/Vertical  805 non-null    category      \n",
      " 1   Contact Owner      805 non-null    category      \n",
      " 2   Last Purchased     619 non-null    datetime64[ns]\n",
      " 3   Rank               648 non-null    float64       \n",
      " 4   Amount             648 non-null    float64       \n",
      " 5   Open Date          648 non-null    object        \n",
      " 6   Zip                648 non-null    object        \n",
      "dtypes: category(2), datetime64[ns](1), float64(2), object(2)\n",
      "memory usage: 40.3+ KB\n",
      "None\n"
     ]
    }
   ],
   "source": [
    "display(combined.head())\n",
    "print(combined.info())"
   ]
  },
  {
   "cell_type": "markdown",
   "metadata": {},
   "source": [
    "So actually there are only 648 customers with fully fleshed out information here."
   ]
  },
  {
   "cell_type": "markdown",
   "metadata": {},
   "source": [
    "__Zip Code to County__\n",
    "\n",
    "I downloaded a csv file from https://www.unitedstateszipcodes.org/zip-code-database/ that contains a list of all the zip codes in the US.\n",
    "\n",
    "Will use that to create a filter to take in a zip code and return the county."
   ]
  },
  {
   "cell_type": "code",
   "execution_count": 50,
   "metadata": {},
   "outputs": [
    {
     "data": {
      "text/html": [
       "<div>\n",
       "<style scoped>\n",
       "    .dataframe tbody tr th:only-of-type {\n",
       "        vertical-align: middle;\n",
       "    }\n",
       "\n",
       "    .dataframe tbody tr th {\n",
       "        vertical-align: top;\n",
       "    }\n",
       "\n",
       "    .dataframe thead th {\n",
       "        text-align: right;\n",
       "    }\n",
       "</style>\n",
       "<table border=\"1\" class=\"dataframe\">\n",
       "  <thead>\n",
       "    <tr style=\"text-align: right;\">\n",
       "      <th></th>\n",
       "      <th>zip</th>\n",
       "      <th>type</th>\n",
       "      <th>decommissioned</th>\n",
       "      <th>primary_city</th>\n",
       "      <th>acceptable_cities</th>\n",
       "      <th>unacceptable_cities</th>\n",
       "      <th>state</th>\n",
       "      <th>county</th>\n",
       "      <th>timezone</th>\n",
       "      <th>area_codes</th>\n",
       "      <th>world_region</th>\n",
       "      <th>country</th>\n",
       "      <th>latitude</th>\n",
       "      <th>longitude</th>\n",
       "      <th>irs_estimated_population_2015</th>\n",
       "    </tr>\n",
       "  </thead>\n",
       "  <tbody>\n",
       "    <tr>\n",
       "      <th>0</th>\n",
       "      <td>501</td>\n",
       "      <td>UNIQUE</td>\n",
       "      <td>0</td>\n",
       "      <td>Holtsville</td>\n",
       "      <td>NaN</td>\n",
       "      <td>I R S Service Center</td>\n",
       "      <td>NY</td>\n",
       "      <td>Suffolk County</td>\n",
       "      <td>America/New_York</td>\n",
       "      <td>631</td>\n",
       "      <td>NaN</td>\n",
       "      <td>US</td>\n",
       "      <td>40.81</td>\n",
       "      <td>-73.04</td>\n",
       "      <td>562</td>\n",
       "    </tr>\n",
       "    <tr>\n",
       "      <th>1</th>\n",
       "      <td>544</td>\n",
       "      <td>UNIQUE</td>\n",
       "      <td>0</td>\n",
       "      <td>Holtsville</td>\n",
       "      <td>NaN</td>\n",
       "      <td>Irs Service Center</td>\n",
       "      <td>NY</td>\n",
       "      <td>Suffolk County</td>\n",
       "      <td>America/New_York</td>\n",
       "      <td>631</td>\n",
       "      <td>NaN</td>\n",
       "      <td>US</td>\n",
       "      <td>40.81</td>\n",
       "      <td>-73.04</td>\n",
       "      <td>0</td>\n",
       "    </tr>\n",
       "    <tr>\n",
       "      <th>2</th>\n",
       "      <td>601</td>\n",
       "      <td>STANDARD</td>\n",
       "      <td>0</td>\n",
       "      <td>Adjuntas</td>\n",
       "      <td>NaN</td>\n",
       "      <td>Colinas Del Gigante, Jard De Adjuntas, Urb San...</td>\n",
       "      <td>PR</td>\n",
       "      <td>Adjuntas Municipio</td>\n",
       "      <td>America/Puerto_Rico</td>\n",
       "      <td>787,939</td>\n",
       "      <td>NaN</td>\n",
       "      <td>US</td>\n",
       "      <td>18.16</td>\n",
       "      <td>-66.72</td>\n",
       "      <td>0</td>\n",
       "    </tr>\n",
       "    <tr>\n",
       "      <th>3</th>\n",
       "      <td>602</td>\n",
       "      <td>STANDARD</td>\n",
       "      <td>0</td>\n",
       "      <td>Aguada</td>\n",
       "      <td>NaN</td>\n",
       "      <td>Alts De Aguada, Bo Guaniquilla, Comunidad Las ...</td>\n",
       "      <td>PR</td>\n",
       "      <td>Aguada Municipio</td>\n",
       "      <td>America/Puerto_Rico</td>\n",
       "      <td>787,939</td>\n",
       "      <td>NaN</td>\n",
       "      <td>US</td>\n",
       "      <td>18.38</td>\n",
       "      <td>-67.18</td>\n",
       "      <td>0</td>\n",
       "    </tr>\n",
       "    <tr>\n",
       "      <th>4</th>\n",
       "      <td>603</td>\n",
       "      <td>STANDARD</td>\n",
       "      <td>0</td>\n",
       "      <td>Aguadilla</td>\n",
       "      <td>Ramey</td>\n",
       "      <td>Bda Caban, Bda Esteves, Bo Borinquen, Bo Ceiba...</td>\n",
       "      <td>PR</td>\n",
       "      <td>Aguadilla Municipio</td>\n",
       "      <td>America/Puerto_Rico</td>\n",
       "      <td>787</td>\n",
       "      <td>NaN</td>\n",
       "      <td>US</td>\n",
       "      <td>18.43</td>\n",
       "      <td>-67.15</td>\n",
       "      <td>0</td>\n",
       "    </tr>\n",
       "  </tbody>\n",
       "</table>\n",
       "</div>"
      ],
      "text/plain": [
       "   zip      type  decommissioned primary_city acceptable_cities  \\\n",
       "0  501    UNIQUE               0   Holtsville               NaN   \n",
       "1  544    UNIQUE               0   Holtsville               NaN   \n",
       "2  601  STANDARD               0     Adjuntas               NaN   \n",
       "3  602  STANDARD               0       Aguada               NaN   \n",
       "4  603  STANDARD               0    Aguadilla             Ramey   \n",
       "\n",
       "                                 unacceptable_cities state  \\\n",
       "0                               I R S Service Center    NY   \n",
       "1                                 Irs Service Center    NY   \n",
       "2  Colinas Del Gigante, Jard De Adjuntas, Urb San...    PR   \n",
       "3  Alts De Aguada, Bo Guaniquilla, Comunidad Las ...    PR   \n",
       "4  Bda Caban, Bda Esteves, Bo Borinquen, Bo Ceiba...    PR   \n",
       "\n",
       "                county             timezone area_codes world_region country  \\\n",
       "0       Suffolk County     America/New_York        631          NaN      US   \n",
       "1       Suffolk County     America/New_York        631          NaN      US   \n",
       "2   Adjuntas Municipio  America/Puerto_Rico    787,939          NaN      US   \n",
       "3     Aguada Municipio  America/Puerto_Rico    787,939          NaN      US   \n",
       "4  Aguadilla Municipio  America/Puerto_Rico        787          NaN      US   \n",
       "\n",
       "   latitude  longitude  irs_estimated_population_2015  \n",
       "0     40.81     -73.04                            562  \n",
       "1     40.81     -73.04                              0  \n",
       "2     18.16     -66.72                              0  \n",
       "3     18.38     -67.18                              0  \n",
       "4     18.43     -67.15                              0  "
      ]
     },
     "execution_count": 50,
     "metadata": {},
     "output_type": "execute_result"
    }
   ],
   "source": [
    "# Create the zip/county mapping base\n",
    "counties = pd.read_csv('..\\external\\zip_code_database.csv')\n",
    "counties.head()"
   ]
  },
  {
   "cell_type": "code",
   "execution_count": 51,
   "metadata": {},
   "outputs": [
    {
     "data": {
      "text/html": [
       "<div>\n",
       "<style scoped>\n",
       "    .dataframe tbody tr th:only-of-type {\n",
       "        vertical-align: middle;\n",
       "    }\n",
       "\n",
       "    .dataframe tbody tr th {\n",
       "        vertical-align: top;\n",
       "    }\n",
       "\n",
       "    .dataframe thead th {\n",
       "        text-align: right;\n",
       "    }\n",
       "</style>\n",
       "<table border=\"1\" class=\"dataframe\">\n",
       "  <thead>\n",
       "    <tr style=\"text-align: right;\">\n",
       "      <th></th>\n",
       "      <th>zip</th>\n",
       "      <th>type</th>\n",
       "      <th>decommissioned</th>\n",
       "      <th>primary_city</th>\n",
       "      <th>acceptable_cities</th>\n",
       "      <th>unacceptable_cities</th>\n",
       "      <th>state</th>\n",
       "      <th>county</th>\n",
       "      <th>timezone</th>\n",
       "      <th>area_codes</th>\n",
       "      <th>world_region</th>\n",
       "      <th>country</th>\n",
       "      <th>latitude</th>\n",
       "      <th>longitude</th>\n",
       "      <th>irs_estimated_population_2015</th>\n",
       "    </tr>\n",
       "  </thead>\n",
       "  <tbody>\n",
       "    <tr>\n",
       "      <th>20942</th>\n",
       "      <td>48001</td>\n",
       "      <td>STANDARD</td>\n",
       "      <td>0</td>\n",
       "      <td>Algonac</td>\n",
       "      <td>Clay, Pearl Beach, Russell Is, Russell Island</td>\n",
       "      <td>Clay Township, Clay Twp</td>\n",
       "      <td>MI</td>\n",
       "      <td>St. Clair County</td>\n",
       "      <td>America/Detroit</td>\n",
       "      <td>810</td>\n",
       "      <td>NaN</td>\n",
       "      <td>US</td>\n",
       "      <td>42.61</td>\n",
       "      <td>-82.53</td>\n",
       "      <td>10610</td>\n",
       "    </tr>\n",
       "    <tr>\n",
       "      <th>20943</th>\n",
       "      <td>48002</td>\n",
       "      <td>STANDARD</td>\n",
       "      <td>0</td>\n",
       "      <td>Allenton</td>\n",
       "      <td>Berlin, Berville</td>\n",
       "      <td>Berlin Township, Berlin Twp</td>\n",
       "      <td>MI</td>\n",
       "      <td>St. Clair County</td>\n",
       "      <td>America/Detroit</td>\n",
       "      <td>NaN</td>\n",
       "      <td>NaN</td>\n",
       "      <td>US</td>\n",
       "      <td>42.92</td>\n",
       "      <td>-82.88</td>\n",
       "      <td>3050</td>\n",
       "    </tr>\n",
       "    <tr>\n",
       "      <th>20944</th>\n",
       "      <td>48003</td>\n",
       "      <td>STANDARD</td>\n",
       "      <td>0</td>\n",
       "      <td>Almont</td>\n",
       "      <td>NaN</td>\n",
       "      <td>Almont Township</td>\n",
       "      <td>MI</td>\n",
       "      <td>Lapeer County</td>\n",
       "      <td>America/Detroit</td>\n",
       "      <td>810</td>\n",
       "      <td>NaN</td>\n",
       "      <td>US</td>\n",
       "      <td>42.92</td>\n",
       "      <td>-83.04</td>\n",
       "      <td>6120</td>\n",
       "    </tr>\n",
       "    <tr>\n",
       "      <th>20945</th>\n",
       "      <td>48004</td>\n",
       "      <td>PO BOX</td>\n",
       "      <td>0</td>\n",
       "      <td>Anchorville</td>\n",
       "      <td>NaN</td>\n",
       "      <td>NaN</td>\n",
       "      <td>MI</td>\n",
       "      <td>St. Clair County</td>\n",
       "      <td>America/Detroit</td>\n",
       "      <td>NaN</td>\n",
       "      <td>NaN</td>\n",
       "      <td>US</td>\n",
       "      <td>42.69</td>\n",
       "      <td>-82.69</td>\n",
       "      <td>142</td>\n",
       "    </tr>\n",
       "    <tr>\n",
       "      <th>20946</th>\n",
       "      <td>48005</td>\n",
       "      <td>STANDARD</td>\n",
       "      <td>0</td>\n",
       "      <td>Armada</td>\n",
       "      <td>NaN</td>\n",
       "      <td>Armada Township</td>\n",
       "      <td>MI</td>\n",
       "      <td>Macomb County</td>\n",
       "      <td>America/Detroit</td>\n",
       "      <td>586</td>\n",
       "      <td>NaN</td>\n",
       "      <td>US</td>\n",
       "      <td>42.84</td>\n",
       "      <td>-82.88</td>\n",
       "      <td>5040</td>\n",
       "    </tr>\n",
       "  </tbody>\n",
       "</table>\n",
       "</div>"
      ],
      "text/plain": [
       "         zip      type  decommissioned primary_city  \\\n",
       "20942  48001  STANDARD               0      Algonac   \n",
       "20943  48002  STANDARD               0     Allenton   \n",
       "20944  48003  STANDARD               0       Almont   \n",
       "20945  48004    PO BOX               0  Anchorville   \n",
       "20946  48005  STANDARD               0       Armada   \n",
       "\n",
       "                                   acceptable_cities  \\\n",
       "20942  Clay, Pearl Beach, Russell Is, Russell Island   \n",
       "20943                               Berlin, Berville   \n",
       "20944                                            NaN   \n",
       "20945                                            NaN   \n",
       "20946                                            NaN   \n",
       "\n",
       "               unacceptable_cities state            county         timezone  \\\n",
       "20942      Clay Township, Clay Twp    MI  St. Clair County  America/Detroit   \n",
       "20943  Berlin Township, Berlin Twp    MI  St. Clair County  America/Detroit   \n",
       "20944              Almont Township    MI     Lapeer County  America/Detroit   \n",
       "20945                          NaN    MI  St. Clair County  America/Detroit   \n",
       "20946              Armada Township    MI     Macomb County  America/Detroit   \n",
       "\n",
       "      area_codes world_region country  latitude  longitude  \\\n",
       "20942        810          NaN      US     42.61     -82.53   \n",
       "20943        NaN          NaN      US     42.92     -82.88   \n",
       "20944        810          NaN      US     42.92     -83.04   \n",
       "20945        NaN          NaN      US     42.69     -82.69   \n",
       "20946        586          NaN      US     42.84     -82.88   \n",
       "\n",
       "       irs_estimated_population_2015  \n",
       "20942                          10610  \n",
       "20943                           3050  \n",
       "20944                           6120  \n",
       "20945                            142  \n",
       "20946                           5040  "
      ]
     },
     "execution_count": 51,
     "metadata": {},
     "output_type": "execute_result"
    }
   ],
   "source": [
    "counties = counties[counties['state']=='MI']\n",
    "counties.head()"
   ]
  },
  {
   "cell_type": "code",
   "execution_count": 52,
   "metadata": {},
   "outputs": [],
   "source": [
    "county_filter = pd.Series(counties['county'].values, index=counties['zip'], name='county')"
   ]
  },
  {
   "cell_type": "code",
   "execution_count": 53,
   "metadata": {},
   "outputs": [],
   "source": [
    "def county_lookup(zip):\n",
    "    '''Take a zip code and returns the correspding MI county'''\n",
    "    try:\n",
    "        zip=int(zip)\n",
    "        return county_filter.loc[zip][:-7]\n",
    "    except:\n",
    "        return np.nan"
   ]
  },
  {
   "cell_type": "code",
   "execution_count": 54,
   "metadata": {},
   "outputs": [],
   "source": [
    "combined['County']=combined['Zip'].apply(county_lookup)"
   ]
  },
  {
   "cell_type": "code",
   "execution_count": 55,
   "metadata": {},
   "outputs": [
    {
     "data": {
      "text/html": [
       "<div>\n",
       "<style scoped>\n",
       "    .dataframe tbody tr th:only-of-type {\n",
       "        vertical-align: middle;\n",
       "    }\n",
       "\n",
       "    .dataframe tbody tr th {\n",
       "        vertical-align: top;\n",
       "    }\n",
       "\n",
       "    .dataframe thead th {\n",
       "        text-align: right;\n",
       "    }\n",
       "</style>\n",
       "<table border=\"1\" class=\"dataframe\">\n",
       "  <thead>\n",
       "    <tr style=\"text-align: right;\">\n",
       "      <th></th>\n",
       "      <th>Industry/Vertical</th>\n",
       "      <th>Contact Owner</th>\n",
       "      <th>Last Purchased</th>\n",
       "      <th>Rank</th>\n",
       "      <th>Amount</th>\n",
       "      <th>Open Date</th>\n",
       "      <th>Zip</th>\n",
       "      <th>County</th>\n",
       "    </tr>\n",
       "    <tr>\n",
       "      <th>Customer</th>\n",
       "      <th></th>\n",
       "      <th></th>\n",
       "      <th></th>\n",
       "      <th></th>\n",
       "      <th></th>\n",
       "      <th></th>\n",
       "      <th></th>\n",
       "      <th></th>\n",
       "    </tr>\n",
       "  </thead>\n",
       "  <tbody>\n",
       "    <tr>\n",
       "      <th>1FOURW</th>\n",
       "      <td>Hospitality</td>\n",
       "      <td>Tom Gillespie</td>\n",
       "      <td>2020-05-18</td>\n",
       "      <td>3.0</td>\n",
       "      <td>1123935.02</td>\n",
       "      <td>1/29/2008</td>\n",
       "      <td>49117</td>\n",
       "      <td>Berrien</td>\n",
       "    </tr>\n",
       "    <tr>\n",
       "      <th>7CCECD</th>\n",
       "      <td>911 &amp; Dispatch</td>\n",
       "      <td>Jessica Spindler</td>\n",
       "      <td>2020-05-18</td>\n",
       "      <td>4.0</td>\n",
       "      <td>1011834.96</td>\n",
       "      <td>11/01/1999</td>\n",
       "      <td>49770</td>\n",
       "      <td>Emmet</td>\n",
       "    </tr>\n",
       "    <tr>\n",
       "      <th>1OTTSD</th>\n",
       "      <td>Law Enforcement</td>\n",
       "      <td>Keith Johnson</td>\n",
       "      <td>2020-05-08</td>\n",
       "      <td>5.0</td>\n",
       "      <td>848407.03</td>\n",
       "      <td>11/01/1999</td>\n",
       "      <td>49460</td>\n",
       "      <td>Ottawa</td>\n",
       "    </tr>\n",
       "    <tr>\n",
       "      <th>1KENCD</th>\n",
       "      <td>911 &amp; Dispatch</td>\n",
       "      <td>Keith Johnson</td>\n",
       "      <td>2019-06-28</td>\n",
       "      <td>6.0</td>\n",
       "      <td>592820.26</td>\n",
       "      <td>6/12/2017</td>\n",
       "      <td>49509</td>\n",
       "      <td>Kent</td>\n",
       "    </tr>\n",
       "    <tr>\n",
       "      <th>4BERSH</th>\n",
       "      <td>Government Services</td>\n",
       "      <td>Tom Gillespie</td>\n",
       "      <td>2020-05-15</td>\n",
       "      <td>7.0</td>\n",
       "      <td>563431.43</td>\n",
       "      <td>11/01/1999</td>\n",
       "      <td>49085</td>\n",
       "      <td>Berrien</td>\n",
       "    </tr>\n",
       "  </tbody>\n",
       "</table>\n",
       "</div>"
      ],
      "text/plain": [
       "            Industry/Vertical     Contact Owner Last Purchased  Rank  \\\n",
       "Customer                                                               \n",
       "1FOURW            Hospitality     Tom Gillespie     2020-05-18   3.0   \n",
       "7CCECD         911 & Dispatch  Jessica Spindler     2020-05-18   4.0   \n",
       "1OTTSD        Law Enforcement     Keith Johnson     2020-05-08   5.0   \n",
       "1KENCD         911 & Dispatch     Keith Johnson     2019-06-28   6.0   \n",
       "4BERSH    Government Services     Tom Gillespie     2020-05-15   7.0   \n",
       "\n",
       "              Amount   Open Date    Zip   County  \n",
       "Customer                                          \n",
       "1FOURW    1123935.02   1/29/2008  49117  Berrien  \n",
       "7CCECD    1011834.96  11/01/1999  49770    Emmet  \n",
       "1OTTSD     848407.03  11/01/1999  49460   Ottawa  \n",
       "1KENCD     592820.26   6/12/2017  49509     Kent  \n",
       "4BERSH     563431.43  11/01/1999  49085  Berrien  "
      ]
     },
     "metadata": {},
     "output_type": "display_data"
    },
    {
     "data": {
      "text/plain": [
       "Ottawa            130\n",
       "Kent              101\n",
       "Berrien            48\n",
       "Allegan            33\n",
       "Grand Traverse     24\n",
       "Muskegon           21\n",
       "Emmet              19\n",
       "Mason              19\n",
       "Oceana             18\n",
       "Wexford            18\n",
       "Van Buren          16\n",
       "Roscommon          13\n",
       "St. Joseph         11\n",
       "Cheboygan          10\n",
       "Leelanau           10\n",
       "Manistee            8\n",
       "Newaygo             8\n",
       "Charlevoix          8\n",
       "Cass                7\n",
       "Oakland             7\n",
       "Crawford            6\n",
       "Montmorency         6\n",
       "Presque Isle        5\n",
       "Missaukee           5\n",
       "Kalkaska            5\n",
       "Antrim              5\n",
       "Alpena              5\n",
       "Kalamazoo           4\n",
       "Lake                3\n",
       "Ionia               3\n",
       "Otsego              3\n",
       "Wayne               3\n",
       "Montcalm            3\n",
       "Benzie              3\n",
       "Ingham              2\n",
       "Saginaw             2\n",
       "Ogemaw              2\n",
       "Mackinac            2\n",
       "Oscoda              1\n",
       "Jackson             1\n",
       "Eaton               1\n",
       "Branch              1\n",
       "Midland             1\n",
       "Livingston          1\n",
       "Huron               1\n",
       "Mecosta             1\n",
       "Genesee             1\n",
       "Lenawee             1\n",
       "Houghton            1\n",
       "Name: County, dtype: int64"
      ]
     },
     "metadata": {},
     "output_type": "display_data"
    }
   ],
   "source": [
    "display(combined.head())\n",
    "display(combined.County.value_counts())"
   ]
  },
  {
   "cell_type": "code",
   "execution_count": 56,
   "metadata": {},
   "outputs": [
    {
     "data": {
      "text/html": [
       "<div>\n",
       "<style scoped>\n",
       "    .dataframe tbody tr th:only-of-type {\n",
       "        vertical-align: middle;\n",
       "    }\n",
       "\n",
       "    .dataframe tbody tr th {\n",
       "        vertical-align: top;\n",
       "    }\n",
       "\n",
       "    .dataframe thead th {\n",
       "        text-align: right;\n",
       "    }\n",
       "</style>\n",
       "<table border=\"1\" class=\"dataframe\">\n",
       "  <thead>\n",
       "    <tr style=\"text-align: right;\">\n",
       "      <th></th>\n",
       "      <th>industry</th>\n",
       "      <th>contact_owner</th>\n",
       "      <th>last_purchase</th>\n",
       "      <th>rank</th>\n",
       "      <th>lifetime_sales</th>\n",
       "      <th>first_sale</th>\n",
       "      <th>county</th>\n",
       "    </tr>\n",
       "    <tr>\n",
       "      <th>customer</th>\n",
       "      <th></th>\n",
       "      <th></th>\n",
       "      <th></th>\n",
       "      <th></th>\n",
       "      <th></th>\n",
       "      <th></th>\n",
       "      <th></th>\n",
       "    </tr>\n",
       "  </thead>\n",
       "  <tbody>\n",
       "    <tr>\n",
       "      <th>1FOURW</th>\n",
       "      <td>Hospitality</td>\n",
       "      <td>Tom Gillespie</td>\n",
       "      <td>2020-05-18</td>\n",
       "      <td>3.0</td>\n",
       "      <td>1123935.02</td>\n",
       "      <td>1/29/2008</td>\n",
       "      <td>Berrien</td>\n",
       "    </tr>\n",
       "    <tr>\n",
       "      <th>7CCECD</th>\n",
       "      <td>911 &amp; Dispatch</td>\n",
       "      <td>Jessica Spindler</td>\n",
       "      <td>2020-05-18</td>\n",
       "      <td>4.0</td>\n",
       "      <td>1011834.96</td>\n",
       "      <td>11/01/1999</td>\n",
       "      <td>Emmet</td>\n",
       "    </tr>\n",
       "    <tr>\n",
       "      <th>1OTTSD</th>\n",
       "      <td>Law Enforcement</td>\n",
       "      <td>Keith Johnson</td>\n",
       "      <td>2020-05-08</td>\n",
       "      <td>5.0</td>\n",
       "      <td>848407.03</td>\n",
       "      <td>11/01/1999</td>\n",
       "      <td>Ottawa</td>\n",
       "    </tr>\n",
       "    <tr>\n",
       "      <th>1KENCD</th>\n",
       "      <td>911 &amp; Dispatch</td>\n",
       "      <td>Keith Johnson</td>\n",
       "      <td>2019-06-28</td>\n",
       "      <td>6.0</td>\n",
       "      <td>592820.26</td>\n",
       "      <td>6/12/2017</td>\n",
       "      <td>Kent</td>\n",
       "    </tr>\n",
       "    <tr>\n",
       "      <th>4BERSH</th>\n",
       "      <td>Government Services</td>\n",
       "      <td>Tom Gillespie</td>\n",
       "      <td>2020-05-15</td>\n",
       "      <td>7.0</td>\n",
       "      <td>563431.43</td>\n",
       "      <td>11/01/1999</td>\n",
       "      <td>Berrien</td>\n",
       "    </tr>\n",
       "  </tbody>\n",
       "</table>\n",
       "</div>"
      ],
      "text/plain": [
       "                     industry     contact_owner last_purchase  rank  \\\n",
       "customer                                                              \n",
       "1FOURW            Hospitality     Tom Gillespie    2020-05-18   3.0   \n",
       "7CCECD         911 & Dispatch  Jessica Spindler    2020-05-18   4.0   \n",
       "1OTTSD        Law Enforcement     Keith Johnson    2020-05-08   5.0   \n",
       "1KENCD         911 & Dispatch     Keith Johnson    2019-06-28   6.0   \n",
       "4BERSH    Government Services     Tom Gillespie    2020-05-15   7.0   \n",
       "\n",
       "          lifetime_sales  first_sale   county  \n",
       "customer                                       \n",
       "1FOURW        1123935.02   1/29/2008  Berrien  \n",
       "7CCECD        1011834.96  11/01/1999    Emmet  \n",
       "1OTTSD         848407.03  11/01/1999   Ottawa  \n",
       "1KENCD         592820.26   6/12/2017     Kent  \n",
       "4BERSH         563431.43  11/01/1999  Berrien  "
      ]
     },
     "execution_count": 56,
     "metadata": {},
     "output_type": "execute_result"
    }
   ],
   "source": [
    "# Final clean up of customers dataframe\n",
    "customers = combined.drop('Zip', axis=1)\n",
    "customers.columns = ['industry','contact_owner','last_purchase','rank','lifetime_sales',\n",
    "                    'first_sale','county']\n",
    "customers.index.rename('customer', inplace=True)\n",
    "customers.head()"
   ]
  },
  {
   "cell_type": "markdown",
   "metadata": {},
   "source": [
    "## File 4: Sales Report by Zip Code\"\n",
    "\n",
    "This file is being set aside. It includes total sales by zip code from 2010 to 2020. The issues are:\n",
    "* that timeframe doesn't match with the 2015 to 2020 timeframe of the rest of the data\n",
    "* it is completely aggregated by zip with no way of breaking it out any further\n",
    "* with a list of all the sales I can re-create this kind of \"gouped by zip code\" data easily, and ONLY for the time frame that matches the rest of the data"
   ]
  },
  {
   "cell_type": "markdown",
   "metadata": {},
   "source": [
    "## Files 5 & 6: TR county Opp Detail 2019 & 1.18.19\n",
    "\n",
    "These time-frames have very near overlap. Will use the 2019 file as that is the most recent. Will merge on county the following:\n",
    "* population\n",
    "* current motorola\n",
    "* motorola market opp\n",
    "* % to total market opp"
   ]
  },
  {
   "cell_type": "code",
   "execution_count": 57,
   "metadata": {},
   "outputs": [
    {
     "data": {
      "text/html": [
       "<div>\n",
       "<style scoped>\n",
       "    .dataframe tbody tr th:only-of-type {\n",
       "        vertical-align: middle;\n",
       "    }\n",
       "\n",
       "    .dataframe tbody tr th {\n",
       "        vertical-align: top;\n",
       "    }\n",
       "\n",
       "    .dataframe thead th {\n",
       "        text-align: right;\n",
       "    }\n",
       "</style>\n",
       "<table border=\"1\" class=\"dataframe\">\n",
       "  <thead>\n",
       "    <tr style=\"text-align: right;\">\n",
       "      <th></th>\n",
       "      <th>County, State</th>\n",
       "      <th>POPULATION</th>\n",
       "      <th>CURRENT MOTOROLA $</th>\n",
       "      <th>MOTOROLA MARKET OPPORTUNITY</th>\n",
       "      <th>TOTAL MARKET OPPORTUNITY</th>\n",
       "      <th>% to TOTAL MARKET OPPORTUNITY</th>\n",
       "    </tr>\n",
       "  </thead>\n",
       "  <tbody>\n",
       "    <tr>\n",
       "      <th>0</th>\n",
       "      <td>KENT, MI</td>\n",
       "      <td>609544</td>\n",
       "      <td>910110</td>\n",
       "      <td>1601574</td>\n",
       "      <td>2162125</td>\n",
       "      <td>0.421</td>\n",
       "    </tr>\n",
       "    <tr>\n",
       "      <th>1</th>\n",
       "      <td>OTTAWA, MI</td>\n",
       "      <td>267017</td>\n",
       "      <td>344342</td>\n",
       "      <td>825673</td>\n",
       "      <td>1114659</td>\n",
       "      <td>0.309</td>\n",
       "    </tr>\n",
       "    <tr>\n",
       "      <th>2</th>\n",
       "      <td>KALAMAZOO, MI</td>\n",
       "      <td>252763</td>\n",
       "      <td>544949</td>\n",
       "      <td>1117141</td>\n",
       "      <td>1508141</td>\n",
       "      <td>0.361</td>\n",
       "    </tr>\n",
       "    <tr>\n",
       "      <th>3</th>\n",
       "      <td>MUSKEGON, MI</td>\n",
       "      <td>171153</td>\n",
       "      <td>67069</td>\n",
       "      <td>281690</td>\n",
       "      <td>380282</td>\n",
       "      <td>0.176</td>\n",
       "    </tr>\n",
       "    <tr>\n",
       "      <th>4</th>\n",
       "      <td>BERRIEN, MI</td>\n",
       "      <td>156290</td>\n",
       "      <td>200519</td>\n",
       "      <td>510290</td>\n",
       "      <td>688892</td>\n",
       "      <td>0.291</td>\n",
       "    </tr>\n",
       "  </tbody>\n",
       "</table>\n",
       "</div>"
      ],
      "text/plain": [
       "   County, State  POPULATION  CURRENT MOTOROLA $  MOTOROLA MARKET OPPORTUNITY  \\\n",
       "0       KENT, MI      609544              910110                      1601574   \n",
       "1     OTTAWA, MI      267017              344342                       825673   \n",
       "2  KALAMAZOO, MI      252763              544949                      1117141   \n",
       "3   MUSKEGON, MI      171153               67069                       281690   \n",
       "4    BERRIEN, MI      156290              200519                       510290   \n",
       "\n",
       "   TOTAL MARKET OPPORTUNITY  % to TOTAL MARKET OPPORTUNITY  \n",
       "0                   2162125                          0.421  \n",
       "1                   1114659                          0.309  \n",
       "2                   1508141                          0.361  \n",
       "3                    380282                          0.176  \n",
       "4                    688892                          0.291  "
      ]
     },
     "execution_count": 57,
     "metadata": {},
     "output_type": "execute_result"
    }
   ],
   "source": [
    "county_opps = pd.read_excel('Tele-Rad County Opportunty Detail 2019.xlsx', usecols=[1,2,3,4,5,6])\n",
    "county_opps.head()"
   ]
  },
  {
   "cell_type": "code",
   "execution_count": 58,
   "metadata": {},
   "outputs": [
    {
     "data": {
      "text/plain": [
       "ROSCOMMON, MI         1\n",
       "CHEBOYGAN, MI         1\n",
       "NEWAYGO, MI           1\n",
       "MISSAUKEE, MI         1\n",
       "PRESQUE ISLE, MI      1\n",
       "WEXFORD, MI           1\n",
       "ALPENA, MI            1\n",
       "MASON, MI             1\n",
       "IONIA, MI             1\n",
       "MANISTEE, MI          1\n",
       "VAN BUREN, MI         1\n",
       "KALAMAZOO, MI         1\n",
       "OCEANA, MI            1\n",
       "GRAND TRAVERSE, MI    1\n",
       "ST JOSEPH, MI         1\n",
       "MONTMORENCY, MI       1\n",
       "BARRY, MI             1\n",
       "OGEMAW, MI            1\n",
       "LAKE, MI              1\n",
       "OTTAWA, MI            1\n",
       "BERRIEN, MI           1\n",
       "EATON, MI             1\n",
       "LEELANAU, MI          1\n",
       "KALKASKA, MI          1\n",
       "OTSEGO, MI            1\n",
       "CRAWFORD, MI          1\n",
       "KENT, MI              1\n",
       "CASS, MI              1\n",
       "MUSKEGON, MI          1\n",
       "ALLEGAN, MI           1\n",
       "BENZIE, MI            1\n",
       "ANTRIM, MI            1\n",
       "CHARLEVOIX, MI        1\n",
       "EMMET, MI             1\n",
       "Name: County, State, dtype: int64"
      ]
     },
     "execution_count": 58,
     "metadata": {},
     "output_type": "execute_result"
    }
   ],
   "source": [
    "# Change the county, state column to match up with customers df\n",
    "county_opps['County, State'].value_counts()"
   ]
  },
  {
   "cell_type": "code",
   "execution_count": 59,
   "metadata": {},
   "outputs": [],
   "source": [
    "def format_county(county):\n",
    "    '''Takes the county, state name from opps dataframe and returns the county formatted to \n",
    "    match the customers dataframe.'''\n",
    "    return county[:-4].lower()"
   ]
  },
  {
   "cell_type": "code",
   "execution_count": 60,
   "metadata": {},
   "outputs": [
    {
     "data": {
      "text/plain": [
       "'montmorency'"
      ]
     },
     "execution_count": 60,
     "metadata": {},
     "output_type": "execute_result"
    }
   ],
   "source": [
    "format_county('MONTMORENCY, MI')"
   ]
  },
  {
   "cell_type": "code",
   "execution_count": 61,
   "metadata": {},
   "outputs": [],
   "source": [
    "county_opps['county']=county_opps['County, State'].apply(format_county)"
   ]
  },
  {
   "cell_type": "code",
   "execution_count": 62,
   "metadata": {},
   "outputs": [
    {
     "data": {
      "text/html": [
       "<div>\n",
       "<style scoped>\n",
       "    .dataframe tbody tr th:only-of-type {\n",
       "        vertical-align: middle;\n",
       "    }\n",
       "\n",
       "    .dataframe tbody tr th {\n",
       "        vertical-align: top;\n",
       "    }\n",
       "\n",
       "    .dataframe thead th {\n",
       "        text-align: right;\n",
       "    }\n",
       "</style>\n",
       "<table border=\"1\" class=\"dataframe\">\n",
       "  <thead>\n",
       "    <tr style=\"text-align: right;\">\n",
       "      <th></th>\n",
       "      <th>County, State</th>\n",
       "      <th>POPULATION</th>\n",
       "      <th>CURRENT MOTOROLA $</th>\n",
       "      <th>MOTOROLA MARKET OPPORTUNITY</th>\n",
       "      <th>TOTAL MARKET OPPORTUNITY</th>\n",
       "      <th>% to TOTAL MARKET OPPORTUNITY</th>\n",
       "      <th>county</th>\n",
       "    </tr>\n",
       "  </thead>\n",
       "  <tbody>\n",
       "    <tr>\n",
       "      <th>0</th>\n",
       "      <td>KENT, MI</td>\n",
       "      <td>609544</td>\n",
       "      <td>910110</td>\n",
       "      <td>1601574</td>\n",
       "      <td>2162125</td>\n",
       "      <td>0.421</td>\n",
       "      <td>kent</td>\n",
       "    </tr>\n",
       "    <tr>\n",
       "      <th>1</th>\n",
       "      <td>OTTAWA, MI</td>\n",
       "      <td>267017</td>\n",
       "      <td>344342</td>\n",
       "      <td>825673</td>\n",
       "      <td>1114659</td>\n",
       "      <td>0.309</td>\n",
       "      <td>ottawa</td>\n",
       "    </tr>\n",
       "    <tr>\n",
       "      <th>2</th>\n",
       "      <td>KALAMAZOO, MI</td>\n",
       "      <td>252763</td>\n",
       "      <td>544949</td>\n",
       "      <td>1117141</td>\n",
       "      <td>1508141</td>\n",
       "      <td>0.361</td>\n",
       "      <td>kalamazoo</td>\n",
       "    </tr>\n",
       "    <tr>\n",
       "      <th>3</th>\n",
       "      <td>MUSKEGON, MI</td>\n",
       "      <td>171153</td>\n",
       "      <td>67069</td>\n",
       "      <td>281690</td>\n",
       "      <td>380282</td>\n",
       "      <td>0.176</td>\n",
       "      <td>muskegon</td>\n",
       "    </tr>\n",
       "    <tr>\n",
       "      <th>4</th>\n",
       "      <td>BERRIEN, MI</td>\n",
       "      <td>156290</td>\n",
       "      <td>200519</td>\n",
       "      <td>510290</td>\n",
       "      <td>688892</td>\n",
       "      <td>0.291</td>\n",
       "      <td>berrien</td>\n",
       "    </tr>\n",
       "  </tbody>\n",
       "</table>\n",
       "</div>"
      ],
      "text/plain": [
       "   County, State  POPULATION  CURRENT MOTOROLA $  MOTOROLA MARKET OPPORTUNITY  \\\n",
       "0       KENT, MI      609544              910110                      1601574   \n",
       "1     OTTAWA, MI      267017              344342                       825673   \n",
       "2  KALAMAZOO, MI      252763              544949                      1117141   \n",
       "3   MUSKEGON, MI      171153               67069                       281690   \n",
       "4    BERRIEN, MI      156290              200519                       510290   \n",
       "\n",
       "   TOTAL MARKET OPPORTUNITY  % to TOTAL MARKET OPPORTUNITY     county  \n",
       "0                   2162125                          0.421       kent  \n",
       "1                   1114659                          0.309     ottawa  \n",
       "2                   1508141                          0.361  kalamazoo  \n",
       "3                    380282                          0.176   muskegon  \n",
       "4                    688892                          0.291    berrien  "
      ]
     },
     "execution_count": 62,
     "metadata": {},
     "output_type": "execute_result"
    }
   ],
   "source": [
    "county_opps.head()"
   ]
  },
  {
   "cell_type": "code",
   "execution_count": 63,
   "metadata": {},
   "outputs": [],
   "source": [
    "# Create a column in customers that will match format so we can merge\n",
    "customers['county_merge'] = customers['county'].str.lower().replace('.','')"
   ]
  },
  {
   "cell_type": "code",
   "execution_count": 64,
   "metadata": {},
   "outputs": [
    {
     "data": {
      "text/html": [
       "<div>\n",
       "<style scoped>\n",
       "    .dataframe tbody tr th:only-of-type {\n",
       "        vertical-align: middle;\n",
       "    }\n",
       "\n",
       "    .dataframe tbody tr th {\n",
       "        vertical-align: top;\n",
       "    }\n",
       "\n",
       "    .dataframe thead th {\n",
       "        text-align: right;\n",
       "    }\n",
       "</style>\n",
       "<table border=\"1\" class=\"dataframe\">\n",
       "  <thead>\n",
       "    <tr style=\"text-align: right;\">\n",
       "      <th></th>\n",
       "      <th>industry</th>\n",
       "      <th>contact_owner</th>\n",
       "      <th>last_purchase</th>\n",
       "      <th>rank</th>\n",
       "      <th>lifetime_sales</th>\n",
       "      <th>first_sale</th>\n",
       "      <th>county</th>\n",
       "      <th>county_merge</th>\n",
       "    </tr>\n",
       "    <tr>\n",
       "      <th>customer</th>\n",
       "      <th></th>\n",
       "      <th></th>\n",
       "      <th></th>\n",
       "      <th></th>\n",
       "      <th></th>\n",
       "      <th></th>\n",
       "      <th></th>\n",
       "      <th></th>\n",
       "    </tr>\n",
       "  </thead>\n",
       "  <tbody>\n",
       "    <tr>\n",
       "      <th>1FOURW</th>\n",
       "      <td>Hospitality</td>\n",
       "      <td>Tom Gillespie</td>\n",
       "      <td>2020-05-18</td>\n",
       "      <td>3.0</td>\n",
       "      <td>1123935.02</td>\n",
       "      <td>1/29/2008</td>\n",
       "      <td>Berrien</td>\n",
       "      <td>berrien</td>\n",
       "    </tr>\n",
       "    <tr>\n",
       "      <th>7CCECD</th>\n",
       "      <td>911 &amp; Dispatch</td>\n",
       "      <td>Jessica Spindler</td>\n",
       "      <td>2020-05-18</td>\n",
       "      <td>4.0</td>\n",
       "      <td>1011834.96</td>\n",
       "      <td>11/01/1999</td>\n",
       "      <td>Emmet</td>\n",
       "      <td>emmet</td>\n",
       "    </tr>\n",
       "    <tr>\n",
       "      <th>1OTTSD</th>\n",
       "      <td>Law Enforcement</td>\n",
       "      <td>Keith Johnson</td>\n",
       "      <td>2020-05-08</td>\n",
       "      <td>5.0</td>\n",
       "      <td>848407.03</td>\n",
       "      <td>11/01/1999</td>\n",
       "      <td>Ottawa</td>\n",
       "      <td>ottawa</td>\n",
       "    </tr>\n",
       "    <tr>\n",
       "      <th>1KENCD</th>\n",
       "      <td>911 &amp; Dispatch</td>\n",
       "      <td>Keith Johnson</td>\n",
       "      <td>2019-06-28</td>\n",
       "      <td>6.0</td>\n",
       "      <td>592820.26</td>\n",
       "      <td>6/12/2017</td>\n",
       "      <td>Kent</td>\n",
       "      <td>kent</td>\n",
       "    </tr>\n",
       "    <tr>\n",
       "      <th>4BERSH</th>\n",
       "      <td>Government Services</td>\n",
       "      <td>Tom Gillespie</td>\n",
       "      <td>2020-05-15</td>\n",
       "      <td>7.0</td>\n",
       "      <td>563431.43</td>\n",
       "      <td>11/01/1999</td>\n",
       "      <td>Berrien</td>\n",
       "      <td>berrien</td>\n",
       "    </tr>\n",
       "  </tbody>\n",
       "</table>\n",
       "</div>"
      ],
      "text/plain": [
       "                     industry     contact_owner last_purchase  rank  \\\n",
       "customer                                                              \n",
       "1FOURW            Hospitality     Tom Gillespie    2020-05-18   3.0   \n",
       "7CCECD         911 & Dispatch  Jessica Spindler    2020-05-18   4.0   \n",
       "1OTTSD        Law Enforcement     Keith Johnson    2020-05-08   5.0   \n",
       "1KENCD         911 & Dispatch     Keith Johnson    2019-06-28   6.0   \n",
       "4BERSH    Government Services     Tom Gillespie    2020-05-15   7.0   \n",
       "\n",
       "          lifetime_sales  first_sale   county county_merge  \n",
       "customer                                                    \n",
       "1FOURW        1123935.02   1/29/2008  Berrien      berrien  \n",
       "7CCECD        1011834.96  11/01/1999    Emmet        emmet  \n",
       "1OTTSD         848407.03  11/01/1999   Ottawa       ottawa  \n",
       "1KENCD         592820.26   6/12/2017     Kent         kent  \n",
       "4BERSH         563431.43  11/01/1999  Berrien      berrien  "
      ]
     },
     "execution_count": 64,
     "metadata": {},
     "output_type": "execute_result"
    }
   ],
   "source": [
    "customers.head()"
   ]
  },
  {
   "cell_type": "code",
   "execution_count": 65,
   "metadata": {},
   "outputs": [
    {
     "data": {
      "text/html": [
       "<div>\n",
       "<style scoped>\n",
       "    .dataframe tbody tr th:only-of-type {\n",
       "        vertical-align: middle;\n",
       "    }\n",
       "\n",
       "    .dataframe tbody tr th {\n",
       "        vertical-align: top;\n",
       "    }\n",
       "\n",
       "    .dataframe thead th {\n",
       "        text-align: right;\n",
       "    }\n",
       "</style>\n",
       "<table border=\"1\" class=\"dataframe\">\n",
       "  <thead>\n",
       "    <tr style=\"text-align: right;\">\n",
       "      <th></th>\n",
       "      <th>customer</th>\n",
       "      <th>industry</th>\n",
       "      <th>contact_owner</th>\n",
       "      <th>last_purchase</th>\n",
       "      <th>rank</th>\n",
       "      <th>lifetime_sales</th>\n",
       "      <th>first_sale</th>\n",
       "      <th>county_x</th>\n",
       "      <th>county_merge</th>\n",
       "      <th>County, State</th>\n",
       "      <th>POPULATION</th>\n",
       "      <th>CURRENT MOTOROLA $</th>\n",
       "      <th>MOTOROLA MARKET OPPORTUNITY</th>\n",
       "      <th>TOTAL MARKET OPPORTUNITY</th>\n",
       "      <th>% to TOTAL MARKET OPPORTUNITY</th>\n",
       "      <th>county_y</th>\n",
       "    </tr>\n",
       "  </thead>\n",
       "  <tbody>\n",
       "    <tr>\n",
       "      <th>0</th>\n",
       "      <td>1FOURW</td>\n",
       "      <td>Hospitality</td>\n",
       "      <td>Tom Gillespie</td>\n",
       "      <td>2020-05-18</td>\n",
       "      <td>3.0</td>\n",
       "      <td>1123935.02</td>\n",
       "      <td>1/29/2008</td>\n",
       "      <td>Berrien</td>\n",
       "      <td>berrien</td>\n",
       "      <td>BERRIEN, MI</td>\n",
       "      <td>156290.0</td>\n",
       "      <td>200519.0</td>\n",
       "      <td>510290.0</td>\n",
       "      <td>688892.0</td>\n",
       "      <td>0.291</td>\n",
       "      <td>berrien</td>\n",
       "    </tr>\n",
       "    <tr>\n",
       "      <th>1</th>\n",
       "      <td>7CCECD</td>\n",
       "      <td>911 &amp; Dispatch</td>\n",
       "      <td>Jessica Spindler</td>\n",
       "      <td>2020-05-18</td>\n",
       "      <td>4.0</td>\n",
       "      <td>1011834.96</td>\n",
       "      <td>11/01/1999</td>\n",
       "      <td>Emmet</td>\n",
       "      <td>emmet</td>\n",
       "      <td>EMMET, MI</td>\n",
       "      <td>32858.0</td>\n",
       "      <td>14103.0</td>\n",
       "      <td>80040.0</td>\n",
       "      <td>108054.0</td>\n",
       "      <td>0.131</td>\n",
       "      <td>emmet</td>\n",
       "    </tr>\n",
       "    <tr>\n",
       "      <th>2</th>\n",
       "      <td>1OTTSD</td>\n",
       "      <td>Law Enforcement</td>\n",
       "      <td>Keith Johnson</td>\n",
       "      <td>2020-05-08</td>\n",
       "      <td>5.0</td>\n",
       "      <td>848407.03</td>\n",
       "      <td>11/01/1999</td>\n",
       "      <td>Ottawa</td>\n",
       "      <td>ottawa</td>\n",
       "      <td>OTTAWA, MI</td>\n",
       "      <td>267017.0</td>\n",
       "      <td>344342.0</td>\n",
       "      <td>825673.0</td>\n",
       "      <td>1114659.0</td>\n",
       "      <td>0.309</td>\n",
       "      <td>ottawa</td>\n",
       "    </tr>\n",
       "    <tr>\n",
       "      <th>3</th>\n",
       "      <td>1KENCD</td>\n",
       "      <td>911 &amp; Dispatch</td>\n",
       "      <td>Keith Johnson</td>\n",
       "      <td>2019-06-28</td>\n",
       "      <td>6.0</td>\n",
       "      <td>592820.26</td>\n",
       "      <td>6/12/2017</td>\n",
       "      <td>Kent</td>\n",
       "      <td>kent</td>\n",
       "      <td>KENT, MI</td>\n",
       "      <td>609544.0</td>\n",
       "      <td>910110.0</td>\n",
       "      <td>1601574.0</td>\n",
       "      <td>2162125.0</td>\n",
       "      <td>0.421</td>\n",
       "      <td>kent</td>\n",
       "    </tr>\n",
       "    <tr>\n",
       "      <th>4</th>\n",
       "      <td>4BERSH</td>\n",
       "      <td>Government Services</td>\n",
       "      <td>Tom Gillespie</td>\n",
       "      <td>2020-05-15</td>\n",
       "      <td>7.0</td>\n",
       "      <td>563431.43</td>\n",
       "      <td>11/01/1999</td>\n",
       "      <td>Berrien</td>\n",
       "      <td>berrien</td>\n",
       "      <td>BERRIEN, MI</td>\n",
       "      <td>156290.0</td>\n",
       "      <td>200519.0</td>\n",
       "      <td>510290.0</td>\n",
       "      <td>688892.0</td>\n",
       "      <td>0.291</td>\n",
       "      <td>berrien</td>\n",
       "    </tr>\n",
       "  </tbody>\n",
       "</table>\n",
       "</div>"
      ],
      "text/plain": [
       "  customer             industry     contact_owner last_purchase  rank  \\\n",
       "0   1FOURW          Hospitality     Tom Gillespie    2020-05-18   3.0   \n",
       "1   7CCECD       911 & Dispatch  Jessica Spindler    2020-05-18   4.0   \n",
       "2   1OTTSD      Law Enforcement     Keith Johnson    2020-05-08   5.0   \n",
       "3   1KENCD       911 & Dispatch     Keith Johnson    2019-06-28   6.0   \n",
       "4   4BERSH  Government Services     Tom Gillespie    2020-05-15   7.0   \n",
       "\n",
       "   lifetime_sales  first_sale county_x county_merge County, State  POPULATION  \\\n",
       "0      1123935.02   1/29/2008  Berrien      berrien   BERRIEN, MI    156290.0   \n",
       "1      1011834.96  11/01/1999    Emmet        emmet     EMMET, MI     32858.0   \n",
       "2       848407.03  11/01/1999   Ottawa       ottawa    OTTAWA, MI    267017.0   \n",
       "3       592820.26   6/12/2017     Kent         kent      KENT, MI    609544.0   \n",
       "4       563431.43  11/01/1999  Berrien      berrien   BERRIEN, MI    156290.0   \n",
       "\n",
       "   CURRENT MOTOROLA $  MOTOROLA MARKET OPPORTUNITY  TOTAL MARKET OPPORTUNITY  \\\n",
       "0            200519.0                     510290.0                  688892.0   \n",
       "1             14103.0                      80040.0                  108054.0   \n",
       "2            344342.0                     825673.0                 1114659.0   \n",
       "3            910110.0                    1601574.0                 2162125.0   \n",
       "4            200519.0                     510290.0                  688892.0   \n",
       "\n",
       "   % to TOTAL MARKET OPPORTUNITY county_y  \n",
       "0                          0.291  berrien  \n",
       "1                          0.131    emmet  \n",
       "2                          0.309   ottawa  \n",
       "3                          0.421     kent  \n",
       "4                          0.291  berrien  "
      ]
     },
     "execution_count": 65,
     "metadata": {},
     "output_type": "execute_result"
    }
   ],
   "source": [
    "customers = pd.merge(customers.reset_index(), county_opps, how='left', left_on='county_merge',\n",
    "                    right_on='county')\n",
    "customers.head()"
   ]
  },
  {
   "cell_type": "code",
   "execution_count": 66,
   "metadata": {},
   "outputs": [],
   "source": [
    "customers.drop(['county_merge','County, State','county_y', 'TOTAL MARKET OPPORTUNITY'],\n",
    "               axis=1, inplace=True)"
   ]
  },
  {
   "cell_type": "code",
   "execution_count": 67,
   "metadata": {},
   "outputs": [],
   "source": [
    "customers.columns\n",
    "customers.columns = ['customer', 'industry', 'contact_owner', 'last_purchase', 'rank', \n",
    "                     'lifetime_sales',\n",
    "                     'first_sale', 'county', 'population', 'current_motorola',\n",
    "                     'market_opportunity','%_market_opp']"
   ]
  },
  {
   "cell_type": "code",
   "execution_count": 68,
   "metadata": {},
   "outputs": [
    {
     "data": {
      "text/html": [
       "<div>\n",
       "<style scoped>\n",
       "    .dataframe tbody tr th:only-of-type {\n",
       "        vertical-align: middle;\n",
       "    }\n",
       "\n",
       "    .dataframe tbody tr th {\n",
       "        vertical-align: top;\n",
       "    }\n",
       "\n",
       "    .dataframe thead th {\n",
       "        text-align: right;\n",
       "    }\n",
       "</style>\n",
       "<table border=\"1\" class=\"dataframe\">\n",
       "  <thead>\n",
       "    <tr style=\"text-align: right;\">\n",
       "      <th></th>\n",
       "      <th>customer</th>\n",
       "      <th>industry</th>\n",
       "      <th>contact_owner</th>\n",
       "      <th>last_purchase</th>\n",
       "      <th>rank</th>\n",
       "      <th>lifetime_sales</th>\n",
       "      <th>first_sale</th>\n",
       "      <th>county</th>\n",
       "      <th>population</th>\n",
       "      <th>current_motorola</th>\n",
       "      <th>market_opportunity</th>\n",
       "      <th>%_market_opp</th>\n",
       "    </tr>\n",
       "  </thead>\n",
       "  <tbody>\n",
       "    <tr>\n",
       "      <th>0</th>\n",
       "      <td>1FOURW</td>\n",
       "      <td>Hospitality</td>\n",
       "      <td>Tom Gillespie</td>\n",
       "      <td>2020-05-18</td>\n",
       "      <td>3.0</td>\n",
       "      <td>1123935.02</td>\n",
       "      <td>1/29/2008</td>\n",
       "      <td>Berrien</td>\n",
       "      <td>156290.0</td>\n",
       "      <td>200519.0</td>\n",
       "      <td>510290.0</td>\n",
       "      <td>0.291</td>\n",
       "    </tr>\n",
       "    <tr>\n",
       "      <th>1</th>\n",
       "      <td>7CCECD</td>\n",
       "      <td>911 &amp; Dispatch</td>\n",
       "      <td>Jessica Spindler</td>\n",
       "      <td>2020-05-18</td>\n",
       "      <td>4.0</td>\n",
       "      <td>1011834.96</td>\n",
       "      <td>11/01/1999</td>\n",
       "      <td>Emmet</td>\n",
       "      <td>32858.0</td>\n",
       "      <td>14103.0</td>\n",
       "      <td>80040.0</td>\n",
       "      <td>0.131</td>\n",
       "    </tr>\n",
       "    <tr>\n",
       "      <th>2</th>\n",
       "      <td>1OTTSD</td>\n",
       "      <td>Law Enforcement</td>\n",
       "      <td>Keith Johnson</td>\n",
       "      <td>2020-05-08</td>\n",
       "      <td>5.0</td>\n",
       "      <td>848407.03</td>\n",
       "      <td>11/01/1999</td>\n",
       "      <td>Ottawa</td>\n",
       "      <td>267017.0</td>\n",
       "      <td>344342.0</td>\n",
       "      <td>825673.0</td>\n",
       "      <td>0.309</td>\n",
       "    </tr>\n",
       "    <tr>\n",
       "      <th>3</th>\n",
       "      <td>1KENCD</td>\n",
       "      <td>911 &amp; Dispatch</td>\n",
       "      <td>Keith Johnson</td>\n",
       "      <td>2019-06-28</td>\n",
       "      <td>6.0</td>\n",
       "      <td>592820.26</td>\n",
       "      <td>6/12/2017</td>\n",
       "      <td>Kent</td>\n",
       "      <td>609544.0</td>\n",
       "      <td>910110.0</td>\n",
       "      <td>1601574.0</td>\n",
       "      <td>0.421</td>\n",
       "    </tr>\n",
       "    <tr>\n",
       "      <th>4</th>\n",
       "      <td>4BERSH</td>\n",
       "      <td>Government Services</td>\n",
       "      <td>Tom Gillespie</td>\n",
       "      <td>2020-05-15</td>\n",
       "      <td>7.0</td>\n",
       "      <td>563431.43</td>\n",
       "      <td>11/01/1999</td>\n",
       "      <td>Berrien</td>\n",
       "      <td>156290.0</td>\n",
       "      <td>200519.0</td>\n",
       "      <td>510290.0</td>\n",
       "      <td>0.291</td>\n",
       "    </tr>\n",
       "  </tbody>\n",
       "</table>\n",
       "</div>"
      ],
      "text/plain": [
       "  customer             industry     contact_owner last_purchase  rank  \\\n",
       "0   1FOURW          Hospitality     Tom Gillespie    2020-05-18   3.0   \n",
       "1   7CCECD       911 & Dispatch  Jessica Spindler    2020-05-18   4.0   \n",
       "2   1OTTSD      Law Enforcement     Keith Johnson    2020-05-08   5.0   \n",
       "3   1KENCD       911 & Dispatch     Keith Johnson    2019-06-28   6.0   \n",
       "4   4BERSH  Government Services     Tom Gillespie    2020-05-15   7.0   \n",
       "\n",
       "   lifetime_sales  first_sale   county  population  current_motorola  \\\n",
       "0      1123935.02   1/29/2008  Berrien    156290.0          200519.0   \n",
       "1      1011834.96  11/01/1999    Emmet     32858.0           14103.0   \n",
       "2       848407.03  11/01/1999   Ottawa    267017.0          344342.0   \n",
       "3       592820.26   6/12/2017     Kent    609544.0          910110.0   \n",
       "4       563431.43  11/01/1999  Berrien    156290.0          200519.0   \n",
       "\n",
       "   market_opportunity  %_market_opp  \n",
       "0            510290.0         0.291  \n",
       "1             80040.0         0.131  \n",
       "2            825673.0         0.309  \n",
       "3           1601574.0         0.421  \n",
       "4            510290.0         0.291  "
      ]
     },
     "execution_count": 68,
     "metadata": {},
     "output_type": "execute_result"
    }
   ],
   "source": [
    "customers.head()"
   ]
  },
  {
   "cell_type": "code",
   "execution_count": 69,
   "metadata": {},
   "outputs": [],
   "source": [
    "customers.to_csv('..\\interim\\customers.csv')"
   ]
  },
  {
   "cell_type": "markdown",
   "metadata": {},
   "source": [
    "## File 7: TR County Ownership\n",
    "\n",
    "This data too narrow for our purposes. Will be ignored for this project."
   ]
  },
  {
   "cell_type": "markdown",
   "metadata": {},
   "source": [
    "## Files 8 & 9: TR Product Mix & Trend Data\n",
    "\n",
    "These are for my background information. Give an understanding of the product \"levels\" for the items that will show up in the sales information."
   ]
  },
  {
   "cell_type": "markdown",
   "metadata": {},
   "source": [
    "# Create Final Dataset"
   ]
  },
  {
   "cell_type": "code",
   "execution_count": 70,
   "metadata": {},
   "outputs": [],
   "source": [
    "merged = pd.merge(sales, customers, left_on='CUSTOMER #', right_on='customer', how='left')"
   ]
  },
  {
   "cell_type": "code",
   "execution_count": 71,
   "metadata": {},
   "outputs": [
    {
     "data": {
      "text/html": [
       "<div>\n",
       "<style scoped>\n",
       "    .dataframe tbody tr th:only-of-type {\n",
       "        vertical-align: middle;\n",
       "    }\n",
       "\n",
       "    .dataframe tbody tr th {\n",
       "        vertical-align: top;\n",
       "    }\n",
       "\n",
       "    .dataframe thead th {\n",
       "        text-align: right;\n",
       "    }\n",
       "</style>\n",
       "<table border=\"1\" class=\"dataframe\">\n",
       "  <thead>\n",
       "    <tr style=\"text-align: right;\">\n",
       "      <th></th>\n",
       "      <th>CUSTOMER #</th>\n",
       "      <th>INVOICE DATE</th>\n",
       "      <th>QTY SHIPPED</th>\n",
       "      <th>ITEM #</th>\n",
       "      <th>DESCRIPTION</th>\n",
       "      <th>ITEM PRICE</th>\n",
       "      <th>customer</th>\n",
       "      <th>industry</th>\n",
       "      <th>contact_owner</th>\n",
       "      <th>last_purchase</th>\n",
       "      <th>rank</th>\n",
       "      <th>lifetime_sales</th>\n",
       "      <th>first_sale</th>\n",
       "      <th>county</th>\n",
       "      <th>population</th>\n",
       "      <th>current_motorola</th>\n",
       "      <th>market_opportunity</th>\n",
       "      <th>%_market_opp</th>\n",
       "    </tr>\n",
       "  </thead>\n",
       "  <tbody>\n",
       "    <tr>\n",
       "      <th>0</th>\n",
       "      <td>1HOLPS</td>\n",
       "      <td>2015-05-08</td>\n",
       "      <td>1.0</td>\n",
       "      <td>T3000</td>\n",
       "      <td>MOTO MTR3000 BASE RADIO</td>\n",
       "      <td>6020.8</td>\n",
       "      <td>1HOLPS</td>\n",
       "      <td>K12 Education</td>\n",
       "      <td>Keith Johnson</td>\n",
       "      <td>2020-03-06</td>\n",
       "      <td>129.0</td>\n",
       "      <td>39760.49</td>\n",
       "      <td>11/01/1999</td>\n",
       "      <td>Ottawa</td>\n",
       "      <td>267017.0</td>\n",
       "      <td>344342.0</td>\n",
       "      <td>825673.0</td>\n",
       "      <td>0.309</td>\n",
       "    </tr>\n",
       "    <tr>\n",
       "      <th>1</th>\n",
       "      <td>1EACCD</td>\n",
       "      <td>2015-12-31</td>\n",
       "      <td>2.0</td>\n",
       "      <td>ADP-U</td>\n",
       "      <td>UNIVERSAL PIPE MOUNT 4-1/2\"</td>\n",
       "      <td>519.0</td>\n",
       "      <td>NaN</td>\n",
       "      <td>NaN</td>\n",
       "      <td>NaN</td>\n",
       "      <td>NaT</td>\n",
       "      <td>NaN</td>\n",
       "      <td>NaN</td>\n",
       "      <td>NaN</td>\n",
       "      <td>NaN</td>\n",
       "      <td>NaN</td>\n",
       "      <td>NaN</td>\n",
       "      <td>NaN</td>\n",
       "      <td>NaN</td>\n",
       "    </tr>\n",
       "    <tr>\n",
       "      <th>2</th>\n",
       "      <td>1EACCD</td>\n",
       "      <td>2015-12-31</td>\n",
       "      <td>1.0</td>\n",
       "      <td>CONTINGENCY</td>\n",
       "      <td>CONTINGENCY</td>\n",
       "      <td>5000.0</td>\n",
       "      <td>NaN</td>\n",
       "      <td>NaN</td>\n",
       "      <td>NaN</td>\n",
       "      <td>NaT</td>\n",
       "      <td>NaN</td>\n",
       "      <td>NaN</td>\n",
       "      <td>NaN</td>\n",
       "      <td>NaN</td>\n",
       "      <td>NaN</td>\n",
       "      <td>NaN</td>\n",
       "      <td>NaN</td>\n",
       "      <td>NaN</td>\n",
       "    </tr>\n",
       "    <tr>\n",
       "      <th>3</th>\n",
       "      <td>1VANAI</td>\n",
       "      <td>2015-04-17</td>\n",
       "      <td>2.0</td>\n",
       "      <td>AAM27QNH9LA1</td>\n",
       "      <td>XPR 4550 403-470 1-25W 160 CH</td>\n",
       "      <td>681.0</td>\n",
       "      <td>1VANAI</td>\n",
       "      <td>Healthcare</td>\n",
       "      <td>Skip Petrovich</td>\n",
       "      <td>2020-04-19</td>\n",
       "      <td>172.0</td>\n",
       "      <td>25907.89</td>\n",
       "      <td>10/25/2004</td>\n",
       "      <td>Kent</td>\n",
       "      <td>609544.0</td>\n",
       "      <td>910110.0</td>\n",
       "      <td>1601574.0</td>\n",
       "      <td>0.421</td>\n",
       "    </tr>\n",
       "    <tr>\n",
       "      <th>4</th>\n",
       "      <td>1VANAI</td>\n",
       "      <td>2015-04-17</td>\n",
       "      <td>2.0</td>\n",
       "      <td>SEC1223MOTOTRBO</td>\n",
       "      <td>SAMLEX BASE STATION PWR SUPPLY</td>\n",
       "      <td>156.0</td>\n",
       "      <td>1VANAI</td>\n",
       "      <td>Healthcare</td>\n",
       "      <td>Skip Petrovich</td>\n",
       "      <td>2020-04-19</td>\n",
       "      <td>172.0</td>\n",
       "      <td>25907.89</td>\n",
       "      <td>10/25/2004</td>\n",
       "      <td>Kent</td>\n",
       "      <td>609544.0</td>\n",
       "      <td>910110.0</td>\n",
       "      <td>1601574.0</td>\n",
       "      <td>0.421</td>\n",
       "    </tr>\n",
       "  </tbody>\n",
       "</table>\n",
       "</div>"
      ],
      "text/plain": [
       "  CUSTOMER # INVOICE DATE  QTY SHIPPED           ITEM #  \\\n",
       "0     1HOLPS   2015-05-08          1.0            T3000   \n",
       "1     1EACCD   2015-12-31          2.0            ADP-U   \n",
       "2     1EACCD   2015-12-31          1.0      CONTINGENCY   \n",
       "3     1VANAI   2015-04-17          2.0     AAM27QNH9LA1   \n",
       "4     1VANAI   2015-04-17          2.0  SEC1223MOTOTRBO   \n",
       "\n",
       "                      DESCRIPTION  ITEM PRICE customer       industry  \\\n",
       "0         MOTO MTR3000 BASE RADIO      6020.8   1HOLPS  K12 Education   \n",
       "1     UNIVERSAL PIPE MOUNT 4-1/2\"       519.0      NaN            NaN   \n",
       "2                     CONTINGENCY      5000.0      NaN            NaN   \n",
       "3   XPR 4550 403-470 1-25W 160 CH       681.0   1VANAI     Healthcare   \n",
       "4  SAMLEX BASE STATION PWR SUPPLY       156.0   1VANAI     Healthcare   \n",
       "\n",
       "    contact_owner last_purchase   rank  lifetime_sales  first_sale  county  \\\n",
       "0   Keith Johnson    2020-03-06  129.0        39760.49  11/01/1999  Ottawa   \n",
       "1             NaN           NaT    NaN             NaN         NaN     NaN   \n",
       "2             NaN           NaT    NaN             NaN         NaN     NaN   \n",
       "3  Skip Petrovich    2020-04-19  172.0        25907.89  10/25/2004    Kent   \n",
       "4  Skip Petrovich    2020-04-19  172.0        25907.89  10/25/2004    Kent   \n",
       "\n",
       "   population  current_motorola  market_opportunity  %_market_opp  \n",
       "0    267017.0          344342.0            825673.0         0.309  \n",
       "1         NaN               NaN                 NaN           NaN  \n",
       "2         NaN               NaN                 NaN           NaN  \n",
       "3    609544.0          910110.0           1601574.0         0.421  \n",
       "4    609544.0          910110.0           1601574.0         0.421  "
      ]
     },
     "execution_count": 71,
     "metadata": {},
     "output_type": "execute_result"
    }
   ],
   "source": [
    "merged.head()"
   ]
  },
  {
   "cell_type": "code",
   "execution_count": 72,
   "metadata": {},
   "outputs": [
    {
     "name": "stdout",
     "output_type": "stream",
     "text": [
      "<class 'pandas.core.frame.DataFrame'>\n",
      "Int64Index: 11418 entries, 0 to 11417\n",
      "Data columns (total 18 columns):\n",
      " #   Column              Non-Null Count  Dtype         \n",
      "---  ------              --------------  -----         \n",
      " 0   CUSTOMER #          11418 non-null  object        \n",
      " 1   INVOICE DATE        11418 non-null  datetime64[ns]\n",
      " 2   QTY SHIPPED         11418 non-null  float64       \n",
      " 3   ITEM #              11418 non-null  object        \n",
      " 4   DESCRIPTION         11399 non-null  object        \n",
      " 5   ITEM PRICE          11418 non-null  float64       \n",
      " 6   customer            9372 non-null   object        \n",
      " 7   industry            9372 non-null   category      \n",
      " 8   contact_owner       9372 non-null   category      \n",
      " 9   last_purchase       9309 non-null   datetime64[ns]\n",
      " 10  rank                9372 non-null   float64       \n",
      " 11  lifetime_sales      9372 non-null   float64       \n",
      " 12  first_sale          9372 non-null   object        \n",
      " 13  county              8425 non-null   object        \n",
      " 14  population          7890 non-null   float64       \n",
      " 15  current_motorola    7890 non-null   float64       \n",
      " 16  market_opportunity  7890 non-null   float64       \n",
      " 17  %_market_opp        7890 non-null   float64       \n",
      "dtypes: category(2), datetime64[ns](2), float64(8), object(6)\n",
      "memory usage: 1.5+ MB\n"
     ]
    }
   ],
   "source": [
    "merged.info()"
   ]
  },
  {
   "cell_type": "code",
   "execution_count": 73,
   "metadata": {},
   "outputs": [
    {
     "name": "stdout",
     "output_type": "stream",
     "text": [
      "<class 'pandas.core.frame.DataFrame'>\n",
      "Int64Index: 7890 entries, 0 to 11417\n",
      "Data columns (total 18 columns):\n",
      " #   Column              Non-Null Count  Dtype         \n",
      "---  ------              --------------  -----         \n",
      " 0   CUSTOMER #          7890 non-null   object        \n",
      " 1   INVOICE DATE        7890 non-null   datetime64[ns]\n",
      " 2   QTY SHIPPED         7890 non-null   float64       \n",
      " 3   ITEM #              7890 non-null   object        \n",
      " 4   DESCRIPTION         7878 non-null   object        \n",
      " 5   ITEM PRICE          7890 non-null   float64       \n",
      " 6   customer            7890 non-null   object        \n",
      " 7   industry            7890 non-null   category      \n",
      " 8   contact_owner       7890 non-null   category      \n",
      " 9   last_purchase       7829 non-null   datetime64[ns]\n",
      " 10  rank                7890 non-null   float64       \n",
      " 11  lifetime_sales      7890 non-null   float64       \n",
      " 12  first_sale          7890 non-null   object        \n",
      " 13  county              7890 non-null   object        \n",
      " 14  population          7890 non-null   float64       \n",
      " 15  current_motorola    7890 non-null   float64       \n",
      " 16  market_opportunity  7890 non-null   float64       \n",
      " 17  %_market_opp        7890 non-null   float64       \n",
      "dtypes: category(2), datetime64[ns](2), float64(8), object(6)\n",
      "memory usage: 1.0+ MB\n"
     ]
    }
   ],
   "source": [
    "final = merged[merged['population'].notna()]\n",
    "final.info()"
   ]
  },
  {
   "cell_type": "code",
   "execution_count": 74,
   "metadata": {},
   "outputs": [
    {
     "data": {
      "text/plain": [
       "Index(['CUSTOMER #', 'INVOICE DATE', 'QTY SHIPPED', 'ITEM #', 'DESCRIPTION',\n",
       "       'ITEM PRICE', 'customer', 'industry', 'contact_owner', 'last_purchase',\n",
       "       'rank', 'lifetime_sales', 'first_sale', 'county', 'population',\n",
       "       'current_motorola', 'market_opportunity', '%_market_opp'],\n",
       "      dtype='object')"
      ]
     },
     "execution_count": 74,
     "metadata": {},
     "output_type": "execute_result"
    }
   ],
   "source": [
    "final.columns"
   ]
  },
  {
   "cell_type": "code",
   "execution_count": 75,
   "metadata": {},
   "outputs": [],
   "source": [
    "final.columns = ['customer', 'invoice_date', 'qty_shipped', 'item', 'description',\n",
    "       'item_price', 'customer', 'industry', 'contact_owner', 'last_purchase',\n",
    "       'rank', 'lifetime_sales', 'first_sale', 'county', 'population',\n",
    "       'current_motorola', 'market_opportunity', '%_market_opp']"
   ]
  },
  {
   "cell_type": "code",
   "execution_count": 76,
   "metadata": {},
   "outputs": [
    {
     "data": {
      "text/html": [
       "<div>\n",
       "<style scoped>\n",
       "    .dataframe tbody tr th:only-of-type {\n",
       "        vertical-align: middle;\n",
       "    }\n",
       "\n",
       "    .dataframe tbody tr th {\n",
       "        vertical-align: top;\n",
       "    }\n",
       "\n",
       "    .dataframe thead th {\n",
       "        text-align: right;\n",
       "    }\n",
       "</style>\n",
       "<table border=\"1\" class=\"dataframe\">\n",
       "  <thead>\n",
       "    <tr style=\"text-align: right;\">\n",
       "      <th></th>\n",
       "      <th>qty_shipped</th>\n",
       "      <th>item_price</th>\n",
       "      <th>rank</th>\n",
       "      <th>lifetime_sales</th>\n",
       "      <th>population</th>\n",
       "      <th>current_motorola</th>\n",
       "      <th>market_opportunity</th>\n",
       "      <th>%_market_opp</th>\n",
       "    </tr>\n",
       "  </thead>\n",
       "  <tbody>\n",
       "    <tr>\n",
       "      <th>count</th>\n",
       "      <td>7890.000000</td>\n",
       "      <td>7890.000000</td>\n",
       "      <td>7890.000000</td>\n",
       "      <td>7.890000e+03</td>\n",
       "      <td>7890.000000</td>\n",
       "      <td>7890.000000</td>\n",
       "      <td>7.890000e+03</td>\n",
       "      <td>7890.000000</td>\n",
       "    </tr>\n",
       "    <tr>\n",
       "      <th>mean</th>\n",
       "      <td>6.699683</td>\n",
       "      <td>740.812915</td>\n",
       "      <td>135.935234</td>\n",
       "      <td>1.797331e+05</td>\n",
       "      <td>204573.091381</td>\n",
       "      <td>263671.593029</td>\n",
       "      <td>5.758764e+05</td>\n",
       "      <td>0.283741</td>\n",
       "    </tr>\n",
       "    <tr>\n",
       "      <th>std</th>\n",
       "      <td>37.306177</td>\n",
       "      <td>5897.547907</td>\n",
       "      <td>159.214264</td>\n",
       "      <td>2.606313e+05</td>\n",
       "      <td>189557.289689</td>\n",
       "      <td>297295.369883</td>\n",
       "      <td>5.110980e+05</td>\n",
       "      <td>0.285525</td>\n",
       "    </tr>\n",
       "    <tr>\n",
       "      <th>min</th>\n",
       "      <td>0.000000</td>\n",
       "      <td>0.500000</td>\n",
       "      <td>3.000000</td>\n",
       "      <td>1.999000e+01</td>\n",
       "      <td>9598.000000</td>\n",
       "      <td>967.000000</td>\n",
       "      <td>5.375000e+03</td>\n",
       "      <td>0.015000</td>\n",
       "    </tr>\n",
       "    <tr>\n",
       "      <th>25%</th>\n",
       "      <td>1.000000</td>\n",
       "      <td>58.000000</td>\n",
       "      <td>26.000000</td>\n",
       "      <td>2.450856e+04</td>\n",
       "      <td>52212.000000</td>\n",
       "      <td>25212.000000</td>\n",
       "      <td>1.218750e+05</td>\n",
       "      <td>0.176000</td>\n",
       "    </tr>\n",
       "    <tr>\n",
       "      <th>50%</th>\n",
       "      <td>1.000000</td>\n",
       "      <td>150.000000</td>\n",
       "      <td>76.000000</td>\n",
       "      <td>6.796741e+04</td>\n",
       "      <td>156290.000000</td>\n",
       "      <td>200519.000000</td>\n",
       "      <td>5.102900e+05</td>\n",
       "      <td>0.291000</td>\n",
       "    </tr>\n",
       "    <tr>\n",
       "      <th>75%</th>\n",
       "      <td>4.000000</td>\n",
       "      <td>481.000000</td>\n",
       "      <td>184.000000</td>\n",
       "      <td>2.082524e+05</td>\n",
       "      <td>267017.000000</td>\n",
       "      <td>344342.000000</td>\n",
       "      <td>8.256730e+05</td>\n",
       "      <td>0.309000</td>\n",
       "    </tr>\n",
       "    <tr>\n",
       "      <th>max</th>\n",
       "      <td>1500.000000</td>\n",
       "      <td>404227.350000</td>\n",
       "      <td>1061.000000</td>\n",
       "      <td>1.123935e+06</td>\n",
       "      <td>609544.000000</td>\n",
       "      <td>910110.000000</td>\n",
       "      <td>1.601574e+06</td>\n",
       "      <td>4.437000</td>\n",
       "    </tr>\n",
       "  </tbody>\n",
       "</table>\n",
       "</div>"
      ],
      "text/plain": [
       "       qty_shipped     item_price         rank  lifetime_sales     population  \\\n",
       "count  7890.000000    7890.000000  7890.000000    7.890000e+03    7890.000000   \n",
       "mean      6.699683     740.812915   135.935234    1.797331e+05  204573.091381   \n",
       "std      37.306177    5897.547907   159.214264    2.606313e+05  189557.289689   \n",
       "min       0.000000       0.500000     3.000000    1.999000e+01    9598.000000   \n",
       "25%       1.000000      58.000000    26.000000    2.450856e+04   52212.000000   \n",
       "50%       1.000000     150.000000    76.000000    6.796741e+04  156290.000000   \n",
       "75%       4.000000     481.000000   184.000000    2.082524e+05  267017.000000   \n",
       "max    1500.000000  404227.350000  1061.000000    1.123935e+06  609544.000000   \n",
       "\n",
       "       current_motorola  market_opportunity  %_market_opp  \n",
       "count       7890.000000        7.890000e+03   7890.000000  \n",
       "mean      263671.593029        5.758764e+05      0.283741  \n",
       "std       297295.369883        5.110980e+05      0.285525  \n",
       "min          967.000000        5.375000e+03      0.015000  \n",
       "25%        25212.000000        1.218750e+05      0.176000  \n",
       "50%       200519.000000        5.102900e+05      0.291000  \n",
       "75%       344342.000000        8.256730e+05      0.309000  \n",
       "max       910110.000000        1.601574e+06      4.437000  "
      ]
     },
     "execution_count": 76,
     "metadata": {},
     "output_type": "execute_result"
    }
   ],
   "source": [
    "final.describe()"
   ]
  },
  {
   "cell_type": "markdown",
   "metadata": {},
   "source": [
    "### Explore numeric columns"
   ]
  },
  {
   "cell_type": "code",
   "execution_count": 86,
   "metadata": {},
   "outputs": [
    {
     "data": {
      "image/png": "[encoded data removed]",
      "text/plain": [
       "<Figure size 1440x1296 with 8 Axes>"
      ]
     },
     "metadata": {
      "needs_background": "light"
     },
     "output_type": "display_data"
    }
   ],
   "source": [
    "# Plot histograms of all numberic columns\n",
    "final.hist(bins=15, layout=(4,2), figsize=(20,18), grid=False)\n",
    "plt.tight_layout()\n",
    "\n",
    "plt.savefig('../../figures/histograms.png')"
   ]
  },
  {
   "cell_type": "code",
   "execution_count": 81,
   "metadata": {},
   "outputs": [
    {
     "data": {
      "image/png": "[encoded data removed]",
      "text/plain": [
       "<Figure size 720x720 with 1 Axes>"
      ]
     },
     "metadata": {
      "needs_background": "light"
     },
     "output_type": "display_data"
    }
   ],
   "source": [
    "# Check for extreme outliers\n",
    "final.boxplot(grid=False, vert=False, fontsize=15, figsize=(10,10))\n",
    "plt.tight_layout()\n",
    "\n",
    "plt.savefig('../../figures/boxplots.png')"
   ]
  },
  {
   "cell_type": "markdown",
   "metadata": {},
   "source": [
    "### Outliers\n",
    "\n",
    "There are several outliers. Which are meaningful?\n",
    "\n",
    "* __Current Motorola:__ We have one value that is extremely high. Will investigate that further.\n",
    "* __Population:__ There is one county with significantly higher population than the rest. That makes sense given the population distribution of Michigan.\n",
    "* __Lifetime Sales:__ Again, here, this fits with the business having several very high-value customers that have a long track record of sales.\n",
    "* __Item Price:__ Having an item with a 400k+ item price seems a bit extreme, but it is possible. We will examine the item prices in depth when creating our target feature.\n",
    "\n",
    "So the only one I need to examine here is the Current Motorola one. "
   ]
  },
  {
   "cell_type": "code",
   "execution_count": 83,
   "metadata": {},
   "outputs": [
    {
     "data": {
      "text/plain": [
       "4.437"
      ]
     },
     "execution_count": 83,
     "metadata": {},
     "output_type": "execute_result"
    }
   ],
   "source": [
    "final['%_market_opp'].max()"
   ]
  },
  {
   "cell_type": "code",
   "execution_count": 85,
   "metadata": {},
   "outputs": [
    {
     "data": {
      "text/plain": [
       "array(['Crawford'], dtype=object)"
      ]
     },
     "execution_count": 85,
     "metadata": {},
     "output_type": "execute_result"
    }
   ],
   "source": [
    "# Where are we finding the max value?\n",
    "final[final['%_market_opp']==4.437].county.unique()"
   ]
  },
  {
   "cell_type": "markdown",
   "metadata": {},
   "source": [
    "So clearly Crawford county is a bit skewed. Having a percentage of county sales at over 400% doesn't make much sense mathematically.\n",
    "\n",
    "But upon further inspection it does fit: \n",
    "\n",
    "The \"market opportunity\" column is an estimate from Motorola of how much business is available within a given county. Obviously they can be wrong. In this case actual sales are way beyond what Motorola predicted existed in Crawford county."
   ]
  },
  {
   "cell_type": "markdown",
   "metadata": {},
   "source": [
    "### Interesting Plots\n",
    "\n",
    "There are countless ways to chunk up this data, but a few that will be important towards our business goal are created below."
   ]
  },
  {
   "cell_type": "markdown",
   "metadata": {},
   "source": [
    "__Current Motorola opportunity by county__\n",
    "\n",
    "Which counties have the biggest markets?"
   ]
  },
  {
   "cell_type": "code",
   "execution_count": 110,
   "metadata": {},
   "outputs": [
    {
     "data": {
      "image/png": "[encoded data removed]",
      "text/plain": [
       "<Figure size 432x288 with 1 Axes>"
      ]
     },
     "metadata": {
      "needs_background": "light"
     },
     "output_type": "display_data"
    }
   ],
   "source": [
    "# Let's see how all of these vary by county\n",
    "\n",
    "# Sort data by current_motorola descending\n",
    "plot1 = final.groupby('county')['current_motorola'].max().nlargest(31)\n",
    "\n",
    "sns.barplot(x=plot1.index,y=plot1.values)\n",
    "plt.title('Current Motorola sales by County')\n",
    "plt.xticks(rotation=85)\n",
    "plt.xlabel('County')\n",
    "plt.ylabel(\"$ Current Motorola Sales\")\n",
    "plt.tight_layout()\n",
    "\n",
    "plt.savefig('../../figures/sales_by_county.png')"
   ]
  },
  {
   "cell_type": "markdown",
   "metadata": {},
   "source": [
    "__Population by county__\n",
    "\n",
    "Does this align with the total sales by county?"
   ]
  },
  {
   "cell_type": "code",
   "execution_count": 111,
   "metadata": {},
   "outputs": [
    {
     "data": {
      "image/png": "[encoded data removed]",
      "text/plain": [
       "<Figure size 432x288 with 1 Axes>"
      ]
     },
     "metadata": {
      "needs_background": "light"
     },
     "output_type": "display_data"
    }
   ],
   "source": [
    "# Sort data by population descending\n",
    "plot2 = final.groupby('county')['population'].max().nlargest(31)\n",
    "\n",
    "sns.barplot(x=plot2.index,y=plot2.values)\n",
    "plt.title('Population by County')\n",
    "plt.xticks(rotation=85)\n",
    "plt.xlabel('County')\n",
    "plt.ylabel(\"Population\")\n",
    "plt.tight_layout()\n",
    "\n",
    "plt.savefig('../../figures/population_by_county.png')"
   ]
  },
  {
   "cell_type": "markdown",
   "metadata": {},
   "source": [
    "__Total Sales by Item__"
   ]
  },
  {
   "cell_type": "code",
   "execution_count": 116,
   "metadata": {},
   "outputs": [
    {
     "data": {
      "text/html": [
       "<div>\n",
       "<style scoped>\n",
       "    .dataframe tbody tr th:only-of-type {\n",
       "        vertical-align: middle;\n",
       "    }\n",
       "\n",
       "    .dataframe tbody tr th {\n",
       "        vertical-align: top;\n",
       "    }\n",
       "\n",
       "    .dataframe thead th {\n",
       "        text-align: right;\n",
       "    }\n",
       "</style>\n",
       "<table border=\"1\" class=\"dataframe\">\n",
       "  <thead>\n",
       "    <tr style=\"text-align: right;\">\n",
       "      <th></th>\n",
       "      <th>item</th>\n",
       "      <th>item_price</th>\n",
       "      <th>qty_shipped</th>\n",
       "      <th>total_sale</th>\n",
       "    </tr>\n",
       "  </thead>\n",
       "  <tbody>\n",
       "    <tr>\n",
       "      <th>0</th>\n",
       "      <td>T3000</td>\n",
       "      <td>6020.8</td>\n",
       "      <td>1.0</td>\n",
       "      <td>6020.8</td>\n",
       "    </tr>\n",
       "    <tr>\n",
       "      <th>3</th>\n",
       "      <td>AAM27QNH9LA1</td>\n",
       "      <td>681.0</td>\n",
       "      <td>2.0</td>\n",
       "      <td>1362.0</td>\n",
       "    </tr>\n",
       "    <tr>\n",
       "      <th>4</th>\n",
       "      <td>SEC1223MOTOTRBO</td>\n",
       "      <td>156.0</td>\n",
       "      <td>2.0</td>\n",
       "      <td>312.0</td>\n",
       "    </tr>\n",
       "    <tr>\n",
       "      <th>5</th>\n",
       "      <td>0180355A80</td>\n",
       "      <td>28.5</td>\n",
       "      <td>2.0</td>\n",
       "      <td>57.0</td>\n",
       "    </tr>\n",
       "    <tr>\n",
       "      <th>6</th>\n",
       "      <td>0180352A11</td>\n",
       "      <td>12.0</td>\n",
       "      <td>2.0</td>\n",
       "      <td>24.0</td>\n",
       "    </tr>\n",
       "  </tbody>\n",
       "</table>\n",
       "</div>"
      ],
      "text/plain": [
       "              item  item_price  qty_shipped  total_sale\n",
       "0            T3000      6020.8          1.0      6020.8\n",
       "3     AAM27QNH9LA1       681.0          2.0      1362.0\n",
       "4  SEC1223MOTOTRBO       156.0          2.0       312.0\n",
       "5       0180355A80        28.5          2.0        57.0\n",
       "6       0180352A11        12.0          2.0        24.0"
      ]
     },
     "execution_count": 116,
     "metadata": {},
     "output_type": "execute_result"
    }
   ],
   "source": [
    "sales_by_item = pd.DataFrame(final[['item', 'item_price', 'qty_shipped']])\n",
    "sales_by_item['total_sale'] = sales_by_item.item_price * sales_by_item.qty_shipped\n",
    "\n",
    "sales_by_item.head()"
   ]
  },
  {
   "cell_type": "code",
   "execution_count": 121,
   "metadata": {},
   "outputs": [
    {
     "data": {
      "image/png": "[encoded data removed]",
      "text/plain": [
       "<Figure size 432x288 with 1 Axes>"
      ]
     },
     "metadata": {
      "needs_background": "light"
     },
     "output_type": "display_data"
    },
    {
     "data": {
      "text/plain": [
       "<Figure size 1440x1080 with 0 Axes>"
      ]
     },
     "metadata": {},
     "output_type": "display_data"
    }
   ],
   "source": [
    "plot3 = sales_by_item.groupby('item')['total_sale'].sum().nlargest(20)\n",
    "\n",
    "sns.barplot(x=plot3.values,y=plot3.index)\n",
    "plt.title('Top 20 Items by Total Sales')\n",
    "plt.xlabel('Total Sales 2015-2020')\n",
    "plt.xticks(rotation=70)\n",
    "plt.ylabel(\"Item\")\n",
    "plt.figure(figsize=(20,15))\n",
    "plt.tight_layout()\n",
    "\n",
    "plt.savefig('../../figures/top20items.png')"
   ]
  },
  {
   "cell_type": "markdown",
   "metadata": {},
   "source": [
    "### Correlations\n",
    "\n",
    "Check for correlations between variables"
   ]
  },
  {
   "cell_type": "code",
   "execution_count": 123,
   "metadata": {},
   "outputs": [],
   "source": [
    "num_cols = ['qty_shipped', 'item_price', 'rank', 'lifetime_sales',\n",
    "            'population', 'current_motorola', 'market_opportunity', '%_market_opp']"
   ]
  },
  {
   "cell_type": "code",
   "execution_count": 124,
   "metadata": {},
   "outputs": [
    {
     "data": {
      "text/plain": [
       "<seaborn.axisgrid.PairGrid at 0x1fcaf43d448>"
      ]
     },
     "execution_count": 124,
     "metadata": {},
     "output_type": "execute_result"
    },
    {
     "data": {
      "image/png": "[encoded data removed]",
      "text/plain": [
       "<Figure size 1440x1440 with 72 Axes>"
      ]
     },
     "metadata": {
      "needs_background": "light"
     },
     "output_type": "display_data"
    }
   ],
   "source": [
    "sns.pairplot(final[num_cols])"
   ]
  },
  {
   "cell_type": "markdown",
   "metadata": {},
   "source": [
    "Lifetime sales and rank seem logrithmatically correlated. It makes sense that they would be correlated as they essentially give the same information.\n",
    "\n",
    "I will drop rank.\n",
    "\n",
    "Population, current motorola and market opportunity also all seem correlated. Again, this makes quite a bit of sense.\n",
    "\n",
    "Will keep the market opportunity column. That, in combination with the %_market_opp column can give us all the information we should need"
   ]
  },
  {
   "cell_type": "code",
   "execution_count": 125,
   "metadata": {},
   "outputs": [
    {
     "data": {
      "text/html": [
       "<div>\n",
       "<style scoped>\n",
       "    .dataframe tbody tr th:only-of-type {\n",
       "        vertical-align: middle;\n",
       "    }\n",
       "\n",
       "    .dataframe tbody tr th {\n",
       "        vertical-align: top;\n",
       "    }\n",
       "\n",
       "    .dataframe thead th {\n",
       "        text-align: right;\n",
       "    }\n",
       "</style>\n",
       "<table border=\"1\" class=\"dataframe\">\n",
       "  <thead>\n",
       "    <tr style=\"text-align: right;\">\n",
       "      <th></th>\n",
       "      <th>qty_shipped</th>\n",
       "      <th>item_price</th>\n",
       "      <th>rank</th>\n",
       "      <th>lifetime_sales</th>\n",
       "      <th>population</th>\n",
       "      <th>current_motorola</th>\n",
       "      <th>market_opportunity</th>\n",
       "      <th>%_market_opp</th>\n",
       "    </tr>\n",
       "  </thead>\n",
       "  <tbody>\n",
       "    <tr>\n",
       "      <th>qty_shipped</th>\n",
       "      <td>1.000000</td>\n",
       "      <td>-0.015118</td>\n",
       "      <td>-0.029325</td>\n",
       "      <td>0.066220</td>\n",
       "      <td>0.015590</td>\n",
       "      <td>0.014202</td>\n",
       "      <td>0.014069</td>\n",
       "      <td>-0.011150</td>\n",
       "    </tr>\n",
       "    <tr>\n",
       "      <th>item_price</th>\n",
       "      <td>-0.015118</td>\n",
       "      <td>1.000000</td>\n",
       "      <td>-0.039190</td>\n",
       "      <td>0.068976</td>\n",
       "      <td>0.019067</td>\n",
       "      <td>0.020526</td>\n",
       "      <td>0.014706</td>\n",
       "      <td>-0.002355</td>\n",
       "    </tr>\n",
       "    <tr>\n",
       "      <th>rank</th>\n",
       "      <td>-0.029325</td>\n",
       "      <td>-0.039190</td>\n",
       "      <td>1.000000</td>\n",
       "      <td>-0.483787</td>\n",
       "      <td>0.104351</td>\n",
       "      <td>0.099566</td>\n",
       "      <td>0.098667</td>\n",
       "      <td>0.157205</td>\n",
       "    </tr>\n",
       "    <tr>\n",
       "      <th>lifetime_sales</th>\n",
       "      <td>0.066220</td>\n",
       "      <td>0.068976</td>\n",
       "      <td>-0.483787</td>\n",
       "      <td>1.000000</td>\n",
       "      <td>-0.191430</td>\n",
       "      <td>-0.177765</td>\n",
       "      <td>-0.168691</td>\n",
       "      <td>-0.105788</td>\n",
       "    </tr>\n",
       "    <tr>\n",
       "      <th>population</th>\n",
       "      <td>0.015590</td>\n",
       "      <td>0.019067</td>\n",
       "      <td>0.104351</td>\n",
       "      <td>-0.191430</td>\n",
       "      <td>1.000000</td>\n",
       "      <td>0.993516</td>\n",
       "      <td>0.990539</td>\n",
       "      <td>0.216007</td>\n",
       "    </tr>\n",
       "    <tr>\n",
       "      <th>current_motorola</th>\n",
       "      <td>0.014202</td>\n",
       "      <td>0.020526</td>\n",
       "      <td>0.099566</td>\n",
       "      <td>-0.177765</td>\n",
       "      <td>0.993516</td>\n",
       "      <td>1.000000</td>\n",
       "      <td>0.987549</td>\n",
       "      <td>0.239934</td>\n",
       "    </tr>\n",
       "    <tr>\n",
       "      <th>market_opportunity</th>\n",
       "      <td>0.014069</td>\n",
       "      <td>0.014706</td>\n",
       "      <td>0.098667</td>\n",
       "      <td>-0.168691</td>\n",
       "      <td>0.990539</td>\n",
       "      <td>0.987549</td>\n",
       "      <td>1.000000</td>\n",
       "      <td>0.218876</td>\n",
       "    </tr>\n",
       "    <tr>\n",
       "      <th>%_market_opp</th>\n",
       "      <td>-0.011150</td>\n",
       "      <td>-0.002355</td>\n",
       "      <td>0.157205</td>\n",
       "      <td>-0.105788</td>\n",
       "      <td>0.216007</td>\n",
       "      <td>0.239934</td>\n",
       "      <td>0.218876</td>\n",
       "      <td>1.000000</td>\n",
       "    </tr>\n",
       "  </tbody>\n",
       "</table>\n",
       "</div>"
      ],
      "text/plain": [
       "                    qty_shipped  item_price      rank  lifetime_sales  \\\n",
       "qty_shipped            1.000000   -0.015118 -0.029325        0.066220   \n",
       "item_price            -0.015118    1.000000 -0.039190        0.068976   \n",
       "rank                  -0.029325   -0.039190  1.000000       -0.483787   \n",
       "lifetime_sales         0.066220    0.068976 -0.483787        1.000000   \n",
       "population             0.015590    0.019067  0.104351       -0.191430   \n",
       "current_motorola       0.014202    0.020526  0.099566       -0.177765   \n",
       "market_opportunity     0.014069    0.014706  0.098667       -0.168691   \n",
       "%_market_opp          -0.011150   -0.002355  0.157205       -0.105788   \n",
       "\n",
       "                    population  current_motorola  market_opportunity  \\\n",
       "qty_shipped           0.015590          0.014202            0.014069   \n",
       "item_price            0.019067          0.020526            0.014706   \n",
       "rank                  0.104351          0.099566            0.098667   \n",
       "lifetime_sales       -0.191430         -0.177765           -0.168691   \n",
       "population            1.000000          0.993516            0.990539   \n",
       "current_motorola      0.993516          1.000000            0.987549   \n",
       "market_opportunity    0.990539          0.987549            1.000000   \n",
       "%_market_opp          0.216007          0.239934            0.218876   \n",
       "\n",
       "                    %_market_opp  \n",
       "qty_shipped            -0.011150  \n",
       "item_price             -0.002355  \n",
       "rank                    0.157205  \n",
       "lifetime_sales         -0.105788  \n",
       "population              0.216007  \n",
       "current_motorola        0.239934  \n",
       "market_opportunity      0.218876  \n",
       "%_market_opp            1.000000  "
      ]
     },
     "metadata": {},
     "output_type": "display_data"
    },
    {
     "data": {
      "image/png": "[encoded data removed]",
      "text/plain": [
       "<Figure size 432x288 with 2 Axes>"
      ]
     },
     "metadata": {
      "needs_background": "light"
     },
     "output_type": "display_data"
    }
   ],
   "source": [
    "# Check I didn't miss any highly correlated features\n",
    "display(final[num_cols].corr())\n",
    "sns.heatmap(final[num_cols].corr())\n",
    "plt.title('Heatmap of numeric columns')\n",
    "plt.savefig('../../figures/heatmap.png')"
   ]
  },
  {
   "cell_type": "code",
   "execution_count": 127,
   "metadata": {},
   "outputs": [
    {
     "name": "stdout",
     "output_type": "stream",
     "text": [
      "<class 'pandas.core.frame.DataFrame'>\n",
      "Int64Index: 7890 entries, 0 to 11417\n",
      "Data columns (total 15 columns):\n",
      " #   Column              Non-Null Count  Dtype         \n",
      "---  ------              --------------  -----         \n",
      " 0   customer            7890 non-null   object        \n",
      " 1   invoice_date        7890 non-null   datetime64[ns]\n",
      " 2   qty_shipped         7890 non-null   float64       \n",
      " 3   item                7890 non-null   object        \n",
      " 4   description         7878 non-null   object        \n",
      " 5   item_price          7890 non-null   float64       \n",
      " 6   customer            7890 non-null   object        \n",
      " 7   industry            7890 non-null   category      \n",
      " 8   contact_owner       7890 non-null   category      \n",
      " 9   last_purchase       7829 non-null   datetime64[ns]\n",
      " 10  lifetime_sales      7890 non-null   float64       \n",
      " 11  first_sale          7890 non-null   object        \n",
      " 12  county              7890 non-null   object        \n",
      " 13  market_opportunity  7890 non-null   float64       \n",
      " 14  %_market_opp        7890 non-null   float64       \n",
      "dtypes: category(2), datetime64[ns](2), float64(5), object(6)\n",
      "memory usage: 1.2+ MB\n"
     ]
    },
    {
     "name": "stderr",
     "output_type": "stream",
     "text": [
      "C:\\Users\\mdurr\\anaconda3\\lib\\site-packages\\pandas\\core\\frame.py:3997: SettingWithCopyWarning: \n",
      "A value is trying to be set on a copy of a slice from a DataFrame\n",
      "\n",
      "See the caveats in the documentation: https://pandas.pydata.org/pandas-docs/stable/user_guide/indexing.html#returning-a-view-versus-a-copy\n",
      "  errors=errors,\n"
     ]
    }
   ],
   "source": [
    "final.drop(['rank','population','current_motorola'], axis=1, inplace=True)\n",
    "final.info()"
   ]
  },
  {
   "cell_type": "code",
   "execution_count": 128,
   "metadata": {},
   "outputs": [],
   "source": [
    "# Final note - realized last_purchase is irrelevant here because we can determine that implicitly\n",
    "# using invoice dates\n",
    "final.drop('last_purchase', axis=1, inplace=True)\n",
    "\n",
    "final.to_csv('../processed/data.csv')"
   ]
  }
 ],
 "metadata": {
  "kernelspec": {
   "display_name": "Python 3",
   "language": "python",
   "name": "python3"
  },
  "language_info": {
   "codemirror_mode": {
    "name": "ipython",
    "version": 3
   },
   "file_extension": ".py",
   "mimetype": "text/x-python",
   "name": "python",
   "nbconvert_exporter": "python",
   "pygments_lexer": "ipython3",
   "version": "3.7.6"
  }
 },
 "nbformat": 4,
 "nbformat_minor": 4
}
