{
 "cells": [
  {
   "cell_type": "code",
   "execution_count": 55,
   "metadata": {},
   "outputs": [],
   "source": [
    "import os\n",
    "import pandas as pd\n",
    "import datetime\n",
    "import seaborn as sns\n",
    "import matplotlib.pyplot as plt\n",
    "import numpy as np\n",
    "%matplotlib inline"
   ]
  },
  {
   "cell_type": "markdown",
   "metadata": {},
   "source": [
    "# DSM Step 2 - Data Wrangling\n",
    "\n",
    "Need to load the data provided, get an understanding of what is in each file and prepare for EDA stage."
   ]
  },
  {
   "cell_type": "code",
   "execution_count": 56,
   "metadata": {},
   "outputs": [
    {
     "ename": "FileNotFoundError",
     "evalue": "[WinError 2] The system cannot find the file specified: 'data'",
     "output_type": "error",
     "traceback": [
      "\u001b[1;31m---------------------------------------------------------------------------\u001b[0m",
      "\u001b[1;31mFileNotFoundError\u001b[0m                         Traceback (most recent call last)",
      "\u001b[1;32m<ipython-input-56-d4f89ee4a760>\u001b[0m in \u001b[0;36m<module>\u001b[1;34m\u001b[0m\n\u001b[1;32m----> 1\u001b[1;33m \u001b[0mos\u001b[0m\u001b[1;33m.\u001b[0m\u001b[0mchdir\u001b[0m\u001b[1;33m(\u001b[0m\u001b[1;34m\"data\"\u001b[0m\u001b[1;33m)\u001b[0m\u001b[1;33m\u001b[0m\u001b[1;33m\u001b[0m\u001b[0m\n\u001b[0m",
      "\u001b[1;31mFileNotFoundError\u001b[0m: [WinError 2] The system cannot find the file specified: 'data'"
     ]
    }
   ],
   "source": [
    "os.chdir(\"data\")"
   ]
  },
  {
   "cell_type": "code",
   "execution_count": 59,
   "metadata": {},
   "outputs": [
    {
     "data": {
      "text/plain": [
       "['Cust w Industry a Last Purchased.xlsx',\n",
       " 'REPEATSALE Items Purchased Report 2015 2020 dept 700.XLS',\n",
       " 'Revised Customer Ranking Report 2015-2020.xlsx',\n",
       " 'Sales Report by Zip Code (2010-2020).pdf',\n",
       " 'Tele-Rad County Opportunity 1.18.19.xlsx',\n",
       " 'Tele-Rad County Opportunty Detail 2019.xlsx',\n",
       " 'Tele-Rad County Ownership 1.18.19.xlsx',\n",
       " 'Tele-Rad Product Mix 8.5.2020.pdf',\n",
       " 'Tele-Rad Product Trend Data.xlsx']"
      ]
     },
     "execution_count": 59,
     "metadata": {},
     "output_type": "execute_result"
    }
   ],
   "source": [
    "os.listdir()"
   ]
  },
  {
   "cell_type": "markdown",
   "metadata": {},
   "source": [
    "## File 1: Cust w Industry \n",
    "\n",
    "This file contains the identifying information for each customer, save customer name has been replaced with an Account Number for privacy purposes."
   ]
  },
  {
   "cell_type": "code",
   "execution_count": 60,
   "metadata": {},
   "outputs": [
    {
     "name": "stdout",
     "output_type": "stream",
     "text": [
      "  Industry/Vertical     Contact Owner Account Number    City State/Province  \\\n",
      "0    911 & Dispatch     Keith Johnson         1ALLCD     NaN            NaN   \n",
      "1    911 & Dispatch  Jessica Spindler         1ALPCO  ALPENA             MI   \n",
      "2    911 & Dispatch  Jessica Spindler         7BENCS  BEULAH             MI   \n",
      "3    911 & Dispatch  Jessica Spindler         7CCECD     NaN            NaN   \n",
      "4    911 & Dispatch     Tom Gillespie         4EDWFD     NaN            NaN   \n",
      "\n",
      "   Postal/ZIP Last Purchased  \n",
      "0         NaN     2020-05-18  \n",
      "1  49707-2453     2020-02-13  \n",
      "2       49617     2019-07-29  \n",
      "3         NaN     2020-05-18  \n",
      "4         NaN     2020-01-24  \n",
      "    Industry/Vertical  Contact Owner Account Number City State/Province  \\\n",
      "545   Law Enforcement  Keith Johnson         1OTTSD  NaN            NaN   \n",
      "\n",
      "    Postal/ZIP Last Purchased  \n",
      "545        NaN     2020-05-08  \n"
     ]
    }
   ],
   "source": [
    "customers = pd.read_excel('Cust w Industry a Last Purchased.xlsx', header=0)\n",
    "print(customers.head())\n",
    "# This file lists the last purchase of each customer, and the customer's \"vertical\"\n",
    "print(customers[customers['Account Number']=='1OTTSD'])"
   ]
  },
  {
   "cell_type": "code",
   "execution_count": 61,
   "metadata": {},
   "outputs": [
    {
     "name": "stdout",
     "output_type": "stream",
     "text": [
      "<class 'pandas.core.frame.DataFrame'>\n",
      "RangeIndex: 805 entries, 0 to 804\n",
      "Data columns (total 7 columns):\n",
      " #   Column             Non-Null Count  Dtype         \n",
      "---  ------             --------------  -----         \n",
      " 0   Industry/Vertical  805 non-null    object        \n",
      " 1   Contact Owner      805 non-null    object        \n",
      " 2   Account Number     805 non-null    object        \n",
      " 3   City               206 non-null    object        \n",
      " 4   State/Province     207 non-null    object        \n",
      " 5   Postal/ZIP         206 non-null    object        \n",
      " 6   Last Purchased     619 non-null    datetime64[ns]\n",
      "dtypes: datetime64[ns](1), object(6)\n",
      "memory usage: 44.1+ KB\n"
     ]
    }
   ],
   "source": [
    "# Examine datatypes\n",
    "customers.info()"
   ]
  },
  {
   "cell_type": "code",
   "execution_count": 62,
   "metadata": {},
   "outputs": [
    {
     "name": "stdout",
     "output_type": "stream",
     "text": [
      "% missing of Zip: 0.74\n",
      "% missing of City: 0.74\n",
      "% missing of State: 0.74\n"
     ]
    }
   ],
   "source": [
    "# How many of the Zip, City, State are missing?\n",
    "print('% missing of Zip: {:.2f}'.format(customers['Postal/ZIP'].isnull().sum() / len(customers['Postal/ZIP'])))\n",
    "print('% missing of City: {:.2f}'.format(customers['City'].isnull().sum() / len(customers['City'])))\n",
    "print('% missing of State: {:.2f}'.format(customers['State/Province'].isnull().sum() / len(customers['State/Province'])))"
   ]
  },
  {
   "cell_type": "markdown",
   "metadata": {},
   "source": [
    "74% of Zip/City/State are missing. There isn't a way to systematically look this up in this data file since no customer names. Will drop unless can find something helpful elsewhere.\n",
    "\n",
    "Note from review - the Customer Ranking includes Zip codes, which can be used.\n",
    "\n",
    "From talking to Micah, they use county as their primary internal unit of geography. I'll grab the ZIP codes from the customer ranking data, then turn that into a county column. "
   ]
  },
  {
   "cell_type": "code",
   "execution_count": 63,
   "metadata": {},
   "outputs": [],
   "source": [
    "# Drop city/state - ZIP will be the value used for TR's purposes\n",
    "customers.drop(['City','State/Province'], axis=1, inplace=True)"
   ]
  },
  {
   "cell_type": "markdown",
   "metadata": {},
   "source": [
    "### Categorical Data\n",
    "Three of the columns - contact owner, account number & industry/vertical - seem like they should be categorical."
   ]
  },
  {
   "cell_type": "code",
   "execution_count": 64,
   "metadata": {},
   "outputs": [
    {
     "data": {
      "text/plain": [
       "array(['911 & Dispatch', 'Agriculture', 'Argiculture',\n",
       "       'College & Universities', 'Colleges & Universities',\n",
       "       'Colleges and Universities', 'Construction', 'Fire & EMS',\n",
       "       'Government Services', 'Healthcare', 'Hopitality', 'Hospitality',\n",
       "       'hospitality', 'K12 Education', 'Law Enforcement', 'Manufacturing',\n",
       "       'Mining', 'Mining & Materials', 'Oil & Gas', 'Property Management',\n",
       "       'Religious Institutions', 'Retail', 'Security', 'Service',\n",
       "       'Services & Training', 'Telecommunications', 'Transportation',\n",
       "       'Utilities', 'Warehousing'], dtype=object)"
      ]
     },
     "execution_count": 64,
     "metadata": {},
     "output_type": "execute_result"
    }
   ],
   "source": [
    "# Categorical data - 1) Industry/Vertical\n",
    "\n",
    "# Industry/Vertical - there are some misspellings and things to clean up\n",
    "customers['Industry/Vertical'].unique()"
   ]
  },
  {
   "cell_type": "markdown",
   "metadata": {},
   "source": [
    "When it comes to unique categories I see:\n",
    "* 911 & Dispatch\n",
    "* Agriculture (argiculture)\n",
    "* Colleges & Universities (college & universities, colleges and universities)\n",
    "* Construction\n",
    "* Fire & EMS\n",
    "* Gov't Services\n",
    "* Healthcare\n",
    "* Hospitality (Hopitality, hospitality)\n",
    "* K12 Education\n",
    "* Law Enforcement\n",
    "* Manufacturing\n",
    "* Mining & Materials (mining)\n",
    "* Oil & Gas\n",
    "* Property Management\n",
    "* Religious Institutions\n",
    "* Retail\n",
    "* Security\n",
    "* Services & Training (service)\n",
    "* Telecommunications\n",
    "* Transportation\n",
    "* Utilities\n",
    "* Warehousing\n",
    "\n",
    "22 unique categories"
   ]
  },
  {
   "cell_type": "code",
   "execution_count": 65,
   "metadata": {},
   "outputs": [],
   "source": [
    "# Define a function to map misspelled ones\n",
    "def map_verticals(item):\n",
    "    lookup = {\n",
    "        'Argiculture':'Agriculture',\n",
    "        'College & Universities':'Colleges & Universities',\n",
    "        'Colleges and Universities':'Colleges & Universities',\n",
    "        'Hopitality':'Hospitality',\n",
    "        'hospitality':'Hospitality',\n",
    "        'Mining':'Mining & Materials',\n",
    "        'Service':'Services & Training'\n",
    "    }\n",
    "    \n",
    "    if item in lookup.keys():\n",
    "        return lookup[item]\n",
    "    else: \n",
    "        return item"
   ]
  },
  {
   "cell_type": "code",
   "execution_count": 66,
   "metadata": {},
   "outputs": [
    {
     "name": "stdout",
     "output_type": "stream",
     "text": [
      "['911 & Dispatch' 'Agriculture' 'Colleges & Universities' 'Construction'\n",
      " 'Fire & EMS' 'Government Services' 'Healthcare' 'Hospitality'\n",
      " 'K12 Education' 'Law Enforcement' 'Manufacturing' 'Mining & Materials'\n",
      " 'Oil & Gas' 'Property Management' 'Religious Institutions' 'Retail'\n",
      " 'Security' 'Services & Training' 'Telecommunications' 'Transportation'\n",
      " 'Utilities' 'Warehousing']\n",
      "22\n"
     ]
    }
   ],
   "source": [
    "# Apply function\n",
    "customers['Industry/Vertical'] = customers['Industry/Vertical'].apply(map_verticals)\n",
    "print(customers['Industry/Vertical'].unique())\n",
    "print(len(customers['Industry/Vertical'].unique()))"
   ]
  },
  {
   "cell_type": "code",
   "execution_count": 67,
   "metadata": {},
   "outputs": [
    {
     "name": "stdout",
     "output_type": "stream",
     "text": [
      "<class 'pandas.core.frame.DataFrame'>\n",
      "RangeIndex: 805 entries, 0 to 804\n",
      "Data columns (total 5 columns):\n",
      " #   Column             Non-Null Count  Dtype         \n",
      "---  ------             --------------  -----         \n",
      " 0   Industry/Vertical  805 non-null    category      \n",
      " 1   Contact Owner      805 non-null    object        \n",
      " 2   Account Number     805 non-null    object        \n",
      " 3   Postal/ZIP         206 non-null    object        \n",
      " 4   Last Purchased     619 non-null    datetime64[ns]\n",
      "dtypes: category(1), datetime64[ns](1), object(3)\n",
      "memory usage: 26.9+ KB\n"
     ]
    }
   ],
   "source": [
    "# Change dtype to category\n",
    "customers['Industry/Vertical'] = customers['Industry/Vertical'].astype('category')\n",
    "customers.info()"
   ]
  },
  {
   "cell_type": "markdown",
   "metadata": {},
   "source": [
    "__Categorical Data 2:__ Contact Owners"
   ]
  },
  {
   "cell_type": "code",
   "execution_count": 68,
   "metadata": {},
   "outputs": [
    {
     "data": {
      "text/plain": [
       "array(['Keith Johnson', 'Jessica Spindler', 'Tom Gillespie',\n",
       "       'Patrick McBride', 'Pat McBride', 'Kelly Hoek', 'Skip Petrovich'],\n",
       "      dtype=object)"
      ]
     },
     "execution_count": 68,
     "metadata": {},
     "output_type": "execute_result"
    }
   ],
   "source": [
    "# Contact Owners\n",
    "customers['Contact Owner'].unique()"
   ]
  },
  {
   "cell_type": "code",
   "execution_count": 69,
   "metadata": {},
   "outputs": [
    {
     "data": {
      "text/plain": [
       "Jessica Spindler    195\n",
       "Pat McBride         134\n",
       "Kelly Hoek          132\n",
       "Keith Johnson       129\n",
       "Tom Gillespie       124\n",
       "Skip Petrovich       91\n",
       "Name: Contact Owner, dtype: int64"
      ]
     },
     "execution_count": 69,
     "metadata": {},
     "output_type": "execute_result"
    }
   ],
   "source": [
    "# Change Patrick McBride to Pat McBride\n",
    "customers['Contact Owner'].replace('Patrick McBride', 'Pat McBride', inplace=True)\n",
    "customers['Contact Owner'] = customers['Contact Owner'].astype('category')\n",
    "customers['Contact Owner'].value_counts()"
   ]
  },
  {
   "cell_type": "markdown",
   "metadata": {},
   "source": [
    "__Categorical Data 3:__ Account Number.\n",
    "\n",
    "This will also serve as the index/reference for each customer"
   ]
  },
  {
   "cell_type": "code",
   "execution_count": 70,
   "metadata": {},
   "outputs": [],
   "source": [
    "customers['Account Number'] = customers['Account Number'].astype('category')"
   ]
  },
  {
   "cell_type": "code",
   "execution_count": 71,
   "metadata": {},
   "outputs": [
    {
     "name": "stdout",
     "output_type": "stream",
     "text": [
      "<class 'pandas.core.frame.DataFrame'>\n",
      "RangeIndex: 805 entries, 0 to 804\n",
      "Data columns (total 5 columns):\n",
      " #   Column             Non-Null Count  Dtype         \n",
      "---  ------             --------------  -----         \n",
      " 0   Industry/Vertical  805 non-null    category      \n",
      " 1   Contact Owner      805 non-null    category      \n",
      " 2   Account Number     805 non-null    category      \n",
      " 3   Postal/ZIP         206 non-null    object        \n",
      " 4   Last Purchased     619 non-null    datetime64[ns]\n",
      "dtypes: category(3), datetime64[ns](1), object(1)\n",
      "memory usage: 63.1+ KB\n"
     ]
    }
   ],
   "source": [
    "customers.info()"
   ]
  },
  {
   "cell_type": "code",
   "execution_count": 72,
   "metadata": {},
   "outputs": [
    {
     "data": {
      "text/html": [
       "<div>\n",
       "<style scoped>\n",
       "    .dataframe tbody tr th:only-of-type {\n",
       "        vertical-align: middle;\n",
       "    }\n",
       "\n",
       "    .dataframe tbody tr th {\n",
       "        vertical-align: top;\n",
       "    }\n",
       "\n",
       "    .dataframe thead th {\n",
       "        text-align: right;\n",
       "    }\n",
       "</style>\n",
       "<table border=\"1\" class=\"dataframe\">\n",
       "  <thead>\n",
       "    <tr style=\"text-align: right;\">\n",
       "      <th></th>\n",
       "      <th>Industry/Vertical</th>\n",
       "      <th>Contact Owner</th>\n",
       "      <th>Postal/ZIP</th>\n",
       "      <th>Last Purchased</th>\n",
       "    </tr>\n",
       "    <tr>\n",
       "      <th>Account Number</th>\n",
       "      <th></th>\n",
       "      <th></th>\n",
       "      <th></th>\n",
       "      <th></th>\n",
       "    </tr>\n",
       "  </thead>\n",
       "  <tbody>\n",
       "    <tr>\n",
       "      <th>1ALLCD</th>\n",
       "      <td>911 &amp; Dispatch</td>\n",
       "      <td>Keith Johnson</td>\n",
       "      <td>NaN</td>\n",
       "      <td>2020-05-18</td>\n",
       "    </tr>\n",
       "    <tr>\n",
       "      <th>1ALPCO</th>\n",
       "      <td>911 &amp; Dispatch</td>\n",
       "      <td>Jessica Spindler</td>\n",
       "      <td>49707-2453</td>\n",
       "      <td>2020-02-13</td>\n",
       "    </tr>\n",
       "    <tr>\n",
       "      <th>7BENCS</th>\n",
       "      <td>911 &amp; Dispatch</td>\n",
       "      <td>Jessica Spindler</td>\n",
       "      <td>49617</td>\n",
       "      <td>2019-07-29</td>\n",
       "    </tr>\n",
       "    <tr>\n",
       "      <th>7CCECD</th>\n",
       "      <td>911 &amp; Dispatch</td>\n",
       "      <td>Jessica Spindler</td>\n",
       "      <td>NaN</td>\n",
       "      <td>2020-05-18</td>\n",
       "    </tr>\n",
       "    <tr>\n",
       "      <th>4EDWFD</th>\n",
       "      <td>911 &amp; Dispatch</td>\n",
       "      <td>Tom Gillespie</td>\n",
       "      <td>NaN</td>\n",
       "      <td>2020-01-24</td>\n",
       "    </tr>\n",
       "  </tbody>\n",
       "</table>\n",
       "</div>"
      ],
      "text/plain": [
       "               Industry/Vertical     Contact Owner  Postal/ZIP Last Purchased\n",
       "Account Number                                                               \n",
       "1ALLCD            911 & Dispatch     Keith Johnson         NaN     2020-05-18\n",
       "1ALPCO            911 & Dispatch  Jessica Spindler  49707-2453     2020-02-13\n",
       "7BENCS            911 & Dispatch  Jessica Spindler       49617     2019-07-29\n",
       "7CCECD            911 & Dispatch  Jessica Spindler         NaN     2020-05-18\n",
       "4EDWFD            911 & Dispatch     Tom Gillespie         NaN     2020-01-24"
      ]
     },
     "execution_count": 72,
     "metadata": {},
     "output_type": "execute_result"
    }
   ],
   "source": [
    "customers.set_index(['Account Number'], drop=True, inplace=True)\n",
    "customers.head()"
   ]
  },
  {
   "cell_type": "markdown",
   "metadata": {},
   "source": [
    "__Last Purchased:__\n",
    "\n",
    "This final column is missing some data, but let's look at it more closely."
   ]
  },
  {
   "cell_type": "code",
   "execution_count": 73,
   "metadata": {},
   "outputs": [
    {
     "data": {
      "text/plain": [
       "count                     619\n",
       "unique                    253\n",
       "top       2020-04-30 00:00:00\n",
       "freq                       37\n",
       "first     2012-01-26 00:00:00\n",
       "last      2020-05-18 00:00:00\n",
       "Name: Last Purchased, dtype: object"
      ]
     },
     "execution_count": 73,
     "metadata": {},
     "output_type": "execute_result"
    }
   ],
   "source": [
    "customers['Last Purchased'].describe()"
   ]
  },
  {
   "cell_type": "markdown",
   "metadata": {},
   "source": [
    "This goes back to 2012. The full sales data the provided me goes back to 2015, so if missing values here mean last sale was a while back, those rows likely would end up getting dropped anyway.\n",
    "\n",
    "I'll leave this column alone for now, but check it against full sales data to see if I can determine if a blank entry here simply means last purchase was long ago."
   ]
  },
  {
   "cell_type": "code",
   "execution_count": 74,
   "metadata": {},
   "outputs": [
    {
     "name": "stdout",
     "output_type": "stream",
     "text": [
      "<class 'pandas.core.frame.DataFrame'>\n",
      "CategoricalIndex: 805 entries, 1ALLCD to 1INTWA\n",
      "Data columns (total 4 columns):\n",
      " #   Column             Non-Null Count  Dtype         \n",
      "---  ------             --------------  -----         \n",
      " 0   Industry/Vertical  805 non-null    category      \n",
      " 1   Contact Owner      805 non-null    category      \n",
      " 2   Postal/ZIP         206 non-null    object        \n",
      " 3   Last Purchased     619 non-null    datetime64[ns]\n",
      "dtypes: category(2), datetime64[ns](1), object(1)\n",
      "memory usage: 63.0+ KB\n"
     ]
    }
   ],
   "source": [
    "# Final Check\n",
    "customers.info()"
   ]
  },
  {
   "cell_type": "markdown",
   "metadata": {},
   "source": [
    "## File 2: REPEATSALE Items Purchased 2015-2020\n",
    "\n",
    "This is a list of all the sales of communications equipment from 2015 to 2020."
   ]
  },
  {
   "cell_type": "code",
   "execution_count": 75,
   "metadata": {},
   "outputs": [
    {
     "data": {
      "text/html": [
       "<div>\n",
       "<style scoped>\n",
       "    .dataframe tbody tr th:only-of-type {\n",
       "        vertical-align: middle;\n",
       "    }\n",
       "\n",
       "    .dataframe tbody tr th {\n",
       "        vertical-align: top;\n",
       "    }\n",
       "\n",
       "    .dataframe thead th {\n",
       "        text-align: right;\n",
       "    }\n",
       "</style>\n",
       "<table border=\"1\" class=\"dataframe\">\n",
       "  <thead>\n",
       "    <tr style=\"text-align: right;\">\n",
       "      <th></th>\n",
       "      <th>CUSTOMER #</th>\n",
       "      <th>ORDER TYPE</th>\n",
       "      <th>ORDER #</th>\n",
       "      <th>INVOICE DATE</th>\n",
       "      <th>QTY SHIPPED</th>\n",
       "      <th>ITEM #</th>\n",
       "      <th>DESCRIPTION</th>\n",
       "      <th>ITEM PRICE</th>\n",
       "    </tr>\n",
       "  </thead>\n",
       "  <tbody>\n",
       "    <tr>\n",
       "      <th>0</th>\n",
       "      <td>1HOLPS</td>\n",
       "      <td>O</td>\n",
       "      <td>16588</td>\n",
       "      <td>05/08/15</td>\n",
       "      <td>1.0</td>\n",
       "      <td>T3000</td>\n",
       "      <td>MOTO MTR3000 BASE RADIO</td>\n",
       "      <td>6020.8</td>\n",
       "    </tr>\n",
       "    <tr>\n",
       "      <th>1</th>\n",
       "      <td>1EACCD</td>\n",
       "      <td>O</td>\n",
       "      <td>17800</td>\n",
       "      <td>12/31/15</td>\n",
       "      <td>2.0</td>\n",
       "      <td>ADP-U</td>\n",
       "      <td>UNIVERSAL PIPE MOUNT 4-1/2\"</td>\n",
       "      <td>519.0</td>\n",
       "    </tr>\n",
       "    <tr>\n",
       "      <th>2</th>\n",
       "      <td>1EACCD</td>\n",
       "      <td>O</td>\n",
       "      <td>17800</td>\n",
       "      <td>12/31/15</td>\n",
       "      <td>1.0</td>\n",
       "      <td>CONTINGENCY</td>\n",
       "      <td>CONTINGENCY</td>\n",
       "      <td>5000.0</td>\n",
       "    </tr>\n",
       "    <tr>\n",
       "      <th>3</th>\n",
       "      <td>1VANAI</td>\n",
       "      <td>O</td>\n",
       "      <td>17887</td>\n",
       "      <td>04/17/15</td>\n",
       "      <td>2.0</td>\n",
       "      <td>AAM27QNH9LA1</td>\n",
       "      <td>XPR 4550 403-470 1-25W 160 CH</td>\n",
       "      <td>681.0</td>\n",
       "    </tr>\n",
       "    <tr>\n",
       "      <th>4</th>\n",
       "      <td>1VANAI</td>\n",
       "      <td>O</td>\n",
       "      <td>17887</td>\n",
       "      <td>04/17/15</td>\n",
       "      <td>2.0</td>\n",
       "      <td>SEC1223MOTOTRBO</td>\n",
       "      <td>SAMLEX BASE STATION PWR SUPPLY</td>\n",
       "      <td>156.0</td>\n",
       "    </tr>\n",
       "  </tbody>\n",
       "</table>\n",
       "</div>"
      ],
      "text/plain": [
       "  CUSTOMER # ORDER TYPE  ORDER # INVOICE DATE  QTY SHIPPED           ITEM #  \\\n",
       "0     1HOLPS          O    16588     05/08/15          1.0            T3000   \n",
       "1     1EACCD          O    17800     12/31/15          2.0            ADP-U   \n",
       "2     1EACCD          O    17800     12/31/15          1.0      CONTINGENCY   \n",
       "3     1VANAI          O    17887     04/17/15          2.0     AAM27QNH9LA1   \n",
       "4     1VANAI          O    17887     04/17/15          2.0  SEC1223MOTOTRBO   \n",
       "\n",
       "                      DESCRIPTION  ITEM PRICE  \n",
       "0         MOTO MTR3000 BASE RADIO      6020.8  \n",
       "1     UNIVERSAL PIPE MOUNT 4-1/2\"       519.0  \n",
       "2                     CONTINGENCY      5000.0  \n",
       "3   XPR 4550 403-470 1-25W 160 CH       681.0  \n",
       "4  SAMLEX BASE STATION PWR SUPPLY       156.0  "
      ]
     },
     "execution_count": 75,
     "metadata": {},
     "output_type": "execute_result"
    }
   ],
   "source": [
    "sales = pd.read_excel('REPEATSALE Items Purchased Report 2015 2020 dept 700.XLS', header=0)\n",
    "sales.head()"
   ]
  },
  {
   "cell_type": "code",
   "execution_count": 76,
   "metadata": {},
   "outputs": [
    {
     "name": "stdout",
     "output_type": "stream",
     "text": [
      "<class 'pandas.core.frame.DataFrame'>\n",
      "RangeIndex: 11418 entries, 0 to 11417\n",
      "Data columns (total 8 columns):\n",
      " #   Column        Non-Null Count  Dtype  \n",
      "---  ------        --------------  -----  \n",
      " 0   CUSTOMER #    11418 non-null  object \n",
      " 1   ORDER TYPE    11418 non-null  object \n",
      " 2   ORDER #       11418 non-null  int64  \n",
      " 3   INVOICE DATE  11418 non-null  object \n",
      " 4   QTY SHIPPED   11418 non-null  float64\n",
      " 5   ITEM #        11418 non-null  object \n",
      " 6   DESCRIPTION   11399 non-null  object \n",
      " 7   ITEM PRICE    11418 non-null  float64\n",
      "dtypes: float64(2), int64(1), object(5)\n",
      "memory usage: 713.8+ KB\n"
     ]
    }
   ],
   "source": [
    "sales.info()"
   ]
  },
  {
   "cell_type": "markdown",
   "metadata": {},
   "source": [
    "__Initial Thoughts:__\n",
    "There are some data types to fix first off. \n",
    "Only one column is missing data here - description. That column should tie to Item #, so we likely could drop it anyway. I'll double check that first.\n",
    "\n",
    "The first thing that stands out though is the order type column."
   ]
  },
  {
   "cell_type": "code",
   "execution_count": 77,
   "metadata": {},
   "outputs": [
    {
     "data": {
      "text/plain": [
       "O    11418\n",
       "Name: ORDER TYPE, dtype: int64"
      ]
     },
     "execution_count": 77,
     "metadata": {},
     "output_type": "execute_result"
    }
   ],
   "source": [
    "# Check order type\n",
    "sales['ORDER TYPE'].value_counts()"
   ]
  },
  {
   "cell_type": "code",
   "execution_count": 78,
   "metadata": {},
   "outputs": [
    {
     "data": {
      "text/html": [
       "<div>\n",
       "<style scoped>\n",
       "    .dataframe tbody tr th:only-of-type {\n",
       "        vertical-align: middle;\n",
       "    }\n",
       "\n",
       "    .dataframe tbody tr th {\n",
       "        vertical-align: top;\n",
       "    }\n",
       "\n",
       "    .dataframe thead th {\n",
       "        text-align: right;\n",
       "    }\n",
       "</style>\n",
       "<table border=\"1\" class=\"dataframe\">\n",
       "  <thead>\n",
       "    <tr style=\"text-align: right;\">\n",
       "      <th></th>\n",
       "      <th>CUSTOMER #</th>\n",
       "      <th>ORDER #</th>\n",
       "      <th>INVOICE DATE</th>\n",
       "      <th>QTY SHIPPED</th>\n",
       "      <th>ITEM #</th>\n",
       "      <th>DESCRIPTION</th>\n",
       "      <th>ITEM PRICE</th>\n",
       "    </tr>\n",
       "  </thead>\n",
       "  <tbody>\n",
       "    <tr>\n",
       "      <th>0</th>\n",
       "      <td>1HOLPS</td>\n",
       "      <td>16588</td>\n",
       "      <td>05/08/15</td>\n",
       "      <td>1.0</td>\n",
       "      <td>T3000</td>\n",
       "      <td>MOTO MTR3000 BASE RADIO</td>\n",
       "      <td>6020.8</td>\n",
       "    </tr>\n",
       "    <tr>\n",
       "      <th>1</th>\n",
       "      <td>1EACCD</td>\n",
       "      <td>17800</td>\n",
       "      <td>12/31/15</td>\n",
       "      <td>2.0</td>\n",
       "      <td>ADP-U</td>\n",
       "      <td>UNIVERSAL PIPE MOUNT 4-1/2\"</td>\n",
       "      <td>519.0</td>\n",
       "    </tr>\n",
       "    <tr>\n",
       "      <th>2</th>\n",
       "      <td>1EACCD</td>\n",
       "      <td>17800</td>\n",
       "      <td>12/31/15</td>\n",
       "      <td>1.0</td>\n",
       "      <td>CONTINGENCY</td>\n",
       "      <td>CONTINGENCY</td>\n",
       "      <td>5000.0</td>\n",
       "    </tr>\n",
       "    <tr>\n",
       "      <th>3</th>\n",
       "      <td>1VANAI</td>\n",
       "      <td>17887</td>\n",
       "      <td>04/17/15</td>\n",
       "      <td>2.0</td>\n",
       "      <td>AAM27QNH9LA1</td>\n",
       "      <td>XPR 4550 403-470 1-25W 160 CH</td>\n",
       "      <td>681.0</td>\n",
       "    </tr>\n",
       "    <tr>\n",
       "      <th>4</th>\n",
       "      <td>1VANAI</td>\n",
       "      <td>17887</td>\n",
       "      <td>04/17/15</td>\n",
       "      <td>2.0</td>\n",
       "      <td>SEC1223MOTOTRBO</td>\n",
       "      <td>SAMLEX BASE STATION PWR SUPPLY</td>\n",
       "      <td>156.0</td>\n",
       "    </tr>\n",
       "  </tbody>\n",
       "</table>\n",
       "</div>"
      ],
      "text/plain": [
       "  CUSTOMER #  ORDER # INVOICE DATE  QTY SHIPPED           ITEM #  \\\n",
       "0     1HOLPS    16588     05/08/15          1.0            T3000   \n",
       "1     1EACCD    17800     12/31/15          2.0            ADP-U   \n",
       "2     1EACCD    17800     12/31/15          1.0      CONTINGENCY   \n",
       "3     1VANAI    17887     04/17/15          2.0     AAM27QNH9LA1   \n",
       "4     1VANAI    17887     04/17/15          2.0  SEC1223MOTOTRBO   \n",
       "\n",
       "                      DESCRIPTION  ITEM PRICE  \n",
       "0         MOTO MTR3000 BASE RADIO      6020.8  \n",
       "1     UNIVERSAL PIPE MOUNT 4-1/2\"       519.0  \n",
       "2                     CONTINGENCY      5000.0  \n",
       "3   XPR 4550 403-470 1-25W 160 CH       681.0  \n",
       "4  SAMLEX BASE STATION PWR SUPPLY       156.0  "
      ]
     },
     "execution_count": 78,
     "metadata": {},
     "output_type": "execute_result"
    }
   ],
   "source": [
    "# All Order Types are the same, so can drop that column\n",
    "sales.drop('ORDER TYPE', axis=1, inplace=True)\n",
    "sales.head()"
   ]
  },
  {
   "cell_type": "markdown",
   "metadata": {},
   "source": [
    "__Other notes on columns:__\n",
    "* Customer # - should match up with Account Numbers, make categorical\n",
    "* Order # - should serve as index for the sales dataframe\n",
    "* Invoice Date - should be a datetime dtype\n",
    "* Qty Shipped - if all whole quantities, could use int rather than float\n",
    "* Item/Description - these provide the same information. item column is complete, so will keep that. Will create a function/dict to return the description of a given item # though.\n",
    "* Item Price - leave as float"
   ]
  },
  {
   "cell_type": "markdown",
   "metadata": {},
   "source": [
    "__Order Number__"
   ]
  },
  {
   "cell_type": "code",
   "execution_count": 79,
   "metadata": {},
   "outputs": [
    {
     "data": {
      "text/html": [
       "<div>\n",
       "<style scoped>\n",
       "    .dataframe tbody tr th:only-of-type {\n",
       "        vertical-align: middle;\n",
       "    }\n",
       "\n",
       "    .dataframe tbody tr th {\n",
       "        vertical-align: top;\n",
       "    }\n",
       "\n",
       "    .dataframe thead th {\n",
       "        text-align: right;\n",
       "    }\n",
       "</style>\n",
       "<table border=\"1\" class=\"dataframe\">\n",
       "  <thead>\n",
       "    <tr style=\"text-align: right;\">\n",
       "      <th></th>\n",
       "      <th>CUSTOMER #</th>\n",
       "      <th>INVOICE DATE</th>\n",
       "      <th>QTY SHIPPED</th>\n",
       "      <th>ITEM #</th>\n",
       "      <th>DESCRIPTION</th>\n",
       "      <th>ITEM PRICE</th>\n",
       "    </tr>\n",
       "    <tr>\n",
       "      <th>ORDER #</th>\n",
       "      <th></th>\n",
       "      <th></th>\n",
       "      <th></th>\n",
       "      <th></th>\n",
       "      <th></th>\n",
       "      <th></th>\n",
       "    </tr>\n",
       "  </thead>\n",
       "  <tbody>\n",
       "    <tr>\n",
       "      <th>16588</th>\n",
       "      <td>1HOLPS</td>\n",
       "      <td>05/08/15</td>\n",
       "      <td>1.0</td>\n",
       "      <td>T3000</td>\n",
       "      <td>MOTO MTR3000 BASE RADIO</td>\n",
       "      <td>6020.8</td>\n",
       "    </tr>\n",
       "    <tr>\n",
       "      <th>17800</th>\n",
       "      <td>1EACCD</td>\n",
       "      <td>12/31/15</td>\n",
       "      <td>2.0</td>\n",
       "      <td>ADP-U</td>\n",
       "      <td>UNIVERSAL PIPE MOUNT 4-1/2\"</td>\n",
       "      <td>519.0</td>\n",
       "    </tr>\n",
       "    <tr>\n",
       "      <th>17800</th>\n",
       "      <td>1EACCD</td>\n",
       "      <td>12/31/15</td>\n",
       "      <td>1.0</td>\n",
       "      <td>CONTINGENCY</td>\n",
       "      <td>CONTINGENCY</td>\n",
       "      <td>5000.0</td>\n",
       "    </tr>\n",
       "    <tr>\n",
       "      <th>17887</th>\n",
       "      <td>1VANAI</td>\n",
       "      <td>04/17/15</td>\n",
       "      <td>2.0</td>\n",
       "      <td>AAM27QNH9LA1</td>\n",
       "      <td>XPR 4550 403-470 1-25W 160 CH</td>\n",
       "      <td>681.0</td>\n",
       "    </tr>\n",
       "    <tr>\n",
       "      <th>17887</th>\n",
       "      <td>1VANAI</td>\n",
       "      <td>04/17/15</td>\n",
       "      <td>2.0</td>\n",
       "      <td>SEC1223MOTOTRBO</td>\n",
       "      <td>SAMLEX BASE STATION PWR SUPPLY</td>\n",
       "      <td>156.0</td>\n",
       "    </tr>\n",
       "  </tbody>\n",
       "</table>\n",
       "</div>"
      ],
      "text/plain": [
       "        CUSTOMER # INVOICE DATE  QTY SHIPPED           ITEM #  \\\n",
       "ORDER #                                                         \n",
       "16588       1HOLPS     05/08/15          1.0            T3000   \n",
       "17800       1EACCD     12/31/15          2.0            ADP-U   \n",
       "17800       1EACCD     12/31/15          1.0      CONTINGENCY   \n",
       "17887       1VANAI     04/17/15          2.0     AAM27QNH9LA1   \n",
       "17887       1VANAI     04/17/15          2.0  SEC1223MOTOTRBO   \n",
       "\n",
       "                            DESCRIPTION  ITEM PRICE  \n",
       "ORDER #                                              \n",
       "16588           MOTO MTR3000 BASE RADIO      6020.8  \n",
       "17800       UNIVERSAL PIPE MOUNT 4-1/2\"       519.0  \n",
       "17800                       CONTINGENCY      5000.0  \n",
       "17887     XPR 4550 403-470 1-25W 160 CH       681.0  \n",
       "17887    SAMLEX BASE STATION PWR SUPPLY       156.0  "
      ]
     },
     "execution_count": 79,
     "metadata": {},
     "output_type": "execute_result"
    }
   ],
   "source": [
    "sales.set_index(['ORDER #'], drop=True, inplace=True)\n",
    "sales.head()"
   ]
  },
  {
   "cell_type": "markdown",
   "metadata": {},
   "source": [
    "__Customer Number__"
   ]
  },
  {
   "cell_type": "code",
   "execution_count": 80,
   "metadata": {},
   "outputs": [
    {
     "name": "stdout",
     "output_type": "stream",
     "text": [
      "634 805\n"
     ]
    }
   ],
   "source": [
    "# Confirm that Customer # from sales data match up with Account Number from customer data\n",
    "sales_list = list(sales['CUSTOMER #'].unique())\n",
    "customer_list = list(customers.index)\n",
    "print(len(sales_list), len(customer_list))"
   ]
  },
  {
   "cell_type": "markdown",
   "metadata": {},
   "source": [
    "Lengths are different. It appears there are 171 customers that are in the customer list (i.e. have a customer record) but NOT in the sales list (i.e. haven't made a purchase in the 2015 to 2020 window)."
   ]
  },
  {
   "cell_type": "code",
   "execution_count": 81,
   "metadata": {},
   "outputs": [
    {
     "data": {
      "text/plain": [
       "338"
      ]
     },
     "execution_count": 81,
     "metadata": {},
     "output_type": "execute_result"
    }
   ],
   "source": [
    "# Create a list of the customer Accounts that don't show up on the sales reports\n",
    "differences1 = np.setdiff1d(customer_list, sales_list, assume_unique=True)\n",
    "len(differences1)"
   ]
  },
  {
   "cell_type": "markdown",
   "metadata": {},
   "source": [
    "So actually it appears there are 338 customers that don't appear in the sales data. There's likely some of the sales reports that aren't in the customer data."
   ]
  },
  {
   "cell_type": "code",
   "execution_count": 82,
   "metadata": {},
   "outputs": [
    {
     "data": {
      "text/plain": [
       "167"
      ]
     },
     "execution_count": 82,
     "metadata": {},
     "output_type": "execute_result"
    }
   ],
   "source": [
    "# Create a list of the accounts that ARE in the sales list but not the customer\n",
    "differences2 = np.setdiff1d(sales_list, customer_list, assume_unique=True)\n",
    "len(differences2)"
   ]
  },
  {
   "cell_type": "markdown",
   "metadata": {},
   "source": [
    "It looks like there were a total of 467 customers (out of the original 805) that did NOT make a purchase of the items included in the sales data."
   ]
  },
  {
   "cell_type": "code",
   "execution_count": 83,
   "metadata": {},
   "outputs": [
    {
     "data": {
      "text/plain": [
       "29"
      ]
     },
     "execution_count": 83,
     "metadata": {},
     "output_type": "execute_result"
    }
   ],
   "source": [
    "# Create list of Account Numbers that had last sale prior to 2015\n",
    "no_sale_post2015 = customers[customers['Last Purchased'] < '2015']\n",
    "len(no_sale_post2015)"
   ]
  },
  {
   "cell_type": "markdown",
   "metadata": {},
   "source": [
    "Hm, so there were only 29 on that customer list that had a last sale prior to 2015. The rest must not be showing up in the sales data for another reason.\n",
    "\n",
    "__Need to learn more from Micah/Marissa about what the sales data I rec'd is/isn't__\n",
    "\n",
    "Ultimately I'll likely end up merging the sales/customer data so any irrelevant account numbers won't factor in. But want to make sure there isn't data I'm missing or that could help illuminate this so we could incude more data overall."
   ]
  },
  {
   "cell_type": "code",
   "execution_count": 84,
   "metadata": {},
   "outputs": [],
   "source": [
    "# Change to categorical\n",
    "sales['CUSTOMER #'] = sales['CUSTOMER #'].astype('category')"
   ]
  },
  {
   "cell_type": "markdown",
   "metadata": {},
   "source": [
    "__Invoice Date__"
   ]
  },
  {
   "cell_type": "code",
   "execution_count": 85,
   "metadata": {},
   "outputs": [],
   "source": [
    "sales['INVOICE DATE'] = pd.to_datetime(sales['INVOICE DATE'])"
   ]
  },
  {
   "cell_type": "markdown",
   "metadata": {},
   "source": [
    "__Quantity Shipped__\n",
    "\n",
    "Will int work here?"
   ]
  },
  {
   "cell_type": "code",
   "execution_count": 86,
   "metadata": {},
   "outputs": [
    {
     "name": "stdout",
     "output_type": "stream",
     "text": [
      "94\n"
     ]
    }
   ],
   "source": [
    "check = []\n",
    "\n",
    "for x in sales['QTY SHIPPED'].unique():\n",
    "    check.append(x.is_integer())\n",
    "    \n",
    "print(sum(check))"
   ]
  },
  {
   "cell_type": "markdown",
   "metadata": {},
   "source": [
    "So there are 3 non-integer values in the quantity shipped column. Will leave as floats."
   ]
  },
  {
   "cell_type": "markdown",
   "metadata": {},
   "source": [
    "__Item # / Description__\n",
    "\n",
    "These represent the same information, so only need to keep one. Will keep the item #.\n",
    "\n",
    "An idea for furthering this project: create a function that takes in an item # and returns the related description."
   ]
  },
  {
   "cell_type": "code",
   "execution_count": 87,
   "metadata": {},
   "outputs": [],
   "source": [
    "# Storing the descriptions for future use \n",
    "descriptions = sales['DESCRIPTION'].values\n",
    "\n",
    "# Dropping from df\n",
    "sales.drop('DESCRIPTION', axis=1, inplace=True)"
   ]
  },
  {
   "cell_type": "code",
   "execution_count": 88,
   "metadata": {},
   "outputs": [
    {
     "name": "stdout",
     "output_type": "stream",
     "text": [
      "        CUSTOMER # INVOICE DATE  QTY SHIPPED           ITEM #  ITEM PRICE\n",
      "ORDER #                                                                  \n",
      "16588       1HOLPS   2015-05-08          1.0            T3000      6020.8\n",
      "17800       1EACCD   2015-12-31          2.0            ADP-U       519.0\n",
      "17800       1EACCD   2015-12-31          1.0      CONTINGENCY      5000.0\n",
      "17887       1VANAI   2015-04-17          2.0     AAM27QNH9LA1       681.0\n",
      "17887       1VANAI   2015-04-17          2.0  SEC1223MOTOTRBO       156.0\n",
      "<class 'pandas.core.frame.DataFrame'>\n",
      "Int64Index: 11418 entries, 16588 to 48966\n",
      "Data columns (total 5 columns):\n",
      " #   Column        Non-Null Count  Dtype         \n",
      "---  ------        --------------  -----         \n",
      " 0   CUSTOMER #    11418 non-null  category      \n",
      " 1   INVOICE DATE  11418 non-null  datetime64[ns]\n",
      " 2   QTY SHIPPED   11418 non-null  float64       \n",
      " 3   ITEM #        11418 non-null  object        \n",
      " 4   ITEM PRICE    11418 non-null  float64       \n",
      "dtypes: category(1), datetime64[ns](1), float64(2), object(1)\n",
      "memory usage: 493.3+ KB\n",
      "None\n"
     ]
    }
   ],
   "source": [
    "print(sales.head())\n",
    "print(sales.info())"
   ]
  },
  {
   "cell_type": "markdown",
   "metadata": {},
   "source": [
    "## File 3: Revised Customer Ranking Report 2015-2020\n",
    "\n",
    "This looks like a ranking of total sales by customer including their initial sale date. \n",
    "\n",
    "Could use this to create things like length of time as a customer."
   ]
  },
  {
   "cell_type": "code",
   "execution_count": 89,
   "metadata": {},
   "outputs": [
    {
     "data": {
      "text/html": [
       "<div>\n",
       "<style scoped>\n",
       "    .dataframe tbody tr th:only-of-type {\n",
       "        vertical-align: middle;\n",
       "    }\n",
       "\n",
       "    .dataframe tbody tr th {\n",
       "        vertical-align: top;\n",
       "    }\n",
       "\n",
       "    .dataframe thead th {\n",
       "        text-align: right;\n",
       "    }\n",
       "</style>\n",
       "<table border=\"1\" class=\"dataframe\">\n",
       "  <thead>\n",
       "    <tr style=\"text-align: right;\">\n",
       "      <th></th>\n",
       "      <th>Rank</th>\n",
       "      <th>Customer</th>\n",
       "      <th>Amount</th>\n",
       "      <th>Address 2</th>\n",
       "      <th>Address 3</th>\n",
       "      <th>Open Date</th>\n",
       "    </tr>\n",
       "  </thead>\n",
       "  <tbody>\n",
       "    <tr>\n",
       "      <th>0</th>\n",
       "      <td>1</td>\n",
       "      <td>1MIPMA</td>\n",
       "      <td>2791114.69</td>\n",
       "      <td>IL</td>\n",
       "      <td></td>\n",
       "      <td>11/01/1999</td>\n",
       "    </tr>\n",
       "    <tr>\n",
       "      <th>1</th>\n",
       "      <td>2</td>\n",
       "      <td>1MOTMS</td>\n",
       "      <td>1544416.02</td>\n",
       "      <td>***DO NOT/SEND TO MOTOROLA***</td>\n",
       "      <td>MI</td>\n",
       "      <td>2/15/2002</td>\n",
       "    </tr>\n",
       "    <tr>\n",
       "      <th>2</th>\n",
       "      <td>3</td>\n",
       "      <td>1FOURW</td>\n",
       "      <td>1123935.02</td>\n",
       "      <td>11111 WILSON ROAD</td>\n",
       "      <td>NEW BUFFALO MI 49117</td>\n",
       "      <td>1/29/2008</td>\n",
       "    </tr>\n",
       "    <tr>\n",
       "      <th>3</th>\n",
       "      <td>4</td>\n",
       "      <td>7CCECD</td>\n",
       "      <td>1011834.96</td>\n",
       "      <td>PETOSKEY MI 49770</td>\n",
       "      <td></td>\n",
       "      <td>11/01/1999</td>\n",
       "    </tr>\n",
       "    <tr>\n",
       "      <th>4</th>\n",
       "      <td>5</td>\n",
       "      <td>1OTTSD</td>\n",
       "      <td>848407.03</td>\n",
       "      <td>WEST OLIVE MI 49460</td>\n",
       "      <td></td>\n",
       "      <td>11/01/1999</td>\n",
       "    </tr>\n",
       "  </tbody>\n",
       "</table>\n",
       "</div>"
      ],
      "text/plain": [
       "   Rank Customer      Amount                      Address 2  \\\n",
       "0     1   1MIPMA  2791114.69                             IL   \n",
       "1     2   1MOTMS  1544416.02  ***DO NOT/SEND TO MOTOROLA***   \n",
       "2     3   1FOURW  1123935.02              11111 WILSON ROAD   \n",
       "3     4   7CCECD  1011834.96              PETOSKEY MI 49770   \n",
       "4     5   1OTTSD   848407.03            WEST OLIVE MI 49460   \n",
       "\n",
       "              Address 3   Open Date  \n",
       "0                        11/01/1999  \n",
       "1                    MI   2/15/2002  \n",
       "2  NEW BUFFALO MI 49117   1/29/2008  \n",
       "3                        11/01/1999  \n",
       "4                        11/01/1999  "
      ]
     },
     "execution_count": 89,
     "metadata": {},
     "output_type": "execute_result"
    }
   ],
   "source": [
    "customer_totals = pd.read_excel('Revised Customer Ranking Report 2015-2020.xlsx', header=1)\n",
    "customer_totals.head()\n",
    "# This file lists lifetime sales by customer, along with that customer's \"start date\" aka initial\n",
    "# sale."
   ]
  },
  {
   "cell_type": "code",
   "execution_count": 111,
   "metadata": {},
   "outputs": [
    {
     "name": "stdout",
     "output_type": "stream",
     "text": [
      "<class 'pandas.core.frame.DataFrame'>\n",
      "RangeIndex: 1070 entries, 0 to 1069\n",
      "Data columns (total 6 columns):\n",
      " #   Column     Non-Null Count  Dtype  \n",
      "---  ------     --------------  -----  \n",
      " 0   Rank       1070 non-null   int64  \n",
      " 1   Customer   1070 non-null   object \n",
      " 2   Amount     1070 non-null   float64\n",
      " 3   Address 2  1070 non-null   object \n",
      " 4   Address 3  1070 non-null   object \n",
      " 5   Open Date  1070 non-null   object \n",
      "dtypes: float64(1), int64(1), object(4)\n",
      "memory usage: 50.3+ KB\n"
     ]
    }
   ],
   "source": [
    "customer_totals.info()"
   ]
  },
  {
   "cell_type": "markdown",
   "metadata": {},
   "source": [
    "This list of customers contains 1070, compared to the 805 in the original list of customers. "
   ]
  },
  {
   "cell_type": "code",
   "execution_count": 91,
   "metadata": {},
   "outputs": [
    {
     "name": "stdout",
     "output_type": "stream",
     "text": [
      "HOLLAND MI 49423                 37\n",
      "HOLLAND MI 49424                 22\n",
      "GRAND RAPIDS MI 49503            21\n",
      "ZEELAND MI 49464                 16\n",
      "CADILLAC MI 49601                14\n",
      "                                 ..\n",
      "0-1451 LEONARD ST NW              1\n",
      "4451 12TH STREET SUITE A          1\n",
      "INTERLOCHEN MI 49643              1\n",
      "1322 ANDERSON RD                  1\n",
      "214 HEALTH PARKWAY PO BOX 746     1\n",
      "Name: Address 2, Length: 651, dtype: int64\n",
      "0.0\n"
     ]
    }
   ],
   "source": [
    "# How many of these customers are missing addresses?\n",
    "print(customer_totals['Address 2'].value_counts())\n",
    "print(customer_totals['Address 2'].isnull().sum() / len(customer_totals['Address 2']))"
   ]
  },
  {
   "cell_type": "markdown",
   "metadata": {},
   "source": [
    "None are missing addresses! Sweet! Can use that information to populate the Zip at least."
   ]
  },
  {
   "cell_type": "markdown",
   "metadata": {},
   "source": [
    "__Plan for this set of data:__\n",
    "\n",
    "This data will help add more information to the existing customers dataframe. Will keep:\n",
    "* Customer rank\n",
    "* Lifetime sales\n",
    "* Start date\n",
    "\n",
    "Also will pull Zip codes from the addresses and use that to make a \"county\" column."
   ]
  },
  {
   "cell_type": "code",
   "execution_count": 92,
   "metadata": {},
   "outputs": [
    {
     "data": {
      "text/html": [
       "<div>\n",
       "<style scoped>\n",
       "    .dataframe tbody tr th:only-of-type {\n",
       "        vertical-align: middle;\n",
       "    }\n",
       "\n",
       "    .dataframe tbody tr th {\n",
       "        vertical-align: top;\n",
       "    }\n",
       "\n",
       "    .dataframe thead th {\n",
       "        text-align: right;\n",
       "    }\n",
       "</style>\n",
       "<table border=\"1\" class=\"dataframe\">\n",
       "  <thead>\n",
       "    <tr style=\"text-align: right;\">\n",
       "      <th></th>\n",
       "      <th>Industry/Vertical</th>\n",
       "      <th>Contact Owner</th>\n",
       "      <th>Postal/ZIP</th>\n",
       "      <th>Last Purchased</th>\n",
       "    </tr>\n",
       "    <tr>\n",
       "      <th>Account Number</th>\n",
       "      <th></th>\n",
       "      <th></th>\n",
       "      <th></th>\n",
       "      <th></th>\n",
       "    </tr>\n",
       "  </thead>\n",
       "  <tbody>\n",
       "    <tr>\n",
       "      <th>1ALLCD</th>\n",
       "      <td>911 &amp; Dispatch</td>\n",
       "      <td>Keith Johnson</td>\n",
       "      <td>NaN</td>\n",
       "      <td>2020-05-18</td>\n",
       "    </tr>\n",
       "    <tr>\n",
       "      <th>1ALPCO</th>\n",
       "      <td>911 &amp; Dispatch</td>\n",
       "      <td>Jessica Spindler</td>\n",
       "      <td>49707-2453</td>\n",
       "      <td>2020-02-13</td>\n",
       "    </tr>\n",
       "    <tr>\n",
       "      <th>7BENCS</th>\n",
       "      <td>911 &amp; Dispatch</td>\n",
       "      <td>Jessica Spindler</td>\n",
       "      <td>49617</td>\n",
       "      <td>2019-07-29</td>\n",
       "    </tr>\n",
       "    <tr>\n",
       "      <th>7CCECD</th>\n",
       "      <td>911 &amp; Dispatch</td>\n",
       "      <td>Jessica Spindler</td>\n",
       "      <td>NaN</td>\n",
       "      <td>2020-05-18</td>\n",
       "    </tr>\n",
       "    <tr>\n",
       "      <th>4EDWFD</th>\n",
       "      <td>911 &amp; Dispatch</td>\n",
       "      <td>Tom Gillespie</td>\n",
       "      <td>NaN</td>\n",
       "      <td>2020-01-24</td>\n",
       "    </tr>\n",
       "  </tbody>\n",
       "</table>\n",
       "</div>"
      ],
      "text/plain": [
       "               Industry/Vertical     Contact Owner  Postal/ZIP Last Purchased\n",
       "Account Number                                                               \n",
       "1ALLCD            911 & Dispatch     Keith Johnson         NaN     2020-05-18\n",
       "1ALPCO            911 & Dispatch  Jessica Spindler  49707-2453     2020-02-13\n",
       "7BENCS            911 & Dispatch  Jessica Spindler       49617     2019-07-29\n",
       "7CCECD            911 & Dispatch  Jessica Spindler         NaN     2020-05-18\n",
       "4EDWFD            911 & Dispatch     Tom Gillespie         NaN     2020-01-24"
      ]
     },
     "execution_count": 92,
     "metadata": {},
     "output_type": "execute_result"
    }
   ],
   "source": [
    "customers.head()"
   ]
  },
  {
   "cell_type": "code",
   "execution_count": 100,
   "metadata": {},
   "outputs": [
    {
     "data": {
      "text/html": [
       "<div>\n",
       "<style scoped>\n",
       "    .dataframe tbody tr th:only-of-type {\n",
       "        vertical-align: middle;\n",
       "    }\n",
       "\n",
       "    .dataframe tbody tr th {\n",
       "        vertical-align: top;\n",
       "    }\n",
       "\n",
       "    .dataframe thead th {\n",
       "        text-align: right;\n",
       "    }\n",
       "</style>\n",
       "<table border=\"1\" class=\"dataframe\">\n",
       "  <thead>\n",
       "    <tr style=\"text-align: right;\">\n",
       "      <th></th>\n",
       "      <th>Industry/Vertical</th>\n",
       "      <th>Contact Owner</th>\n",
       "      <th>Postal/ZIP</th>\n",
       "      <th>Last Purchased</th>\n",
       "      <th>Rank</th>\n",
       "      <th>Customer</th>\n",
       "      <th>Amount</th>\n",
       "      <th>Address 2</th>\n",
       "      <th>Address 3</th>\n",
       "      <th>Open Date</th>\n",
       "    </tr>\n",
       "  </thead>\n",
       "  <tbody>\n",
       "    <tr>\n",
       "      <th>0</th>\n",
       "      <td>911 &amp; Dispatch</td>\n",
       "      <td>Keith Johnson</td>\n",
       "      <td>NaN</td>\n",
       "      <td>2020-05-18</td>\n",
       "      <td>9.0</td>\n",
       "      <td>1ALLCD</td>\n",
       "      <td>434459.15</td>\n",
       "      <td>ALLEGAN MI 49010</td>\n",
       "      <td></td>\n",
       "      <td>11/01/1999</td>\n",
       "    </tr>\n",
       "    <tr>\n",
       "      <th>1</th>\n",
       "      <td>911 &amp; Dispatch</td>\n",
       "      <td>Jessica Spindler</td>\n",
       "      <td>49707-2453</td>\n",
       "      <td>2020-02-13</td>\n",
       "      <td>74.0</td>\n",
       "      <td>1ALPCO</td>\n",
       "      <td>69214.06</td>\n",
       "      <td>STE 2</td>\n",
       "      <td>ALPENA MI 49707-2453</td>\n",
       "      <td>9/06/2013</td>\n",
       "    </tr>\n",
       "    <tr>\n",
       "      <th>2</th>\n",
       "      <td>911 &amp; Dispatch</td>\n",
       "      <td>Jessica Spindler</td>\n",
       "      <td>49617</td>\n",
       "      <td>2019-07-29</td>\n",
       "      <td>440.0</td>\n",
       "      <td>7BENCS</td>\n",
       "      <td>6049.34</td>\n",
       "      <td>505 S. MICHIGAN AVE.</td>\n",
       "      <td>BEULAH MI 49617</td>\n",
       "      <td>11/01/1999</td>\n",
       "    </tr>\n",
       "    <tr>\n",
       "      <th>3</th>\n",
       "      <td>911 &amp; Dispatch</td>\n",
       "      <td>Jessica Spindler</td>\n",
       "      <td>NaN</td>\n",
       "      <td>2020-05-18</td>\n",
       "      <td>4.0</td>\n",
       "      <td>7CCECD</td>\n",
       "      <td>1011834.96</td>\n",
       "      <td>PETOSKEY MI 49770</td>\n",
       "      <td></td>\n",
       "      <td>11/01/1999</td>\n",
       "    </tr>\n",
       "    <tr>\n",
       "      <th>4</th>\n",
       "      <td>911 &amp; Dispatch</td>\n",
       "      <td>Tom Gillespie</td>\n",
       "      <td>NaN</td>\n",
       "      <td>2020-01-24</td>\n",
       "      <td>162.0</td>\n",
       "      <td>4EDWFD</td>\n",
       "      <td>27984.04</td>\n",
       "      <td>EDWARDSBURG MI 49112</td>\n",
       "      <td></td>\n",
       "      <td>11/01/1999</td>\n",
       "    </tr>\n",
       "  </tbody>\n",
       "</table>\n",
       "</div>"
      ],
      "text/plain": [
       "  Industry/Vertical     Contact Owner  Postal/ZIP Last Purchased   Rank  \\\n",
       "0    911 & Dispatch     Keith Johnson         NaN     2020-05-18    9.0   \n",
       "1    911 & Dispatch  Jessica Spindler  49707-2453     2020-02-13   74.0   \n",
       "2    911 & Dispatch  Jessica Spindler       49617     2019-07-29  440.0   \n",
       "3    911 & Dispatch  Jessica Spindler         NaN     2020-05-18    4.0   \n",
       "4    911 & Dispatch     Tom Gillespie         NaN     2020-01-24  162.0   \n",
       "\n",
       "  Customer      Amount             Address 2             Address 3   Open Date  \n",
       "0   1ALLCD   434459.15      ALLEGAN MI 49010                        11/01/1999  \n",
       "1   1ALPCO    69214.06                 STE 2  ALPENA MI 49707-2453   9/06/2013  \n",
       "2   7BENCS     6049.34  505 S. MICHIGAN AVE.       BEULAH MI 49617  11/01/1999  \n",
       "3   7CCECD  1011834.96     PETOSKEY MI 49770                        11/01/1999  \n",
       "4   4EDWFD    27984.04  EDWARDSBURG MI 49112                        11/01/1999  "
      ]
     },
     "execution_count": 100,
     "metadata": {},
     "output_type": "execute_result"
    }
   ],
   "source": [
    "# Merge 3 columns to keep into customers dataframe\n",
    "combined = customers.merge(customer_totals, how='left', left_on='Account Number',\n",
    "                           right_on='Customer')\n",
    "\n",
    "combined.head()"
   ]
  },
  {
   "cell_type": "code",
   "execution_count": 103,
   "metadata": {},
   "outputs": [
    {
     "name": "stdout",
     "output_type": "stream",
     "text": [
      "805\n",
      "Index(['Industry/Vertical', 'Contact Owner', 'Postal/ZIP', 'Last Purchased',\n",
      "       'Rank', 'Amount', 'Address 2', 'Address 3', 'Open Date'],\n",
      "      dtype='object')\n"
     ]
    }
   ],
   "source": [
    "print(len(combined))"
   ]
  },
  {
   "cell_type": "markdown",
   "metadata": {},
   "source": [
    "Perfect, so we ended up with just the 805 customers from our original customer dataframe. Now to clean up this information."
   ]
  },
  {
   "cell_type": "code",
   "execution_count": 102,
   "metadata": {},
   "outputs": [
    {
     "ename": "KeyError",
     "evalue": "\"None of ['Customer'] are in the columns\"",
     "output_type": "error",
     "traceback": [
      "\u001b[1;31m---------------------------------------------------------------------------\u001b[0m",
      "\u001b[1;31mKeyError\u001b[0m                                  Traceback (most recent call last)",
      "\u001b[1;32m<ipython-input-102-48ecc46e66a5>\u001b[0m in \u001b[0;36m<module>\u001b[1;34m\u001b[0m\n\u001b[1;32m----> 1\u001b[1;33m \u001b[0mcombined\u001b[0m\u001b[1;33m.\u001b[0m\u001b[0mset_index\u001b[0m\u001b[1;33m(\u001b[0m\u001b[1;34m'Customer'\u001b[0m\u001b[1;33m,\u001b[0m \u001b[0minplace\u001b[0m\u001b[1;33m=\u001b[0m\u001b[1;32mTrue\u001b[0m\u001b[1;33m)\u001b[0m\u001b[1;33m\u001b[0m\u001b[1;33m\u001b[0m\u001b[0m\n\u001b[0m\u001b[0;32m      2\u001b[0m \u001b[0mcombined\u001b[0m\u001b[1;33m.\u001b[0m\u001b[0msort_values\u001b[0m\u001b[1;33m(\u001b[0m\u001b[1;34m'Rank'\u001b[0m\u001b[1;33m,\u001b[0m \u001b[0maxis\u001b[0m\u001b[1;33m=\u001b[0m\u001b[1;36m1\u001b[0m\u001b[1;33m,\u001b[0m \u001b[0minplace\u001b[0m\u001b[1;33m=\u001b[0m\u001b[1;32mTrue\u001b[0m\u001b[1;33m)\u001b[0m\u001b[1;33m\u001b[0m\u001b[1;33m\u001b[0m\u001b[0m\n\u001b[0;32m      3\u001b[0m \u001b[1;33m\u001b[0m\u001b[0m\n\u001b[0;32m      4\u001b[0m \u001b[0mcombined\u001b[0m\u001b[1;33m.\u001b[0m\u001b[0mhead\u001b[0m\u001b[1;33m(\u001b[0m\u001b[1;33m)\u001b[0m\u001b[1;33m\u001b[0m\u001b[1;33m\u001b[0m\u001b[0m\n",
      "\u001b[1;32m~\\anaconda3\\lib\\site-packages\\pandas\\core\\frame.py\u001b[0m in \u001b[0;36mset_index\u001b[1;34m(self, keys, drop, append, inplace, verify_integrity)\u001b[0m\n\u001b[0;32m   4301\u001b[0m \u001b[1;33m\u001b[0m\u001b[0m\n\u001b[0;32m   4302\u001b[0m         \u001b[1;32mif\u001b[0m \u001b[0mmissing\u001b[0m\u001b[1;33m:\u001b[0m\u001b[1;33m\u001b[0m\u001b[1;33m\u001b[0m\u001b[0m\n\u001b[1;32m-> 4303\u001b[1;33m             \u001b[1;32mraise\u001b[0m \u001b[0mKeyError\u001b[0m\u001b[1;33m(\u001b[0m\u001b[1;34mf\"None of {missing} are in the columns\"\u001b[0m\u001b[1;33m)\u001b[0m\u001b[1;33m\u001b[0m\u001b[1;33m\u001b[0m\u001b[0m\n\u001b[0m\u001b[0;32m   4304\u001b[0m \u001b[1;33m\u001b[0m\u001b[0m\n\u001b[0;32m   4305\u001b[0m         \u001b[1;32mif\u001b[0m \u001b[0minplace\u001b[0m\u001b[1;33m:\u001b[0m\u001b[1;33m\u001b[0m\u001b[1;33m\u001b[0m\u001b[0m\n",
      "\u001b[1;31mKeyError\u001b[0m: \"None of ['Customer'] are in the columns\""
     ]
    }
   ],
   "source": [
    "combined.set_index('Customer', inplace=True)"
   ]
  },
  {
   "cell_type": "code",
   "execution_count": 107,
   "metadata": {},
   "outputs": [
    {
     "data": {
      "text/html": [
       "<div>\n",
       "<style scoped>\n",
       "    .dataframe tbody tr th:only-of-type {\n",
       "        vertical-align: middle;\n",
       "    }\n",
       "\n",
       "    .dataframe tbody tr th {\n",
       "        vertical-align: top;\n",
       "    }\n",
       "\n",
       "    .dataframe thead th {\n",
       "        text-align: right;\n",
       "    }\n",
       "</style>\n",
       "<table border=\"1\" class=\"dataframe\">\n",
       "  <thead>\n",
       "    <tr style=\"text-align: right;\">\n",
       "      <th></th>\n",
       "      <th>Industry/Vertical</th>\n",
       "      <th>Contact Owner</th>\n",
       "      <th>Postal/ZIP</th>\n",
       "      <th>Last Purchased</th>\n",
       "      <th>Rank</th>\n",
       "      <th>Amount</th>\n",
       "      <th>Address 2</th>\n",
       "      <th>Address 3</th>\n",
       "      <th>Open Date</th>\n",
       "    </tr>\n",
       "    <tr>\n",
       "      <th>Customer</th>\n",
       "      <th></th>\n",
       "      <th></th>\n",
       "      <th></th>\n",
       "      <th></th>\n",
       "      <th></th>\n",
       "      <th></th>\n",
       "      <th></th>\n",
       "      <th></th>\n",
       "      <th></th>\n",
       "    </tr>\n",
       "  </thead>\n",
       "  <tbody>\n",
       "    <tr>\n",
       "      <th>1FOURW</th>\n",
       "      <td>Hospitality</td>\n",
       "      <td>Tom Gillespie</td>\n",
       "      <td>49117</td>\n",
       "      <td>2020-05-18</td>\n",
       "      <td>3.0</td>\n",
       "      <td>1123935.02</td>\n",
       "      <td>11111 WILSON ROAD</td>\n",
       "      <td>NEW BUFFALO MI 49117</td>\n",
       "      <td>1/29/2008</td>\n",
       "    </tr>\n",
       "    <tr>\n",
       "      <th>7CCECD</th>\n",
       "      <td>911 &amp; Dispatch</td>\n",
       "      <td>Jessica Spindler</td>\n",
       "      <td>NaN</td>\n",
       "      <td>2020-05-18</td>\n",
       "      <td>4.0</td>\n",
       "      <td>1011834.96</td>\n",
       "      <td>PETOSKEY MI 49770</td>\n",
       "      <td></td>\n",
       "      <td>11/01/1999</td>\n",
       "    </tr>\n",
       "    <tr>\n",
       "      <th>1OTTSD</th>\n",
       "      <td>Law Enforcement</td>\n",
       "      <td>Keith Johnson</td>\n",
       "      <td>NaN</td>\n",
       "      <td>2020-05-08</td>\n",
       "      <td>5.0</td>\n",
       "      <td>848407.03</td>\n",
       "      <td>WEST OLIVE MI 49460</td>\n",
       "      <td></td>\n",
       "      <td>11/01/1999</td>\n",
       "    </tr>\n",
       "    <tr>\n",
       "      <th>1KENCD</th>\n",
       "      <td>911 &amp; Dispatch</td>\n",
       "      <td>Keith Johnson</td>\n",
       "      <td>NaN</td>\n",
       "      <td>2019-06-28</td>\n",
       "      <td>6.0</td>\n",
       "      <td>592820.26</td>\n",
       "      <td>PO BOX 905</td>\n",
       "      <td>WYOMING MI 49509</td>\n",
       "      <td>6/12/2017</td>\n",
       "    </tr>\n",
       "    <tr>\n",
       "      <th>4BERSH</th>\n",
       "      <td>Government Services</td>\n",
       "      <td>Tom Gillespie</td>\n",
       "      <td>NaN</td>\n",
       "      <td>2020-05-15</td>\n",
       "      <td>7.0</td>\n",
       "      <td>563431.43</td>\n",
       "      <td>701 MAIN STREET</td>\n",
       "      <td>ST. JOSEPH MI 49085-1392</td>\n",
       "      <td>11/01/1999</td>\n",
       "    </tr>\n",
       "  </tbody>\n",
       "</table>\n",
       "</div>"
      ],
      "text/plain": [
       "            Industry/Vertical     Contact Owner Postal/ZIP Last Purchased  \\\n",
       "Customer                                                                    \n",
       "1FOURW            Hospitality     Tom Gillespie      49117     2020-05-18   \n",
       "7CCECD         911 & Dispatch  Jessica Spindler        NaN     2020-05-18   \n",
       "1OTTSD        Law Enforcement     Keith Johnson        NaN     2020-05-08   \n",
       "1KENCD         911 & Dispatch     Keith Johnson        NaN     2019-06-28   \n",
       "4BERSH    Government Services     Tom Gillespie        NaN     2020-05-15   \n",
       "\n",
       "          Rank      Amount            Address 2                 Address 3  \\\n",
       "Customer                                                                    \n",
       "1FOURW     3.0  1123935.02    11111 WILSON ROAD      NEW BUFFALO MI 49117   \n",
       "7CCECD     4.0  1011834.96    PETOSKEY MI 49770                             \n",
       "1OTTSD     5.0   848407.03  WEST OLIVE MI 49460                             \n",
       "1KENCD     6.0   592820.26           PO BOX 905          WYOMING MI 49509   \n",
       "4BERSH     7.0   563431.43      701 MAIN STREET  ST. JOSEPH MI 49085-1392   \n",
       "\n",
       "           Open Date  \n",
       "Customer              \n",
       "1FOURW     1/29/2008  \n",
       "7CCECD    11/01/1999  \n",
       "1OTTSD    11/01/1999  \n",
       "1KENCD     6/12/2017  \n",
       "4BERSH    11/01/1999  "
      ]
     },
     "execution_count": 107,
     "metadata": {},
     "output_type": "execute_result"
    }
   ],
   "source": [
    "combined.sort_values('Rank', inplace=True)\n",
    "combined.head()"
   ]
  },
  {
   "cell_type": "markdown",
   "metadata": {},
   "source": [
    "__How to get the Zip codes cleaned up?__\n",
    "\n",
    "Combine both address columns. \n",
    "Create a function that strips all but the last 5 digits, unless the 5th from last is a dash, then it keeps the next 5 prior to those.\n",
    "\n",
    "Let's try that"
   ]
  },
  {
   "cell_type": "code",
   "execution_count": 117,
   "metadata": {},
   "outputs": [],
   "source": [
    "combined['Address'] = combined['Address 2'] + combined['Address 3']"
   ]
  },
  {
   "cell_type": "code",
   "execution_count": 119,
   "metadata": {},
   "outputs": [],
   "source": [
    "combined.drop(['Address 2','Address 3'], axis=1, inplace=True)"
   ]
  },
  {
   "cell_type": "code",
   "execution_count": 120,
   "metadata": {},
   "outputs": [
    {
     "data": {
      "text/html": [
       "<div>\n",
       "<style scoped>\n",
       "    .dataframe tbody tr th:only-of-type {\n",
       "        vertical-align: middle;\n",
       "    }\n",
       "\n",
       "    .dataframe tbody tr th {\n",
       "        vertical-align: top;\n",
       "    }\n",
       "\n",
       "    .dataframe thead th {\n",
       "        text-align: right;\n",
       "    }\n",
       "</style>\n",
       "<table border=\"1\" class=\"dataframe\">\n",
       "  <thead>\n",
       "    <tr style=\"text-align: right;\">\n",
       "      <th></th>\n",
       "      <th>Industry/Vertical</th>\n",
       "      <th>Contact Owner</th>\n",
       "      <th>Postal/ZIP</th>\n",
       "      <th>Last Purchased</th>\n",
       "      <th>Rank</th>\n",
       "      <th>Amount</th>\n",
       "      <th>Open Date</th>\n",
       "      <th>Address</th>\n",
       "    </tr>\n",
       "    <tr>\n",
       "      <th>Customer</th>\n",
       "      <th></th>\n",
       "      <th></th>\n",
       "      <th></th>\n",
       "      <th></th>\n",
       "      <th></th>\n",
       "      <th></th>\n",
       "      <th></th>\n",
       "      <th></th>\n",
       "    </tr>\n",
       "  </thead>\n",
       "  <tbody>\n",
       "    <tr>\n",
       "      <th>1FOURW</th>\n",
       "      <td>Hospitality</td>\n",
       "      <td>Tom Gillespie</td>\n",
       "      <td>49117</td>\n",
       "      <td>2020-05-18</td>\n",
       "      <td>3.0</td>\n",
       "      <td>1123935.02</td>\n",
       "      <td>1/29/2008</td>\n",
       "      <td>11111 WILSON ROADNEW BUFFALO MI 49117</td>\n",
       "    </tr>\n",
       "    <tr>\n",
       "      <th>7CCECD</th>\n",
       "      <td>911 &amp; Dispatch</td>\n",
       "      <td>Jessica Spindler</td>\n",
       "      <td>NaN</td>\n",
       "      <td>2020-05-18</td>\n",
       "      <td>4.0</td>\n",
       "      <td>1011834.96</td>\n",
       "      <td>11/01/1999</td>\n",
       "      <td>PETOSKEY MI 49770</td>\n",
       "    </tr>\n",
       "    <tr>\n",
       "      <th>1OTTSD</th>\n",
       "      <td>Law Enforcement</td>\n",
       "      <td>Keith Johnson</td>\n",
       "      <td>NaN</td>\n",
       "      <td>2020-05-08</td>\n",
       "      <td>5.0</td>\n",
       "      <td>848407.03</td>\n",
       "      <td>11/01/1999</td>\n",
       "      <td>WEST OLIVE MI 49460</td>\n",
       "    </tr>\n",
       "    <tr>\n",
       "      <th>1KENCD</th>\n",
       "      <td>911 &amp; Dispatch</td>\n",
       "      <td>Keith Johnson</td>\n",
       "      <td>NaN</td>\n",
       "      <td>2019-06-28</td>\n",
       "      <td>6.0</td>\n",
       "      <td>592820.26</td>\n",
       "      <td>6/12/2017</td>\n",
       "      <td>PO BOX 905WYOMING MI 49509</td>\n",
       "    </tr>\n",
       "    <tr>\n",
       "      <th>4BERSH</th>\n",
       "      <td>Government Services</td>\n",
       "      <td>Tom Gillespie</td>\n",
       "      <td>NaN</td>\n",
       "      <td>2020-05-15</td>\n",
       "      <td>7.0</td>\n",
       "      <td>563431.43</td>\n",
       "      <td>11/01/1999</td>\n",
       "      <td>701 MAIN STREETST. JOSEPH MI 49085-1392</td>\n",
       "    </tr>\n",
       "  </tbody>\n",
       "</table>\n",
       "</div>"
      ],
      "text/plain": [
       "            Industry/Vertical     Contact Owner Postal/ZIP Last Purchased  \\\n",
       "Customer                                                                    \n",
       "1FOURW            Hospitality     Tom Gillespie      49117     2020-05-18   \n",
       "7CCECD         911 & Dispatch  Jessica Spindler        NaN     2020-05-18   \n",
       "1OTTSD        Law Enforcement     Keith Johnson        NaN     2020-05-08   \n",
       "1KENCD         911 & Dispatch     Keith Johnson        NaN     2019-06-28   \n",
       "4BERSH    Government Services     Tom Gillespie        NaN     2020-05-15   \n",
       "\n",
       "          Rank      Amount   Open Date  \\\n",
       "Customer                                 \n",
       "1FOURW     3.0  1123935.02   1/29/2008   \n",
       "7CCECD     4.0  1011834.96  11/01/1999   \n",
       "1OTTSD     5.0   848407.03  11/01/1999   \n",
       "1KENCD     6.0   592820.26   6/12/2017   \n",
       "4BERSH     7.0   563431.43  11/01/1999   \n",
       "\n",
       "                                          Address  \n",
       "Customer                                           \n",
       "1FOURW      11111 WILSON ROADNEW BUFFALO MI 49117  \n",
       "7CCECD                   PETOSKEY MI 49770         \n",
       "1OTTSD                 WEST OLIVE MI 49460         \n",
       "1KENCD                 PO BOX 905WYOMING MI 49509  \n",
       "4BERSH    701 MAIN STREETST. JOSEPH MI 49085-1392  "
      ]
     },
     "execution_count": 120,
     "metadata": {},
     "output_type": "execute_result"
    }
   ],
   "source": [
    "combined.head()"
   ]
  },
  {
   "cell_type": "code",
   "execution_count": 172,
   "metadata": {},
   "outputs": [],
   "source": [
    "# Create my zip-returning function\n",
    "\n",
    "def get_zip(address):\n",
    "    '''Takes a string address and returns the zip code'''\n",
    "    address = str(address).strip()\n",
    "    try:\n",
    "        if address[-5]=='-':\n",
    "            return address[-10:-5]\n",
    "        else:\n",
    "            return address[-5:]\n",
    "    except:\n",
    "        return"
   ]
  },
  {
   "cell_type": "code",
   "execution_count": 165,
   "metadata": {},
   "outputs": [
    {
     "name": "stdout",
     "output_type": "stream",
     "text": [
      "49085\n",
      "49509\n"
     ]
    }
   ],
   "source": [
    "# Testing function\n",
    "print(get_zip('701 MAIN STREETST. JOSEPH MI 49085-1392'))\n",
    "\n",
    "print(get_zip('PO BOX 905WYOMING MI 49509'))"
   ]
  },
  {
   "cell_type": "code",
   "execution_count": 173,
   "metadata": {},
   "outputs": [
    {
     "data": {
      "text/html": [
       "<div>\n",
       "<style scoped>\n",
       "    .dataframe tbody tr th:only-of-type {\n",
       "        vertical-align: middle;\n",
       "    }\n",
       "\n",
       "    .dataframe tbody tr th {\n",
       "        vertical-align: top;\n",
       "    }\n",
       "\n",
       "    .dataframe thead th {\n",
       "        text-align: right;\n",
       "    }\n",
       "</style>\n",
       "<table border=\"1\" class=\"dataframe\">\n",
       "  <thead>\n",
       "    <tr style=\"text-align: right;\">\n",
       "      <th></th>\n",
       "      <th>Industry/Vertical</th>\n",
       "      <th>Contact Owner</th>\n",
       "      <th>Postal/ZIP</th>\n",
       "      <th>Last Purchased</th>\n",
       "      <th>Rank</th>\n",
       "      <th>Amount</th>\n",
       "      <th>Open Date</th>\n",
       "      <th>Address</th>\n",
       "      <th>Zip</th>\n",
       "    </tr>\n",
       "    <tr>\n",
       "      <th>Customer</th>\n",
       "      <th></th>\n",
       "      <th></th>\n",
       "      <th></th>\n",
       "      <th></th>\n",
       "      <th></th>\n",
       "      <th></th>\n",
       "      <th></th>\n",
       "      <th></th>\n",
       "      <th></th>\n",
       "    </tr>\n",
       "  </thead>\n",
       "  <tbody>\n",
       "    <tr>\n",
       "      <th>1FOURW</th>\n",
       "      <td>Hospitality</td>\n",
       "      <td>Tom Gillespie</td>\n",
       "      <td>49117</td>\n",
       "      <td>2020-05-18</td>\n",
       "      <td>3.0</td>\n",
       "      <td>1123935.02</td>\n",
       "      <td>1/29/2008</td>\n",
       "      <td>11111 WILSON ROADNEW BUFFALO MI 49117</td>\n",
       "      <td>49117</td>\n",
       "    </tr>\n",
       "    <tr>\n",
       "      <th>7CCECD</th>\n",
       "      <td>911 &amp; Dispatch</td>\n",
       "      <td>Jessica Spindler</td>\n",
       "      <td>NaN</td>\n",
       "      <td>2020-05-18</td>\n",
       "      <td>4.0</td>\n",
       "      <td>1011834.96</td>\n",
       "      <td>11/01/1999</td>\n",
       "      <td>PETOSKEY MI 49770</td>\n",
       "      <td>49770</td>\n",
       "    </tr>\n",
       "    <tr>\n",
       "      <th>1OTTSD</th>\n",
       "      <td>Law Enforcement</td>\n",
       "      <td>Keith Johnson</td>\n",
       "      <td>NaN</td>\n",
       "      <td>2020-05-08</td>\n",
       "      <td>5.0</td>\n",
       "      <td>848407.03</td>\n",
       "      <td>11/01/1999</td>\n",
       "      <td>WEST OLIVE MI 49460</td>\n",
       "      <td>49460</td>\n",
       "    </tr>\n",
       "    <tr>\n",
       "      <th>1KENCD</th>\n",
       "      <td>911 &amp; Dispatch</td>\n",
       "      <td>Keith Johnson</td>\n",
       "      <td>NaN</td>\n",
       "      <td>2019-06-28</td>\n",
       "      <td>6.0</td>\n",
       "      <td>592820.26</td>\n",
       "      <td>6/12/2017</td>\n",
       "      <td>PO BOX 905WYOMING MI 49509</td>\n",
       "      <td>49509</td>\n",
       "    </tr>\n",
       "    <tr>\n",
       "      <th>4BERSH</th>\n",
       "      <td>Government Services</td>\n",
       "      <td>Tom Gillespie</td>\n",
       "      <td>NaN</td>\n",
       "      <td>2020-05-15</td>\n",
       "      <td>7.0</td>\n",
       "      <td>563431.43</td>\n",
       "      <td>11/01/1999</td>\n",
       "      <td>701 MAIN STREETST. JOSEPH MI 49085-1392</td>\n",
       "      <td>49085</td>\n",
       "    </tr>\n",
       "  </tbody>\n",
       "</table>\n",
       "</div>"
      ],
      "text/plain": [
       "            Industry/Vertical     Contact Owner Postal/ZIP Last Purchased  \\\n",
       "Customer                                                                    \n",
       "1FOURW            Hospitality     Tom Gillespie      49117     2020-05-18   \n",
       "7CCECD         911 & Dispatch  Jessica Spindler        NaN     2020-05-18   \n",
       "1OTTSD        Law Enforcement     Keith Johnson        NaN     2020-05-08   \n",
       "1KENCD         911 & Dispatch     Keith Johnson        NaN     2019-06-28   \n",
       "4BERSH    Government Services     Tom Gillespie        NaN     2020-05-15   \n",
       "\n",
       "          Rank      Amount   Open Date  \\\n",
       "Customer                                 \n",
       "1FOURW     3.0  1123935.02   1/29/2008   \n",
       "7CCECD     4.0  1011834.96  11/01/1999   \n",
       "1OTTSD     5.0   848407.03  11/01/1999   \n",
       "1KENCD     6.0   592820.26   6/12/2017   \n",
       "4BERSH     7.0   563431.43  11/01/1999   \n",
       "\n",
       "                                          Address    Zip  \n",
       "Customer                                                  \n",
       "1FOURW      11111 WILSON ROADNEW BUFFALO MI 49117  49117  \n",
       "7CCECD                   PETOSKEY MI 49770         49770  \n",
       "1OTTSD                 WEST OLIVE MI 49460         49460  \n",
       "1KENCD                 PO BOX 905WYOMING MI 49509  49509  \n",
       "4BERSH    701 MAIN STREETST. JOSEPH MI 49085-1392  49085  "
      ]
     },
     "execution_count": 173,
     "metadata": {},
     "output_type": "execute_result"
    }
   ],
   "source": [
    "combined['Zip'] = combined['Address'].apply(get_zip)\n",
    "combined.head()"
   ]
  },
  {
   "cell_type": "code",
   "execution_count": 175,
   "metadata": {},
   "outputs": [],
   "source": [
    "combined.drop(['Postal/ZIP','Address'], axis=1, inplace=True)"
   ]
  },
  {
   "cell_type": "code",
   "execution_count": 177,
   "metadata": {},
   "outputs": [
    {
     "data": {
      "text/html": [
       "<div>\n",
       "<style scoped>\n",
       "    .dataframe tbody tr th:only-of-type {\n",
       "        vertical-align: middle;\n",
       "    }\n",
       "\n",
       "    .dataframe tbody tr th {\n",
       "        vertical-align: top;\n",
       "    }\n",
       "\n",
       "    .dataframe thead th {\n",
       "        text-align: right;\n",
       "    }\n",
       "</style>\n",
       "<table border=\"1\" class=\"dataframe\">\n",
       "  <thead>\n",
       "    <tr style=\"text-align: right;\">\n",
       "      <th></th>\n",
       "      <th>Industry/Vertical</th>\n",
       "      <th>Contact Owner</th>\n",
       "      <th>Last Purchased</th>\n",
       "      <th>Rank</th>\n",
       "      <th>Amount</th>\n",
       "      <th>Open Date</th>\n",
       "      <th>Zip</th>\n",
       "    </tr>\n",
       "    <tr>\n",
       "      <th>Customer</th>\n",
       "      <th></th>\n",
       "      <th></th>\n",
       "      <th></th>\n",
       "      <th></th>\n",
       "      <th></th>\n",
       "      <th></th>\n",
       "      <th></th>\n",
       "    </tr>\n",
       "  </thead>\n",
       "  <tbody>\n",
       "    <tr>\n",
       "      <th>1FOURW</th>\n",
       "      <td>Hospitality</td>\n",
       "      <td>Tom Gillespie</td>\n",
       "      <td>2020-05-18</td>\n",
       "      <td>3.0</td>\n",
       "      <td>1123935.02</td>\n",
       "      <td>1/29/2008</td>\n",
       "      <td>49117</td>\n",
       "    </tr>\n",
       "    <tr>\n",
       "      <th>7CCECD</th>\n",
       "      <td>911 &amp; Dispatch</td>\n",
       "      <td>Jessica Spindler</td>\n",
       "      <td>2020-05-18</td>\n",
       "      <td>4.0</td>\n",
       "      <td>1011834.96</td>\n",
       "      <td>11/01/1999</td>\n",
       "      <td>49770</td>\n",
       "    </tr>\n",
       "    <tr>\n",
       "      <th>1OTTSD</th>\n",
       "      <td>Law Enforcement</td>\n",
       "      <td>Keith Johnson</td>\n",
       "      <td>2020-05-08</td>\n",
       "      <td>5.0</td>\n",
       "      <td>848407.03</td>\n",
       "      <td>11/01/1999</td>\n",
       "      <td>49460</td>\n",
       "    </tr>\n",
       "    <tr>\n",
       "      <th>1KENCD</th>\n",
       "      <td>911 &amp; Dispatch</td>\n",
       "      <td>Keith Johnson</td>\n",
       "      <td>2019-06-28</td>\n",
       "      <td>6.0</td>\n",
       "      <td>592820.26</td>\n",
       "      <td>6/12/2017</td>\n",
       "      <td>49509</td>\n",
       "    </tr>\n",
       "    <tr>\n",
       "      <th>4BERSH</th>\n",
       "      <td>Government Services</td>\n",
       "      <td>Tom Gillespie</td>\n",
       "      <td>2020-05-15</td>\n",
       "      <td>7.0</td>\n",
       "      <td>563431.43</td>\n",
       "      <td>11/01/1999</td>\n",
       "      <td>49085</td>\n",
       "    </tr>\n",
       "  </tbody>\n",
       "</table>\n",
       "</div>"
      ],
      "text/plain": [
       "            Industry/Vertical     Contact Owner Last Purchased  Rank  \\\n",
       "Customer                                                               \n",
       "1FOURW            Hospitality     Tom Gillespie     2020-05-18   3.0   \n",
       "7CCECD         911 & Dispatch  Jessica Spindler     2020-05-18   4.0   \n",
       "1OTTSD        Law Enforcement     Keith Johnson     2020-05-08   5.0   \n",
       "1KENCD         911 & Dispatch     Keith Johnson     2019-06-28   6.0   \n",
       "4BERSH    Government Services     Tom Gillespie     2020-05-15   7.0   \n",
       "\n",
       "              Amount   Open Date    Zip  \n",
       "Customer                                 \n",
       "1FOURW    1123935.02   1/29/2008  49117  \n",
       "7CCECD    1011834.96  11/01/1999  49770  \n",
       "1OTTSD     848407.03  11/01/1999  49460  \n",
       "1KENCD     592820.26   6/12/2017  49509  \n",
       "4BERSH     563431.43  11/01/1999  49085  "
      ]
     },
     "metadata": {},
     "output_type": "display_data"
    },
    {
     "name": "stdout",
     "output_type": "stream",
     "text": [
      "<class 'pandas.core.frame.DataFrame'>\n",
      "Index: 805 entries, 1FOURW to nan\n",
      "Data columns (total 7 columns):\n",
      " #   Column             Non-Null Count  Dtype         \n",
      "---  ------             --------------  -----         \n",
      " 0   Industry/Vertical  805 non-null    category      \n",
      " 1   Contact Owner      805 non-null    category      \n",
      " 2   Last Purchased     619 non-null    datetime64[ns]\n",
      " 3   Rank               648 non-null    float64       \n",
      " 4   Amount             648 non-null    float64       \n",
      " 5   Open Date          648 non-null    object        \n",
      " 6   Zip                648 non-null    object        \n",
      "dtypes: category(2), datetime64[ns](1), float64(2), object(2)\n",
      "memory usage: 60.3+ KB\n",
      "None\n"
     ]
    }
   ],
   "source": [
    "display(combined.head())\n",
    "print(combined.info())"
   ]
  },
  {
   "cell_type": "markdown",
   "metadata": {},
   "source": [
    "So actually there are only 648 customers with fully fleshed out information here. I'll only work with those for now.\n",
    "\n",
    "[TSK]"
   ]
  },
  {
   "cell_type": "markdown",
   "metadata": {},
   "source": [
    "## File 4: Sales Report by Zip Code\"\n",
    "\n",
    "This file is being set aside. It includes total sales by zip code from 2010 to 2020. The issues are:\n",
    "* that timeframe doesn't match with the 2015 to 2020 timeframe of the rest of the data\n",
    "* it is completely aggregated by zip with no way of breaking it out any further\n",
    "* with a list of all the sales I can re-create this kind of \"gouped by zip code\" data easily, and ONLY for the time frame that matches the rest of the data"
   ]
  },
  {
   "cell_type": "markdown",
   "metadata": {},
   "source": [
    "## Files 5 & 6: TR county Opp Detail 2019 & 1.18.19\n",
    "\n",
    "Not loading this in yet until I confirm my understanding. This could be useful for visualizations."
   ]
  },
  {
   "cell_type": "code",
   "execution_count": 94,
   "metadata": {},
   "outputs": [],
   "source": [
    "### This was my code to load the data before...dont' remember what _tr was....\n",
    "### Setting all this aside for now until I have conversation with them\n",
    "# Load county data\n",
    "#county_2018 = pd.read_excel('Tele-Rad County Opportunity 1.18.19.xlsx', header=0, usecols=[1,2,3,4,5,6])\n",
    "#county_2019 = pd.read_excel('Tele-Rad County Opportunty Detail 2019.xlsx', usecols=[1,2,3,4,5,6])\n",
    "#county_tr2017 = pd.read_excel('Tele-Rad County Ownership 1.18.19.xlsx', header=1, \n",
    "#                              usecols=[0,2,3,4])\n",
    "#county_tr2018 = pd.read_excel('Tele-Rad County Ownership 1.18.19.xlsx', header=1, \n",
    "#                              usecols=[0,5,6,7])"
   ]
  },
  {
   "cell_type": "markdown",
   "metadata": {},
   "source": [
    "## File 7: TR County Ownership\n",
    "\n",
    "Same as above, need a deeper conversation/understanding"
   ]
  },
  {
   "cell_type": "markdown",
   "metadata": {},
   "source": [
    "## File 8: TR Product Mix\n",
    "\n",
    "This was a visualization of total sales by product. Micah sent me the details. Will use that information instead"
   ]
  },
  {
   "cell_type": "markdown",
   "metadata": {},
   "source": [
    "## File 9: TR Product Trend Data\n",
    "\n",
    "I'm not really understanding this all that well"
   ]
  },
  {
   "cell_type": "markdown",
   "metadata": {},
   "source": [
    "# DSM Step 3: EDA"
   ]
  },
  {
   "cell_type": "code",
   "execution_count": 95,
   "metadata": {},
   "outputs": [
    {
     "data": {
      "text/html": [
       "<div>\n",
       "<style scoped>\n",
       "    .dataframe tbody tr th:only-of-type {\n",
       "        vertical-align: middle;\n",
       "    }\n",
       "\n",
       "    .dataframe tbody tr th {\n",
       "        vertical-align: top;\n",
       "    }\n",
       "\n",
       "    .dataframe thead th {\n",
       "        text-align: right;\n",
       "    }\n",
       "</style>\n",
       "<table border=\"1\" class=\"dataframe\">\n",
       "  <thead>\n",
       "    <tr style=\"text-align: right;\">\n",
       "      <th></th>\n",
       "      <th>Industry/Vertical</th>\n",
       "      <th>Contact Owner</th>\n",
       "      <th>Postal/ZIP</th>\n",
       "      <th>Last Purchased</th>\n",
       "    </tr>\n",
       "    <tr>\n",
       "      <th>Account Number</th>\n",
       "      <th></th>\n",
       "      <th></th>\n",
       "      <th></th>\n",
       "      <th></th>\n",
       "    </tr>\n",
       "  </thead>\n",
       "  <tbody>\n",
       "    <tr>\n",
       "      <th>1ALLCD</th>\n",
       "      <td>911 &amp; Dispatch</td>\n",
       "      <td>Keith Johnson</td>\n",
       "      <td>NaN</td>\n",
       "      <td>2020-05-18</td>\n",
       "    </tr>\n",
       "    <tr>\n",
       "      <th>1ALPCO</th>\n",
       "      <td>911 &amp; Dispatch</td>\n",
       "      <td>Jessica Spindler</td>\n",
       "      <td>49707-2453</td>\n",
       "      <td>2020-02-13</td>\n",
       "    </tr>\n",
       "    <tr>\n",
       "      <th>7BENCS</th>\n",
       "      <td>911 &amp; Dispatch</td>\n",
       "      <td>Jessica Spindler</td>\n",
       "      <td>49617</td>\n",
       "      <td>2019-07-29</td>\n",
       "    </tr>\n",
       "    <tr>\n",
       "      <th>7CCECD</th>\n",
       "      <td>911 &amp; Dispatch</td>\n",
       "      <td>Jessica Spindler</td>\n",
       "      <td>NaN</td>\n",
       "      <td>2020-05-18</td>\n",
       "    </tr>\n",
       "    <tr>\n",
       "      <th>4EDWFD</th>\n",
       "      <td>911 &amp; Dispatch</td>\n",
       "      <td>Tom Gillespie</td>\n",
       "      <td>NaN</td>\n",
       "      <td>2020-01-24</td>\n",
       "    </tr>\n",
       "  </tbody>\n",
       "</table>\n",
       "</div>"
      ],
      "text/plain": [
       "               Industry/Vertical     Contact Owner  Postal/ZIP Last Purchased\n",
       "Account Number                                                               \n",
       "1ALLCD            911 & Dispatch     Keith Johnson         NaN     2020-05-18\n",
       "1ALPCO            911 & Dispatch  Jessica Spindler  49707-2453     2020-02-13\n",
       "7BENCS            911 & Dispatch  Jessica Spindler       49617     2019-07-29\n",
       "7CCECD            911 & Dispatch  Jessica Spindler         NaN     2020-05-18\n",
       "4EDWFD            911 & Dispatch     Tom Gillespie         NaN     2020-01-24"
      ]
     },
     "execution_count": 95,
     "metadata": {},
     "output_type": "execute_result"
    }
   ],
   "source": [
    "customers.head()"
   ]
  },
  {
   "cell_type": "code",
   "execution_count": 96,
   "metadata": {},
   "outputs": [
    {
     "data": {
      "image/png": "[encoded data removed]",
      "text/plain": [
       "<Figure size 432x288 with 1 Axes>"
      ]
     },
     "metadata": {
      "needs_background": "light"
     },
     "output_type": "display_data"
    }
   ],
   "source": [
    "sns.countplot(y='Industry/Vertical', data=customers)\n",
    "plt.tight_layout()"
   ]
  },
  {
   "cell_type": "code",
   "execution_count": 97,
   "metadata": {},
   "outputs": [
    {
     "data": {
      "text/plain": [
       "[911 & Dispatch, Agriculture, Colleges & Universities, Construction, Fire & EMS, ..., Services & Training, Telecommunications, Transportation, Utilities, Warehousing]\n",
       "Length: 22\n",
       "Categories (22, object): [911 & Dispatch, Agriculture, Colleges & Universities, Construction, ..., Telecommunications, Transportation, Utilities, Warehousing]"
      ]
     },
     "execution_count": 97,
     "metadata": {},
     "output_type": "execute_result"
    }
   ],
   "source": [
    "# Clean up industry/verticals\n",
    "customers['Industry/Vertical'].unique()"
   ]
  },
  {
   "cell_type": "code",
   "execution_count": null,
   "metadata": {},
   "outputs": [],
   "source": []
  }
 ],
 "metadata": {
  "kernelspec": {
   "display_name": "Python 3",
   "language": "python",
   "name": "python3"
  },
  "language_info": {
   "codemirror_mode": {
    "name": "ipython",
    "version": 3
   },
   "file_extension": ".py",
   "mimetype": "text/x-python",
   "name": "python",
   "nbconvert_exporter": "python",
   "pygments_lexer": "ipython3",
   "version": "3.7.6"
  }
 },
 "nbformat": 4,
 "nbformat_minor": 4
}
