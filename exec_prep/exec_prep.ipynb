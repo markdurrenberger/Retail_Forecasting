{
 "cells": [
  {
   "cell_type": "code",
   "execution_count": 2,
   "metadata": {},
   "outputs": [],
   "source": [
    "import pandas as pd\n",
    "import numpy as np\n",
    "import matplotlib.pyplot as plt\n",
    "import seaborn as sns\n",
    "import datetime"
   ]
  },
  {
   "cell_type": "code",
   "execution_count": 3,
   "metadata": {},
   "outputs": [],
   "source": [
    "data = pd.read_csv('data.csv')"
   ]
  },
  {
   "cell_type": "code",
   "execution_count": 4,
   "metadata": {},
   "outputs": [
    {
     "name": "stdout",
     "output_type": "stream",
     "text": [
      "<class 'pandas.core.frame.DataFrame'>\n",
      "RangeIndex: 7890 entries, 0 to 7889\n",
      "Data columns (total 15 columns):\n",
      " #   Column              Non-Null Count  Dtype  \n",
      "---  ------              --------------  -----  \n",
      " 0   Unnamed: 0          7890 non-null   int64  \n",
      " 1   customer            7890 non-null   object \n",
      " 2   invoice_date        7890 non-null   object \n",
      " 3   qty_shipped         7890 non-null   float64\n",
      " 4   item                7890 non-null   object \n",
      " 5   description         7878 non-null   object \n",
      " 6   item_price          7890 non-null   float64\n",
      " 7   customer.1          7890 non-null   object \n",
      " 8   industry            7890 non-null   object \n",
      " 9   contact_owner       7890 non-null   object \n",
      " 10  lifetime_sales      7890 non-null   float64\n",
      " 11  first_sale          7890 non-null   object \n",
      " 12  county              7890 non-null   object \n",
      " 13  market_opportunity  7890 non-null   float64\n",
      " 14  %_market_opp        7890 non-null   float64\n",
      "dtypes: float64(5), int64(1), object(9)\n",
      "memory usage: 924.7+ KB\n"
     ]
    }
   ],
   "source": [
    "data.info()"
   ]
  },
  {
   "cell_type": "code",
   "execution_count": 5,
   "metadata": {},
   "outputs": [],
   "source": [
    "data.drop(['Unnamed: 0','customer.1'], axis=1, inplace=True)\n",
    "data['invoice_date'] = pd.to_datetime(data['invoice_date'])\n",
    "data['first_sale'] = pd.to_datetime(data['first_sale'])"
   ]
  },
  {
   "cell_type": "code",
   "execution_count": 6,
   "metadata": {},
   "outputs": [],
   "source": [
    "data['industry'] = data['industry'].astype('category')\n",
    "data['contact_owner'] = data['contact_owner'].astype('category')\n",
    "data['county'] = data['county'].astype('category')"
   ]
  },
  {
   "cell_type": "code",
   "execution_count": 7,
   "metadata": {},
   "outputs": [
    {
     "data": {
      "text/html": [
       "<div>\n",
       "<style scoped>\n",
       "    .dataframe tbody tr th:only-of-type {\n",
       "        vertical-align: middle;\n",
       "    }\n",
       "\n",
       "    .dataframe tbody tr th {\n",
       "        vertical-align: top;\n",
       "    }\n",
       "\n",
       "    .dataframe thead th {\n",
       "        text-align: right;\n",
       "    }\n",
       "</style>\n",
       "<table border=\"1\" class=\"dataframe\">\n",
       "  <thead>\n",
       "    <tr style=\"text-align: right;\">\n",
       "      <th></th>\n",
       "      <th>customer</th>\n",
       "      <th>invoice_date</th>\n",
       "      <th>qty_shipped</th>\n",
       "      <th>item</th>\n",
       "      <th>description</th>\n",
       "      <th>item_price</th>\n",
       "      <th>industry</th>\n",
       "      <th>contact_owner</th>\n",
       "      <th>lifetime_sales</th>\n",
       "      <th>first_sale</th>\n",
       "      <th>county</th>\n",
       "      <th>market_opportunity</th>\n",
       "      <th>%_market_opp</th>\n",
       "    </tr>\n",
       "  </thead>\n",
       "  <tbody>\n",
       "    <tr>\n",
       "      <th>0</th>\n",
       "      <td>1HOLPS</td>\n",
       "      <td>2015-05-08</td>\n",
       "      <td>1.0</td>\n",
       "      <td>T3000</td>\n",
       "      <td>MOTO MTR3000 BASE RADIO</td>\n",
       "      <td>6020.8</td>\n",
       "      <td>K12 Education</td>\n",
       "      <td>Keith Johnson</td>\n",
       "      <td>39760.49</td>\n",
       "      <td>1999-11-01</td>\n",
       "      <td>Ottawa</td>\n",
       "      <td>825673.0</td>\n",
       "      <td>0.309</td>\n",
       "    </tr>\n",
       "    <tr>\n",
       "      <th>1</th>\n",
       "      <td>1VANAI</td>\n",
       "      <td>2015-04-17</td>\n",
       "      <td>2.0</td>\n",
       "      <td>AAM27QNH9LA1</td>\n",
       "      <td>XPR 4550 403-470 1-25W 160 CH</td>\n",
       "      <td>681.0</td>\n",
       "      <td>Healthcare</td>\n",
       "      <td>Skip Petrovich</td>\n",
       "      <td>25907.89</td>\n",
       "      <td>2004-10-25</td>\n",
       "      <td>Kent</td>\n",
       "      <td>1601574.0</td>\n",
       "      <td>0.421</td>\n",
       "    </tr>\n",
       "    <tr>\n",
       "      <th>2</th>\n",
       "      <td>1VANAI</td>\n",
       "      <td>2015-04-17</td>\n",
       "      <td>2.0</td>\n",
       "      <td>SEC1223MOTOTRBO</td>\n",
       "      <td>SAMLEX BASE STATION PWR SUPPLY</td>\n",
       "      <td>156.0</td>\n",
       "      <td>Healthcare</td>\n",
       "      <td>Skip Petrovich</td>\n",
       "      <td>25907.89</td>\n",
       "      <td>2004-10-25</td>\n",
       "      <td>Kent</td>\n",
       "      <td>1601574.0</td>\n",
       "      <td>0.421</td>\n",
       "    </tr>\n",
       "    <tr>\n",
       "      <th>3</th>\n",
       "      <td>1VANAI</td>\n",
       "      <td>2015-04-17</td>\n",
       "      <td>2.0</td>\n",
       "      <td>0180355A80</td>\n",
       "      <td>SPECTRUM MAGNETIC MNT  MINIUHF</td>\n",
       "      <td>28.5</td>\n",
       "      <td>Healthcare</td>\n",
       "      <td>Skip Petrovich</td>\n",
       "      <td>25907.89</td>\n",
       "      <td>2004-10-25</td>\n",
       "      <td>Kent</td>\n",
       "      <td>1601574.0</td>\n",
       "      <td>0.421</td>\n",
       "    </tr>\n",
       "    <tr>\n",
       "      <th>4</th>\n",
       "      <td>1VANAI</td>\n",
       "      <td>2015-04-17</td>\n",
       "      <td>2.0</td>\n",
       "      <td>0180352A11</td>\n",
       "      <td>ANTENNA 1/4 WAVE 450-470 MHZ</td>\n",
       "      <td>12.0</td>\n",
       "      <td>Healthcare</td>\n",
       "      <td>Skip Petrovich</td>\n",
       "      <td>25907.89</td>\n",
       "      <td>2004-10-25</td>\n",
       "      <td>Kent</td>\n",
       "      <td>1601574.0</td>\n",
       "      <td>0.421</td>\n",
       "    </tr>\n",
       "  </tbody>\n",
       "</table>\n",
       "</div>"
      ],
      "text/plain": [
       "  customer invoice_date  qty_shipped             item  \\\n",
       "0   1HOLPS   2015-05-08          1.0            T3000   \n",
       "1   1VANAI   2015-04-17          2.0     AAM27QNH9LA1   \n",
       "2   1VANAI   2015-04-17          2.0  SEC1223MOTOTRBO   \n",
       "3   1VANAI   2015-04-17          2.0       0180355A80   \n",
       "4   1VANAI   2015-04-17          2.0       0180352A11   \n",
       "\n",
       "                      description  item_price       industry   contact_owner  \\\n",
       "0         MOTO MTR3000 BASE RADIO      6020.8  K12 Education   Keith Johnson   \n",
       "1   XPR 4550 403-470 1-25W 160 CH       681.0     Healthcare  Skip Petrovich   \n",
       "2  SAMLEX BASE STATION PWR SUPPLY       156.0     Healthcare  Skip Petrovich   \n",
       "3  SPECTRUM MAGNETIC MNT  MINIUHF        28.5     Healthcare  Skip Petrovich   \n",
       "4    ANTENNA 1/4 WAVE 450-470 MHZ        12.0     Healthcare  Skip Petrovich   \n",
       "\n",
       "   lifetime_sales first_sale  county  market_opportunity  %_market_opp  \n",
       "0        39760.49 1999-11-01  Ottawa            825673.0         0.309  \n",
       "1        25907.89 2004-10-25    Kent           1601574.0         0.421  \n",
       "2        25907.89 2004-10-25    Kent           1601574.0         0.421  \n",
       "3        25907.89 2004-10-25    Kent           1601574.0         0.421  \n",
       "4        25907.89 2004-10-25    Kent           1601574.0         0.421  "
      ]
     },
     "execution_count": 7,
     "metadata": {},
     "output_type": "execute_result"
    }
   ],
   "source": [
    "data.head()"
   ]
  },
  {
   "cell_type": "code",
   "execution_count": 8,
   "metadata": {},
   "outputs": [
    {
     "name": "stdout",
     "output_type": "stream",
     "text": [
      "<class 'pandas.core.frame.DataFrame'>\n",
      "RangeIndex: 7890 entries, 0 to 7889\n",
      "Data columns (total 13 columns):\n",
      " #   Column              Non-Null Count  Dtype         \n",
      "---  ------              --------------  -----         \n",
      " 0   customer            7890 non-null   object        \n",
      " 1   invoice_date        7890 non-null   datetime64[ns]\n",
      " 2   qty_shipped         7890 non-null   float64       \n",
      " 3   item                7890 non-null   object        \n",
      " 4   description         7878 non-null   object        \n",
      " 5   item_price          7890 non-null   float64       \n",
      " 6   industry            7890 non-null   category      \n",
      " 7   contact_owner       7890 non-null   category      \n",
      " 8   lifetime_sales      7890 non-null   float64       \n",
      " 9   first_sale          7890 non-null   datetime64[ns]\n",
      " 10  county              7890 non-null   category      \n",
      " 11  market_opportunity  7890 non-null   float64       \n",
      " 12  %_market_opp        7890 non-null   float64       \n",
      "dtypes: category(3), datetime64[ns](2), float64(5), object(3)\n",
      "memory usage: 642.1+ KB\n"
     ]
    }
   ],
   "source": [
    "data.info()"
   ]
  },
  {
   "cell_type": "markdown",
   "metadata": {},
   "source": [
    "# 1) What is the time frame of the sales data I have?"
   ]
  },
  {
   "cell_type": "code",
   "execution_count": 9,
   "metadata": {},
   "outputs": [
    {
     "data": {
      "text/html": [
       "<div>\n",
       "<style scoped>\n",
       "    .dataframe tbody tr th:only-of-type {\n",
       "        vertical-align: middle;\n",
       "    }\n",
       "\n",
       "    .dataframe tbody tr th {\n",
       "        vertical-align: top;\n",
       "    }\n",
       "\n",
       "    .dataframe thead th {\n",
       "        text-align: right;\n",
       "    }\n",
       "</style>\n",
       "<table border=\"1\" class=\"dataframe\">\n",
       "  <thead>\n",
       "    <tr style=\"text-align: right;\">\n",
       "      <th></th>\n",
       "      <th>invoice_date</th>\n",
       "    </tr>\n",
       "  </thead>\n",
       "  <tbody>\n",
       "    <tr>\n",
       "      <th>count</th>\n",
       "      <td>7890</td>\n",
       "    </tr>\n",
       "    <tr>\n",
       "      <th>unique</th>\n",
       "      <td>367</td>\n",
       "    </tr>\n",
       "    <tr>\n",
       "      <th>top</th>\n",
       "      <td>2017-11-22 00:00:00</td>\n",
       "    </tr>\n",
       "    <tr>\n",
       "      <th>freq</th>\n",
       "      <td>121</td>\n",
       "    </tr>\n",
       "    <tr>\n",
       "      <th>first</th>\n",
       "      <td>2015-01-23 00:00:00</td>\n",
       "    </tr>\n",
       "    <tr>\n",
       "      <th>last</th>\n",
       "      <td>2020-09-30 00:00:00</td>\n",
       "    </tr>\n",
       "  </tbody>\n",
       "</table>\n",
       "</div>"
      ],
      "text/plain": [
       "               invoice_date\n",
       "count                  7890\n",
       "unique                  367\n",
       "top     2017-11-22 00:00:00\n",
       "freq                    121\n",
       "first   2015-01-23 00:00:00\n",
       "last    2020-09-30 00:00:00"
      ]
     },
     "execution_count": 9,
     "metadata": {},
     "output_type": "execute_result"
    }
   ],
   "source": [
    "data[['invoice_date']].describe()"
   ]
  },
  {
   "cell_type": "code",
   "execution_count": 10,
   "metadata": {},
   "outputs": [
    {
     "data": {
      "text/html": [
       "<div>\n",
       "<style scoped>\n",
       "    .dataframe tbody tr th:only-of-type {\n",
       "        vertical-align: middle;\n",
       "    }\n",
       "\n",
       "    .dataframe tbody tr th {\n",
       "        vertical-align: top;\n",
       "    }\n",
       "\n",
       "    .dataframe thead th {\n",
       "        text-align: right;\n",
       "    }\n",
       "</style>\n",
       "<table border=\"1\" class=\"dataframe\">\n",
       "  <thead>\n",
       "    <tr style=\"text-align: right;\">\n",
       "      <th></th>\n",
       "      <th>customer</th>\n",
       "      <th>invoice_date</th>\n",
       "      <th>qty_shipped</th>\n",
       "      <th>item</th>\n",
       "      <th>description</th>\n",
       "      <th>item_price</th>\n",
       "      <th>industry</th>\n",
       "      <th>contact_owner</th>\n",
       "      <th>lifetime_sales</th>\n",
       "      <th>first_sale</th>\n",
       "      <th>county</th>\n",
       "      <th>market_opportunity</th>\n",
       "      <th>%_market_opp</th>\n",
       "    </tr>\n",
       "  </thead>\n",
       "  <tbody>\n",
       "    <tr>\n",
       "      <th>28</th>\n",
       "      <td>4BERSH</td>\n",
       "      <td>2015-01-23</td>\n",
       "      <td>1.0</td>\n",
       "      <td>RRA4983</td>\n",
       "      <td>ANTENNA/ MOBILE 806-900 MHZ</td>\n",
       "      <td>57.5</td>\n",
       "      <td>Government Services</td>\n",
       "      <td>Tom Gillespie</td>\n",
       "      <td>563431.43</td>\n",
       "      <td>1999-11-01</td>\n",
       "      <td>Berrien</td>\n",
       "      <td>510290.0</td>\n",
       "      <td>0.291</td>\n",
       "    </tr>\n",
       "    <tr>\n",
       "      <th>29</th>\n",
       "      <td>4BERSH</td>\n",
       "      <td>2015-01-23</td>\n",
       "      <td>1.0</td>\n",
       "      <td>MISC50</td>\n",
       "      <td>MISCELLANEOUS HARDWARE</td>\n",
       "      <td>50.0</td>\n",
       "      <td>Government Services</td>\n",
       "      <td>Tom Gillespie</td>\n",
       "      <td>563431.43</td>\n",
       "      <td>1999-11-01</td>\n",
       "      <td>Berrien</td>\n",
       "      <td>510290.0</td>\n",
       "      <td>0.291</td>\n",
       "    </tr>\n",
       "    <tr>\n",
       "      <th>39</th>\n",
       "      <td>1EATSD</td>\n",
       "      <td>2015-01-23</td>\n",
       "      <td>6.0</td>\n",
       "      <td>AAM25RKF9DP6</td>\n",
       "      <td>CDM1550LS+  160CH  40W  MOBILE</td>\n",
       "      <td>704.0</td>\n",
       "      <td>Law Enforcement</td>\n",
       "      <td>Skip Petrovich</td>\n",
       "      <td>19627.32</td>\n",
       "      <td>2007-12-20</td>\n",
       "      <td>Eaton</td>\n",
       "      <td>365290.0</td>\n",
       "      <td>0.120</td>\n",
       "    </tr>\n",
       "  </tbody>\n",
       "</table>\n",
       "</div>"
      ],
      "text/plain": [
       "   customer invoice_date  qty_shipped          item  \\\n",
       "28   4BERSH   2015-01-23          1.0       RRA4983   \n",
       "29   4BERSH   2015-01-23          1.0        MISC50   \n",
       "39   1EATSD   2015-01-23          6.0  AAM25RKF9DP6   \n",
       "\n",
       "                       description  item_price             industry  \\\n",
       "28     ANTENNA/ MOBILE 806-900 MHZ        57.5  Government Services   \n",
       "29          MISCELLANEOUS HARDWARE        50.0  Government Services   \n",
       "39  CDM1550LS+  160CH  40W  MOBILE       704.0      Law Enforcement   \n",
       "\n",
       "     contact_owner  lifetime_sales first_sale   county  market_opportunity  \\\n",
       "28   Tom Gillespie       563431.43 1999-11-01  Berrien            510290.0   \n",
       "29   Tom Gillespie       563431.43 1999-11-01  Berrien            510290.0   \n",
       "39  Skip Petrovich        19627.32 2007-12-20    Eaton            365290.0   \n",
       "\n",
       "    %_market_opp  \n",
       "28         0.291  \n",
       "29         0.291  \n",
       "39         0.120  "
      ]
     },
     "execution_count": 10,
     "metadata": {},
     "output_type": "execute_result"
    }
   ],
   "source": [
    "# First sale\n",
    "data[data['invoice_date']=='2015-01-23'][:3]"
   ]
  },
  {
   "cell_type": "code",
   "execution_count": 11,
   "metadata": {},
   "outputs": [
    {
     "data": {
      "text/html": [
       "<div>\n",
       "<style scoped>\n",
       "    .dataframe tbody tr th:only-of-type {\n",
       "        vertical-align: middle;\n",
       "    }\n",
       "\n",
       "    .dataframe tbody tr th {\n",
       "        vertical-align: top;\n",
       "    }\n",
       "\n",
       "    .dataframe thead th {\n",
       "        text-align: right;\n",
       "    }\n",
       "</style>\n",
       "<table border=\"1\" class=\"dataframe\">\n",
       "  <thead>\n",
       "    <tr style=\"text-align: right;\">\n",
       "      <th></th>\n",
       "      <th>customer</th>\n",
       "      <th>invoice_date</th>\n",
       "      <th>qty_shipped</th>\n",
       "      <th>item</th>\n",
       "      <th>description</th>\n",
       "      <th>item_price</th>\n",
       "      <th>industry</th>\n",
       "      <th>contact_owner</th>\n",
       "      <th>lifetime_sales</th>\n",
       "      <th>first_sale</th>\n",
       "      <th>county</th>\n",
       "      <th>market_opportunity</th>\n",
       "      <th>%_market_opp</th>\n",
       "    </tr>\n",
       "  </thead>\n",
       "  <tbody>\n",
       "    <tr>\n",
       "      <th>7595</th>\n",
       "      <td>4MICPD</td>\n",
       "      <td>2020-09-30</td>\n",
       "      <td>1.0</td>\n",
       "      <td>B5705T15</td>\n",
       "      <td>PRO-GARD REAR CARGO BARRIER</td>\n",
       "      <td>450.0</td>\n",
       "      <td>Law Enforcement</td>\n",
       "      <td>Tom Gillespie</td>\n",
       "      <td>7203.42</td>\n",
       "      <td>2006-09-06</td>\n",
       "      <td>Berrien</td>\n",
       "      <td>510290.0</td>\n",
       "      <td>0.291</td>\n",
       "    </tr>\n",
       "    <tr>\n",
       "      <th>7596</th>\n",
       "      <td>4MICPD</td>\n",
       "      <td>2020-09-30</td>\n",
       "      <td>1.0</td>\n",
       "      <td>MISC150</td>\n",
       "      <td>MISCELLANEOUS HARDWARE</td>\n",
       "      <td>150.0</td>\n",
       "      <td>Law Enforcement</td>\n",
       "      <td>Tom Gillespie</td>\n",
       "      <td>7203.42</td>\n",
       "      <td>2006-09-06</td>\n",
       "      <td>Berrien</td>\n",
       "      <td>510290.0</td>\n",
       "      <td>0.291</td>\n",
       "    </tr>\n",
       "    <tr>\n",
       "      <th>7597</th>\n",
       "      <td>4MICPD</td>\n",
       "      <td>2020-09-30</td>\n",
       "      <td>1.0</td>\n",
       "      <td>ES100C</td>\n",
       "      <td>FED SIG EMERG SPKR 100W</td>\n",
       "      <td>230.0</td>\n",
       "      <td>Law Enforcement</td>\n",
       "      <td>Tom Gillespie</td>\n",
       "      <td>7203.42</td>\n",
       "      <td>2006-09-06</td>\n",
       "      <td>Berrien</td>\n",
       "      <td>510290.0</td>\n",
       "      <td>0.291</td>\n",
       "    </tr>\n",
       "  </tbody>\n",
       "</table>\n",
       "</div>"
      ],
      "text/plain": [
       "     customer invoice_date  qty_shipped      item  \\\n",
       "7595   4MICPD   2020-09-30          1.0  B5705T15   \n",
       "7596   4MICPD   2020-09-30          1.0   MISC150   \n",
       "7597   4MICPD   2020-09-30          1.0    ES100C   \n",
       "\n",
       "                      description  item_price         industry  contact_owner  \\\n",
       "7595  PRO-GARD REAR CARGO BARRIER       450.0  Law Enforcement  Tom Gillespie   \n",
       "7596       MISCELLANEOUS HARDWARE       150.0  Law Enforcement  Tom Gillespie   \n",
       "7597      FED SIG EMERG SPKR 100W       230.0  Law Enforcement  Tom Gillespie   \n",
       "\n",
       "      lifetime_sales first_sale   county  market_opportunity  %_market_opp  \n",
       "7595         7203.42 2006-09-06  Berrien            510290.0         0.291  \n",
       "7596         7203.42 2006-09-06  Berrien            510290.0         0.291  \n",
       "7597         7203.42 2006-09-06  Berrien            510290.0         0.291  "
      ]
     },
     "execution_count": 11,
     "metadata": {},
     "output_type": "execute_result"
    }
   ],
   "source": [
    "# Final sales\n",
    "data[data['invoice_date']=='2020-09-30'][:3]"
   ]
  },
  {
   "cell_type": "code",
   "execution_count": 12,
   "metadata": {},
   "outputs": [],
   "source": [
    "# Create a year column\n",
    "data['year'] = data.invoice_date.dt.year"
   ]
  },
  {
   "cell_type": "code",
   "execution_count": 13,
   "metadata": {},
   "outputs": [],
   "source": [
    "# Create a total sale amount column\n",
    "data['total_sale'] = data['qty_shipped'] * data['item_price']"
   ]
  },
  {
   "cell_type": "code",
   "execution_count": 14,
   "metadata": {},
   "outputs": [],
   "source": [
    "sales_by_year = data.groupby('year')['total_sale'].sum()"
   ]
  },
  {
   "cell_type": "code",
   "execution_count": 15,
   "metadata": {},
   "outputs": [
    {
     "data": {
      "image/png": "[encoded data removed]",
      "text/plain": [
       "<Figure size 432x288 with 1 Axes>"
      ]
     },
     "metadata": {
      "needs_background": "light"
     },
     "output_type": "display_data"
    }
   ],
   "source": [
    "sns.barplot(x=sales_by_year.index, y=sales_by_year.values)\n",
    "\n",
    "plt.title('Total Sales By Year')\n",
    "plt.xlabel('Year')\n",
    "plt.ylabel('Total Sales ($)')\n",
    "\n",
    "plt.xticks(rotation=45)\n",
    "\n",
    "plt.tight_layout()\n",
    "plt.savefig('sales_by_year.png')"
   ]
  },
  {
   "cell_type": "markdown",
   "metadata": {},
   "source": [
    "# 2) Top Customers during that time frame"
   ]
  },
  {
   "cell_type": "code",
   "execution_count": 16,
   "metadata": {},
   "outputs": [],
   "source": [
    "customers = data.groupby('customer')['total_sale'].sum()"
   ]
  },
  {
   "cell_type": "code",
   "execution_count": 17,
   "metadata": {},
   "outputs": [
    {
     "data": {
      "text/plain": [
       "customer\n",
       "1ADACO      6460.66\n",
       "1ALLCD    645753.34\n",
       "1ALLFD      5337.00\n",
       "1ALLSO      7560.00\n",
       "1ALLTF      8890.75\n",
       "Name: total_sale, dtype: float64"
      ]
     },
     "execution_count": 17,
     "metadata": {},
     "output_type": "execute_result"
    }
   ],
   "source": [
    "customers.head()"
   ]
  },
  {
   "cell_type": "code",
   "execution_count": 18,
   "metadata": {},
   "outputs": [
    {
     "data": {
      "text/plain": [
       "array([1129461.85 ,  908901.12 ,  808393.342,  645753.34 ,  415209.11 ,\n",
       "        404867.72 ,  319750.   ,  299916.69 ,  269776.9  ,  246227.6  ,\n",
       "        243557.26 ,  219609.46 ,  218093.47 ,  183709.2  ,  164365.07 ])"
      ]
     },
     "execution_count": 18,
     "metadata": {},
     "output_type": "execute_result"
    }
   ],
   "source": [
    "customers.sort_values(ascending=False, inplace=True)\n",
    "customers.values[:15]"
   ]
  },
  {
   "cell_type": "code",
   "execution_count": 19,
   "metadata": {},
   "outputs": [
    {
     "data": {
      "image/png": "[encoded data removed]",
      "text/plain": [
       "<Figure size 432x288 with 1 Axes>"
      ]
     },
     "metadata": {
      "needs_background": "light"
     },
     "output_type": "display_data"
    }
   ],
   "source": [
    "sns.barplot(x=customers.index[:15], y=customers.values[:15])\n",
    "\n",
    "plt.title('Top 15 Customers by Total Sales (1/23/15 to 9/30/20)')\n",
    "plt.xlabel('Customer #')\n",
    "plt.ylabel('Total Sales ($)')\n",
    "\n",
    "plt.xticks(rotation=45)\n",
    "\n",
    "plt.tight_layout()\n",
    "plt.savefig('top_customers.png')"
   ]
  },
  {
   "cell_type": "code",
   "execution_count": 20,
   "metadata": {},
   "outputs": [
    {
     "data": {
      "text/plain": [
       "12919911.408299997"
      ]
     },
     "execution_count": 20,
     "metadata": {},
     "output_type": "execute_result"
    }
   ],
   "source": [
    "total_sales = data['total_sale'].sum()\n",
    "total_sales"
   ]
  },
  {
   "cell_type": "code",
   "execution_count": 21,
   "metadata": {},
   "outputs": [
    {
     "data": {
      "text/plain": [
       "1129461.85"
      ]
     },
     "execution_count": 21,
     "metadata": {},
     "output_type": "execute_result"
    }
   ],
   "source": [
    "top_sales = customers.max()\n",
    "top_sales"
   ]
  },
  {
   "cell_type": "code",
   "execution_count": 22,
   "metadata": {},
   "outputs": [
    {
     "data": {
      "text/plain": [
       "0.08742024726844584"
      ]
     },
     "execution_count": 22,
     "metadata": {},
     "output_type": "execute_result"
    }
   ],
   "source": [
    "top_sales/total_sales"
   ]
  },
  {
   "cell_type": "code",
   "execution_count": 23,
   "metadata": {},
   "outputs": [],
   "source": [
    "top4_sales = customers[:4].sum()"
   ]
  },
  {
   "cell_type": "code",
   "execution_count": 24,
   "metadata": {},
   "outputs": [
    {
     "name": "stdout",
     "output_type": "stream",
     "text": [
      "3492509.652\n",
      "0.2703199380884566\n"
     ]
    }
   ],
   "source": [
    "print(top4_sales)\n",
    "print(top4_sales/total_sales)"
   ]
  },
  {
   "cell_type": "code",
   "execution_count": 25,
   "metadata": {},
   "outputs": [
    {
     "name": "stdout",
     "output_type": "stream",
     "text": [
      "6477592.132\n",
      "0.5013650579553256\n"
     ]
    }
   ],
   "source": [
    "top15_sales = customers[:15].sum()\n",
    "print(top15_sales)\n",
    "print(top15_sales/total_sales)"
   ]
  },
  {
   "cell_type": "markdown",
   "metadata": {},
   "source": [
    "# 3) Create the 6 Box plot\n",
    "\n",
    "Need sales by year columns"
   ]
  },
  {
   "cell_type": "code",
   "execution_count": 26,
   "metadata": {},
   "outputs": [],
   "source": [
    "# Create a function that takes in a year and returns the total sales for a specific customer in that year\n",
    "def sales_by_year(customer, year):\n",
    "    df = data[data['customer']==customer]\n",
    "    return df.groupby('year')['total_sale'].sum().loc[year]"
   ]
  },
  {
   "cell_type": "code",
   "execution_count": 27,
   "metadata": {},
   "outputs": [],
   "source": [
    "# Create a data frame that has each customer, and the total yearly sales for each year for that customer\n",
    "customer_list = [x for x in customers.index]\n",
    "years = [2015, 2016, 2017, 2018, 2019]\n",
    "\n",
    "sales_2015 = []\n",
    "sales_2016 = []\n",
    "sales_2017 = []\n",
    "sales_2018 = []\n",
    "sales_2019 = []\n",
    "\n",
    "list_of_lists = [sales_2015, sales_2016, sales_2017, sales_2018, sales_2019]\n",
    "\n",
    "for customer in customer_list:\n",
    "    for i,year in enumerate(years):\n",
    "        try:\n",
    "            list_of_lists[i].append(sales_by_year(customer, year))\n",
    "        except:\n",
    "            list_of_lists[i].append(0)"
   ]
  },
  {
   "cell_type": "code",
   "execution_count": 28,
   "metadata": {},
   "outputs": [],
   "source": [
    "            \n",
    "# Create dictionary from lists:\n",
    "yearly_dict = {'customer': customer_list,\n",
    "                   '2015_sales' : sales_2015,\n",
    "                   '2016_sales' : sales_2016,\n",
    "                   '2017_sales' : sales_2017,\n",
    "                   '2018_sales' : sales_2018,\n",
    "                   '2019_sales' : sales_2019\n",
    "              }\n",
    "\n",
    "df = pd.DataFrame(yearly_dict)"
   ]
  },
  {
   "cell_type": "code",
   "execution_count": 29,
   "metadata": {},
   "outputs": [
    {
     "data": {
      "text/html": [
       "<div>\n",
       "<style scoped>\n",
       "    .dataframe tbody tr th:only-of-type {\n",
       "        vertical-align: middle;\n",
       "    }\n",
       "\n",
       "    .dataframe tbody tr th {\n",
       "        vertical-align: top;\n",
       "    }\n",
       "\n",
       "    .dataframe thead th {\n",
       "        text-align: right;\n",
       "    }\n",
       "</style>\n",
       "<table border=\"1\" class=\"dataframe\">\n",
       "  <thead>\n",
       "    <tr style=\"text-align: right;\">\n",
       "      <th></th>\n",
       "      <th>customer</th>\n",
       "      <th>2015_sales</th>\n",
       "      <th>2016_sales</th>\n",
       "      <th>2017_sales</th>\n",
       "      <th>2018_sales</th>\n",
       "      <th>2019_sales</th>\n",
       "    </tr>\n",
       "  </thead>\n",
       "  <tbody>\n",
       "    <tr>\n",
       "      <th>0</th>\n",
       "      <td>1KENCD</td>\n",
       "      <td>0.000</td>\n",
       "      <td>0.00</td>\n",
       "      <td>1129461.85</td>\n",
       "      <td>0.00</td>\n",
       "      <td>0.00</td>\n",
       "    </tr>\n",
       "    <tr>\n",
       "      <th>1</th>\n",
       "      <td>1FOURW</td>\n",
       "      <td>26569.000</td>\n",
       "      <td>46535.00</td>\n",
       "      <td>537131.62</td>\n",
       "      <td>170326.00</td>\n",
       "      <td>118310.00</td>\n",
       "    </tr>\n",
       "    <tr>\n",
       "      <th>2</th>\n",
       "      <td>7CCECD</td>\n",
       "      <td>724561.112</td>\n",
       "      <td>79892.23</td>\n",
       "      <td>3940.00</td>\n",
       "      <td>0.00</td>\n",
       "      <td>0.00</td>\n",
       "    </tr>\n",
       "    <tr>\n",
       "      <th>3</th>\n",
       "      <td>1ALLCD</td>\n",
       "      <td>440.840</td>\n",
       "      <td>645312.50</td>\n",
       "      <td>0.00</td>\n",
       "      <td>0.00</td>\n",
       "      <td>0.00</td>\n",
       "    </tr>\n",
       "    <tr>\n",
       "      <th>4</th>\n",
       "      <td>1PERRI</td>\n",
       "      <td>35122.060</td>\n",
       "      <td>35438.49</td>\n",
       "      <td>92253.82</td>\n",
       "      <td>217995.84</td>\n",
       "      <td>29016.09</td>\n",
       "    </tr>\n",
       "  </tbody>\n",
       "</table>\n",
       "</div>"
      ],
      "text/plain": [
       "  customer  2015_sales  2016_sales  2017_sales  2018_sales  2019_sales\n",
       "0   1KENCD       0.000        0.00  1129461.85        0.00        0.00\n",
       "1   1FOURW   26569.000    46535.00   537131.62   170326.00   118310.00\n",
       "2   7CCECD  724561.112    79892.23     3940.00        0.00        0.00\n",
       "3   1ALLCD     440.840   645312.50        0.00        0.00        0.00\n",
       "4   1PERRI   35122.060    35438.49    92253.82   217995.84    29016.09"
      ]
     },
     "execution_count": 29,
     "metadata": {},
     "output_type": "execute_result"
    }
   ],
   "source": [
    "df.head()"
   ]
  },
  {
   "cell_type": "code",
   "execution_count": 30,
   "metadata": {},
   "outputs": [],
   "source": [
    "# How many different customers by year\n",
    "def num_sales_by_year(col_name):\n",
    "    return df[df[col_name]>0][col_name].count()\n",
    "\n",
    "years = [2015, 2016, 2017, 2018, 2019]\n",
    "columns = list(df.columns)\n",
    "num_customers = [num_sales_by_year(x) for x in columns[1:]]"
   ]
  },
  {
   "cell_type": "code",
   "execution_count": 31,
   "metadata": {},
   "outputs": [
    {
     "data": {
      "text/plain": [
       "[170, 167, 170, 197, 206]"
      ]
     },
     "execution_count": 31,
     "metadata": {},
     "output_type": "execute_result"
    }
   ],
   "source": [
    "num_customers"
   ]
  },
  {
   "cell_type": "code",
   "execution_count": 97,
   "metadata": {},
   "outputs": [
    {
     "data": {
      "image/png": "[encoded data removed]",
      "text/plain": [
       "<Figure size 432x288 with 1 Axes>"
      ]
     },
     "metadata": {
      "needs_background": "light"
     },
     "output_type": "display_data"
    }
   ],
   "source": [
    "# Plot count of customers by year\n",
    "sns.barplot(x=years, y=num_customers)\n",
    "\n",
    "plt.title('# of Different Customers by Year')\n",
    "plt.xlabel('Year')\n",
    "plt.ylabel('# of Different Customers')\n",
    "\n",
    "plt.xticks(rotation=45)\n",
    "\n",
    "plt.tight_layout()\n",
    "plt.savefig('customers_by_year.png')"
   ]
  },
  {
   "cell_type": "code",
   "execution_count": 100,
   "metadata": {},
   "outputs": [
    {
     "data": {
      "text/plain": [
       "count       197.000000\n",
       "mean       9123.916294\n",
       "std       31188.445729\n",
       "min          29.960000\n",
       "25%        1068.000000\n",
       "50%        2290.000000\n",
       "75%        5989.500000\n",
       "max      330924.590000\n",
       "Name: 2018_sales, dtype: float64"
      ]
     },
     "execution_count": 100,
     "metadata": {},
     "output_type": "execute_result"
    }
   ],
   "source": [
    "# Find the IQR range of 2018, use those for cut offs\n",
    "df[df['2018_sales']>0]['2018_sales'].describe()"
   ]
  },
  {
   "cell_type": "code",
   "execution_count": 111,
   "metadata": {},
   "outputs": [],
   "source": [
    "# That will be too low, will use these as the threshholds\n",
    "threshold_1 = 10000\n",
    "threshold_2 = 30000"
   ]
  },
  {
   "cell_type": "code",
   "execution_count": 112,
   "metadata": {},
   "outputs": [
    {
     "data": {
      "text/html": [
       "<div>\n",
       "<style scoped>\n",
       "    .dataframe tbody tr th:only-of-type {\n",
       "        vertical-align: middle;\n",
       "    }\n",
       "\n",
       "    .dataframe tbody tr th {\n",
       "        vertical-align: top;\n",
       "    }\n",
       "\n",
       "    .dataframe thead th {\n",
       "        text-align: right;\n",
       "    }\n",
       "</style>\n",
       "<table border=\"1\" class=\"dataframe\">\n",
       "  <thead>\n",
       "    <tr style=\"text-align: right;\">\n",
       "      <th></th>\n",
       "      <th>customer</th>\n",
       "      <th>2015_sales</th>\n",
       "      <th>2016_sales</th>\n",
       "      <th>2017_sales</th>\n",
       "      <th>2018_sales</th>\n",
       "      <th>2019_sales</th>\n",
       "    </tr>\n",
       "  </thead>\n",
       "  <tbody>\n",
       "    <tr>\n",
       "      <th>0</th>\n",
       "      <td>1KENCD</td>\n",
       "      <td>0.0</td>\n",
       "      <td>0.0</td>\n",
       "      <td>1129461.85</td>\n",
       "      <td>0.0</td>\n",
       "      <td>0.0</td>\n",
       "    </tr>\n",
       "    <tr>\n",
       "      <th>1</th>\n",
       "      <td>1FOURW</td>\n",
       "      <td>26569.0</td>\n",
       "      <td>46535.0</td>\n",
       "      <td>537131.62</td>\n",
       "      <td>170326.0</td>\n",
       "      <td>118310.0</td>\n",
       "    </tr>\n",
       "  </tbody>\n",
       "</table>\n",
       "</div>"
      ],
      "text/plain": [
       "  customer  2015_sales  2016_sales  2017_sales  2018_sales  2019_sales\n",
       "0   1KENCD         0.0         0.0  1129461.85         0.0         0.0\n",
       "1   1FOURW     26569.0     46535.0   537131.62    170326.0    118310.0"
      ]
     },
     "execution_count": 112,
     "metadata": {},
     "output_type": "execute_result"
    }
   ],
   "source": [
    "# reprint df to remind of layout\n",
    "df.head(2)"
   ]
  },
  {
   "cell_type": "code",
   "execution_count": 113,
   "metadata": {},
   "outputs": [
    {
     "data": {
      "text/plain": [
       "143"
      ]
     },
     "execution_count": 113,
     "metadata": {},
     "output_type": "execute_result"
    }
   ],
   "source": [
    "df[(df['2015_sales']>0) & (df['2015_sales']<threshold_1)]['customer'].count()"
   ]
  },
  {
   "cell_type": "code",
   "execution_count": 115,
   "metadata": {},
   "outputs": [],
   "source": [
    "lows = []\n",
    "meds = []\n",
    "highs = []\n",
    "\n",
    "# Create count of lows\n",
    "for col in columns[1:]:\n",
    "    lows.append(df[(df[col]>0) & (df[col]<threshold_1)]['customer'].count())\n",
    "    \n",
    "# Create count of meds\n",
    "for col in columns[1:]:\n",
    "    meds.append(df[(df[col]>threshold_1) & (df[col]<threshold_2)]['customer'].count())\n",
    "    \n",
    "# Create count of highs\n",
    "for col in columns[1:]:\n",
    "    highs.append(df[df[col]>threshold_2]['customer'].count())"
   ]
  },
  {
   "cell_type": "code",
   "execution_count": 116,
   "metadata": {},
   "outputs": [
    {
     "name": "stdout",
     "output_type": "stream",
     "text": [
      "[143, 132, 136, 170, 165] [17, 21, 18, 18, 20] [10, 14, 16, 9, 21]\n"
     ]
    }
   ],
   "source": [
    "# Check\n",
    "print(lows, meds, highs)"
   ]
  },
  {
   "cell_type": "markdown",
   "metadata": {},
   "source": [
    "# 4) Groupings - by vertical"
   ]
  },
  {
   "cell_type": "code",
   "execution_count": 117,
   "metadata": {},
   "outputs": [
    {
     "data": {
      "text/html": [
       "<div>\n",
       "<style scoped>\n",
       "    .dataframe tbody tr th:only-of-type {\n",
       "        vertical-align: middle;\n",
       "    }\n",
       "\n",
       "    .dataframe tbody tr th {\n",
       "        vertical-align: top;\n",
       "    }\n",
       "\n",
       "    .dataframe thead th {\n",
       "        text-align: right;\n",
       "    }\n",
       "</style>\n",
       "<table border=\"1\" class=\"dataframe\">\n",
       "  <thead>\n",
       "    <tr style=\"text-align: right;\">\n",
       "      <th></th>\n",
       "      <th>customer</th>\n",
       "      <th>invoice_date</th>\n",
       "      <th>qty_shipped</th>\n",
       "      <th>item</th>\n",
       "      <th>description</th>\n",
       "      <th>item_price</th>\n",
       "      <th>industry</th>\n",
       "      <th>contact_owner</th>\n",
       "      <th>lifetime_sales</th>\n",
       "      <th>first_sale</th>\n",
       "      <th>county</th>\n",
       "      <th>market_opportunity</th>\n",
       "      <th>%_market_opp</th>\n",
       "      <th>total_sale</th>\n",
       "      <th>year</th>\n",
       "      <th>2017_sales</th>\n",
       "      <th>2018_sales</th>\n",
       "      <th>2019_sales</th>\n",
       "    </tr>\n",
       "  </thead>\n",
       "  <tbody>\n",
       "    <tr>\n",
       "      <th>0</th>\n",
       "      <td>1HOLPS</td>\n",
       "      <td>2015-05-08</td>\n",
       "      <td>1.0</td>\n",
       "      <td>T3000</td>\n",
       "      <td>MOTO MTR3000 BASE RADIO</td>\n",
       "      <td>6020.8</td>\n",
       "      <td>K12 Education</td>\n",
       "      <td>Keith Johnson</td>\n",
       "      <td>39760.49</td>\n",
       "      <td>1999-11-01</td>\n",
       "      <td>Ottawa</td>\n",
       "      <td>825673.0</td>\n",
       "      <td>0.309</td>\n",
       "      <td>6020.8</td>\n",
       "      <td>2015</td>\n",
       "      <td>2466.0</td>\n",
       "      <td>850.0</td>\n",
       "      <td>10031.0</td>\n",
       "    </tr>\n",
       "    <tr>\n",
       "      <th>1</th>\n",
       "      <td>1HOLPS</td>\n",
       "      <td>2015-05-08</td>\n",
       "      <td>1.0</td>\n",
       "      <td>MISC200</td>\n",
       "      <td>MISCELLANEOUS HARDWARE</td>\n",
       "      <td>200.0</td>\n",
       "      <td>K12 Education</td>\n",
       "      <td>Keith Johnson</td>\n",
       "      <td>39760.49</td>\n",
       "      <td>1999-11-01</td>\n",
       "      <td>Ottawa</td>\n",
       "      <td>825673.0</td>\n",
       "      <td>0.309</td>\n",
       "      <td>200.0</td>\n",
       "      <td>2015</td>\n",
       "      <td>2466.0</td>\n",
       "      <td>850.0</td>\n",
       "      <td>10031.0</td>\n",
       "    </tr>\n",
       "  </tbody>\n",
       "</table>\n",
       "</div>"
      ],
      "text/plain": [
       "  customer invoice_date  qty_shipped     item              description  \\\n",
       "0   1HOLPS   2015-05-08          1.0    T3000  MOTO MTR3000 BASE RADIO   \n",
       "1   1HOLPS   2015-05-08          1.0  MISC200   MISCELLANEOUS HARDWARE   \n",
       "\n",
       "   item_price       industry  contact_owner  lifetime_sales first_sale  \\\n",
       "0      6020.8  K12 Education  Keith Johnson        39760.49 1999-11-01   \n",
       "1       200.0  K12 Education  Keith Johnson        39760.49 1999-11-01   \n",
       "\n",
       "   county  market_opportunity  %_market_opp  total_sale  year  2017_sales  \\\n",
       "0  Ottawa            825673.0         0.309      6020.8  2015      2466.0   \n",
       "1  Ottawa            825673.0         0.309       200.0  2015      2466.0   \n",
       "\n",
       "   2018_sales  2019_sales  \n",
       "0       850.0     10031.0  \n",
       "1       850.0     10031.0  "
      ]
     },
     "execution_count": 117,
     "metadata": {},
     "output_type": "execute_result"
    }
   ],
   "source": [
    "data.head(2)"
   ]
  },
  {
   "cell_type": "code",
   "execution_count": 124,
   "metadata": {},
   "outputs": [],
   "source": [
    "# Total sales by vertical\n",
    "sales_by_vertical = data.groupby('industry')['total_sale'].sum()\n",
    "sales_by_vertical.sort_values(ascending=False, inplace=True)"
   ]
  },
  {
   "cell_type": "code",
   "execution_count": 143,
   "metadata": {},
   "outputs": [
    {
     "data": {
      "image/png": "[encoded data removed]",
      "text/plain": [
       "<Figure size 432x288 with 1 Axes>"
      ]
     },
     "metadata": {
      "needs_background": "light"
     },
     "output_type": "display_data"
    }
   ],
   "source": [
    "# Plot count of customers by year\n",
    "sns.barplot(y=sales_by_vertical.sort_values(ascending=False).index, \n",
    "            x=sales_by_vertical.sort_values(ascending=False).values)\n",
    "\n",
    "plt.title('Total Sales by Vertical')\n",
    "plt.ylabel('Vertical')\n",
    "plt.xlabel('Total Sales ($)')\n",
    "\n",
    "plt.xticks(rotation=65)\n",
    "\n",
    "plt.savefig('sales_by_vertical.png')"
   ]
  },
  {
   "cell_type": "code",
   "execution_count": 139,
   "metadata": {},
   "outputs": [],
   "source": [
    "# Plot number of customers in vertical by total sales in vertical (scatterplot)\n",
    "vertical_sales = sales_by_vertical.values\n",
    "vertical_count = []\n",
    "\n",
    "# count each vertical\n",
    "for vert in sales_by_vertical.index:\n",
    "    vertical_count.append(data[data['industry']==vert]['customer'].count())"
   ]
  },
  {
   "cell_type": "code",
   "execution_count": 140,
   "metadata": {},
   "outputs": [
    {
     "data": {
      "image/png": "[encoded data removed]",
      "text/plain": [
       "<Figure size 432x288 with 1 Axes>"
      ]
     },
     "metadata": {
      "needs_background": "light"
     },
     "output_type": "display_data"
    }
   ],
   "source": [
    "sns.scatterplot(x=vertical_sales, y=vertical_count)\n",
    "\n",
    "plt.title('Total Sales vs Number of Customers by Vertical')\n",
    "plt.xlabel('Total Sales of Vertical')\n",
    "plt.ylabel('Customer Count of Vertical')\n",
    "\n",
    "plt.xticks(rotation=65)\n",
    "\n",
    "plt.savefig('sales_vs_count_vertical.png')"
   ]
  },
  {
   "cell_type": "code",
   "execution_count": 141,
   "metadata": {},
   "outputs": [],
   "source": [
    "# Plot Avg Sales by Vertical\n",
    "# Avg sales by vertical\n",
    "avg_sales_by_vertical = data.groupby('industry')['total_sale'].mean()\n",
    "avg_sales_by_vertical.sort_values(ascending=False, inplace=True)"
   ]
  },
  {
   "cell_type": "code",
   "execution_count": 144,
   "metadata": {},
   "outputs": [
    {
     "data": {
      "image/png": "[encoded data removed]",
      "text/plain": [
       "<Figure size 432x288 with 1 Axes>"
      ]
     },
     "metadata": {
      "needs_background": "light"
     },
     "output_type": "display_data"
    }
   ],
   "source": [
    "# Plot avg sales by vertical\n",
    "sns.barplot(y=avg_sales_by_vertical.sort_values(ascending=False).index, \n",
    "            x=avg_sales_by_vertical.sort_values(ascending=False).values)\n",
    "\n",
    "plt.title('Average Customer Sales by Vertical')\n",
    "plt.ylabel('Vertical')\n",
    "plt.xlabel('Avg Sales by Customer($)')\n",
    "\n",
    "plt.xticks(rotation=65)\n",
    "\n",
    "plt.savefig('avg_sales_by_vertical.png')"
   ]
  },
  {
   "cell_type": "markdown",
   "metadata": {},
   "source": [
    "# Groupings - by county"
   ]
  },
  {
   "cell_type": "code",
   "execution_count": 153,
   "metadata": {},
   "outputs": [],
   "source": [
    "# Total sales by county\n",
    "sales_by_county = data.groupby('county')['total_sale'].sum()\n",
    "sales_by_county.sort_values(ascending=False, inplace=True)"
   ]
  },
  {
   "cell_type": "code",
   "execution_count": 168,
   "metadata": {},
   "outputs": [
    {
     "data": {
      "image/png": "[encoded data removed]",
      "text/plain": [
       "<Figure size 432x288 with 1 Axes>"
      ]
     },
     "metadata": {
      "needs_background": "light"
     },
     "output_type": "display_data"
    }
   ],
   "source": [
    "# Plot total sales by county\n",
    "sns.barplot(y=sales_by_county.sort_values(ascending=False).index, \n",
    "            x=sales_by_county.sort_values(ascending=False).values)\n",
    "\n",
    "plt.title('Total Sales by County')\n",
    "plt.ylabel('County')\n",
    "plt.xlabel('Total Sales ($)')\n",
    "plt.yticks(fontsize=7)\n",
    "\n",
    "plt.xticks(rotation=65)\n",
    "\n",
    "plt.savefig('sales_by_county.png')"
   ]
  },
  {
   "cell_type": "code",
   "execution_count": 154,
   "metadata": {},
   "outputs": [],
   "source": [
    "# Plot Avg Sales by County\n",
    "\n",
    "# Avg sales by county\n",
    "avg_sales_by_county = data.groupby('county')['total_sale'].mean()\n",
    "avg_sales_by_county.sort_values(ascending=False, inplace=True)"
   ]
  },
  {
   "cell_type": "code",
   "execution_count": 156,
   "metadata": {},
   "outputs": [
    {
     "data": {
      "image/png": "[encoded data removed]",
      "text/plain": [
       "<Figure size 432x288 with 1 Axes>"
      ]
     },
     "metadata": {
      "needs_background": "light"
     },
     "output_type": "display_data"
    }
   ],
   "source": [
    "# Plot avg sales by count\n",
    "sns.barplot(y=avg_sales_by_county.sort_values(ascending=False).index, \n",
    "            x=avg_sales_by_county.sort_values(ascending=False).values)\n",
    "\n",
    "plt.title('Average Customer Sales by County')\n",
    "plt.ylabel('County')\n",
    "plt.xlabel('Avg Sales by Customer($)')\n",
    "plt.yticks(fontsize=7)\n",
    "\n",
    "plt.xticks(rotation=65)\n",
    "\n",
    "plt.savefig('avg_sales_by_county.png')"
   ]
  },
  {
   "cell_type": "markdown",
   "metadata": {},
   "source": [
    "# Groupings - by rep"
   ]
  },
  {
   "cell_type": "code",
   "execution_count": 165,
   "metadata": {},
   "outputs": [],
   "source": [
    "# Total sales by rep\n",
    "sales_by_rep = data.groupby('contact_owner')['total_sale'].sum()\n",
    "sales_by_rep.sort_values(ascending=False, inplace=True)"
   ]
  },
  {
   "cell_type": "code",
   "execution_count": 167,
   "metadata": {},
   "outputs": [
    {
     "data": {
      "image/png": "[encoded data removed]",
      "text/plain": [
       "<Figure size 432x288 with 1 Axes>"
      ]
     },
     "metadata": {
      "needs_background": "light"
     },
     "output_type": "display_data"
    }
   ],
   "source": [
    "# Plot total sales by rep\n",
    "sns.barplot(y=sales_by_rep.sort_values(ascending=False).index, \n",
    "            x=sales_by_rep.sort_values(ascending=False).values)\n",
    "\n",
    "plt.title('Total Sales by Contact Owner')\n",
    "plt.ylabel('Contact Owner')\n",
    "plt.xlabel('Total Sales ($)')\n",
    "\n",
    "plt.xticks(rotation=65)\n",
    "\n",
    "plt.savefig('sales_by_rep.png')"
   ]
  },
  {
   "cell_type": "code",
   "execution_count": 169,
   "metadata": {},
   "outputs": [],
   "source": [
    "# Avg sales by rep\n",
    "avg_sales_by_rep = data.groupby('contact_owner')['total_sale'].mean()\n",
    "avg_sales_by_rep.sort_values(ascending=False, inplace=True)"
   ]
  },
  {
   "cell_type": "code",
   "execution_count": 170,
   "metadata": {},
   "outputs": [
    {
     "data": {
      "image/png": "[encoded data removed]",
      "text/plain": [
       "<Figure size 432x288 with 1 Axes>"
      ]
     },
     "metadata": {
      "needs_background": "light"
     },
     "output_type": "display_data"
    }
   ],
   "source": [
    "# Plot avg sales by rep\n",
    "sns.barplot(y=avg_sales_by_rep.sort_values(ascending=False).index, \n",
    "            x=avg_sales_by_rep.sort_values(ascending=False).values)\n",
    "\n",
    "plt.title('Average Customer Sales by Contact Owner')\n",
    "plt.ylabel('Contact Owner')\n",
    "plt.xlabel('Avg Sales by Customer($)')\n",
    "\n",
    "plt.xticks(rotation=65)\n",
    "\n",
    "plt.savefig('avg_sales_by_rep.png')"
   ]
  },
  {
   "cell_type": "markdown",
   "metadata": {},
   "source": [
    "# 5) Break outs by Item"
   ]
  },
  {
   "cell_type": "code",
   "execution_count": null,
   "metadata": {},
   "outputs": [],
   "source": [
    "# Find the graphs/plots I created in my Step 4 - and start there\n",
    "\n",
    "# one specific thing: plot number of sales of item (count) by its avg price"
   ]
  }
 ],
 "metadata": {
  "kernelspec": {
   "display_name": "Python 3",
   "language": "python",
   "name": "python3"
  },
  "language_info": {
   "codemirror_mode": {
    "name": "ipython",
    "version": 3
   },
   "file_extension": ".py",
   "mimetype": "text/x-python",
   "name": "python",
   "nbconvert_exporter": "python",
   "pygments_lexer": "ipython3",
   "version": "3.7.6"
  }
 },
 "nbformat": 4,
 "nbformat_minor": 4
}
