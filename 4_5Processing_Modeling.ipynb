{
 "cells": [
  {
   "cell_type": "markdown",
   "metadata": {},
   "source": [
    "# Step 4: Preprocessing & Feature Engineering\n",
    "\n",
    "Load the final data from steps 2 & 3, create our target variable (and any other relevant features), then scale and prepare data for modelling."
   ]
  },
  {
   "cell_type": "code",
   "execution_count": 1,
   "metadata": {},
   "outputs": [],
   "source": [
    "import pandas as pd\n",
    "import matplotlib.pyplot as plt\n",
    "import numpy as np\n",
    "import seaborn as sns"
   ]
  },
  {
   "cell_type": "code",
   "execution_count": 2,
   "metadata": {},
   "outputs": [
    {
     "data": {
      "text/html": [
       "<div>\n",
       "<style scoped>\n",
       "    .dataframe tbody tr th:only-of-type {\n",
       "        vertical-align: middle;\n",
       "    }\n",
       "\n",
       "    .dataframe tbody tr th {\n",
       "        vertical-align: top;\n",
       "    }\n",
       "\n",
       "    .dataframe thead th {\n",
       "        text-align: right;\n",
       "    }\n",
       "</style>\n",
       "<table border=\"1\" class=\"dataframe\">\n",
       "  <thead>\n",
       "    <tr style=\"text-align: right;\">\n",
       "      <th></th>\n",
       "      <th>Unnamed: 0</th>\n",
       "      <th>customer</th>\n",
       "      <th>invoice_date</th>\n",
       "      <th>qty_shipped</th>\n",
       "      <th>item</th>\n",
       "      <th>description</th>\n",
       "      <th>item_price</th>\n",
       "      <th>customer.1</th>\n",
       "      <th>industry</th>\n",
       "      <th>contact_owner</th>\n",
       "      <th>lifetime_sales</th>\n",
       "      <th>first_sale</th>\n",
       "      <th>county</th>\n",
       "      <th>market_opportunity</th>\n",
       "      <th>%_market_opp</th>\n",
       "    </tr>\n",
       "  </thead>\n",
       "  <tbody>\n",
       "    <tr>\n",
       "      <th>0</th>\n",
       "      <td>0</td>\n",
       "      <td>1HOLPS</td>\n",
       "      <td>2015-05-08</td>\n",
       "      <td>1.0</td>\n",
       "      <td>T3000</td>\n",
       "      <td>MOTO MTR3000 BASE RADIO</td>\n",
       "      <td>6020.8</td>\n",
       "      <td>1HOLPS</td>\n",
       "      <td>K12 Education</td>\n",
       "      <td>Keith Johnson</td>\n",
       "      <td>39760.49</td>\n",
       "      <td>11/01/1999</td>\n",
       "      <td>Ottawa</td>\n",
       "      <td>825673.0</td>\n",
       "      <td>0.309</td>\n",
       "    </tr>\n",
       "    <tr>\n",
       "      <th>1</th>\n",
       "      <td>3</td>\n",
       "      <td>1VANAI</td>\n",
       "      <td>2015-04-17</td>\n",
       "      <td>2.0</td>\n",
       "      <td>AAM27QNH9LA1</td>\n",
       "      <td>XPR 4550 403-470 1-25W 160 CH</td>\n",
       "      <td>681.0</td>\n",
       "      <td>1VANAI</td>\n",
       "      <td>Healthcare</td>\n",
       "      <td>Skip Petrovich</td>\n",
       "      <td>25907.89</td>\n",
       "      <td>10/25/2004</td>\n",
       "      <td>Kent</td>\n",
       "      <td>1601574.0</td>\n",
       "      <td>0.421</td>\n",
       "    </tr>\n",
       "    <tr>\n",
       "      <th>2</th>\n",
       "      <td>4</td>\n",
       "      <td>1VANAI</td>\n",
       "      <td>2015-04-17</td>\n",
       "      <td>2.0</td>\n",
       "      <td>SEC1223MOTOTRBO</td>\n",
       "      <td>SAMLEX BASE STATION PWR SUPPLY</td>\n",
       "      <td>156.0</td>\n",
       "      <td>1VANAI</td>\n",
       "      <td>Healthcare</td>\n",
       "      <td>Skip Petrovich</td>\n",
       "      <td>25907.89</td>\n",
       "      <td>10/25/2004</td>\n",
       "      <td>Kent</td>\n",
       "      <td>1601574.0</td>\n",
       "      <td>0.421</td>\n",
       "    </tr>\n",
       "    <tr>\n",
       "      <th>3</th>\n",
       "      <td>5</td>\n",
       "      <td>1VANAI</td>\n",
       "      <td>2015-04-17</td>\n",
       "      <td>2.0</td>\n",
       "      <td>0180355A80</td>\n",
       "      <td>SPECTRUM MAGNETIC MNT  MINIUHF</td>\n",
       "      <td>28.5</td>\n",
       "      <td>1VANAI</td>\n",
       "      <td>Healthcare</td>\n",
       "      <td>Skip Petrovich</td>\n",
       "      <td>25907.89</td>\n",
       "      <td>10/25/2004</td>\n",
       "      <td>Kent</td>\n",
       "      <td>1601574.0</td>\n",
       "      <td>0.421</td>\n",
       "    </tr>\n",
       "    <tr>\n",
       "      <th>4</th>\n",
       "      <td>6</td>\n",
       "      <td>1VANAI</td>\n",
       "      <td>2015-04-17</td>\n",
       "      <td>2.0</td>\n",
       "      <td>0180352A11</td>\n",
       "      <td>ANTENNA 1/4 WAVE 450-470 MHZ</td>\n",
       "      <td>12.0</td>\n",
       "      <td>1VANAI</td>\n",
       "      <td>Healthcare</td>\n",
       "      <td>Skip Petrovich</td>\n",
       "      <td>25907.89</td>\n",
       "      <td>10/25/2004</td>\n",
       "      <td>Kent</td>\n",
       "      <td>1601574.0</td>\n",
       "      <td>0.421</td>\n",
       "    </tr>\n",
       "  </tbody>\n",
       "</table>\n",
       "</div>"
      ],
      "text/plain": [
       "   Unnamed: 0 customer invoice_date  qty_shipped             item  \\\n",
       "0           0   1HOLPS   2015-05-08          1.0            T3000   \n",
       "1           3   1VANAI   2015-04-17          2.0     AAM27QNH9LA1   \n",
       "2           4   1VANAI   2015-04-17          2.0  SEC1223MOTOTRBO   \n",
       "3           5   1VANAI   2015-04-17          2.0       0180355A80   \n",
       "4           6   1VANAI   2015-04-17          2.0       0180352A11   \n",
       "\n",
       "                      description  item_price customer.1       industry  \\\n",
       "0         MOTO MTR3000 BASE RADIO      6020.8     1HOLPS  K12 Education   \n",
       "1   XPR 4550 403-470 1-25W 160 CH       681.0     1VANAI     Healthcare   \n",
       "2  SAMLEX BASE STATION PWR SUPPLY       156.0     1VANAI     Healthcare   \n",
       "3  SPECTRUM MAGNETIC MNT  MINIUHF        28.5     1VANAI     Healthcare   \n",
       "4    ANTENNA 1/4 WAVE 450-470 MHZ        12.0     1VANAI     Healthcare   \n",
       "\n",
       "    contact_owner  lifetime_sales  first_sale  county  market_opportunity  \\\n",
       "0   Keith Johnson        39760.49  11/01/1999  Ottawa            825673.0   \n",
       "1  Skip Petrovich        25907.89  10/25/2004    Kent           1601574.0   \n",
       "2  Skip Petrovich        25907.89  10/25/2004    Kent           1601574.0   \n",
       "3  Skip Petrovich        25907.89  10/25/2004    Kent           1601574.0   \n",
       "4  Skip Petrovich        25907.89  10/25/2004    Kent           1601574.0   \n",
       "\n",
       "   %_market_opp  \n",
       "0         0.309  \n",
       "1         0.421  \n",
       "2         0.421  \n",
       "3         0.421  \n",
       "4         0.421  "
      ]
     },
     "execution_count": 2,
     "metadata": {},
     "output_type": "execute_result"
    }
   ],
   "source": [
    "# Load final data\n",
    "data = pd.read_csv('data/processed/data.csv')\n",
    "data.head()"
   ]
  },
  {
   "cell_type": "code",
   "execution_count": 3,
   "metadata": {},
   "outputs": [
    {
     "data": {
      "text/plain": [
       "Index(['Unnamed: 0', 'customer', 'invoice_date', 'qty_shipped', 'item',\n",
       "       'description', 'item_price', 'customer.1', 'industry', 'contact_owner',\n",
       "       'lifetime_sales', 'first_sale', 'county', 'market_opportunity',\n",
       "       '%_market_opp'],\n",
       "      dtype='object')"
      ]
     },
     "execution_count": 3,
     "metadata": {},
     "output_type": "execute_result"
    }
   ],
   "source": [
    "data.columns"
   ]
  },
  {
   "cell_type": "code",
   "execution_count": 4,
   "metadata": {},
   "outputs": [
    {
     "name": "stdout",
     "output_type": "stream",
     "text": [
      "<class 'pandas.core.frame.DataFrame'>\n",
      "RangeIndex: 7890 entries, 0 to 7889\n",
      "Data columns (total 13 columns):\n",
      " #   Column              Non-Null Count  Dtype  \n",
      "---  ------              --------------  -----  \n",
      " 0   customer            7890 non-null   object \n",
      " 1   invoice_date        7890 non-null   object \n",
      " 2   qty_shipped         7890 non-null   float64\n",
      " 3   item                7890 non-null   object \n",
      " 4   description         7878 non-null   object \n",
      " 5   item_price          7890 non-null   float64\n",
      " 6   industry            7890 non-null   object \n",
      " 7   contact_owner       7890 non-null   object \n",
      " 8   lifetime_sales      7890 non-null   float64\n",
      " 9   first_sale          7890 non-null   object \n",
      " 10  county              7890 non-null   object \n",
      " 11  market_opportunity  7890 non-null   float64\n",
      " 12  %_market_opp        7890 non-null   float64\n",
      "dtypes: float64(5), object(8)\n",
      "memory usage: 801.5+ KB\n"
     ]
    }
   ],
   "source": [
    "data.drop(['Unnamed: 0','customer.1'], inplace=True, axis=1)\n",
    "data.info()"
   ]
  },
  {
   "cell_type": "markdown",
   "metadata": {},
   "source": [
    "## 4.1 Set Index"
   ]
  },
  {
   "cell_type": "code",
   "execution_count": 5,
   "metadata": {},
   "outputs": [
    {
     "data": {
      "text/html": [
       "<div>\n",
       "<style scoped>\n",
       "    .dataframe tbody tr th:only-of-type {\n",
       "        vertical-align: middle;\n",
       "    }\n",
       "\n",
       "    .dataframe tbody tr th {\n",
       "        vertical-align: top;\n",
       "    }\n",
       "\n",
       "    .dataframe thead th {\n",
       "        text-align: right;\n",
       "    }\n",
       "</style>\n",
       "<table border=\"1\" class=\"dataframe\">\n",
       "  <thead>\n",
       "    <tr style=\"text-align: right;\">\n",
       "      <th></th>\n",
       "      <th></th>\n",
       "      <th>qty_shipped</th>\n",
       "      <th>item</th>\n",
       "      <th>description</th>\n",
       "      <th>item_price</th>\n",
       "      <th>industry</th>\n",
       "      <th>contact_owner</th>\n",
       "      <th>lifetime_sales</th>\n",
       "      <th>first_sale</th>\n",
       "      <th>county</th>\n",
       "      <th>market_opportunity</th>\n",
       "      <th>%_market_opp</th>\n",
       "    </tr>\n",
       "    <tr>\n",
       "      <th>customer</th>\n",
       "      <th>invoice_date</th>\n",
       "      <th></th>\n",
       "      <th></th>\n",
       "      <th></th>\n",
       "      <th></th>\n",
       "      <th></th>\n",
       "      <th></th>\n",
       "      <th></th>\n",
       "      <th></th>\n",
       "      <th></th>\n",
       "      <th></th>\n",
       "      <th></th>\n",
       "    </tr>\n",
       "  </thead>\n",
       "  <tbody>\n",
       "    <tr>\n",
       "      <th>1HOLPS</th>\n",
       "      <th>2015-05-08</th>\n",
       "      <td>1.0</td>\n",
       "      <td>T3000</td>\n",
       "      <td>MOTO MTR3000 BASE RADIO</td>\n",
       "      <td>6020.8</td>\n",
       "      <td>K12 Education</td>\n",
       "      <td>Keith Johnson</td>\n",
       "      <td>39760.49</td>\n",
       "      <td>11/01/1999</td>\n",
       "      <td>Ottawa</td>\n",
       "      <td>825673.0</td>\n",
       "      <td>0.309</td>\n",
       "    </tr>\n",
       "    <tr>\n",
       "      <th rowspan=\"4\" valign=\"top\">1VANAI</th>\n",
       "      <th>2015-04-17</th>\n",
       "      <td>2.0</td>\n",
       "      <td>AAM27QNH9LA1</td>\n",
       "      <td>XPR 4550 403-470 1-25W 160 CH</td>\n",
       "      <td>681.0</td>\n",
       "      <td>Healthcare</td>\n",
       "      <td>Skip Petrovich</td>\n",
       "      <td>25907.89</td>\n",
       "      <td>10/25/2004</td>\n",
       "      <td>Kent</td>\n",
       "      <td>1601574.0</td>\n",
       "      <td>0.421</td>\n",
       "    </tr>\n",
       "    <tr>\n",
       "      <th>2015-04-17</th>\n",
       "      <td>2.0</td>\n",
       "      <td>SEC1223MOTOTRBO</td>\n",
       "      <td>SAMLEX BASE STATION PWR SUPPLY</td>\n",
       "      <td>156.0</td>\n",
       "      <td>Healthcare</td>\n",
       "      <td>Skip Petrovich</td>\n",
       "      <td>25907.89</td>\n",
       "      <td>10/25/2004</td>\n",
       "      <td>Kent</td>\n",
       "      <td>1601574.0</td>\n",
       "      <td>0.421</td>\n",
       "    </tr>\n",
       "    <tr>\n",
       "      <th>2015-04-17</th>\n",
       "      <td>2.0</td>\n",
       "      <td>0180355A80</td>\n",
       "      <td>SPECTRUM MAGNETIC MNT  MINIUHF</td>\n",
       "      <td>28.5</td>\n",
       "      <td>Healthcare</td>\n",
       "      <td>Skip Petrovich</td>\n",
       "      <td>25907.89</td>\n",
       "      <td>10/25/2004</td>\n",
       "      <td>Kent</td>\n",
       "      <td>1601574.0</td>\n",
       "      <td>0.421</td>\n",
       "    </tr>\n",
       "    <tr>\n",
       "      <th>2015-04-17</th>\n",
       "      <td>2.0</td>\n",
       "      <td>0180352A11</td>\n",
       "      <td>ANTENNA 1/4 WAVE 450-470 MHZ</td>\n",
       "      <td>12.0</td>\n",
       "      <td>Healthcare</td>\n",
       "      <td>Skip Petrovich</td>\n",
       "      <td>25907.89</td>\n",
       "      <td>10/25/2004</td>\n",
       "      <td>Kent</td>\n",
       "      <td>1601574.0</td>\n",
       "      <td>0.421</td>\n",
       "    </tr>\n",
       "  </tbody>\n",
       "</table>\n",
       "</div>"
      ],
      "text/plain": [
       "                       qty_shipped             item  \\\n",
       "customer invoice_date                                 \n",
       "1HOLPS   2015-05-08            1.0            T3000   \n",
       "1VANAI   2015-04-17            2.0     AAM27QNH9LA1   \n",
       "         2015-04-17            2.0  SEC1223MOTOTRBO   \n",
       "         2015-04-17            2.0       0180355A80   \n",
       "         2015-04-17            2.0       0180352A11   \n",
       "\n",
       "                                          description  item_price  \\\n",
       "customer invoice_date                                               \n",
       "1HOLPS   2015-05-08           MOTO MTR3000 BASE RADIO      6020.8   \n",
       "1VANAI   2015-04-17     XPR 4550 403-470 1-25W 160 CH       681.0   \n",
       "         2015-04-17    SAMLEX BASE STATION PWR SUPPLY       156.0   \n",
       "         2015-04-17    SPECTRUM MAGNETIC MNT  MINIUHF        28.5   \n",
       "         2015-04-17      ANTENNA 1/4 WAVE 450-470 MHZ        12.0   \n",
       "\n",
       "                            industry   contact_owner  lifetime_sales  \\\n",
       "customer invoice_date                                                  \n",
       "1HOLPS   2015-05-08    K12 Education   Keith Johnson        39760.49   \n",
       "1VANAI   2015-04-17       Healthcare  Skip Petrovich        25907.89   \n",
       "         2015-04-17       Healthcare  Skip Petrovich        25907.89   \n",
       "         2015-04-17       Healthcare  Skip Petrovich        25907.89   \n",
       "         2015-04-17       Healthcare  Skip Petrovich        25907.89   \n",
       "\n",
       "                       first_sale  county  market_opportunity  %_market_opp  \n",
       "customer invoice_date                                                        \n",
       "1HOLPS   2015-05-08    11/01/1999  Ottawa            825673.0         0.309  \n",
       "1VANAI   2015-04-17    10/25/2004    Kent           1601574.0         0.421  \n",
       "         2015-04-17    10/25/2004    Kent           1601574.0         0.421  \n",
       "         2015-04-17    10/25/2004    Kent           1601574.0         0.421  \n",
       "         2015-04-17    10/25/2004    Kent           1601574.0         0.421  "
      ]
     },
     "execution_count": 5,
     "metadata": {},
     "output_type": "execute_result"
    }
   ],
   "source": [
    "# Index will be multi-index: customer and invoice date\n",
    "data['invoice_date'] = pd.to_datetime(data['invoice_date'])\n",
    "data.set_index(['customer','invoice_date'], inplace=True)\n",
    "data.head()"
   ]
  },
  {
   "cell_type": "markdown",
   "metadata": {},
   "source": [
    "## 4.2 Create Target Feature\n",
    "\n",
    "The target feature will be a y/n - was this customer's purchase of a higher priced item than any previous purchases. There will be several steps towards creating this:\n",
    "\n",
    "* Creating a ranking of items by average price - different customers have different purchase prices, so using the average price paid should help even that out.\n",
    "\n",
    "* Using that information to add a column with \"highest lifetime item\" - this will list the highest priced item that customer has purchased in their history to that point."
   ]
  },
  {
   "cell_type": "markdown",
   "metadata": {},
   "source": [
    "### 4.2.1 Create ranking of items by average price"
   ]
  },
  {
   "cell_type": "code",
   "execution_count": 6,
   "metadata": {},
   "outputs": [
    {
     "data": {
      "text/html": [
       "<div>\n",
       "<style scoped>\n",
       "    .dataframe tbody tr th:only-of-type {\n",
       "        vertical-align: middle;\n",
       "    }\n",
       "\n",
       "    .dataframe tbody tr th {\n",
       "        vertical-align: top;\n",
       "    }\n",
       "\n",
       "    .dataframe thead th {\n",
       "        text-align: right;\n",
       "    }\n",
       "</style>\n",
       "<table border=\"1\" class=\"dataframe\">\n",
       "  <thead>\n",
       "    <tr style=\"text-align: right;\">\n",
       "      <th></th>\n",
       "      <th>num_times_sold</th>\n",
       "    </tr>\n",
       "    <tr>\n",
       "      <th>description</th>\n",
       "      <th></th>\n",
       "    </tr>\n",
       "  </thead>\n",
       "  <tbody>\n",
       "    <tr>\n",
       "      <th>MISCELLANEOUS HARDWARE</th>\n",
       "      <td>256</td>\n",
       "    </tr>\n",
       "    <tr>\n",
       "      <th>MOTO CP200D 403-470 4W ND</th>\n",
       "      <td>119</td>\n",
       "    </tr>\n",
       "    <tr>\n",
       "      <th>MOTO XPR 3300E 403-512 4W</th>\n",
       "      <td>99</td>\n",
       "    </tr>\n",
       "    <tr>\n",
       "      <th>SOS INTERSECTOR UNDER MIRROR</th>\n",
       "      <td>90</td>\n",
       "    </tr>\n",
       "    <tr>\n",
       "      <th>RENTAL</th>\n",
       "      <td>79</td>\n",
       "    </tr>\n",
       "    <tr>\n",
       "      <th>CODE3 T-REX LED LIGHTS</th>\n",
       "      <td>71</td>\n",
       "    </tr>\n",
       "    <tr>\n",
       "      <th>UNICATION G5 DUAL BAND PAGER</th>\n",
       "      <td>70</td>\n",
       "    </tr>\n",
       "    <tr>\n",
       "      <th>MOTO MIN VI PAGER VHF 143-174</th>\n",
       "      <td>68</td>\n",
       "    </tr>\n",
       "    <tr>\n",
       "      <th>ANTENNA/ MOBILE 806-900 MHZ</th>\n",
       "      <td>63</td>\n",
       "    </tr>\n",
       "    <tr>\n",
       "      <th>MOTO CP200D UHF 4W ND</th>\n",
       "      <td>61</td>\n",
       "    </tr>\n",
       "  </tbody>\n",
       "</table>\n",
       "</div>"
      ],
      "text/plain": [
       "                               num_times_sold\n",
       "description                                  \n",
       "MISCELLANEOUS HARDWARE                    256\n",
       "MOTO CP200D 403-470 4W ND                 119\n",
       "MOTO XPR 3300E 403-512 4W                  99\n",
       "SOS INTERSECTOR UNDER MIRROR               90\n",
       "RENTAL                                     79\n",
       "CODE3 T-REX LED LIGHTS                     71\n",
       "UNICATION G5 DUAL BAND PAGER               70\n",
       "MOTO MIN VI PAGER VHF 143-174              68\n",
       "ANTENNA/ MOBILE 806-900 MHZ                63\n",
       "MOTO CP200D UHF 4W ND                      61"
      ]
     },
     "execution_count": 6,
     "metadata": {},
     "output_type": "execute_result"
    }
   ],
   "source": [
    "# What's the spread of number of items sold?\n",
    "\n",
    "# Create a series with the number of items sold by item\n",
    "item_count = data.groupby('description')['item_price'].count().to_frame()\n",
    "item_count.sort_values('item_price', ascending=False, inplace = True)\n",
    "item_count.columns = ['num_times_sold']\n",
    "item_count.head(10)"
   ]
  },
  {
   "cell_type": "code",
   "execution_count": 7,
   "metadata": {
    "scrolled": true
   },
   "outputs": [
    {
     "data": {
      "image/png": "[encoded data removed]",
      "text/plain": [
       "<Figure size 432x288 with 1 Axes>"
      ]
     },
     "metadata": {
      "needs_background": "light"
     },
     "output_type": "display_data"
    }
   ],
   "source": [
    "# Find a threshhold below-which it makes sense to drop\n",
    "sns.countplot(item_count['num_times_sold'])\n",
    "plt.title('Spread of number of items sold by item')\n",
    "plt.xlabel('Total # of item sold')\n",
    "plt.ylabel('Count of the number of items sold per quantity')\n",
    "\n",
    "plt.tight_layout()\n",
    "plt.savefig('figures/item_countplot.png')"
   ]
  },
  {
   "cell_type": "markdown",
   "metadata": {},
   "source": [
    "From the above plot, there are lots of items that only sold once. Those we don't necessarily want, but this doesn't give us any clear \"cut off\" point. Let's cut off items only sold once at this point."
   ]
  },
  {
   "cell_type": "code",
   "execution_count": 8,
   "metadata": {},
   "outputs": [],
   "source": [
    "# Drop items only sold once\n",
    "item_count = item_count[item_count['num_times_sold']>1]"
   ]
  },
  {
   "cell_type": "code",
   "execution_count": 9,
   "metadata": {},
   "outputs": [],
   "source": [
    "# Drop 'Rental' and 'Misc Hardware'\n",
    "item_count.drop(['RENTAL','MISCELLANEOUS HARDWARE'], inplace=True)"
   ]
  },
  {
   "cell_type": "markdown",
   "metadata": {},
   "source": [
    "### Use that list of items to drop from original data list"
   ]
  },
  {
   "cell_type": "code",
   "execution_count": 10,
   "metadata": {},
   "outputs": [
    {
     "name": "stdout",
     "output_type": "stream",
     "text": [
      "<class 'pandas.core.frame.DataFrame'>\n",
      "MultiIndex: 6559 entries, ('1HOLPS', Timestamp('2015-05-08 00:00:00')) to ('4LAKEL', Timestamp('2020-09-30 00:00:00'))\n",
      "Data columns (total 11 columns):\n",
      " #   Column              Non-Null Count  Dtype  \n",
      "---  ------              --------------  -----  \n",
      " 0   qty_shipped         6559 non-null   float64\n",
      " 1   item                6559 non-null   object \n",
      " 2   description         6559 non-null   object \n",
      " 3   item_price          6559 non-null   float64\n",
      " 4   industry            6559 non-null   object \n",
      " 5   contact_owner       6559 non-null   object \n",
      " 6   lifetime_sales      6559 non-null   float64\n",
      " 7   first_sale          6559 non-null   object \n",
      " 8   county              6559 non-null   object \n",
      " 9   market_opportunity  6559 non-null   float64\n",
      " 10  %_market_opp        6559 non-null   float64\n",
      "dtypes: float64(5), object(6)\n",
      "memory usage: 595.4+ KB\n"
     ]
    }
   ],
   "source": [
    "# Make a list of the items to keep (the index from item_count)\n",
    "keep_list = list(item_count.index)\n",
    "\n",
    "# Use that to filter the data df and keep only those items (description isin list)\n",
    "data = data[data['description'].isin(keep_list)]\n",
    "data.info()"
   ]
  },
  {
   "cell_type": "markdown",
   "metadata": {},
   "source": [
    "### Use this updated list to calculate and rank items by average price"
   ]
  },
  {
   "cell_type": "code",
   "execution_count": 11,
   "metadata": {},
   "outputs": [],
   "source": [
    "items = data.groupby('description')['item_price'].mean().to_frame()\n",
    "items.columns = ['avg_sale_price']\n",
    "items.sort_values('avg_sale_price', ascending=False, inplace=True)\n",
    "\n",
    "# Create top lists for examination\n",
    "top_25 = items.head(25)\n",
    "top_50 = items.head(50)\n",
    "top_100 = items.head(100)"
   ]
  },
  {
   "cell_type": "code",
   "execution_count": 12,
   "metadata": {},
   "outputs": [
    {
     "data": {
      "image/png": "[encoded data removed]",
      "text/plain": [
       "<Figure size 432x288 with 1 Axes>"
      ]
     },
     "metadata": {
      "needs_background": "light"
     },
     "output_type": "display_data"
    }
   ],
   "source": [
    "# Plot the top 25 list\n",
    "sns.barplot(x=top_25.index, y=top_25.avg_sale_price)\n",
    "plt.title('Avg Sales Price for Top 25 Priced Items')\n",
    "plt.ylabel('Avg Sale Price')\n",
    "plt.xticks(rotation=85)\n",
    "plt.xlabel('Item Name')\n",
    "\n",
    "plt.savefig('figures/top25_items.png')"
   ]
  },
  {
   "cell_type": "markdown",
   "metadata": {},
   "source": [
    "#### Drop \"Payment\" items\n",
    "These payment items are almost all the highest priced items and throw things off significantly. Drop anything with \"payment\" in the name\""
   ]
  },
  {
   "cell_type": "code",
   "execution_count": 13,
   "metadata": {},
   "outputs": [],
   "source": [
    "### Drop any item with \"payment\" in the name\n",
    "items.reset_index(inplace=True)\n",
    "\n",
    "items = items[~items['description'].str.contains('PAYMENT')]\n",
    "items.set_index('description', inplace=True)\n",
    "items.head()\n",
    "\n",
    "# Create top lists for examination\n",
    "top_25 = items.head(25)\n",
    "top_50 = items.head(50)"
   ]
  },
  {
   "cell_type": "code",
   "execution_count": 14,
   "metadata": {},
   "outputs": [
    {
     "data": {
      "image/png": "[encoded data removed]",
      "text/plain": [
       "<Figure size 432x288 with 1 Axes>"
      ]
     },
     "metadata": {
      "needs_background": "light"
     },
     "output_type": "display_data"
    }
   ],
   "source": [
    "# Plot the top 25 list\n",
    "sns.barplot(x=top_25.index, y=top_25.avg_sale_price)\n",
    "plt.title('UPDATED - Avg Sales Price for Top 25 Priced Items')\n",
    "plt.ylabel('Avg Sale Price')\n",
    "plt.xticks(rotation=85)\n",
    "plt.xlabel('Item Name')\n",
    "\n",
    "plt.savefig('figures/top25_items_no_payment_plans.png')"
   ]
  },
  {
   "cell_type": "code",
   "execution_count": 15,
   "metadata": {},
   "outputs": [
    {
     "data": {
      "text/html": [
       "<div>\n",
       "<style scoped>\n",
       "    .dataframe tbody tr th:only-of-type {\n",
       "        vertical-align: middle;\n",
       "    }\n",
       "\n",
       "    .dataframe tbody tr th {\n",
       "        vertical-align: top;\n",
       "    }\n",
       "\n",
       "    .dataframe thead th {\n",
       "        text-align: right;\n",
       "    }\n",
       "</style>\n",
       "<table border=\"1\" class=\"dataframe\">\n",
       "  <thead>\n",
       "    <tr style=\"text-align: right;\">\n",
       "      <th></th>\n",
       "      <th>description</th>\n",
       "      <th>avg_sale_price</th>\n",
       "      <th>item_price_rank</th>\n",
       "    </tr>\n",
       "  </thead>\n",
       "  <tbody>\n",
       "    <tr>\n",
       "      <th>0</th>\n",
       "      <td>OROLIA PSAP COMMAND CENTER</td>\n",
       "      <td>14200.000000</td>\n",
       "      <td>1</td>\n",
       "    </tr>\n",
       "    <tr>\n",
       "      <th>1</th>\n",
       "      <td>MOTO MIP5000 VOIP DISPATCH SW</td>\n",
       "      <td>10500.000000</td>\n",
       "      <td>2</td>\n",
       "    </tr>\n",
       "    <tr>\n",
       "      <th>2</th>\n",
       "      <td>WESTELL 700/800PS SIGNAL BSTR</td>\n",
       "      <td>6749.500000</td>\n",
       "      <td>3</td>\n",
       "    </tr>\n",
       "    <tr>\n",
       "      <th>3</th>\n",
       "      <td>SPECTRACOM SECURESYNCH CHASIS</td>\n",
       "      <td>6743.000000</td>\n",
       "      <td>4</td>\n",
       "    </tr>\n",
       "    <tr>\n",
       "      <th>4</th>\n",
       "      <td>MOTO SLR 8000 BASE RADIO</td>\n",
       "      <td>6298.029167</td>\n",
       "      <td>5</td>\n",
       "    </tr>\n",
       "  </tbody>\n",
       "</table>\n",
       "</div>"
      ],
      "text/plain": [
       "                     description  avg_sale_price  item_price_rank\n",
       "0     OROLIA PSAP COMMAND CENTER    14200.000000                1\n",
       "1  MOTO MIP5000 VOIP DISPATCH SW    10500.000000                2\n",
       "2  WESTELL 700/800PS SIGNAL BSTR     6749.500000                3\n",
       "3  SPECTRACOM SECURESYNCH CHASIS     6743.000000                4\n",
       "4       MOTO SLR 8000 BASE RADIO     6298.029167                5"
      ]
     },
     "execution_count": 15,
     "metadata": {},
     "output_type": "execute_result"
    }
   ],
   "source": [
    "# Create a new column that is the item rank\n",
    "items.reset_index(inplace=True)\n",
    "items['item_price_rank'] = [i+1 for i in items.index]\n",
    "items.head()"
   ]
  },
  {
   "cell_type": "markdown",
   "metadata": {},
   "source": [
    "#### Drop really low priced items too\n",
    "\n",
    "How to define \"really low?\""
   ]
  },
  {
   "cell_type": "code",
   "execution_count": 16,
   "metadata": {},
   "outputs": [
    {
     "data": {
      "text/html": [
       "<div>\n",
       "<style scoped>\n",
       "    .dataframe tbody tr th:only-of-type {\n",
       "        vertical-align: middle;\n",
       "    }\n",
       "\n",
       "    .dataframe tbody tr th {\n",
       "        vertical-align: top;\n",
       "    }\n",
       "\n",
       "    .dataframe thead th {\n",
       "        text-align: right;\n",
       "    }\n",
       "</style>\n",
       "<table border=\"1\" class=\"dataframe\">\n",
       "  <thead>\n",
       "    <tr style=\"text-align: right;\">\n",
       "      <th></th>\n",
       "      <th>description</th>\n",
       "      <th>avg_sale_price</th>\n",
       "      <th>item_price_rank</th>\n",
       "    </tr>\n",
       "  </thead>\n",
       "  <tbody>\n",
       "    <tr>\n",
       "      <th>694</th>\n",
       "      <td>MOTO 2-WIRE TRANS TUBE, BLACK</td>\n",
       "      <td>39.016667</td>\n",
       "      <td>695</td>\n",
       "    </tr>\n",
       "    <tr>\n",
       "      <th>695</th>\n",
       "      <td>MOTO SURV. EARPIECE, IN-LINE</td>\n",
       "      <td>38.571429</td>\n",
       "      <td>696</td>\n",
       "    </tr>\n",
       "    <tr>\n",
       "      <th>696</th>\n",
       "      <td>MOTO COMPACT MICROPHONE W/CLIP</td>\n",
       "      <td>38.400000</td>\n",
       "      <td>697</td>\n",
       "    </tr>\n",
       "    <tr>\n",
       "      <th>697</th>\n",
       "      <td>OPERATOR 1 3/4\" BELT</td>\n",
       "      <td>38.323333</td>\n",
       "      <td>698</td>\n",
       "    </tr>\n",
       "    <tr>\n",
       "      <th>698</th>\n",
       "      <td>COMPANY PANT</td>\n",
       "      <td>38.000000</td>\n",
       "      <td>699</td>\n",
       "    </tr>\n",
       "    <tr>\n",
       "      <th>...</th>\n",
       "      <td>...</td>\n",
       "      <td>...</td>\n",
       "      <td>...</td>\n",
       "    </tr>\n",
       "    <tr>\n",
       "      <th>889</th>\n",
       "      <td>ANDREW 1/4 SUPERFLEX CABLE</td>\n",
       "      <td>1.785714</td>\n",
       "      <td>890</td>\n",
       "    </tr>\n",
       "    <tr>\n",
       "      <th>890</th>\n",
       "      <td>LMR400 COAX RG8 CABLE</td>\n",
       "      <td>1.662500</td>\n",
       "      <td>891</td>\n",
       "    </tr>\n",
       "    <tr>\n",
       "      <th>891</th>\n",
       "      <td>#6 STRANDED INSUL GRND WIRE</td>\n",
       "      <td>1.433333</td>\n",
       "      <td>892</td>\n",
       "    </tr>\n",
       "    <tr>\n",
       "      <th>892</th>\n",
       "      <td>#6 1 HOLE, 1/4\", SHORT</td>\n",
       "      <td>1.050000</td>\n",
       "      <td>893</td>\n",
       "    </tr>\n",
       "    <tr>\n",
       "      <th>893</th>\n",
       "      <td>CAT5 CABLE</td>\n",
       "      <td>0.600000</td>\n",
       "      <td>894</td>\n",
       "    </tr>\n",
       "  </tbody>\n",
       "</table>\n",
       "<p>200 rows × 3 columns</p>\n",
       "</div>"
      ],
      "text/plain": [
       "                        description  avg_sale_price  item_price_rank\n",
       "694   MOTO 2-WIRE TRANS TUBE, BLACK       39.016667              695\n",
       "695    MOTO SURV. EARPIECE, IN-LINE       38.571429              696\n",
       "696  MOTO COMPACT MICROPHONE W/CLIP       38.400000              697\n",
       "697            OPERATOR 1 3/4\" BELT       38.323333              698\n",
       "698                    COMPANY PANT       38.000000              699\n",
       "..                              ...             ...              ...\n",
       "889      ANDREW 1/4 SUPERFLEX CABLE        1.785714              890\n",
       "890           LMR400 COAX RG8 CABLE        1.662500              891\n",
       "891     #6 STRANDED INSUL GRND WIRE        1.433333              892\n",
       "892          #6 1 HOLE, 1/4\", SHORT        1.050000              893\n",
       "893                      CAT5 CABLE        0.600000              894\n",
       "\n",
       "[200 rows x 3 columns]"
      ]
     },
     "execution_count": 16,
     "metadata": {},
     "output_type": "execute_result"
    }
   ],
   "source": [
    "items.tail(200)"
   ]
  },
  {
   "cell_type": "markdown",
   "metadata": {},
   "source": [
    "The last 200 items are still largely accessories - all priced under $40. That seems like a good enough threshold for now. We can always adjust this later."
   ]
  },
  {
   "cell_type": "code",
   "execution_count": 17,
   "metadata": {},
   "outputs": [
    {
     "data": {
      "text/html": [
       "<div>\n",
       "<style scoped>\n",
       "    .dataframe tbody tr th:only-of-type {\n",
       "        vertical-align: middle;\n",
       "    }\n",
       "\n",
       "    .dataframe tbody tr th {\n",
       "        vertical-align: top;\n",
       "    }\n",
       "\n",
       "    .dataframe thead th {\n",
       "        text-align: right;\n",
       "    }\n",
       "</style>\n",
       "<table border=\"1\" class=\"dataframe\">\n",
       "  <thead>\n",
       "    <tr style=\"text-align: right;\">\n",
       "      <th></th>\n",
       "      <th>description</th>\n",
       "      <th>avg_sale_price</th>\n",
       "      <th>item_price_rank</th>\n",
       "    </tr>\n",
       "  </thead>\n",
       "  <tbody>\n",
       "    <tr>\n",
       "      <th>672</th>\n",
       "      <td>UNICATION EXTENDED WARRANTY</td>\n",
       "      <td>42.25</td>\n",
       "      <td>673</td>\n",
       "    </tr>\n",
       "    <tr>\n",
       "      <th>673</th>\n",
       "      <td>COMPANY CARGO PANT</td>\n",
       "      <td>42.00</td>\n",
       "      <td>674</td>\n",
       "    </tr>\n",
       "    <tr>\n",
       "      <th>674</th>\n",
       "      <td>CABLE, MOBILE MIC EXT</td>\n",
       "      <td>42.00</td>\n",
       "      <td>675</td>\n",
       "    </tr>\n",
       "    <tr>\n",
       "      <th>675</th>\n",
       "      <td>N MALE FOR 1/4 FLEX HF-</td>\n",
       "      <td>41.20</td>\n",
       "      <td>676</td>\n",
       "    </tr>\n",
       "    <tr>\n",
       "      <th>676</th>\n",
       "      <td>MOTO BATT LIION 2300T</td>\n",
       "      <td>41.00</td>\n",
       "      <td>677</td>\n",
       "    </tr>\n",
       "  </tbody>\n",
       "</table>\n",
       "</div>"
      ],
      "text/plain": [
       "                     description  avg_sale_price  item_price_rank\n",
       "672  UNICATION EXTENDED WARRANTY           42.25              673\n",
       "673           COMPANY CARGO PANT           42.00              674\n",
       "674        CABLE, MOBILE MIC EXT           42.00              675\n",
       "675      N MALE FOR 1/4 FLEX HF-           41.20              676\n",
       "676        MOTO BATT LIION 2300T           41.00              677"
      ]
     },
     "execution_count": 17,
     "metadata": {},
     "output_type": "execute_result"
    }
   ],
   "source": [
    "# Drop all items priced under $40\n",
    "items = items[items['avg_sale_price']>40]\n",
    "items.tail()"
   ]
  },
  {
   "cell_type": "markdown",
   "metadata": {},
   "source": [
    "### 4.2.2 Keep only the items left in original dataframe"
   ]
  },
  {
   "cell_type": "code",
   "execution_count": 18,
   "metadata": {},
   "outputs": [
    {
     "name": "stdout",
     "output_type": "stream",
     "text": [
      "<class 'pandas.core.frame.DataFrame'>\n",
      "MultiIndex: 5144 entries, ('1HOLPS', Timestamp('2015-05-08 00:00:00')) to ('4MICPD', Timestamp('2020-09-30 00:00:00'))\n",
      "Data columns (total 11 columns):\n",
      " #   Column              Non-Null Count  Dtype  \n",
      "---  ------              --------------  -----  \n",
      " 0   qty_shipped         5144 non-null   float64\n",
      " 1   item                5144 non-null   object \n",
      " 2   description         5144 non-null   object \n",
      " 3   item_price          5144 non-null   float64\n",
      " 4   industry            5144 non-null   object \n",
      " 5   contact_owner       5144 non-null   object \n",
      " 6   lifetime_sales      5144 non-null   float64\n",
      " 7   first_sale          5144 non-null   object \n",
      " 8   county              5144 non-null   object \n",
      " 9   market_opportunity  5144 non-null   float64\n",
      " 10  %_market_opp        5144 non-null   float64\n",
      "dtypes: float64(5), object(6)\n",
      "memory usage: 468.3+ KB\n"
     ]
    }
   ],
   "source": [
    "keep_list = list(items.description.unique())\n",
    "data = data[data['description'].isin(keep_list)]\n",
    "data.info()"
   ]
  },
  {
   "cell_type": "markdown",
   "metadata": {},
   "source": [
    "### 4.2.3 Join the item_price_rank with data df\n"
   ]
  },
  {
   "cell_type": "code",
   "execution_count": 19,
   "metadata": {},
   "outputs": [
    {
     "name": "stdout",
     "output_type": "stream",
     "text": [
      "<class 'pandas.core.frame.DataFrame'>\n",
      "Int64Index: 5144 entries, 0 to 5143\n",
      "Data columns (total 14 columns):\n",
      " #   Column              Non-Null Count  Dtype         \n",
      "---  ------              --------------  -----         \n",
      " 0   customer            5144 non-null   object        \n",
      " 1   invoice_date        5144 non-null   datetime64[ns]\n",
      " 2   qty_shipped         5144 non-null   float64       \n",
      " 3   item                5144 non-null   object        \n",
      " 4   description         5144 non-null   object        \n",
      " 5   item_price          5144 non-null   float64       \n",
      " 6   industry            5144 non-null   object        \n",
      " 7   contact_owner       5144 non-null   object        \n",
      " 8   lifetime_sales      5144 non-null   float64       \n",
      " 9   first_sale          5144 non-null   object        \n",
      " 10  county              5144 non-null   object        \n",
      " 11  market_opportunity  5144 non-null   float64       \n",
      " 12  %_market_opp        5144 non-null   float64       \n",
      " 13  item_price_rank     5144 non-null   int64         \n",
      "dtypes: datetime64[ns](1), float64(5), int64(1), object(7)\n",
      "memory usage: 602.8+ KB\n"
     ]
    }
   ],
   "source": [
    "# Join item sales rank with data\n",
    "data = pd.merge(data.reset_index(), items[['description', 'item_price_rank']], \n",
    "                on='description', how='inner')\n",
    "data.info()"
   ]
  },
  {
   "cell_type": "code",
   "execution_count": 20,
   "metadata": {},
   "outputs": [
    {
     "data": {
      "text/html": [
       "<div>\n",
       "<style scoped>\n",
       "    .dataframe tbody tr th:only-of-type {\n",
       "        vertical-align: middle;\n",
       "    }\n",
       "\n",
       "    .dataframe tbody tr th {\n",
       "        vertical-align: top;\n",
       "    }\n",
       "\n",
       "    .dataframe thead th {\n",
       "        text-align: right;\n",
       "    }\n",
       "</style>\n",
       "<table border=\"1\" class=\"dataframe\">\n",
       "  <thead>\n",
       "    <tr style=\"text-align: right;\">\n",
       "      <th></th>\n",
       "      <th>customer</th>\n",
       "      <th>invoice_date</th>\n",
       "      <th>qty_shipped</th>\n",
       "      <th>item</th>\n",
       "      <th>description</th>\n",
       "      <th>item_price</th>\n",
       "      <th>industry</th>\n",
       "      <th>contact_owner</th>\n",
       "      <th>lifetime_sales</th>\n",
       "      <th>first_sale</th>\n",
       "      <th>county</th>\n",
       "      <th>market_opportunity</th>\n",
       "      <th>%_market_opp</th>\n",
       "      <th>item_price_rank</th>\n",
       "    </tr>\n",
       "  </thead>\n",
       "  <tbody>\n",
       "    <tr>\n",
       "      <th>0</th>\n",
       "      <td>1HOLPS</td>\n",
       "      <td>2015-05-08</td>\n",
       "      <td>1.0</td>\n",
       "      <td>T3000</td>\n",
       "      <td>MOTO MTR3000 BASE RADIO</td>\n",
       "      <td>6020.8</td>\n",
       "      <td>K12 Education</td>\n",
       "      <td>Keith Johnson</td>\n",
       "      <td>39760.49</td>\n",
       "      <td>11/01/1999</td>\n",
       "      <td>Ottawa</td>\n",
       "      <td>825673.0</td>\n",
       "      <td>0.309</td>\n",
       "      <td>11</td>\n",
       "    </tr>\n",
       "    <tr>\n",
       "      <th>1</th>\n",
       "      <td>1AVOAU</td>\n",
       "      <td>2015-03-31</td>\n",
       "      <td>1.0</td>\n",
       "      <td>T3000</td>\n",
       "      <td>MOTO MTR3000 BASE RADIO</td>\n",
       "      <td>2775.0</td>\n",
       "      <td>Manufacturing</td>\n",
       "      <td>Jessica Spindler</td>\n",
       "      <td>88586.35</td>\n",
       "      <td>9/29/2008</td>\n",
       "      <td>Wexford</td>\n",
       "      <td>67091.0</td>\n",
       "      <td>0.114</td>\n",
       "      <td>11</td>\n",
       "    </tr>\n",
       "    <tr>\n",
       "      <th>2</th>\n",
       "      <td>1ZEEFD</td>\n",
       "      <td>2015-08-31</td>\n",
       "      <td>1.0</td>\n",
       "      <td>T3000</td>\n",
       "      <td>MOTO MTR3000 BASE RADIO</td>\n",
       "      <td>6992.0</td>\n",
       "      <td>Fire &amp; EMS</td>\n",
       "      <td>Keith Johnson</td>\n",
       "      <td>37839.27</td>\n",
       "      <td>11/01/1999</td>\n",
       "      <td>Ottawa</td>\n",
       "      <td>825673.0</td>\n",
       "      <td>0.309</td>\n",
       "      <td>11</td>\n",
       "    </tr>\n",
       "    <tr>\n",
       "      <th>3</th>\n",
       "      <td>1HILFD</td>\n",
       "      <td>2015-10-30</td>\n",
       "      <td>1.0</td>\n",
       "      <td>T3000</td>\n",
       "      <td>MOTO MTR3000 BASE RADIO</td>\n",
       "      <td>2775.0</td>\n",
       "      <td>Fire &amp; EMS</td>\n",
       "      <td>Jessica Spindler</td>\n",
       "      <td>12403.50</td>\n",
       "      <td>10/30/2013</td>\n",
       "      <td>Montmorency</td>\n",
       "      <td>16068.0</td>\n",
       "      <td>0.222</td>\n",
       "      <td>11</td>\n",
       "    </tr>\n",
       "    <tr>\n",
       "      <th>4</th>\n",
       "      <td>1FOURW</td>\n",
       "      <td>2016-03-11</td>\n",
       "      <td>3.0</td>\n",
       "      <td>T3000</td>\n",
       "      <td>MOTO MTR3000 BASE RADIO</td>\n",
       "      <td>2775.0</td>\n",
       "      <td>Hospitality</td>\n",
       "      <td>Tom Gillespie</td>\n",
       "      <td>1123935.02</td>\n",
       "      <td>1/29/2008</td>\n",
       "      <td>Berrien</td>\n",
       "      <td>510290.0</td>\n",
       "      <td>0.291</td>\n",
       "      <td>11</td>\n",
       "    </tr>\n",
       "  </tbody>\n",
       "</table>\n",
       "</div>"
      ],
      "text/plain": [
       "  customer invoice_date  qty_shipped   item              description  \\\n",
       "0   1HOLPS   2015-05-08          1.0  T3000  MOTO MTR3000 BASE RADIO   \n",
       "1   1AVOAU   2015-03-31          1.0  T3000  MOTO MTR3000 BASE RADIO   \n",
       "2   1ZEEFD   2015-08-31          1.0  T3000  MOTO MTR3000 BASE RADIO   \n",
       "3   1HILFD   2015-10-30          1.0  T3000  MOTO MTR3000 BASE RADIO   \n",
       "4   1FOURW   2016-03-11          3.0  T3000  MOTO MTR3000 BASE RADIO   \n",
       "\n",
       "   item_price       industry     contact_owner  lifetime_sales  first_sale  \\\n",
       "0      6020.8  K12 Education     Keith Johnson        39760.49  11/01/1999   \n",
       "1      2775.0  Manufacturing  Jessica Spindler        88586.35   9/29/2008   \n",
       "2      6992.0     Fire & EMS     Keith Johnson        37839.27  11/01/1999   \n",
       "3      2775.0     Fire & EMS  Jessica Spindler        12403.50  10/30/2013   \n",
       "4      2775.0    Hospitality     Tom Gillespie      1123935.02   1/29/2008   \n",
       "\n",
       "        county  market_opportunity  %_market_opp  item_price_rank  \n",
       "0       Ottawa            825673.0         0.309               11  \n",
       "1      Wexford             67091.0         0.114               11  \n",
       "2       Ottawa            825673.0         0.309               11  \n",
       "3  Montmorency             16068.0         0.222               11  \n",
       "4      Berrien            510290.0         0.291               11  "
      ]
     },
     "execution_count": 20,
     "metadata": {},
     "output_type": "execute_result"
    }
   ],
   "source": [
    "data.head()"
   ]
  },
  {
   "cell_type": "markdown",
   "metadata": {},
   "source": [
    "### 4.2.4 Drop all but highest priced item for each sale date\n",
    "\n",
    "Each row of my final data frame will represent the highest ranked item purchased on that sale date by that customer"
   ]
  },
  {
   "cell_type": "code",
   "execution_count": 21,
   "metadata": {},
   "outputs": [
    {
     "data": {
      "text/html": [
       "<div>\n",
       "<style scoped>\n",
       "    .dataframe tbody tr th:only-of-type {\n",
       "        vertical-align: middle;\n",
       "    }\n",
       "\n",
       "    .dataframe tbody tr th {\n",
       "        vertical-align: top;\n",
       "    }\n",
       "\n",
       "    .dataframe thead th {\n",
       "        text-align: right;\n",
       "    }\n",
       "</style>\n",
       "<table border=\"1\" class=\"dataframe\">\n",
       "  <thead>\n",
       "    <tr style=\"text-align: right;\">\n",
       "      <th></th>\n",
       "      <th></th>\n",
       "      <th>qty_shipped</th>\n",
       "      <th>item</th>\n",
       "      <th>description</th>\n",
       "      <th>item_price</th>\n",
       "      <th>industry</th>\n",
       "      <th>contact_owner</th>\n",
       "      <th>lifetime_sales</th>\n",
       "      <th>first_sale</th>\n",
       "      <th>county</th>\n",
       "      <th>market_opportunity</th>\n",
       "      <th>%_market_opp</th>\n",
       "      <th>item_price_rank</th>\n",
       "    </tr>\n",
       "    <tr>\n",
       "      <th>customer</th>\n",
       "      <th>invoice_date</th>\n",
       "      <th></th>\n",
       "      <th></th>\n",
       "      <th></th>\n",
       "      <th></th>\n",
       "      <th></th>\n",
       "      <th></th>\n",
       "      <th></th>\n",
       "      <th></th>\n",
       "      <th></th>\n",
       "      <th></th>\n",
       "      <th></th>\n",
       "      <th></th>\n",
       "    </tr>\n",
       "  </thead>\n",
       "  <tbody>\n",
       "    <tr>\n",
       "      <th rowspan=\"2\" valign=\"top\">7WOLPO</th>\n",
       "      <th>2017-08-31</th>\n",
       "      <td>4.0</td>\n",
       "      <td>AAH02RDC9VA1</td>\n",
       "      <td>MOTO XPR3300E 403-512 4W NKP</td>\n",
       "      <td>515.0</td>\n",
       "      <td>Utilities</td>\n",
       "      <td>Jessica Spindler</td>\n",
       "      <td>112928.57</td>\n",
       "      <td>11/01/1999</td>\n",
       "      <td>Wexford</td>\n",
       "      <td>67091.0</td>\n",
       "      <td>0.114</td>\n",
       "      <td>202</td>\n",
       "    </tr>\n",
       "    <tr>\n",
       "      <th>2016-06-24</th>\n",
       "      <td>6.0</td>\n",
       "      <td>AAH02RDC9VA1</td>\n",
       "      <td>MOTO XPR3300E 403-512 4W NKP</td>\n",
       "      <td>515.0</td>\n",
       "      <td>Utilities</td>\n",
       "      <td>Jessica Spindler</td>\n",
       "      <td>112928.57</td>\n",
       "      <td>11/01/1999</td>\n",
       "      <td>Wexford</td>\n",
       "      <td>67091.0</td>\n",
       "      <td>0.114</td>\n",
       "      <td>202</td>\n",
       "    </tr>\n",
       "    <tr>\n",
       "      <th rowspan=\"3\" valign=\"top\">7WEYER</th>\n",
       "      <th>2016-09-29</th>\n",
       "      <td>2.0</td>\n",
       "      <td>AAH01QDC9JA2</td>\n",
       "      <td>MOTO CP200D UHF 4W ND</td>\n",
       "      <td>481.5</td>\n",
       "      <td>Manufacturing</td>\n",
       "      <td>Jessica Spindler</td>\n",
       "      <td>6313.90</td>\n",
       "      <td>11/01/1999</td>\n",
       "      <td>Crawford</td>\n",
       "      <td>5375.0</td>\n",
       "      <td>4.437</td>\n",
       "      <td>221</td>\n",
       "    </tr>\n",
       "    <tr>\n",
       "      <th>2016-09-20</th>\n",
       "      <td>2.0</td>\n",
       "      <td>AAH01QDC9JA2</td>\n",
       "      <td>MOTO CP200D UHF 4W ND</td>\n",
       "      <td>481.5</td>\n",
       "      <td>Manufacturing</td>\n",
       "      <td>Jessica Spindler</td>\n",
       "      <td>6313.90</td>\n",
       "      <td>11/01/1999</td>\n",
       "      <td>Crawford</td>\n",
       "      <td>5375.0</td>\n",
       "      <td>4.437</td>\n",
       "      <td>221</td>\n",
       "    </tr>\n",
       "    <tr>\n",
       "      <th>2016-02-08</th>\n",
       "      <td>1.0</td>\n",
       "      <td>AAH01QDC9JA2</td>\n",
       "      <td>CP200D UHF 4W ND</td>\n",
       "      <td>481.5</td>\n",
       "      <td>Manufacturing</td>\n",
       "      <td>Jessica Spindler</td>\n",
       "      <td>6313.90</td>\n",
       "      <td>11/01/1999</td>\n",
       "      <td>Crawford</td>\n",
       "      <td>5375.0</td>\n",
       "      <td>4.437</td>\n",
       "      <td>236</td>\n",
       "    </tr>\n",
       "  </tbody>\n",
       "</table>\n",
       "</div>"
      ],
      "text/plain": [
       "                       qty_shipped          item  \\\n",
       "customer invoice_date                              \n",
       "7WOLPO   2017-08-31            4.0  AAH02RDC9VA1   \n",
       "         2016-06-24            6.0  AAH02RDC9VA1   \n",
       "7WEYER   2016-09-29            2.0  AAH01QDC9JA2   \n",
       "         2016-09-20            2.0  AAH01QDC9JA2   \n",
       "         2016-02-08            1.0  AAH01QDC9JA2   \n",
       "\n",
       "                                        description  item_price  \\\n",
       "customer invoice_date                                             \n",
       "7WOLPO   2017-08-31    MOTO XPR3300E 403-512 4W NKP       515.0   \n",
       "         2016-06-24    MOTO XPR3300E 403-512 4W NKP       515.0   \n",
       "7WEYER   2016-09-29           MOTO CP200D UHF 4W ND       481.5   \n",
       "         2016-09-20           MOTO CP200D UHF 4W ND       481.5   \n",
       "         2016-02-08                CP200D UHF 4W ND       481.5   \n",
       "\n",
       "                            industry     contact_owner  lifetime_sales  \\\n",
       "customer invoice_date                                                    \n",
       "7WOLPO   2017-08-31        Utilities  Jessica Spindler       112928.57   \n",
       "         2016-06-24        Utilities  Jessica Spindler       112928.57   \n",
       "7WEYER   2016-09-29    Manufacturing  Jessica Spindler         6313.90   \n",
       "         2016-09-20    Manufacturing  Jessica Spindler         6313.90   \n",
       "         2016-02-08    Manufacturing  Jessica Spindler         6313.90   \n",
       "\n",
       "                       first_sale    county  market_opportunity  %_market_opp  \\\n",
       "customer invoice_date                                                           \n",
       "7WOLPO   2017-08-31    11/01/1999   Wexford             67091.0         0.114   \n",
       "         2016-06-24    11/01/1999   Wexford             67091.0         0.114   \n",
       "7WEYER   2016-09-29    11/01/1999  Crawford              5375.0         4.437   \n",
       "         2016-09-20    11/01/1999  Crawford              5375.0         4.437   \n",
       "         2016-02-08    11/01/1999  Crawford              5375.0         4.437   \n",
       "\n",
       "                       item_price_rank  \n",
       "customer invoice_date                   \n",
       "7WOLPO   2017-08-31                202  \n",
       "         2016-06-24                202  \n",
       "7WEYER   2016-09-29                221  \n",
       "         2016-09-20                221  \n",
       "         2016-02-08                236  "
      ]
     },
     "execution_count": 21,
     "metadata": {},
     "output_type": "execute_result"
    }
   ],
   "source": [
    "# Drop all but the highest priced item for each sale date/customer combo\n",
    "\n",
    "# Make sure data are sorted by customer, then invoice_date, then item_price descending\n",
    "data.sort_values(by=['customer','invoice_date','item_price'], ascending=False, inplace=True)\n",
    "\n",
    "# Drop duplicate (customer/invoice_date) combos, keeping the first (i.e. highest priced)\n",
    "data.drop_duplicates(subset=['customer','invoice_date'], keep='first', inplace=True)\n",
    "\n",
    "# Reset index\n",
    "data.set_index(['customer','invoice_date'], inplace=True)\n",
    "\n",
    "# Confirm only one item per date per customer\n",
    "data.sort_index(level='customer')\n",
    "data.head()"
   ]
  },
  {
   "cell_type": "markdown",
   "metadata": {},
   "source": [
    "### 4.2.5 Drop unnessecary columns\n",
    "\n",
    "Since we only needed the item_price to create this ranking, we can drop that column now. (It would be highly correlated with item_price_rank anyway."
   ]
  },
  {
   "cell_type": "code",
   "execution_count": 22,
   "metadata": {},
   "outputs": [],
   "source": [
    "data.drop('item_price',axis=1, inplace=True)"
   ]
  },
  {
   "cell_type": "markdown",
   "metadata": {},
   "source": [
    "### 4.2.6 Create the Target Feature Column\n",
    "\n",
    "Now we're ready to create our target feature, which addressing the question: is this the highest priced item purchased by this customer to date?\n",
    "\n",
    "(Another way of saying, is this the highest ranked item by sales price)"
   ]
  },
  {
   "cell_type": "code",
   "execution_count": 23,
   "metadata": {},
   "outputs": [
    {
     "name": "stderr",
     "output_type": "stream",
     "text": [
      "<ipython-input-23-4f443d487afe>:3: SettingWithCopyWarning: \n",
      "A value is trying to be set on a copy of a slice from a DataFrame\n",
      "\n",
      "See the caveats in the documentation: https://pandas.pydata.org/pandas-docs/stable/user_guide/indexing.html#returning-a-view-versus-a-copy\n",
      "  df.sort_values(['customer','invoice_date'], ascending=[False, True], inplace=True)\n"
     ]
    },
    {
     "data": {
      "text/html": [
       "<div>\n",
       "<style scoped>\n",
       "    .dataframe tbody tr th:only-of-type {\n",
       "        vertical-align: middle;\n",
       "    }\n",
       "\n",
       "    .dataframe tbody tr th {\n",
       "        vertical-align: top;\n",
       "    }\n",
       "\n",
       "    .dataframe thead th {\n",
       "        text-align: right;\n",
       "    }\n",
       "</style>\n",
       "<table border=\"1\" class=\"dataframe\">\n",
       "  <thead>\n",
       "    <tr style=\"text-align: right;\">\n",
       "      <th></th>\n",
       "      <th>customer</th>\n",
       "      <th>invoice_date</th>\n",
       "      <th>item_price_rank</th>\n",
       "    </tr>\n",
       "  </thead>\n",
       "  <tbody>\n",
       "    <tr>\n",
       "      <th>1</th>\n",
       "      <td>7WOLPO</td>\n",
       "      <td>2016-06-24</td>\n",
       "      <td>202</td>\n",
       "    </tr>\n",
       "    <tr>\n",
       "      <th>0</th>\n",
       "      <td>7WOLPO</td>\n",
       "      <td>2017-08-31</td>\n",
       "      <td>202</td>\n",
       "    </tr>\n",
       "    <tr>\n",
       "      <th>5</th>\n",
       "      <td>7WEYER</td>\n",
       "      <td>2015-06-05</td>\n",
       "      <td>191</td>\n",
       "    </tr>\n",
       "    <tr>\n",
       "      <th>4</th>\n",
       "      <td>7WEYER</td>\n",
       "      <td>2016-02-08</td>\n",
       "      <td>236</td>\n",
       "    </tr>\n",
       "    <tr>\n",
       "      <th>3</th>\n",
       "      <td>7WEYER</td>\n",
       "      <td>2016-09-20</td>\n",
       "      <td>221</td>\n",
       "    </tr>\n",
       "  </tbody>\n",
       "</table>\n",
       "</div>"
      ],
      "text/plain": [
       "  customer invoice_date  item_price_rank\n",
       "1   7WOLPO   2016-06-24              202\n",
       "0   7WOLPO   2017-08-31              202\n",
       "5   7WEYER   2015-06-05              191\n",
       "4   7WEYER   2016-02-08              236\n",
       "3   7WEYER   2016-09-20              221"
      ]
     },
     "execution_count": 23,
     "metadata": {},
     "output_type": "execute_result"
    }
   ],
   "source": [
    "df = data[['item_price_rank']]\n",
    "df.reset_index(inplace=True)\n",
    "df.sort_values(['customer','invoice_date'], ascending=[False, True], inplace=True)\n",
    "df.head()"
   ]
  },
  {
   "cell_type": "code",
   "execution_count": 24,
   "metadata": {},
   "outputs": [],
   "source": [
    "# Loop through the invoice dates for each customer & assign 1 to any purchase ranked higher than\n",
    "# prior purchases\n",
    "\n",
    "# this will be the list that becomes target feature\n",
    "target_list = []\n",
    "\n",
    "# Loop through each customer\n",
    "for customer in df.customer.unique():\n",
    "    cust_df = df[df['customer']==customer]\n",
    "    \n",
    "    # counter\n",
    "    i = 0\n",
    "    \n",
    "    for date in cust_df.invoice_date.values:\n",
    "        # If first item purchased, assign 0\n",
    "        if i == 0:\n",
    "            target_list.append(0)\n",
    "            i += 1\n",
    "            continue\n",
    "        \n",
    "        # For susequent purchases, was this item higher ranked than any previous\n",
    "        item_max = cust_df.item_price_rank.iloc[:i-1].max()\n",
    "        \n",
    "        if cust_df.item_price_rank.iloc[i] > item_max:\n",
    "            target_list.append(1)\n",
    "            i += 1\n",
    "            continue\n",
    "        else:\n",
    "            target_list.append(0)\n",
    "            i += 1\n",
    "            continue  "
   ]
  },
  {
   "cell_type": "code",
   "execution_count": 25,
   "metadata": {},
   "outputs": [
    {
     "data": {
      "text/plain": [
       "[0, 0, 0, 0, 1, 0, 0, 0, 0, 0]"
      ]
     },
     "execution_count": 25,
     "metadata": {},
     "output_type": "execute_result"
    }
   ],
   "source": [
    "# double check\n",
    "target_list[:10]"
   ]
  },
  {
   "cell_type": "code",
   "execution_count": 26,
   "metadata": {},
   "outputs": [
    {
     "data": {
      "text/html": [
       "<div>\n",
       "<style scoped>\n",
       "    .dataframe tbody tr th:only-of-type {\n",
       "        vertical-align: middle;\n",
       "    }\n",
       "\n",
       "    .dataframe tbody tr th {\n",
       "        vertical-align: top;\n",
       "    }\n",
       "\n",
       "    .dataframe thead th {\n",
       "        text-align: right;\n",
       "    }\n",
       "</style>\n",
       "<table border=\"1\" class=\"dataframe\">\n",
       "  <thead>\n",
       "    <tr style=\"text-align: right;\">\n",
       "      <th></th>\n",
       "      <th>customer</th>\n",
       "      <th>invoice_date</th>\n",
       "      <th>item_price_rank</th>\n",
       "    </tr>\n",
       "  </thead>\n",
       "  <tbody>\n",
       "    <tr>\n",
       "      <th>1</th>\n",
       "      <td>7WOLPO</td>\n",
       "      <td>2016-06-24</td>\n",
       "      <td>202</td>\n",
       "    </tr>\n",
       "    <tr>\n",
       "      <th>0</th>\n",
       "      <td>7WOLPO</td>\n",
       "      <td>2017-08-31</td>\n",
       "      <td>202</td>\n",
       "    </tr>\n",
       "    <tr>\n",
       "      <th>5</th>\n",
       "      <td>7WEYER</td>\n",
       "      <td>2015-06-05</td>\n",
       "      <td>191</td>\n",
       "    </tr>\n",
       "    <tr>\n",
       "      <th>4</th>\n",
       "      <td>7WEYER</td>\n",
       "      <td>2016-02-08</td>\n",
       "      <td>236</td>\n",
       "    </tr>\n",
       "    <tr>\n",
       "      <th>3</th>\n",
       "      <td>7WEYER</td>\n",
       "      <td>2016-09-20</td>\n",
       "      <td>221</td>\n",
       "    </tr>\n",
       "    <tr>\n",
       "      <th>2</th>\n",
       "      <td>7WEYER</td>\n",
       "      <td>2016-09-29</td>\n",
       "      <td>221</td>\n",
       "    </tr>\n",
       "    <tr>\n",
       "      <th>6</th>\n",
       "      <td>7WEXSA</td>\n",
       "      <td>2018-09-25</td>\n",
       "      <td>229</td>\n",
       "    </tr>\n",
       "    <tr>\n",
       "      <th>8</th>\n",
       "      <td>7WEXCS</td>\n",
       "      <td>2015-10-30</td>\n",
       "      <td>248</td>\n",
       "    </tr>\n",
       "    <tr>\n",
       "      <th>7</th>\n",
       "      <td>7WEXCS</td>\n",
       "      <td>2017-09-08</td>\n",
       "      <td>376</td>\n",
       "    </tr>\n",
       "    <tr>\n",
       "      <th>10</th>\n",
       "      <td>7WEQUE</td>\n",
       "      <td>2016-05-20</td>\n",
       "      <td>252</td>\n",
       "    </tr>\n",
       "  </tbody>\n",
       "</table>\n",
       "</div>"
      ],
      "text/plain": [
       "   customer invoice_date  item_price_rank\n",
       "1    7WOLPO   2016-06-24              202\n",
       "0    7WOLPO   2017-08-31              202\n",
       "5    7WEYER   2015-06-05              191\n",
       "4    7WEYER   2016-02-08              236\n",
       "3    7WEYER   2016-09-20              221\n",
       "2    7WEYER   2016-09-29              221\n",
       "6    7WEXSA   2018-09-25              229\n",
       "8    7WEXCS   2015-10-30              248\n",
       "7    7WEXCS   2017-09-08              376\n",
       "10   7WEQUE   2016-05-20              252"
      ]
     },
     "execution_count": 26,
     "metadata": {},
     "output_type": "execute_result"
    }
   ],
   "source": [
    "df.head(10)"
   ]
  },
  {
   "cell_type": "code",
   "execution_count": 27,
   "metadata": {},
   "outputs": [
    {
     "name": "stdout",
     "output_type": "stream",
     "text": [
      "<class 'pandas.core.frame.DataFrame'>\n",
      "MultiIndex: 1949 entries, ('7WOLPO', Timestamp('2017-08-31 00:00:00')) to ('1ADACO', Timestamp('2015-04-24 00:00:00'))\n",
      "Data columns (total 12 columns):\n",
      " #   Column              Non-Null Count  Dtype  \n",
      "---  ------              --------------  -----  \n",
      " 0   qty_shipped         1949 non-null   float64\n",
      " 1   item                1949 non-null   object \n",
      " 2   description         1949 non-null   object \n",
      " 3   industry            1949 non-null   object \n",
      " 4   contact_owner       1949 non-null   object \n",
      " 5   lifetime_sales      1949 non-null   float64\n",
      " 6   first_sale          1949 non-null   object \n",
      " 7   county              1949 non-null   object \n",
      " 8   market_opportunity  1949 non-null   float64\n",
      " 9   %_market_opp        1949 non-null   float64\n",
      " 10  item_price_rank     1949 non-null   int64  \n",
      " 11  target              1949 non-null   int64  \n",
      "dtypes: float64(4), int64(2), object(6)\n",
      "memory usage: 196.1+ KB\n"
     ]
    },
    {
     "data": {
      "text/plain": [
       "None"
      ]
     },
     "metadata": {},
     "output_type": "display_data"
    },
    {
     "data": {
      "text/plain": [
       "0    1773\n",
       "1     176\n",
       "Name: target, dtype: int64"
      ]
     },
     "metadata": {},
     "output_type": "display_data"
    }
   ],
   "source": [
    "# Create target feature\n",
    "data['target'] = target_list\n",
    "display(data.info())\n",
    "display(data.target.value_counts())"
   ]
  },
  {
   "cell_type": "code",
   "execution_count": 28,
   "metadata": {},
   "outputs": [],
   "source": [
    "# So we have very imbalanced classes - will upsample our positive target class\n",
    "data.to_csv('data/processed/data_w_target_feature.csv')"
   ]
  },
  {
   "cell_type": "markdown",
   "metadata": {},
   "source": [
    "## 4.3 Fix Column Data Types"
   ]
  },
  {
   "cell_type": "code",
   "execution_count": 29,
   "metadata": {},
   "outputs": [
    {
     "name": "stdout",
     "output_type": "stream",
     "text": [
      "<class 'pandas.core.frame.DataFrame'>\n",
      "MultiIndex: 1949 entries, ('7WOLPO', Timestamp('2017-08-31 00:00:00')) to ('1ADACO', Timestamp('2015-04-24 00:00:00'))\n",
      "Data columns (total 12 columns):\n",
      " #   Column              Non-Null Count  Dtype         \n",
      "---  ------              --------------  -----         \n",
      " 0   qty_shipped         1949 non-null   float64       \n",
      " 1   item                1949 non-null   object        \n",
      " 2   description         1949 non-null   object        \n",
      " 3   industry            1949 non-null   category      \n",
      " 4   contact_owner       1949 non-null   category      \n",
      " 5   lifetime_sales      1949 non-null   float64       \n",
      " 6   first_sale          1949 non-null   datetime64[ns]\n",
      " 7   county              1949 non-null   category      \n",
      " 8   market_opportunity  1949 non-null   float64       \n",
      " 9   %_market_opp        1949 non-null   float64       \n",
      " 10  item_price_rank     1949 non-null   int64         \n",
      " 11  target              1949 non-null   int64         \n",
      "dtypes: category(3), datetime64[ns](1), float64(4), int64(2), object(2)\n",
      "memory usage: 158.7+ KB\n"
     ]
    }
   ],
   "source": [
    "# For reloaded data df when I screwed up below\n",
    "#data = pd.read_csv('data/processed/data_w_target_feature.csv', \n",
    "#                   index_col=['customer','invoice_date'])\n",
    "\n",
    "# In all that engineering we lost our data types\n",
    "data['industry'] = data['industry'].astype('category')\n",
    "data['contact_owner'] = data['contact_owner'].astype('category')\n",
    "data['county'] = data['county'].astype('category')\n",
    "\n",
    "data['first_sale'] = pd.to_datetime(data['first_sale'])\n",
    "\n",
    "# Check\n",
    "data.info()"
   ]
  },
  {
   "cell_type": "markdown",
   "metadata": {},
   "source": [
    "### 4.3.1 One hot encode Categorical features"
   ]
  },
  {
   "cell_type": "code",
   "execution_count": 30,
   "metadata": {},
   "outputs": [
    {
     "data": {
      "text/html": [
       "<div>\n",
       "<style scoped>\n",
       "    .dataframe tbody tr th:only-of-type {\n",
       "        vertical-align: middle;\n",
       "    }\n",
       "\n",
       "    .dataframe tbody tr th {\n",
       "        vertical-align: top;\n",
       "    }\n",
       "\n",
       "    .dataframe thead th {\n",
       "        text-align: right;\n",
       "    }\n",
       "</style>\n",
       "<table border=\"1\" class=\"dataframe\">\n",
       "  <thead>\n",
       "    <tr style=\"text-align: right;\">\n",
       "      <th></th>\n",
       "      <th></th>\n",
       "      <th>qty_shipped</th>\n",
       "      <th>lifetime_sales</th>\n",
       "      <th>first_sale</th>\n",
       "      <th>market_opportunity</th>\n",
       "      <th>%_market_opp</th>\n",
       "      <th>item_price_rank</th>\n",
       "      <th>target</th>\n",
       "      <th>industry_911 &amp; Dispatch</th>\n",
       "      <th>industry_Agriculture</th>\n",
       "      <th>industry_Colleges &amp; Universities</th>\n",
       "      <th>...</th>\n",
       "      <th>county_Muskegon</th>\n",
       "      <th>county_Newaygo</th>\n",
       "      <th>county_Oceana</th>\n",
       "      <th>county_Ogemaw</th>\n",
       "      <th>county_Otsego</th>\n",
       "      <th>county_Ottawa</th>\n",
       "      <th>county_Presque Isle</th>\n",
       "      <th>county_Roscommon</th>\n",
       "      <th>county_Van Buren</th>\n",
       "      <th>county_Wexford</th>\n",
       "    </tr>\n",
       "    <tr>\n",
       "      <th>customer</th>\n",
       "      <th>invoice_date</th>\n",
       "      <th></th>\n",
       "      <th></th>\n",
       "      <th></th>\n",
       "      <th></th>\n",
       "      <th></th>\n",
       "      <th></th>\n",
       "      <th></th>\n",
       "      <th></th>\n",
       "      <th></th>\n",
       "      <th></th>\n",
       "      <th></th>\n",
       "      <th></th>\n",
       "      <th></th>\n",
       "      <th></th>\n",
       "      <th></th>\n",
       "      <th></th>\n",
       "      <th></th>\n",
       "      <th></th>\n",
       "      <th></th>\n",
       "      <th></th>\n",
       "      <th></th>\n",
       "    </tr>\n",
       "  </thead>\n",
       "  <tbody>\n",
       "    <tr>\n",
       "      <th rowspan=\"2\" valign=\"top\">7WOLPO</th>\n",
       "      <th>2017-08-31</th>\n",
       "      <td>4.0</td>\n",
       "      <td>112928.57</td>\n",
       "      <td>1999-11-01</td>\n",
       "      <td>67091.0</td>\n",
       "      <td>0.114</td>\n",
       "      <td>202</td>\n",
       "      <td>0</td>\n",
       "      <td>0</td>\n",
       "      <td>0</td>\n",
       "      <td>0</td>\n",
       "      <td>...</td>\n",
       "      <td>0</td>\n",
       "      <td>0</td>\n",
       "      <td>0</td>\n",
       "      <td>0</td>\n",
       "      <td>0</td>\n",
       "      <td>0</td>\n",
       "      <td>0</td>\n",
       "      <td>0</td>\n",
       "      <td>0</td>\n",
       "      <td>1</td>\n",
       "    </tr>\n",
       "    <tr>\n",
       "      <th>2016-06-24</th>\n",
       "      <td>6.0</td>\n",
       "      <td>112928.57</td>\n",
       "      <td>1999-11-01</td>\n",
       "      <td>67091.0</td>\n",
       "      <td>0.114</td>\n",
       "      <td>202</td>\n",
       "      <td>0</td>\n",
       "      <td>0</td>\n",
       "      <td>0</td>\n",
       "      <td>0</td>\n",
       "      <td>...</td>\n",
       "      <td>0</td>\n",
       "      <td>0</td>\n",
       "      <td>0</td>\n",
       "      <td>0</td>\n",
       "      <td>0</td>\n",
       "      <td>0</td>\n",
       "      <td>0</td>\n",
       "      <td>0</td>\n",
       "      <td>0</td>\n",
       "      <td>1</td>\n",
       "    </tr>\n",
       "    <tr>\n",
       "      <th rowspan=\"3\" valign=\"top\">7WEYER</th>\n",
       "      <th>2016-09-29</th>\n",
       "      <td>2.0</td>\n",
       "      <td>6313.90</td>\n",
       "      <td>1999-11-01</td>\n",
       "      <td>5375.0</td>\n",
       "      <td>4.437</td>\n",
       "      <td>221</td>\n",
       "      <td>0</td>\n",
       "      <td>0</td>\n",
       "      <td>0</td>\n",
       "      <td>0</td>\n",
       "      <td>...</td>\n",
       "      <td>0</td>\n",
       "      <td>0</td>\n",
       "      <td>0</td>\n",
       "      <td>0</td>\n",
       "      <td>0</td>\n",
       "      <td>0</td>\n",
       "      <td>0</td>\n",
       "      <td>0</td>\n",
       "      <td>0</td>\n",
       "      <td>0</td>\n",
       "    </tr>\n",
       "    <tr>\n",
       "      <th>2016-09-20</th>\n",
       "      <td>2.0</td>\n",
       "      <td>6313.90</td>\n",
       "      <td>1999-11-01</td>\n",
       "      <td>5375.0</td>\n",
       "      <td>4.437</td>\n",
       "      <td>221</td>\n",
       "      <td>0</td>\n",
       "      <td>0</td>\n",
       "      <td>0</td>\n",
       "      <td>0</td>\n",
       "      <td>...</td>\n",
       "      <td>0</td>\n",
       "      <td>0</td>\n",
       "      <td>0</td>\n",
       "      <td>0</td>\n",
       "      <td>0</td>\n",
       "      <td>0</td>\n",
       "      <td>0</td>\n",
       "      <td>0</td>\n",
       "      <td>0</td>\n",
       "      <td>0</td>\n",
       "    </tr>\n",
       "    <tr>\n",
       "      <th>2016-02-08</th>\n",
       "      <td>1.0</td>\n",
       "      <td>6313.90</td>\n",
       "      <td>1999-11-01</td>\n",
       "      <td>5375.0</td>\n",
       "      <td>4.437</td>\n",
       "      <td>236</td>\n",
       "      <td>1</td>\n",
       "      <td>0</td>\n",
       "      <td>0</td>\n",
       "      <td>0</td>\n",
       "      <td>...</td>\n",
       "      <td>0</td>\n",
       "      <td>0</td>\n",
       "      <td>0</td>\n",
       "      <td>0</td>\n",
       "      <td>0</td>\n",
       "      <td>0</td>\n",
       "      <td>0</td>\n",
       "      <td>0</td>\n",
       "      <td>0</td>\n",
       "      <td>0</td>\n",
       "    </tr>\n",
       "  </tbody>\n",
       "</table>\n",
       "<p>5 rows × 65 columns</p>\n",
       "</div>"
      ],
      "text/plain": [
       "                       qty_shipped  lifetime_sales first_sale  \\\n",
       "customer invoice_date                                           \n",
       "7WOLPO   2017-08-31            4.0       112928.57 1999-11-01   \n",
       "         2016-06-24            6.0       112928.57 1999-11-01   \n",
       "7WEYER   2016-09-29            2.0         6313.90 1999-11-01   \n",
       "         2016-09-20            2.0         6313.90 1999-11-01   \n",
       "         2016-02-08            1.0         6313.90 1999-11-01   \n",
       "\n",
       "                       market_opportunity  %_market_opp  item_price_rank  \\\n",
       "customer invoice_date                                                      \n",
       "7WOLPO   2017-08-31               67091.0         0.114              202   \n",
       "         2016-06-24               67091.0         0.114              202   \n",
       "7WEYER   2016-09-29                5375.0         4.437              221   \n",
       "         2016-09-20                5375.0         4.437              221   \n",
       "         2016-02-08                5375.0         4.437              236   \n",
       "\n",
       "                       target  industry_911 & Dispatch  industry_Agriculture  \\\n",
       "customer invoice_date                                                          \n",
       "7WOLPO   2017-08-31         0                        0                     0   \n",
       "         2016-06-24         0                        0                     0   \n",
       "7WEYER   2016-09-29         0                        0                     0   \n",
       "         2016-09-20         0                        0                     0   \n",
       "         2016-02-08         1                        0                     0   \n",
       "\n",
       "                       industry_Colleges & Universities  ...  county_Muskegon  \\\n",
       "customer invoice_date                                    ...                    \n",
       "7WOLPO   2017-08-31                                   0  ...                0   \n",
       "         2016-06-24                                   0  ...                0   \n",
       "7WEYER   2016-09-29                                   0  ...                0   \n",
       "         2016-09-20                                   0  ...                0   \n",
       "         2016-02-08                                   0  ...                0   \n",
       "\n",
       "                       county_Newaygo  county_Oceana  county_Ogemaw  \\\n",
       "customer invoice_date                                                 \n",
       "7WOLPO   2017-08-31                 0              0              0   \n",
       "         2016-06-24                 0              0              0   \n",
       "7WEYER   2016-09-29                 0              0              0   \n",
       "         2016-09-20                 0              0              0   \n",
       "         2016-02-08                 0              0              0   \n",
       "\n",
       "                       county_Otsego  county_Ottawa  county_Presque Isle  \\\n",
       "customer invoice_date                                                      \n",
       "7WOLPO   2017-08-31                0              0                    0   \n",
       "         2016-06-24                0              0                    0   \n",
       "7WEYER   2016-09-29                0              0                    0   \n",
       "         2016-09-20                0              0                    0   \n",
       "         2016-02-08                0              0                    0   \n",
       "\n",
       "                       county_Roscommon  county_Van Buren  county_Wexford  \n",
       "customer invoice_date                                                      \n",
       "7WOLPO   2017-08-31                   0                 0               1  \n",
       "         2016-06-24                   0                 0               1  \n",
       "7WEYER   2016-09-29                   0                 0               0  \n",
       "         2016-09-20                   0                 0               0  \n",
       "         2016-02-08                   0                 0               0  \n",
       "\n",
       "[5 rows x 65 columns]"
      ]
     },
     "execution_count": 30,
     "metadata": {},
     "output_type": "execute_result"
    }
   ],
   "source": [
    "data = pd.get_dummies(data.drop(['item','description'], axis=1))\n",
    "data.head()"
   ]
  },
  {
   "cell_type": "markdown",
   "metadata": {},
   "source": [
    "## 4.4 Preprocessing - Scaling, Test/Train split"
   ]
  },
  {
   "cell_type": "code",
   "execution_count": 31,
   "metadata": {},
   "outputs": [],
   "source": [
    "from sklearn.preprocessing import StandardScaler\n",
    "\n",
    "# Define X,y\n",
    "X = data.drop(['target','first_sale'], axis=1)\n",
    "y = data.target\n",
    "\n",
    "# Preprocessing\n",
    "scaler = StandardScaler().fit(X)\n",
    "X_scaled = scaler.transform(X)"
   ]
  },
  {
   "cell_type": "code",
   "execution_count": 32,
   "metadata": {},
   "outputs": [],
   "source": [
    "# Split into training/testing sets\n",
    "from sklearn.model_selection import train_test_split\n",
    "\n",
    "y = y.ravel()\n",
    "X_train, X_test, y_train, y_test = train_test_split(X_scaled, y, random_state = 2)"
   ]
  },
  {
   "cell_type": "code",
   "execution_count": 33,
   "metadata": {},
   "outputs": [
    {
     "name": "stdout",
     "output_type": "stream",
     "text": [
      "(1949, 63)\n",
      "(1461, 63)\n",
      "(488, 63)\n"
     ]
    }
   ],
   "source": [
    "# Check shapes\n",
    "print(X.shape)\n",
    "print(X_train.shape)\n",
    "print(X_test.shape)"
   ]
  },
  {
   "cell_type": "markdown",
   "metadata": {},
   "source": [
    "# Step 5 - Modelling\n",
    "\n",
    "Now to build out 3 different models."
   ]
  },
  {
   "cell_type": "markdown",
   "metadata": {},
   "source": [
    "## 5.1 - Model 1: Random Forest\n",
    "\n",
    "Random forest is generally a good base model. It also has the added advantage of giving us feature importance, which can be translated to business impacts"
   ]
  },
  {
   "cell_type": "code",
   "execution_count": 34,
   "metadata": {},
   "outputs": [],
   "source": [
    "from sklearn.ensemble import RandomForestClassifier\n",
    "rfc = RandomForestClassifier()\n",
    "model_1 = rfc.fit(X_train, y_train)\n",
    "y_pred1 = model_1.predict(X_test)"
   ]
  },
  {
   "cell_type": "code",
   "execution_count": 35,
   "metadata": {},
   "outputs": [
    {
     "name": "stdout",
     "output_type": "stream",
     "text": [
      "              precision    recall  f1-score   support\n",
      "\n",
      "           0       0.91      0.96      0.94       442\n",
      "           1       0.20      0.09      0.12        46\n",
      "\n",
      "    accuracy                           0.88       488\n",
      "   macro avg       0.56      0.53      0.53       488\n",
      "weighted avg       0.84      0.88      0.86       488\n",
      "\n"
     ]
    }
   ],
   "source": [
    "from sklearn.metrics import classification_report\n",
    "print(classification_report(y_test, y_pred1, digits=2))"
   ]
  },
  {
   "cell_type": "markdown",
   "metadata": {},
   "source": [
    "### 5.1.1 - Hyperparameter Tuning"
   ]
  },
  {
   "cell_type": "code",
   "execution_count": 37,
   "metadata": {},
   "outputs": [
    {
     "name": "stdout",
     "output_type": "stream",
     "text": [
      "Fitting 5 folds for each of 40 candidates, totalling 200 fits\n"
     ]
    },
    {
     "name": "stderr",
     "output_type": "stream",
     "text": [
      "[Parallel(n_jobs=-1)]: Using backend LokyBackend with 8 concurrent workers.\n",
      "[Parallel(n_jobs=-1)]: Done   2 tasks      | elapsed:    1.7s\n",
      "[Parallel(n_jobs=-1)]: Done  56 tasks      | elapsed:    6.8s\n",
      "[Parallel(n_jobs=-1)]: Done 146 tasks      | elapsed:   14.4s\n",
      "[Parallel(n_jobs=-1)]: Done 200 out of 200 | elapsed:   19.7s finished\n"
     ]
    }
   ],
   "source": [
    "from sklearn.model_selection import GridSearchCV\n",
    "\n",
    "# Random forest param tuning\n",
    "param_grid = {\n",
    "    'n_estimators':np.arange(100,500,100),\n",
    "    'max_depth':[None, 3, 7, 11, 15],\n",
    "    'min_samples_leaf':np.arange(3,7,2)\n",
    "}\n",
    "\n",
    "rfc = RandomForestClassifier()\n",
    "gs1 = GridSearchCV(rfc, param_grid, verbose=5, cv=5, n_jobs=-1)\n",
    "\n",
    "gs1.results = gs1.fit(X_train, y_train)"
   ]
  },
  {
   "cell_type": "code",
   "execution_count": 39,
   "metadata": {},
   "outputs": [
    {
     "name": "stdout",
     "output_type": "stream",
     "text": [
      "Best parameters: {'max_depth': None, 'min_samples_leaf': 3, 'n_estimators': 100}\n"
     ]
    }
   ],
   "source": [
    "print('Best parameters: {}'.format(gs1.results.best_params_))"
   ]
  },
  {
   "cell_type": "code",
   "execution_count": 42,
   "metadata": {},
   "outputs": [],
   "source": [
    "# Fit best model\n",
    "rfc = RandomForestClassifier(max_depth=None,\n",
    "                            min_samples_leaf=3,\n",
    "                            n_estimators=100)\n",
    "model1 = rfc.fit(X_train, y_train)\n",
    "y_pred1 = model1.predict(X_test)"
   ]
  },
  {
   "cell_type": "code",
   "execution_count": 43,
   "metadata": {},
   "outputs": [
    {
     "name": "stdout",
     "output_type": "stream",
     "text": [
      "              precision    recall  f1-score   support\n",
      "\n",
      "           0       0.91      1.00      0.95       442\n",
      "           1       0.00      0.00      0.00        46\n",
      "\n",
      "    accuracy                           0.91       488\n",
      "   macro avg       0.45      0.50      0.48       488\n",
      "weighted avg       0.82      0.91      0.86       488\n",
      "\n"
     ]
    },
    {
     "name": "stderr",
     "output_type": "stream",
     "text": [
      "/Users/mark/opt/anaconda3/lib/python3.8/site-packages/sklearn/metrics/_classification.py:1221: UndefinedMetricWarning: Precision and F-score are ill-defined and being set to 0.0 in labels with no predicted samples. Use `zero_division` parameter to control this behavior.\n",
      "  _warn_prf(average, modifier, msg_start, len(result))\n"
     ]
    }
   ],
   "source": [
    "print(classification_report(y_test, y_pred1, digits=2))"
   ]
  },
  {
   "cell_type": "markdown",
   "metadata": {},
   "source": [
    "### 5.1.2 - RFC Feature Importances\n",
    "\n",
    "For this model, want to see the top features of importance."
   ]
  },
  {
   "cell_type": "code",
   "execution_count": 44,
   "metadata": {},
   "outputs": [
    {
     "name": "stdout",
     "output_type": "stream",
     "text": [
      "qty_shipped :  0.1934952693115848\n",
      "lifetime_sales :  0.17485120799219536\n",
      "market_opportunity :  0.021390915648980047\n",
      "%_market_opp :  0.020404421602488485\n",
      "item_price_rank :  0.39469106816061755\n",
      "industry_911 & Dispatch :  0.006194545876004108\n",
      "industry_Agriculture :  0.008808977445602736\n",
      "industry_Colleges & Universities :  0.003456473171000104\n",
      "industry_Construction :  0.003930310474966372\n",
      "industry_Fire & EMS :  0.014088326327629755\n",
      "industry_Government Services :  0.007578876261752043\n",
      "industry_Healthcare :  0.011364974461803349\n",
      "industry_Hospitality :  0.006120411692399298\n",
      "industry_K12 Education :  0.011998659169478506\n",
      "industry_Law Enforcement :  0.009483570963804857\n",
      "industry_Manufacturing :  0.009841008615977802\n",
      "industry_Mining & Materials :  0.002277900815431795\n",
      "industry_Oil & Gas :  0.00011699942443862243\n",
      "industry_Property Management :  0.0001836509618127639\n",
      "industry_Religious Institutions :  0.0005782412138809272\n",
      "industry_Retail :  1.974777840376439e-05\n",
      "industry_Services & Training :  0.00014923763981973025\n",
      "industry_Telecommunications :  0.0020163861631060675\n",
      "industry_Transportation :  0.0056808594240867665\n",
      "industry_Utilities :  0.0027325796994605543\n",
      "industry_Warehousing :  8.976552007281198e-05\n",
      "contact_owner_Jessica Spindler :  0.0040290485143762295\n",
      "contact_owner_Keith Johnson :  0.007642531976507828\n",
      "contact_owner_Kelly Hoek :  0.00602942909491913\n",
      "contact_owner_Pat McBride :  0.004171559170813261\n",
      "contact_owner_Skip Petrovich :  0.006037490382023711\n",
      "contact_owner_Tom Gillespie :  0.004148267067663845\n",
      "county_Allegan :  0.004702186676022083\n",
      "county_Alpena :  0.00012194496846327122\n",
      "county_Antrim :  0.007139546942789393\n",
      "county_Berrien :  0.0033820024103482626\n",
      "county_Cass :  0.0015194667224496254\n",
      "county_Charlevoix :  0.0005637882338968791\n",
      "county_Cheboygan :  0.0026308110462014444\n",
      "county_Crawford :  0.0007383473584730901\n",
      "county_Eaton :  1.0135178907909868e-05\n",
      "county_Emmet :  0.004331908059942344\n",
      "county_Grand Traverse :  0.0010214518973347922\n",
      "county_Ionia :  2.5306869951754257e-06\n",
      "county_Kalamazoo :  0.00015014547579320035\n",
      "county_Kalkaska :  1.7148747903765925e-06\n",
      "county_Kent :  0.004134086343341087\n",
      "county_Lake :  2.0648298345707988e-05\n",
      "county_Leelanau :  0.00037334842883119545\n",
      "county_Manistee :  0.0035385377911260705\n",
      "county_Mason :  0.00033933839329459\n",
      "county_Missaukee :  0.0014059931863034817\n",
      "county_Montmorency :  0.00215739675991344\n",
      "county_Muskegon :  0.0012944406135767421\n",
      "county_Newaygo :  0.0013992433718490118\n",
      "county_Oceana :  0.0006133841078444174\n",
      "county_Ogemaw :  8.002947264657305e-05\n",
      "county_Otsego :  0.0009533835257703066\n",
      "county_Ottawa :  0.0065567067105624394\n",
      "county_Presque Isle :  4.620337705130706e-05\n",
      "county_Roscommon :  0.0034041157605133703\n",
      "county_Van Buren :  0.002422398218645782\n",
      "county_Wexford :  0.001342053084873633\n"
     ]
    }
   ],
   "source": [
    "# Print feature importances\n",
    "for name, importance in zip(data.drop(['target','first_sale'], axis=1), \n",
    "                            model_1.feature_importances_):\n",
    "    print(name, ': ', importance)"
   ]
  },
  {
   "cell_type": "code",
   "execution_count": 51,
   "metadata": {},
   "outputs": [
    {
     "ename": "ValueError",
     "evalue": "shape mismatch: objects cannot be broadcast to a single shape",
     "output_type": "error",
     "traceback": [
      "\u001b[0;31m---------------------------------------------------------------------------\u001b[0m",
      "\u001b[0;31mValueError\u001b[0m                                Traceback (most recent call last)",
      "\u001b[0;32m<ipython-input-51-131b4062a080>\u001b[0m in \u001b[0;36m<module>\u001b[0;34m\u001b[0m\n\u001b[1;32m      5\u001b[0m \u001b[0;34m\u001b[0m\u001b[0m\n\u001b[1;32m      6\u001b[0m \u001b[0mplt\u001b[0m\u001b[0;34m.\u001b[0m\u001b[0mtitle\u001b[0m\u001b[0;34m(\u001b[0m\u001b[0;34m'Feature Importances'\u001b[0m\u001b[0;34m)\u001b[0m\u001b[0;34m\u001b[0m\u001b[0;34m\u001b[0m\u001b[0m\n\u001b[0;32m----> 7\u001b[0;31m \u001b[0mplt\u001b[0m\u001b[0;34m.\u001b[0m\u001b[0mbarh\u001b[0m\u001b[0;34m(\u001b[0m\u001b[0mrange\u001b[0m\u001b[0;34m(\u001b[0m\u001b[0;36m10\u001b[0m\u001b[0;34m)\u001b[0m\u001b[0;34m,\u001b[0m \u001b[0mimportances\u001b[0m\u001b[0;34m[\u001b[0m\u001b[0mindices\u001b[0m\u001b[0;34m]\u001b[0m\u001b[0;34m,\u001b[0m \u001b[0mcolor\u001b[0m\u001b[0;34m=\u001b[0m\u001b[0;34m'b'\u001b[0m\u001b[0;34m,\u001b[0m \u001b[0malign\u001b[0m\u001b[0;34m=\u001b[0m\u001b[0;34m'center'\u001b[0m\u001b[0;34m)\u001b[0m\u001b[0;34m\u001b[0m\u001b[0;34m\u001b[0m\u001b[0m\n\u001b[0m\u001b[1;32m      8\u001b[0m \u001b[0mplt\u001b[0m\u001b[0;34m.\u001b[0m\u001b[0myticks\u001b[0m\u001b[0;34m(\u001b[0m\u001b[0;36m10\u001b[0m\u001b[0;34m)\u001b[0m\u001b[0;34m,\u001b[0m \u001b[0;34m[\u001b[0m\u001b[0mfeatures\u001b[0m\u001b[0;34m[\u001b[0m\u001b[0mi\u001b[0m\u001b[0;34m]\u001b[0m \u001b[0;32mfor\u001b[0m \u001b[0mi\u001b[0m \u001b[0;32min\u001b[0m \u001b[0mrange\u001b[0m\u001b[0;34m(\u001b[0m\u001b[0;36m10\u001b[0m\u001b[0;34m)\u001b[0m\u001b[0;34m]\u001b[0m\u001b[0;34m\u001b[0m\u001b[0;34m\u001b[0m\u001b[0m\n\u001b[1;32m      9\u001b[0m \u001b[0mplt\u001b[0m\u001b[0;34m.\u001b[0m\u001b[0mxlabel\u001b[0m\u001b[0;34m(\u001b[0m\u001b[0;34m'Relative Importances'\u001b[0m\u001b[0;34m)\u001b[0m\u001b[0;34m\u001b[0m\u001b[0;34m\u001b[0m\u001b[0m\n",
      "\u001b[0;32m~/opt/anaconda3/lib/python3.8/site-packages/matplotlib/pyplot.py\u001b[0m in \u001b[0;36mbarh\u001b[0;34m(y, width, height, left, align, **kwargs)\u001b[0m\n\u001b[1;32m   2420\u001b[0m \u001b[0;34m@\u001b[0m\u001b[0mdocstring\u001b[0m\u001b[0;34m.\u001b[0m\u001b[0mcopy\u001b[0m\u001b[0;34m(\u001b[0m\u001b[0mAxes\u001b[0m\u001b[0;34m.\u001b[0m\u001b[0mbarh\u001b[0m\u001b[0;34m)\u001b[0m\u001b[0;34m\u001b[0m\u001b[0;34m\u001b[0m\u001b[0m\n\u001b[1;32m   2421\u001b[0m \u001b[0;32mdef\u001b[0m \u001b[0mbarh\u001b[0m\u001b[0;34m(\u001b[0m\u001b[0my\u001b[0m\u001b[0;34m,\u001b[0m \u001b[0mwidth\u001b[0m\u001b[0;34m,\u001b[0m \u001b[0mheight\u001b[0m\u001b[0;34m=\u001b[0m\u001b[0;36m0.8\u001b[0m\u001b[0;34m,\u001b[0m \u001b[0mleft\u001b[0m\u001b[0;34m=\u001b[0m\u001b[0;32mNone\u001b[0m\u001b[0;34m,\u001b[0m \u001b[0;34m*\u001b[0m\u001b[0;34m,\u001b[0m \u001b[0malign\u001b[0m\u001b[0;34m=\u001b[0m\u001b[0;34m'center'\u001b[0m\u001b[0;34m,\u001b[0m \u001b[0;34m**\u001b[0m\u001b[0mkwargs\u001b[0m\u001b[0;34m)\u001b[0m\u001b[0;34m:\u001b[0m\u001b[0;34m\u001b[0m\u001b[0;34m\u001b[0m\u001b[0m\n\u001b[0;32m-> 2422\u001b[0;31m     return gca().barh(\n\u001b[0m\u001b[1;32m   2423\u001b[0m         y, width, height=height, left=left, align=align, **kwargs)\n\u001b[1;32m   2424\u001b[0m \u001b[0;34m\u001b[0m\u001b[0m\n",
      "\u001b[0;32m~/opt/anaconda3/lib/python3.8/site-packages/matplotlib/axes/_axes.py\u001b[0m in \u001b[0;36mbarh\u001b[0;34m(self, y, width, height, left, align, **kwargs)\u001b[0m\n\u001b[1;32m   2544\u001b[0m         \"\"\"\n\u001b[1;32m   2545\u001b[0m         \u001b[0mkwargs\u001b[0m\u001b[0;34m.\u001b[0m\u001b[0msetdefault\u001b[0m\u001b[0;34m(\u001b[0m\u001b[0;34m'orientation'\u001b[0m\u001b[0;34m,\u001b[0m \u001b[0;34m'horizontal'\u001b[0m\u001b[0;34m)\u001b[0m\u001b[0;34m\u001b[0m\u001b[0;34m\u001b[0m\u001b[0m\n\u001b[0;32m-> 2546\u001b[0;31m         patches = self.bar(x=left, height=height, width=width, bottom=y,\n\u001b[0m\u001b[1;32m   2547\u001b[0m                            align=align, **kwargs)\n\u001b[1;32m   2548\u001b[0m         \u001b[0;32mreturn\u001b[0m \u001b[0mpatches\u001b[0m\u001b[0;34m\u001b[0m\u001b[0;34m\u001b[0m\u001b[0m\n",
      "\u001b[0;32m~/opt/anaconda3/lib/python3.8/site-packages/matplotlib/__init__.py\u001b[0m in \u001b[0;36minner\u001b[0;34m(ax, data, *args, **kwargs)\u001b[0m\n\u001b[1;32m   1563\u001b[0m     \u001b[0;32mdef\u001b[0m \u001b[0minner\u001b[0m\u001b[0;34m(\u001b[0m\u001b[0max\u001b[0m\u001b[0;34m,\u001b[0m \u001b[0;34m*\u001b[0m\u001b[0margs\u001b[0m\u001b[0;34m,\u001b[0m \u001b[0mdata\u001b[0m\u001b[0;34m=\u001b[0m\u001b[0;32mNone\u001b[0m\u001b[0;34m,\u001b[0m \u001b[0;34m**\u001b[0m\u001b[0mkwargs\u001b[0m\u001b[0;34m)\u001b[0m\u001b[0;34m:\u001b[0m\u001b[0;34m\u001b[0m\u001b[0;34m\u001b[0m\u001b[0m\n\u001b[1;32m   1564\u001b[0m         \u001b[0;32mif\u001b[0m \u001b[0mdata\u001b[0m \u001b[0;32mis\u001b[0m \u001b[0;32mNone\u001b[0m\u001b[0;34m:\u001b[0m\u001b[0;34m\u001b[0m\u001b[0;34m\u001b[0m\u001b[0m\n\u001b[0;32m-> 1565\u001b[0;31m             \u001b[0;32mreturn\u001b[0m \u001b[0mfunc\u001b[0m\u001b[0;34m(\u001b[0m\u001b[0max\u001b[0m\u001b[0;34m,\u001b[0m \u001b[0;34m*\u001b[0m\u001b[0mmap\u001b[0m\u001b[0;34m(\u001b[0m\u001b[0msanitize_sequence\u001b[0m\u001b[0;34m,\u001b[0m \u001b[0margs\u001b[0m\u001b[0;34m)\u001b[0m\u001b[0;34m,\u001b[0m \u001b[0;34m**\u001b[0m\u001b[0mkwargs\u001b[0m\u001b[0;34m)\u001b[0m\u001b[0;34m\u001b[0m\u001b[0;34m\u001b[0m\u001b[0m\n\u001b[0m\u001b[1;32m   1566\u001b[0m \u001b[0;34m\u001b[0m\u001b[0m\n\u001b[1;32m   1567\u001b[0m         \u001b[0mbound\u001b[0m \u001b[0;34m=\u001b[0m \u001b[0mnew_sig\u001b[0m\u001b[0;34m.\u001b[0m\u001b[0mbind\u001b[0m\u001b[0;34m(\u001b[0m\u001b[0max\u001b[0m\u001b[0;34m,\u001b[0m \u001b[0;34m*\u001b[0m\u001b[0margs\u001b[0m\u001b[0;34m,\u001b[0m \u001b[0;34m**\u001b[0m\u001b[0mkwargs\u001b[0m\u001b[0;34m)\u001b[0m\u001b[0;34m\u001b[0m\u001b[0;34m\u001b[0m\u001b[0m\n",
      "\u001b[0;32m~/opt/anaconda3/lib/python3.8/site-packages/matplotlib/axes/_axes.py\u001b[0m in \u001b[0;36mbar\u001b[0;34m(self, x, height, width, bottom, align, **kwargs)\u001b[0m\n\u001b[1;32m   2338\u001b[0m                 \u001b[0myerr\u001b[0m \u001b[0;34m=\u001b[0m \u001b[0mself\u001b[0m\u001b[0;34m.\u001b[0m\u001b[0m_convert_dx\u001b[0m\u001b[0;34m(\u001b[0m\u001b[0myerr\u001b[0m\u001b[0;34m,\u001b[0m \u001b[0my0\u001b[0m\u001b[0;34m,\u001b[0m \u001b[0my\u001b[0m\u001b[0;34m,\u001b[0m \u001b[0mself\u001b[0m\u001b[0;34m.\u001b[0m\u001b[0mconvert_yunits\u001b[0m\u001b[0;34m)\u001b[0m\u001b[0;34m\u001b[0m\u001b[0;34m\u001b[0m\u001b[0m\n\u001b[1;32m   2339\u001b[0m \u001b[0;34m\u001b[0m\u001b[0m\n\u001b[0;32m-> 2340\u001b[0;31m         x, height, width, y, linewidth = np.broadcast_arrays(\n\u001b[0m\u001b[1;32m   2341\u001b[0m             \u001b[0;31m# Make args iterable too.\u001b[0m\u001b[0;34m\u001b[0m\u001b[0;34m\u001b[0m\u001b[0;34m\u001b[0m\u001b[0m\n\u001b[1;32m   2342\u001b[0m             np.atleast_1d(x), height, width, y, linewidth)\n",
      "\u001b[0;32m<__array_function__ internals>\u001b[0m in \u001b[0;36mbroadcast_arrays\u001b[0;34m(*args, **kwargs)\u001b[0m\n",
      "\u001b[0;32m~/opt/anaconda3/lib/python3.8/site-packages/numpy/lib/stride_tricks.py\u001b[0m in \u001b[0;36mbroadcast_arrays\u001b[0;34m(*args, **kwargs)\u001b[0m\n\u001b[1;32m    262\u001b[0m     \u001b[0margs\u001b[0m \u001b[0;34m=\u001b[0m \u001b[0;34m[\u001b[0m\u001b[0mnp\u001b[0m\u001b[0;34m.\u001b[0m\u001b[0marray\u001b[0m\u001b[0;34m(\u001b[0m\u001b[0m_m\u001b[0m\u001b[0;34m,\u001b[0m \u001b[0mcopy\u001b[0m\u001b[0;34m=\u001b[0m\u001b[0;32mFalse\u001b[0m\u001b[0;34m,\u001b[0m \u001b[0msubok\u001b[0m\u001b[0;34m=\u001b[0m\u001b[0msubok\u001b[0m\u001b[0;34m)\u001b[0m \u001b[0;32mfor\u001b[0m \u001b[0m_m\u001b[0m \u001b[0;32min\u001b[0m \u001b[0margs\u001b[0m\u001b[0;34m]\u001b[0m\u001b[0;34m\u001b[0m\u001b[0;34m\u001b[0m\u001b[0m\n\u001b[1;32m    263\u001b[0m \u001b[0;34m\u001b[0m\u001b[0m\n\u001b[0;32m--> 264\u001b[0;31m     \u001b[0mshape\u001b[0m \u001b[0;34m=\u001b[0m \u001b[0m_broadcast_shape\u001b[0m\u001b[0;34m(\u001b[0m\u001b[0;34m*\u001b[0m\u001b[0margs\u001b[0m\u001b[0;34m)\u001b[0m\u001b[0;34m\u001b[0m\u001b[0;34m\u001b[0m\u001b[0m\n\u001b[0m\u001b[1;32m    265\u001b[0m \u001b[0;34m\u001b[0m\u001b[0m\n\u001b[1;32m    266\u001b[0m     \u001b[0;32mif\u001b[0m \u001b[0mall\u001b[0m\u001b[0;34m(\u001b[0m\u001b[0marray\u001b[0m\u001b[0;34m.\u001b[0m\u001b[0mshape\u001b[0m \u001b[0;34m==\u001b[0m \u001b[0mshape\u001b[0m \u001b[0;32mfor\u001b[0m \u001b[0marray\u001b[0m \u001b[0;32min\u001b[0m \u001b[0margs\u001b[0m\u001b[0;34m)\u001b[0m\u001b[0;34m:\u001b[0m\u001b[0;34m\u001b[0m\u001b[0;34m\u001b[0m\u001b[0m\n",
      "\u001b[0;32m~/opt/anaconda3/lib/python3.8/site-packages/numpy/lib/stride_tricks.py\u001b[0m in \u001b[0;36m_broadcast_shape\u001b[0;34m(*args)\u001b[0m\n\u001b[1;32m    189\u001b[0m     \u001b[0;31m# use the old-iterator because np.nditer does not handle size 0 arrays\u001b[0m\u001b[0;34m\u001b[0m\u001b[0;34m\u001b[0m\u001b[0;34m\u001b[0m\u001b[0m\n\u001b[1;32m    190\u001b[0m     \u001b[0;31m# consistently\u001b[0m\u001b[0;34m\u001b[0m\u001b[0;34m\u001b[0m\u001b[0;34m\u001b[0m\u001b[0m\n\u001b[0;32m--> 191\u001b[0;31m     \u001b[0mb\u001b[0m \u001b[0;34m=\u001b[0m \u001b[0mnp\u001b[0m\u001b[0;34m.\u001b[0m\u001b[0mbroadcast\u001b[0m\u001b[0;34m(\u001b[0m\u001b[0;34m*\u001b[0m\u001b[0margs\u001b[0m\u001b[0;34m[\u001b[0m\u001b[0;34m:\u001b[0m\u001b[0;36m32\u001b[0m\u001b[0;34m]\u001b[0m\u001b[0;34m)\u001b[0m\u001b[0;34m\u001b[0m\u001b[0;34m\u001b[0m\u001b[0m\n\u001b[0m\u001b[1;32m    192\u001b[0m     \u001b[0;31m# unfortunately, it cannot handle 32 or more arguments directly\u001b[0m\u001b[0;34m\u001b[0m\u001b[0;34m\u001b[0m\u001b[0;34m\u001b[0m\u001b[0m\n\u001b[1;32m    193\u001b[0m     \u001b[0;32mfor\u001b[0m \u001b[0mpos\u001b[0m \u001b[0;32min\u001b[0m \u001b[0mrange\u001b[0m\u001b[0;34m(\u001b[0m\u001b[0;36m32\u001b[0m\u001b[0;34m,\u001b[0m \u001b[0mlen\u001b[0m\u001b[0;34m(\u001b[0m\u001b[0margs\u001b[0m\u001b[0;34m)\u001b[0m\u001b[0;34m,\u001b[0m \u001b[0;36m31\u001b[0m\u001b[0;34m)\u001b[0m\u001b[0;34m:\u001b[0m\u001b[0;34m\u001b[0m\u001b[0;34m\u001b[0m\u001b[0m\n",
      "\u001b[0;31mValueError\u001b[0m: shape mismatch: objects cannot be broadcast to a single shape"
     ]
    },
    {
     "data": {
      "image/png": "[encoded data removed]",
      "text/plain": [
       "<Figure size 432x288 with 1 Axes>"
      ]
     },
     "metadata": {
      "needs_background": "light"
     },
     "output_type": "display_data"
    }
   ],
   "source": [
    "# Plot the relative importances\n",
    "features = data.drop(['target','first_sale'], axis=1).columns\n",
    "importances = model1.feature_importances_\n",
    "indices = np.argsort(importances)\n",
    "\n",
    "plt.title('Feature Importances')\n",
    "plt.barh(range(10), importances[indices], color='b', align='center')\n",
    "plt.yticks(10), [features[i] for i in range(10)]\n",
    "plt.xlabel('Relative Importances')\n",
    "\n",
    "plt.tight_layout()\n",
    "plt.savefig('figures/feature_importances.png')\n",
    "\n",
    "plt.show()"
   ]
  },
  {
   "cell_type": "markdown",
   "metadata": {},
   "source": [
    "## 5.2 - Model 2:"
   ]
  },
  {
   "cell_type": "markdown",
   "metadata": {},
   "source": [
    "## 5.3 - Model 3:"
   ]
  },
  {
   "cell_type": "code",
   "execution_count": null,
   "metadata": {},
   "outputs": [],
   "source": []
  }
 ],
 "metadata": {
  "kernelspec": {
   "display_name": "Python 3",
   "language": "python",
   "name": "python3"
  },
  "language_info": {
   "codemirror_mode": {
    "name": "ipython",
    "version": 3
   },
   "file_extension": ".py",
   "mimetype": "text/x-python",
   "name": "python",
   "nbconvert_exporter": "python",
   "pygments_lexer": "ipython3",
   "version": "3.8.3"
  }
 },
 "nbformat": 4,
 "nbformat_minor": 4
}
