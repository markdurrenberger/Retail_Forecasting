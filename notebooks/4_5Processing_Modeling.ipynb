{
 "cells": [
  {
   "cell_type": "markdown",
   "metadata": {},
   "source": [
    "# Step 4: Preprocessing & Feature Engineering\n",
    "\n",
    "Load the final data from steps 2 & 3, create our target variable (and any other relevant features), then scale and prepare data for modelling."
   ]
  },
  {
   "cell_type": "code",
   "execution_count": 1,
   "metadata": {},
   "outputs": [],
   "source": [
    "import pandas as pd\n",
    "import matplotlib.pyplot as plt\n",
    "import numpy as np\n",
    "import seaborn as sns"
   ]
  },
  {
   "cell_type": "code",
   "execution_count": 2,
   "metadata": {},
   "outputs": [
    {
     "data": {
      "text/html": [
       "<div>\n",
       "<style scoped>\n",
       "    .dataframe tbody tr th:only-of-type {\n",
       "        vertical-align: middle;\n",
       "    }\n",
       "\n",
       "    .dataframe tbody tr th {\n",
       "        vertical-align: top;\n",
       "    }\n",
       "\n",
       "    .dataframe thead th {\n",
       "        text-align: right;\n",
       "    }\n",
       "</style>\n",
       "<table border=\"1\" class=\"dataframe\">\n",
       "  <thead>\n",
       "    <tr style=\"text-align: right;\">\n",
       "      <th></th>\n",
       "      <th>Unnamed: 0</th>\n",
       "      <th>customer</th>\n",
       "      <th>invoice_date</th>\n",
       "      <th>qty_shipped</th>\n",
       "      <th>item</th>\n",
       "      <th>description</th>\n",
       "      <th>item_price</th>\n",
       "      <th>customer.1</th>\n",
       "      <th>industry</th>\n",
       "      <th>contact_owner</th>\n",
       "      <th>lifetime_sales</th>\n",
       "      <th>first_sale</th>\n",
       "      <th>county</th>\n",
       "      <th>market_opportunity</th>\n",
       "      <th>%_market_opp</th>\n",
       "    </tr>\n",
       "  </thead>\n",
       "  <tbody>\n",
       "    <tr>\n",
       "      <th>0</th>\n",
       "      <td>0</td>\n",
       "      <td>1HOLPS</td>\n",
       "      <td>2015-05-08</td>\n",
       "      <td>1.0</td>\n",
       "      <td>T3000</td>\n",
       "      <td>MOTO MTR3000 BASE RADIO</td>\n",
       "      <td>6020.8</td>\n",
       "      <td>1HOLPS</td>\n",
       "      <td>K12 Education</td>\n",
       "      <td>Keith Johnson</td>\n",
       "      <td>39760.49</td>\n",
       "      <td>11/01/1999</td>\n",
       "      <td>Ottawa</td>\n",
       "      <td>825673.0</td>\n",
       "      <td>0.309</td>\n",
       "    </tr>\n",
       "    <tr>\n",
       "      <th>1</th>\n",
       "      <td>3</td>\n",
       "      <td>1VANAI</td>\n",
       "      <td>2015-04-17</td>\n",
       "      <td>2.0</td>\n",
       "      <td>AAM27QNH9LA1</td>\n",
       "      <td>XPR 4550 403-470 1-25W 160 CH</td>\n",
       "      <td>681.0</td>\n",
       "      <td>1VANAI</td>\n",
       "      <td>Healthcare</td>\n",
       "      <td>Skip Petrovich</td>\n",
       "      <td>25907.89</td>\n",
       "      <td>10/25/2004</td>\n",
       "      <td>Kent</td>\n",
       "      <td>1601574.0</td>\n",
       "      <td>0.421</td>\n",
       "    </tr>\n",
       "    <tr>\n",
       "      <th>2</th>\n",
       "      <td>4</td>\n",
       "      <td>1VANAI</td>\n",
       "      <td>2015-04-17</td>\n",
       "      <td>2.0</td>\n",
       "      <td>SEC1223MOTOTRBO</td>\n",
       "      <td>SAMLEX BASE STATION PWR SUPPLY</td>\n",
       "      <td>156.0</td>\n",
       "      <td>1VANAI</td>\n",
       "      <td>Healthcare</td>\n",
       "      <td>Skip Petrovich</td>\n",
       "      <td>25907.89</td>\n",
       "      <td>10/25/2004</td>\n",
       "      <td>Kent</td>\n",
       "      <td>1601574.0</td>\n",
       "      <td>0.421</td>\n",
       "    </tr>\n",
       "    <tr>\n",
       "      <th>3</th>\n",
       "      <td>5</td>\n",
       "      <td>1VANAI</td>\n",
       "      <td>2015-04-17</td>\n",
       "      <td>2.0</td>\n",
       "      <td>0180355A80</td>\n",
       "      <td>SPECTRUM MAGNETIC MNT  MINIUHF</td>\n",
       "      <td>28.5</td>\n",
       "      <td>1VANAI</td>\n",
       "      <td>Healthcare</td>\n",
       "      <td>Skip Petrovich</td>\n",
       "      <td>25907.89</td>\n",
       "      <td>10/25/2004</td>\n",
       "      <td>Kent</td>\n",
       "      <td>1601574.0</td>\n",
       "      <td>0.421</td>\n",
       "    </tr>\n",
       "    <tr>\n",
       "      <th>4</th>\n",
       "      <td>6</td>\n",
       "      <td>1VANAI</td>\n",
       "      <td>2015-04-17</td>\n",
       "      <td>2.0</td>\n",
       "      <td>0180352A11</td>\n",
       "      <td>ANTENNA 1/4 WAVE 450-470 MHZ</td>\n",
       "      <td>12.0</td>\n",
       "      <td>1VANAI</td>\n",
       "      <td>Healthcare</td>\n",
       "      <td>Skip Petrovich</td>\n",
       "      <td>25907.89</td>\n",
       "      <td>10/25/2004</td>\n",
       "      <td>Kent</td>\n",
       "      <td>1601574.0</td>\n",
       "      <td>0.421</td>\n",
       "    </tr>\n",
       "  </tbody>\n",
       "</table>\n",
       "</div>"
      ],
      "text/plain": [
       "   Unnamed: 0 customer invoice_date  qty_shipped             item  \\\n",
       "0           0   1HOLPS   2015-05-08          1.0            T3000   \n",
       "1           3   1VANAI   2015-04-17          2.0     AAM27QNH9LA1   \n",
       "2           4   1VANAI   2015-04-17          2.0  SEC1223MOTOTRBO   \n",
       "3           5   1VANAI   2015-04-17          2.0       0180355A80   \n",
       "4           6   1VANAI   2015-04-17          2.0       0180352A11   \n",
       "\n",
       "                      description  item_price customer.1       industry  \\\n",
       "0         MOTO MTR3000 BASE RADIO      6020.8     1HOLPS  K12 Education   \n",
       "1   XPR 4550 403-470 1-25W 160 CH       681.0     1VANAI     Healthcare   \n",
       "2  SAMLEX BASE STATION PWR SUPPLY       156.0     1VANAI     Healthcare   \n",
       "3  SPECTRUM MAGNETIC MNT  MINIUHF        28.5     1VANAI     Healthcare   \n",
       "4    ANTENNA 1/4 WAVE 450-470 MHZ        12.0     1VANAI     Healthcare   \n",
       "\n",
       "    contact_owner  lifetime_sales  first_sale  county  market_opportunity  \\\n",
       "0   Keith Johnson        39760.49  11/01/1999  Ottawa            825673.0   \n",
       "1  Skip Petrovich        25907.89  10/25/2004    Kent           1601574.0   \n",
       "2  Skip Petrovich        25907.89  10/25/2004    Kent           1601574.0   \n",
       "3  Skip Petrovich        25907.89  10/25/2004    Kent           1601574.0   \n",
       "4  Skip Petrovich        25907.89  10/25/2004    Kent           1601574.0   \n",
       "\n",
       "   %_market_opp  \n",
       "0         0.309  \n",
       "1         0.421  \n",
       "2         0.421  \n",
       "3         0.421  \n",
       "4         0.421  "
      ]
     },
     "execution_count": 2,
     "metadata": {},
     "output_type": "execute_result"
    }
   ],
   "source": [
    "# Load final data\n",
    "data = pd.read_csv('../data/processed/data.csv')\n",
    "data.head()"
   ]
  },
  {
   "cell_type": "code",
   "execution_count": 3,
   "metadata": {},
   "outputs": [
    {
     "data": {
      "text/plain": [
       "Index(['Unnamed: 0', 'customer', 'invoice_date', 'qty_shipped', 'item',\n",
       "       'description', 'item_price', 'customer.1', 'industry', 'contact_owner',\n",
       "       'lifetime_sales', 'first_sale', 'county', 'market_opportunity',\n",
       "       '%_market_opp'],\n",
       "      dtype='object')"
      ]
     },
     "execution_count": 3,
     "metadata": {},
     "output_type": "execute_result"
    }
   ],
   "source": [
    "data.columns"
   ]
  },
  {
   "cell_type": "code",
   "execution_count": 4,
   "metadata": {},
   "outputs": [
    {
     "name": "stdout",
     "output_type": "stream",
     "text": [
      "<class 'pandas.core.frame.DataFrame'>\n",
      "RangeIndex: 7890 entries, 0 to 7889\n",
      "Data columns (total 13 columns):\n",
      " #   Column              Non-Null Count  Dtype  \n",
      "---  ------              --------------  -----  \n",
      " 0   customer            7890 non-null   object \n",
      " 1   invoice_date        7890 non-null   object \n",
      " 2   qty_shipped         7890 non-null   float64\n",
      " 3   item                7890 non-null   object \n",
      " 4   description         7878 non-null   object \n",
      " 5   item_price          7890 non-null   float64\n",
      " 6   industry            7890 non-null   object \n",
      " 7   contact_owner       7890 non-null   object \n",
      " 8   lifetime_sales      7890 non-null   float64\n",
      " 9   first_sale          7890 non-null   object \n",
      " 10  county              7890 non-null   object \n",
      " 11  market_opportunity  7890 non-null   float64\n",
      " 12  %_market_opp        7890 non-null   float64\n",
      "dtypes: float64(5), object(8)\n",
      "memory usage: 801.5+ KB\n"
     ]
    }
   ],
   "source": [
    "data.drop(['Unnamed: 0','customer.1'], inplace=True, axis=1)\n",
    "data.info()"
   ]
  },
  {
   "cell_type": "markdown",
   "metadata": {},
   "source": [
    "## 4.1 Set Index"
   ]
  },
  {
   "cell_type": "code",
   "execution_count": 5,
   "metadata": {},
   "outputs": [
    {
     "data": {
      "text/html": [
       "<div>\n",
       "<style scoped>\n",
       "    .dataframe tbody tr th:only-of-type {\n",
       "        vertical-align: middle;\n",
       "    }\n",
       "\n",
       "    .dataframe tbody tr th {\n",
       "        vertical-align: top;\n",
       "    }\n",
       "\n",
       "    .dataframe thead th {\n",
       "        text-align: right;\n",
       "    }\n",
       "</style>\n",
       "<table border=\"1\" class=\"dataframe\">\n",
       "  <thead>\n",
       "    <tr style=\"text-align: right;\">\n",
       "      <th></th>\n",
       "      <th></th>\n",
       "      <th>qty_shipped</th>\n",
       "      <th>item</th>\n",
       "      <th>description</th>\n",
       "      <th>item_price</th>\n",
       "      <th>industry</th>\n",
       "      <th>contact_owner</th>\n",
       "      <th>lifetime_sales</th>\n",
       "      <th>first_sale</th>\n",
       "      <th>county</th>\n",
       "      <th>market_opportunity</th>\n",
       "      <th>%_market_opp</th>\n",
       "    </tr>\n",
       "    <tr>\n",
       "      <th>customer</th>\n",
       "      <th>invoice_date</th>\n",
       "      <th></th>\n",
       "      <th></th>\n",
       "      <th></th>\n",
       "      <th></th>\n",
       "      <th></th>\n",
       "      <th></th>\n",
       "      <th></th>\n",
       "      <th></th>\n",
       "      <th></th>\n",
       "      <th></th>\n",
       "      <th></th>\n",
       "    </tr>\n",
       "  </thead>\n",
       "  <tbody>\n",
       "    <tr>\n",
       "      <th>1HOLPS</th>\n",
       "      <th>2015-05-08</th>\n",
       "      <td>1.0</td>\n",
       "      <td>T3000</td>\n",
       "      <td>MOTO MTR3000 BASE RADIO</td>\n",
       "      <td>6020.8</td>\n",
       "      <td>K12 Education</td>\n",
       "      <td>Keith Johnson</td>\n",
       "      <td>39760.49</td>\n",
       "      <td>11/01/1999</td>\n",
       "      <td>Ottawa</td>\n",
       "      <td>825673.0</td>\n",
       "      <td>0.309</td>\n",
       "    </tr>\n",
       "    <tr>\n",
       "      <th rowspan=\"4\" valign=\"top\">1VANAI</th>\n",
       "      <th>2015-04-17</th>\n",
       "      <td>2.0</td>\n",
       "      <td>AAM27QNH9LA1</td>\n",
       "      <td>XPR 4550 403-470 1-25W 160 CH</td>\n",
       "      <td>681.0</td>\n",
       "      <td>Healthcare</td>\n",
       "      <td>Skip Petrovich</td>\n",
       "      <td>25907.89</td>\n",
       "      <td>10/25/2004</td>\n",
       "      <td>Kent</td>\n",
       "      <td>1601574.0</td>\n",
       "      <td>0.421</td>\n",
       "    </tr>\n",
       "    <tr>\n",
       "      <th>2015-04-17</th>\n",
       "      <td>2.0</td>\n",
       "      <td>SEC1223MOTOTRBO</td>\n",
       "      <td>SAMLEX BASE STATION PWR SUPPLY</td>\n",
       "      <td>156.0</td>\n",
       "      <td>Healthcare</td>\n",
       "      <td>Skip Petrovich</td>\n",
       "      <td>25907.89</td>\n",
       "      <td>10/25/2004</td>\n",
       "      <td>Kent</td>\n",
       "      <td>1601574.0</td>\n",
       "      <td>0.421</td>\n",
       "    </tr>\n",
       "    <tr>\n",
       "      <th>2015-04-17</th>\n",
       "      <td>2.0</td>\n",
       "      <td>0180355A80</td>\n",
       "      <td>SPECTRUM MAGNETIC MNT  MINIUHF</td>\n",
       "      <td>28.5</td>\n",
       "      <td>Healthcare</td>\n",
       "      <td>Skip Petrovich</td>\n",
       "      <td>25907.89</td>\n",
       "      <td>10/25/2004</td>\n",
       "      <td>Kent</td>\n",
       "      <td>1601574.0</td>\n",
       "      <td>0.421</td>\n",
       "    </tr>\n",
       "    <tr>\n",
       "      <th>2015-04-17</th>\n",
       "      <td>2.0</td>\n",
       "      <td>0180352A11</td>\n",
       "      <td>ANTENNA 1/4 WAVE 450-470 MHZ</td>\n",
       "      <td>12.0</td>\n",
       "      <td>Healthcare</td>\n",
       "      <td>Skip Petrovich</td>\n",
       "      <td>25907.89</td>\n",
       "      <td>10/25/2004</td>\n",
       "      <td>Kent</td>\n",
       "      <td>1601574.0</td>\n",
       "      <td>0.421</td>\n",
       "    </tr>\n",
       "  </tbody>\n",
       "</table>\n",
       "</div>"
      ],
      "text/plain": [
       "                       qty_shipped             item  \\\n",
       "customer invoice_date                                 \n",
       "1HOLPS   2015-05-08            1.0            T3000   \n",
       "1VANAI   2015-04-17            2.0     AAM27QNH9LA1   \n",
       "         2015-04-17            2.0  SEC1223MOTOTRBO   \n",
       "         2015-04-17            2.0       0180355A80   \n",
       "         2015-04-17            2.0       0180352A11   \n",
       "\n",
       "                                          description  item_price  \\\n",
       "customer invoice_date                                               \n",
       "1HOLPS   2015-05-08           MOTO MTR3000 BASE RADIO      6020.8   \n",
       "1VANAI   2015-04-17     XPR 4550 403-470 1-25W 160 CH       681.0   \n",
       "         2015-04-17    SAMLEX BASE STATION PWR SUPPLY       156.0   \n",
       "         2015-04-17    SPECTRUM MAGNETIC MNT  MINIUHF        28.5   \n",
       "         2015-04-17      ANTENNA 1/4 WAVE 450-470 MHZ        12.0   \n",
       "\n",
       "                            industry   contact_owner  lifetime_sales  \\\n",
       "customer invoice_date                                                  \n",
       "1HOLPS   2015-05-08    K12 Education   Keith Johnson        39760.49   \n",
       "1VANAI   2015-04-17       Healthcare  Skip Petrovich        25907.89   \n",
       "         2015-04-17       Healthcare  Skip Petrovich        25907.89   \n",
       "         2015-04-17       Healthcare  Skip Petrovich        25907.89   \n",
       "         2015-04-17       Healthcare  Skip Petrovich        25907.89   \n",
       "\n",
       "                       first_sale  county  market_opportunity  %_market_opp  \n",
       "customer invoice_date                                                        \n",
       "1HOLPS   2015-05-08    11/01/1999  Ottawa            825673.0         0.309  \n",
       "1VANAI   2015-04-17    10/25/2004    Kent           1601574.0         0.421  \n",
       "         2015-04-17    10/25/2004    Kent           1601574.0         0.421  \n",
       "         2015-04-17    10/25/2004    Kent           1601574.0         0.421  \n",
       "         2015-04-17    10/25/2004    Kent           1601574.0         0.421  "
      ]
     },
     "execution_count": 5,
     "metadata": {},
     "output_type": "execute_result"
    }
   ],
   "source": [
    "# Index will be multi-index: customer and invoice date\n",
    "data['invoice_date'] = pd.to_datetime(data['invoice_date'])\n",
    "data.set_index(['customer','invoice_date'], inplace=True)\n",
    "data.head()"
   ]
  },
  {
   "cell_type": "markdown",
   "metadata": {},
   "source": [
    "## 4.2 Create Target Feature\n",
    "\n",
    "The target feature will be a y/n - was this customer's purchase of a higher priced item than any previous purchases. There will be several steps towards creating this:\n",
    "\n",
    "* Creating a ranking of items by average price - different customers have different purchase prices, so using the average price paid should help even that out.\n",
    "\n",
    "* Using that information to add a column with \"highest lifetime item\" - this will list the highest priced item that customer has purchased in their history to that point."
   ]
  },
  {
   "cell_type": "markdown",
   "metadata": {},
   "source": [
    "### 4.2.1 Create ranking of items by average price"
   ]
  },
  {
   "cell_type": "code",
   "execution_count": 6,
   "metadata": {},
   "outputs": [
    {
     "data": {
      "text/html": [
       "<div>\n",
       "<style scoped>\n",
       "    .dataframe tbody tr th:only-of-type {\n",
       "        vertical-align: middle;\n",
       "    }\n",
       "\n",
       "    .dataframe tbody tr th {\n",
       "        vertical-align: top;\n",
       "    }\n",
       "\n",
       "    .dataframe thead th {\n",
       "        text-align: right;\n",
       "    }\n",
       "</style>\n",
       "<table border=\"1\" class=\"dataframe\">\n",
       "  <thead>\n",
       "    <tr style=\"text-align: right;\">\n",
       "      <th></th>\n",
       "      <th>num_times_sold</th>\n",
       "    </tr>\n",
       "    <tr>\n",
       "      <th>description</th>\n",
       "      <th></th>\n",
       "    </tr>\n",
       "  </thead>\n",
       "  <tbody>\n",
       "    <tr>\n",
       "      <th>MISCELLANEOUS HARDWARE</th>\n",
       "      <td>256</td>\n",
       "    </tr>\n",
       "    <tr>\n",
       "      <th>MOTO CP200D 403-470 4W ND</th>\n",
       "      <td>119</td>\n",
       "    </tr>\n",
       "    <tr>\n",
       "      <th>MOTO XPR 3300E 403-512 4W</th>\n",
       "      <td>99</td>\n",
       "    </tr>\n",
       "    <tr>\n",
       "      <th>SOS INTERSECTOR UNDER MIRROR</th>\n",
       "      <td>90</td>\n",
       "    </tr>\n",
       "    <tr>\n",
       "      <th>RENTAL</th>\n",
       "      <td>79</td>\n",
       "    </tr>\n",
       "    <tr>\n",
       "      <th>CODE3 T-REX LED LIGHTS</th>\n",
       "      <td>71</td>\n",
       "    </tr>\n",
       "    <tr>\n",
       "      <th>UNICATION G5 DUAL BAND PAGER</th>\n",
       "      <td>70</td>\n",
       "    </tr>\n",
       "    <tr>\n",
       "      <th>MOTO MIN VI PAGER VHF 143-174</th>\n",
       "      <td>68</td>\n",
       "    </tr>\n",
       "    <tr>\n",
       "      <th>ANTENNA/ MOBILE 806-900 MHZ</th>\n",
       "      <td>63</td>\n",
       "    </tr>\n",
       "    <tr>\n",
       "      <th>MOTO CP200D UHF 4W ND</th>\n",
       "      <td>61</td>\n",
       "    </tr>\n",
       "  </tbody>\n",
       "</table>\n",
       "</div>"
      ],
      "text/plain": [
       "                               num_times_sold\n",
       "description                                  \n",
       "MISCELLANEOUS HARDWARE                    256\n",
       "MOTO CP200D 403-470 4W ND                 119\n",
       "MOTO XPR 3300E 403-512 4W                  99\n",
       "SOS INTERSECTOR UNDER MIRROR               90\n",
       "RENTAL                                     79\n",
       "CODE3 T-REX LED LIGHTS                     71\n",
       "UNICATION G5 DUAL BAND PAGER               70\n",
       "MOTO MIN VI PAGER VHF 143-174              68\n",
       "ANTENNA/ MOBILE 806-900 MHZ                63\n",
       "MOTO CP200D UHF 4W ND                      61"
      ]
     },
     "execution_count": 6,
     "metadata": {},
     "output_type": "execute_result"
    }
   ],
   "source": [
    "# What's the spread of number of items sold?\n",
    "\n",
    "# Create a series with the number of items sold by item\n",
    "item_count = data.groupby('description')['item_price'].count().to_frame()\n",
    "item_count.sort_values('item_price', ascending=False, inplace = True)\n",
    "item_count.columns = ['num_times_sold']\n",
    "item_count.head(10)"
   ]
  },
  {
   "cell_type": "code",
   "execution_count": 7,
   "metadata": {
    "scrolled": true
   },
   "outputs": [
    {
     "data": {
      "image/png": "[encoded data removed]",
      "text/plain": [
       "<Figure size 432x288 with 1 Axes>"
      ]
     },
     "metadata": {
      "needs_background": "light"
     },
     "output_type": "display_data"
    }
   ],
   "source": [
    "# Find a threshhold below-which it makes sense to drop\n",
    "sns.countplot(item_count['num_times_sold'])\n",
    "plt.title('Spread of number of items sold by item')\n",
    "plt.xlabel('Total # of item sold')\n",
    "plt.ylabel('Count of the number of items sold per quantity')\n",
    "\n",
    "plt.tight_layout()\n",
    "plt.savefig('../figures/item_countplot.png')"
   ]
  },
  {
   "cell_type": "markdown",
   "metadata": {},
   "source": [
    "From the above plot, there are lots of items that only sold once. Those we don't necessarily want, but this doesn't give us any clear \"cut off\" point. Let's cut off items only sold once at this point."
   ]
  },
  {
   "cell_type": "code",
   "execution_count": 8,
   "metadata": {},
   "outputs": [],
   "source": [
    "# Drop items only sold once\n",
    "item_count = item_count[item_count['num_times_sold']>1]"
   ]
  },
  {
   "cell_type": "code",
   "execution_count": 9,
   "metadata": {},
   "outputs": [],
   "source": [
    "# Drop 'Rental' and 'Misc Hardware'\n",
    "item_count.drop(['RENTAL','MISCELLANEOUS HARDWARE'], inplace=True)"
   ]
  },
  {
   "cell_type": "markdown",
   "metadata": {},
   "source": [
    "### Use that list of items to drop from original data list"
   ]
  },
  {
   "cell_type": "code",
   "execution_count": 10,
   "metadata": {},
   "outputs": [
    {
     "name": "stdout",
     "output_type": "stream",
     "text": [
      "<class 'pandas.core.frame.DataFrame'>\n",
      "MultiIndex: 6559 entries, ('1HOLPS', Timestamp('2015-05-08 00:00:00')) to ('4LAKEL', Timestamp('2020-09-30 00:00:00'))\n",
      "Data columns (total 11 columns):\n",
      " #   Column              Non-Null Count  Dtype  \n",
      "---  ------              --------------  -----  \n",
      " 0   qty_shipped         6559 non-null   float64\n",
      " 1   item                6559 non-null   object \n",
      " 2   description         6559 non-null   object \n",
      " 3   item_price          6559 non-null   float64\n",
      " 4   industry            6559 non-null   object \n",
      " 5   contact_owner       6559 non-null   object \n",
      " 6   lifetime_sales      6559 non-null   float64\n",
      " 7   first_sale          6559 non-null   object \n",
      " 8   county              6559 non-null   object \n",
      " 9   market_opportunity  6559 non-null   float64\n",
      " 10  %_market_opp        6559 non-null   float64\n",
      "dtypes: float64(5), object(6)\n",
      "memory usage: 595.4+ KB\n"
     ]
    }
   ],
   "source": [
    "# Make a list of the items to keep (the index from item_count)\n",
    "keep_list = list(item_count.index)\n",
    "\n",
    "# Use that to filter the data df and keep only those items (description isin list)\n",
    "data = data[data['description'].isin(keep_list)]\n",
    "data.info()"
   ]
  },
  {
   "cell_type": "markdown",
   "metadata": {},
   "source": [
    "### Use this updated list to calculate and rank items by average price"
   ]
  },
  {
   "cell_type": "code",
   "execution_count": 11,
   "metadata": {},
   "outputs": [],
   "source": [
    "items = data.groupby('description')['item_price'].mean().to_frame()\n",
    "items.columns = ['avg_sale_price']\n",
    "items.sort_values('avg_sale_price', ascending=False, inplace=True)\n",
    "\n",
    "# Create top lists for examination\n",
    "top_25 = items.head(25)\n",
    "top_50 = items.head(50)\n",
    "top_100 = items.head(100)"
   ]
  },
  {
   "cell_type": "code",
   "execution_count": 12,
   "metadata": {},
   "outputs": [
    {
     "data": {
      "image/png": "[encoded data removed]",
      "text/plain": [
       "<Figure size 432x288 with 1 Axes>"
      ]
     },
     "metadata": {
      "needs_background": "light"
     },
     "output_type": "display_data"
    }
   ],
   "source": [
    "# Plot the top 25 list\n",
    "sns.barplot(y=top_25.index, x=top_25.avg_sale_price)\n",
    "plt.title('Avg Sales Price for Top 25 Priced Items')\n",
    "plt.xlabel('Avg Sale Price')\n",
    "plt.xticks(rotation=85)\n",
    "plt.ylabel('Item Name')\n",
    "plt.yticks(fontsize=9)\n",
    "\n",
    "plt.savefig('../figures/top25_items.png')"
   ]
  },
  {
   "cell_type": "markdown",
   "metadata": {},
   "source": [
    "#### Drop \"Payment\" items\n",
    "These payment items are almost all the highest priced items and throw things off significantly. Drop anything with \"payment\" in the name\""
   ]
  },
  {
   "cell_type": "code",
   "execution_count": 13,
   "metadata": {},
   "outputs": [],
   "source": [
    "### Drop any item with \"payment\" in the name\n",
    "items.reset_index(inplace=True)\n",
    "\n",
    "items = items[~items['description'].str.contains('PAYMENT')]\n",
    "items.set_index('description', inplace=True)\n",
    "items.head()\n",
    "\n",
    "# Create top lists for examination\n",
    "top_25 = items.head(25)\n",
    "top_50 = items.head(50)"
   ]
  },
  {
   "cell_type": "code",
   "execution_count": 14,
   "metadata": {},
   "outputs": [
    {
     "data": {
      "image/png": "[encoded data removed]",
      "text/plain": [
       "<Figure size 432x288 with 1 Axes>"
      ]
     },
     "metadata": {
      "needs_background": "light"
     },
     "output_type": "display_data"
    }
   ],
   "source": [
    "# Plot the top 25 list\n",
    "sns.barplot(y=top_25.index, x=top_25.avg_sale_price)\n",
    "plt.title('UPDATED - Avg Sales Price for Top 25 Priced Items')\n",
    "plt.xlabel('Avg Sale Price')\n",
    "plt.xticks(rotation=85)\n",
    "plt.ylabel('Item Name')\n",
    "plt.yticks(fontsize=9)\n",
    "\n",
    "plt.savefig('../figures/top25_items_no_payment_plans.png')"
   ]
  },
  {
   "cell_type": "code",
   "execution_count": 16,
   "metadata": {},
   "outputs": [
    {
     "data": {
      "text/html": [
       "<div>\n",
       "<style scoped>\n",
       "    .dataframe tbody tr th:only-of-type {\n",
       "        vertical-align: middle;\n",
       "    }\n",
       "\n",
       "    .dataframe tbody tr th {\n",
       "        vertical-align: top;\n",
       "    }\n",
       "\n",
       "    .dataframe thead th {\n",
       "        text-align: right;\n",
       "    }\n",
       "</style>\n",
       "<table border=\"1\" class=\"dataframe\">\n",
       "  <thead>\n",
       "    <tr style=\"text-align: right;\">\n",
       "      <th></th>\n",
       "      <th>index</th>\n",
       "      <th>description</th>\n",
       "      <th>avg_sale_price</th>\n",
       "      <th>item_price_rank</th>\n",
       "    </tr>\n",
       "  </thead>\n",
       "  <tbody>\n",
       "    <tr>\n",
       "      <th>0</th>\n",
       "      <td>0</td>\n",
       "      <td>OROLIA PSAP COMMAND CENTER</td>\n",
       "      <td>14200.000000</td>\n",
       "      <td>1</td>\n",
       "    </tr>\n",
       "    <tr>\n",
       "      <th>1</th>\n",
       "      <td>1</td>\n",
       "      <td>MOTO MIP5000 VOIP DISPATCH SW</td>\n",
       "      <td>10500.000000</td>\n",
       "      <td>2</td>\n",
       "    </tr>\n",
       "    <tr>\n",
       "      <th>2</th>\n",
       "      <td>2</td>\n",
       "      <td>WESTELL 700/800PS SIGNAL BSTR</td>\n",
       "      <td>6749.500000</td>\n",
       "      <td>3</td>\n",
       "    </tr>\n",
       "    <tr>\n",
       "      <th>3</th>\n",
       "      <td>3</td>\n",
       "      <td>SPECTRACOM SECURESYNCH CHASIS</td>\n",
       "      <td>6743.000000</td>\n",
       "      <td>4</td>\n",
       "    </tr>\n",
       "    <tr>\n",
       "      <th>4</th>\n",
       "      <td>4</td>\n",
       "      <td>MOTO SLR 8000 BASE RADIO</td>\n",
       "      <td>6298.029167</td>\n",
       "      <td>5</td>\n",
       "    </tr>\n",
       "  </tbody>\n",
       "</table>\n",
       "</div>"
      ],
      "text/plain": [
       "   index                    description  avg_sale_price  item_price_rank\n",
       "0      0     OROLIA PSAP COMMAND CENTER    14200.000000                1\n",
       "1      1  MOTO MIP5000 VOIP DISPATCH SW    10500.000000                2\n",
       "2      2  WESTELL 700/800PS SIGNAL BSTR     6749.500000                3\n",
       "3      3  SPECTRACOM SECURESYNCH CHASIS     6743.000000                4\n",
       "4      4       MOTO SLR 8000 BASE RADIO     6298.029167                5"
      ]
     },
     "execution_count": 16,
     "metadata": {},
     "output_type": "execute_result"
    }
   ],
   "source": [
    "# Create a new column that is the item rank\n",
    "items.reset_index(inplace=True)\n",
    "items['item_price_rank'] = [i+1 for i in items.index]\n",
    "items.head()"
   ]
  },
  {
   "cell_type": "code",
   "execution_count": 21,
   "metadata": {},
   "outputs": [
    {
     "data": {
      "text/html": [
       "<div>\n",
       "<style scoped>\n",
       "    .dataframe tbody tr th:only-of-type {\n",
       "        vertical-align: middle;\n",
       "    }\n",
       "\n",
       "    .dataframe tbody tr th {\n",
       "        vertical-align: top;\n",
       "    }\n",
       "\n",
       "    .dataframe thead th {\n",
       "        text-align: right;\n",
       "    }\n",
       "</style>\n",
       "<table border=\"1\" class=\"dataframe\">\n",
       "  <thead>\n",
       "    <tr style=\"text-align: right;\">\n",
       "      <th></th>\n",
       "      <th>index</th>\n",
       "      <th>description</th>\n",
       "      <th>avg_sale_price</th>\n",
       "      <th>item_price_rank</th>\n",
       "    </tr>\n",
       "  </thead>\n",
       "  <tbody>\n",
       "    <tr>\n",
       "      <th>0</th>\n",
       "      <td>0</td>\n",
       "      <td>OROLIA PSAP COMMAND CENTER</td>\n",
       "      <td>14200.000000</td>\n",
       "      <td>1</td>\n",
       "    </tr>\n",
       "    <tr>\n",
       "      <th>1</th>\n",
       "      <td>1</td>\n",
       "      <td>MOTO MIP5000 VOIP DISPATCH SW</td>\n",
       "      <td>10500.000000</td>\n",
       "      <td>2</td>\n",
       "    </tr>\n",
       "    <tr>\n",
       "      <th>2</th>\n",
       "      <td>2</td>\n",
       "      <td>WESTELL 700/800PS SIGNAL BSTR</td>\n",
       "      <td>6749.500000</td>\n",
       "      <td>3</td>\n",
       "    </tr>\n",
       "    <tr>\n",
       "      <th>3</th>\n",
       "      <td>3</td>\n",
       "      <td>SPECTRACOM SECURESYNCH CHASIS</td>\n",
       "      <td>6743.000000</td>\n",
       "      <td>4</td>\n",
       "    </tr>\n",
       "    <tr>\n",
       "      <th>4</th>\n",
       "      <td>4</td>\n",
       "      <td>MOTO SLR 8000 BASE RADIO</td>\n",
       "      <td>6298.029167</td>\n",
       "      <td>5</td>\n",
       "    </tr>\n",
       "    <tr>\n",
       "      <th>5</th>\n",
       "      <td>5</td>\n",
       "      <td>to be determined by customer</td>\n",
       "      <td>4760.730000</td>\n",
       "      <td>6</td>\n",
       "    </tr>\n",
       "    <tr>\n",
       "      <th>6</th>\n",
       "      <td>6</td>\n",
       "      <td>MOTO APX7500  CONSOLETTE</td>\n",
       "      <td>4527.750000</td>\n",
       "      <td>7</td>\n",
       "    </tr>\n",
       "    <tr>\n",
       "      <th>7</th>\n",
       "      <td>7</td>\n",
       "      <td>WESTELL 12/24 HOUR NFPA CMPLNT</td>\n",
       "      <td>4450.000000</td>\n",
       "      <td>8</td>\n",
       "    </tr>\n",
       "    <tr>\n",
       "      <th>8</th>\n",
       "      <td>8</td>\n",
       "      <td>GETAC: K120, i5-8250u, WIN10</td>\n",
       "      <td>4400.000000</td>\n",
       "      <td>9</td>\n",
       "    </tr>\n",
       "    <tr>\n",
       "      <th>9</th>\n",
       "      <td>9</td>\n",
       "      <td>TXRX CONTROL STATION COMBINER</td>\n",
       "      <td>4362.000000</td>\n",
       "      <td>10</td>\n",
       "    </tr>\n",
       "    <tr>\n",
       "      <th>10</th>\n",
       "      <td>10</td>\n",
       "      <td>MOTO MTR3000 BASE RADIO</td>\n",
       "      <td>4224.345455</td>\n",
       "      <td>11</td>\n",
       "    </tr>\n",
       "    <tr>\n",
       "      <th>11</th>\n",
       "      <td>11</td>\n",
       "      <td>MOTOTRBO CAP PLUS MULTI SITE</td>\n",
       "      <td>4155.000000</td>\n",
       "      <td>12</td>\n",
       "    </tr>\n",
       "    <tr>\n",
       "      <th>12</th>\n",
       "      <td>12</td>\n",
       "      <td>MOTO APX6500 7/800 MHZ MID</td>\n",
       "      <td>4138.916667</td>\n",
       "      <td>13</td>\n",
       "    </tr>\n",
       "    <tr>\n",
       "      <th>13</th>\n",
       "      <td>13</td>\n",
       "      <td>GETAC B300 INTEL CORE i5 13.3\"</td>\n",
       "      <td>3874.530000</td>\n",
       "      <td>14</td>\n",
       "    </tr>\n",
       "    <tr>\n",
       "      <th>14</th>\n",
       "      <td>14</td>\n",
       "      <td>GETAC: A140 TABLET LTE</td>\n",
       "      <td>3199.000000</td>\n",
       "      <td>15</td>\n",
       "    </tr>\n",
       "    <tr>\n",
       "      <th>15</th>\n",
       "      <td>15</td>\n",
       "      <td>MOTOTRBO LINKED CAP PLUS</td>\n",
       "      <td>3176.762500</td>\n",
       "      <td>16</td>\n",
       "    </tr>\n",
       "    <tr>\n",
       "      <th>16</th>\n",
       "      <td>16</td>\n",
       "      <td>ADD:UHF1 (400-470 MHZ)</td>\n",
       "      <td>3035.000000</td>\n",
       "      <td>17</td>\n",
       "    </tr>\n",
       "    <tr>\n",
       "      <th>17</th>\n",
       "      <td>17</td>\n",
       "      <td>GEMINI PD+ UHF 40W W/GPS</td>\n",
       "      <td>3015.000000</td>\n",
       "      <td>18</td>\n",
       "    </tr>\n",
       "    <tr>\n",
       "      <th>18</th>\n",
       "      <td>18</td>\n",
       "      <td>GETAC A140 LTE TABLET NO WBCAM</td>\n",
       "      <td>3000.000000</td>\n",
       "      <td>19</td>\n",
       "    </tr>\n",
       "    <tr>\n",
       "      <th>19</th>\n",
       "      <td>19</td>\n",
       "      <td>STREET TREK SERVER</td>\n",
       "      <td>3000.000000</td>\n",
       "      <td>20</td>\n",
       "    </tr>\n",
       "    <tr>\n",
       "      <th>20</th>\n",
       "      <td>20</td>\n",
       "      <td>MOTO SLR 5700 403-470 1-50W</td>\n",
       "      <td>2973.790909</td>\n",
       "      <td>21</td>\n",
       "    </tr>\n",
       "    <tr>\n",
       "      <th>21</th>\n",
       "      <td>21</td>\n",
       "      <td>MOTO SLR 5700 REPEATER 137-174</td>\n",
       "      <td>2962.250000</td>\n",
       "      <td>22</td>\n",
       "    </tr>\n",
       "    <tr>\n",
       "      <th>22</th>\n",
       "      <td>22</td>\n",
       "      <td>ADD: 800MHZ 100W POWER</td>\n",
       "      <td>2960.000000</td>\n",
       "      <td>23</td>\n",
       "    </tr>\n",
       "    <tr>\n",
       "      <th>23</th>\n",
       "      <td>23</td>\n",
       "      <td>MOTO COMPUTER Z440 WORKSTATION</td>\n",
       "      <td>2950.000000</td>\n",
       "      <td>24</td>\n",
       "    </tr>\n",
       "    <tr>\n",
       "      <th>24</th>\n",
       "      <td>24</td>\n",
       "      <td>ADD:VHF (136-174MHZ)</td>\n",
       "      <td>2918.750000</td>\n",
       "      <td>25</td>\n",
       "    </tr>\n",
       "  </tbody>\n",
       "</table>\n",
       "</div>"
      ],
      "text/plain": [
       "    index                     description  avg_sale_price  item_price_rank\n",
       "0       0      OROLIA PSAP COMMAND CENTER    14200.000000                1\n",
       "1       1   MOTO MIP5000 VOIP DISPATCH SW    10500.000000                2\n",
       "2       2   WESTELL 700/800PS SIGNAL BSTR     6749.500000                3\n",
       "3       3   SPECTRACOM SECURESYNCH CHASIS     6743.000000                4\n",
       "4       4        MOTO SLR 8000 BASE RADIO     6298.029167                5\n",
       "5       5    to be determined by customer     4760.730000                6\n",
       "6       6        MOTO APX7500  CONSOLETTE     4527.750000                7\n",
       "7       7  WESTELL 12/24 HOUR NFPA CMPLNT     4450.000000                8\n",
       "8       8    GETAC: K120, i5-8250u, WIN10     4400.000000                9\n",
       "9       9   TXRX CONTROL STATION COMBINER     4362.000000               10\n",
       "10     10         MOTO MTR3000 BASE RADIO     4224.345455               11\n",
       "11     11    MOTOTRBO CAP PLUS MULTI SITE     4155.000000               12\n",
       "12     12      MOTO APX6500 7/800 MHZ MID     4138.916667               13\n",
       "13     13  GETAC B300 INTEL CORE i5 13.3\"     3874.530000               14\n",
       "14     14          GETAC: A140 TABLET LTE     3199.000000               15\n",
       "15     15        MOTOTRBO LINKED CAP PLUS     3176.762500               16\n",
       "16     16          ADD:UHF1 (400-470 MHZ)     3035.000000               17\n",
       "17     17        GEMINI PD+ UHF 40W W/GPS     3015.000000               18\n",
       "18     18  GETAC A140 LTE TABLET NO WBCAM     3000.000000               19\n",
       "19     19              STREET TREK SERVER     3000.000000               20\n",
       "20     20     MOTO SLR 5700 403-470 1-50W     2973.790909               21\n",
       "21     21  MOTO SLR 5700 REPEATER 137-174     2962.250000               22\n",
       "22     22          ADD: 800MHZ 100W POWER     2960.000000               23\n",
       "23     23  MOTO COMPUTER Z440 WORKSTATION     2950.000000               24\n",
       "24     24            ADD:VHF (136-174MHZ)     2918.750000               25"
      ]
     },
     "execution_count": 21,
     "metadata": {},
     "output_type": "execute_result"
    }
   ],
   "source": [
    "items.head(25)"
   ]
  },
  {
   "cell_type": "code",
   "execution_count": 18,
   "metadata": {},
   "outputs": [
    {
     "data": {
      "text/html": [
       "<div>\n",
       "<style scoped>\n",
       "    .dataframe tbody tr th:only-of-type {\n",
       "        vertical-align: middle;\n",
       "    }\n",
       "\n",
       "    .dataframe tbody tr th {\n",
       "        vertical-align: top;\n",
       "    }\n",
       "\n",
       "    .dataframe thead th {\n",
       "        text-align: right;\n",
       "    }\n",
       "</style>\n",
       "<table border=\"1\" class=\"dataframe\">\n",
       "  <thead>\n",
       "    <tr style=\"text-align: right;\">\n",
       "      <th></th>\n",
       "      <th>index</th>\n",
       "      <th>description</th>\n",
       "      <th>avg_sale_price</th>\n",
       "      <th>item_price_rank</th>\n",
       "    </tr>\n",
       "  </thead>\n",
       "  <tbody>\n",
       "    <tr>\n",
       "      <th>191</th>\n",
       "      <td>191</td>\n",
       "      <td>MOTO XPR3500E 136-174 5W LKP</td>\n",
       "      <td>513.846154</td>\n",
       "      <td>192</td>\n",
       "    </tr>\n",
       "  </tbody>\n",
       "</table>\n",
       "</div>"
      ],
      "text/plain": [
       "     index                   description  avg_sale_price  item_price_rank\n",
       "191    191  MOTO XPR3500E 136-174 5W LKP      513.846154              192"
      ]
     },
     "execution_count": 18,
     "metadata": {},
     "output_type": "execute_result"
    }
   ],
   "source": [
    "items[items['item_price_rank']==192]"
   ]
  },
  {
   "cell_type": "code",
   "execution_count": 19,
   "metadata": {},
   "outputs": [
    {
     "data": {
      "text/html": [
       "<div>\n",
       "<style scoped>\n",
       "    .dataframe tbody tr th:only-of-type {\n",
       "        vertical-align: middle;\n",
       "    }\n",
       "\n",
       "    .dataframe tbody tr th {\n",
       "        vertical-align: top;\n",
       "    }\n",
       "\n",
       "    .dataframe thead th {\n",
       "        text-align: right;\n",
       "    }\n",
       "</style>\n",
       "<table border=\"1\" class=\"dataframe\">\n",
       "  <thead>\n",
       "    <tr style=\"text-align: right;\">\n",
       "      <th></th>\n",
       "      <th>index</th>\n",
       "      <th>description</th>\n",
       "      <th>avg_sale_price</th>\n",
       "      <th>item_price_rank</th>\n",
       "    </tr>\n",
       "  </thead>\n",
       "  <tbody>\n",
       "    <tr>\n",
       "      <th>244</th>\n",
       "      <td>244</td>\n",
       "      <td>MOTO MIN VI PAGER VHF 143-174</td>\n",
       "      <td>420.033529</td>\n",
       "      <td>245</td>\n",
       "    </tr>\n",
       "  </tbody>\n",
       "</table>\n",
       "</div>"
      ],
      "text/plain": [
       "     index                    description  avg_sale_price  item_price_rank\n",
       "244    244  MOTO MIN VI PAGER VHF 143-174      420.033529              245"
      ]
     },
     "execution_count": 19,
     "metadata": {},
     "output_type": "execute_result"
    }
   ],
   "source": [
    "items[items['item_price_rank']==245]"
   ]
  },
  {
   "cell_type": "code",
   "execution_count": 20,
   "metadata": {},
   "outputs": [
    {
     "data": {
      "text/html": [
       "<div>\n",
       "<style scoped>\n",
       "    .dataframe tbody tr th:only-of-type {\n",
       "        vertical-align: middle;\n",
       "    }\n",
       "\n",
       "    .dataframe tbody tr th {\n",
       "        vertical-align: top;\n",
       "    }\n",
       "\n",
       "    .dataframe thead th {\n",
       "        text-align: right;\n",
       "    }\n",
       "</style>\n",
       "<table border=\"1\" class=\"dataframe\">\n",
       "  <thead>\n",
       "    <tr style=\"text-align: right;\">\n",
       "      <th></th>\n",
       "      <th>index</th>\n",
       "      <th>description</th>\n",
       "      <th>avg_sale_price</th>\n",
       "      <th>item_price_rank</th>\n",
       "    </tr>\n",
       "  </thead>\n",
       "  <tbody>\n",
       "    <tr>\n",
       "      <th>488</th>\n",
       "      <td>488</td>\n",
       "      <td>GETAC 120W DC VEH ADAPTER</td>\n",
       "      <td>108.909091</td>\n",
       "      <td>489</td>\n",
       "    </tr>\n",
       "  </tbody>\n",
       "</table>\n",
       "</div>"
      ],
      "text/plain": [
       "     index                description  avg_sale_price  item_price_rank\n",
       "488    488  GETAC 120W DC VEH ADAPTER      108.909091              489"
      ]
     },
     "execution_count": 20,
     "metadata": {},
     "output_type": "execute_result"
    }
   ],
   "source": [
    "items[items['item_price_rank']==489]"
   ]
  },
  {
   "cell_type": "markdown",
   "metadata": {},
   "source": [
    "#### Drop really low priced items too\n",
    "\n",
    "How to define \"really low?\""
   ]
  },
  {
   "cell_type": "code",
   "execution_count": 123,
   "metadata": {},
   "outputs": [
    {
     "data": {
      "text/html": [
       "<div>\n",
       "<style scoped>\n",
       "    .dataframe tbody tr th:only-of-type {\n",
       "        vertical-align: middle;\n",
       "    }\n",
       "\n",
       "    .dataframe tbody tr th {\n",
       "        vertical-align: top;\n",
       "    }\n",
       "\n",
       "    .dataframe thead th {\n",
       "        text-align: right;\n",
       "    }\n",
       "</style>\n",
       "<table border=\"1\" class=\"dataframe\">\n",
       "  <thead>\n",
       "    <tr style=\"text-align: right;\">\n",
       "      <th></th>\n",
       "      <th>description</th>\n",
       "      <th>avg_sale_price</th>\n",
       "      <th>item_price_rank</th>\n",
       "    </tr>\n",
       "  </thead>\n",
       "  <tbody>\n",
       "    <tr>\n",
       "      <th>694</th>\n",
       "      <td>MOTO 2-WIRE TRANS TUBE, BLACK</td>\n",
       "      <td>39.016667</td>\n",
       "      <td>695</td>\n",
       "    </tr>\n",
       "    <tr>\n",
       "      <th>695</th>\n",
       "      <td>MOTO SURV. EARPIECE, IN-LINE</td>\n",
       "      <td>38.571429</td>\n",
       "      <td>696</td>\n",
       "    </tr>\n",
       "    <tr>\n",
       "      <th>696</th>\n",
       "      <td>MOTO COMPACT MICROPHONE W/CLIP</td>\n",
       "      <td>38.400000</td>\n",
       "      <td>697</td>\n",
       "    </tr>\n",
       "    <tr>\n",
       "      <th>697</th>\n",
       "      <td>OPERATOR 1 3/4\" BELT</td>\n",
       "      <td>38.323333</td>\n",
       "      <td>698</td>\n",
       "    </tr>\n",
       "    <tr>\n",
       "      <th>698</th>\n",
       "      <td>COMPANY PANT</td>\n",
       "      <td>38.000000</td>\n",
       "      <td>699</td>\n",
       "    </tr>\n",
       "    <tr>\n",
       "      <th>...</th>\n",
       "      <td>...</td>\n",
       "      <td>...</td>\n",
       "      <td>...</td>\n",
       "    </tr>\n",
       "    <tr>\n",
       "      <th>889</th>\n",
       "      <td>ANDREW 1/4 SUPERFLEX CABLE</td>\n",
       "      <td>1.785714</td>\n",
       "      <td>890</td>\n",
       "    </tr>\n",
       "    <tr>\n",
       "      <th>890</th>\n",
       "      <td>LMR400 COAX RG8 CABLE</td>\n",
       "      <td>1.662500</td>\n",
       "      <td>891</td>\n",
       "    </tr>\n",
       "    <tr>\n",
       "      <th>891</th>\n",
       "      <td>#6 STRANDED INSUL GRND WIRE</td>\n",
       "      <td>1.433333</td>\n",
       "      <td>892</td>\n",
       "    </tr>\n",
       "    <tr>\n",
       "      <th>892</th>\n",
       "      <td>#6 1 HOLE, 1/4\", SHORT</td>\n",
       "      <td>1.050000</td>\n",
       "      <td>893</td>\n",
       "    </tr>\n",
       "    <tr>\n",
       "      <th>893</th>\n",
       "      <td>CAT5 CABLE</td>\n",
       "      <td>0.600000</td>\n",
       "      <td>894</td>\n",
       "    </tr>\n",
       "  </tbody>\n",
       "</table>\n",
       "<p>200 rows × 3 columns</p>\n",
       "</div>"
      ],
      "text/plain": [
       "                        description  avg_sale_price  item_price_rank\n",
       "694   MOTO 2-WIRE TRANS TUBE, BLACK       39.016667              695\n",
       "695    MOTO SURV. EARPIECE, IN-LINE       38.571429              696\n",
       "696  MOTO COMPACT MICROPHONE W/CLIP       38.400000              697\n",
       "697            OPERATOR 1 3/4\" BELT       38.323333              698\n",
       "698                    COMPANY PANT       38.000000              699\n",
       "..                              ...             ...              ...\n",
       "889      ANDREW 1/4 SUPERFLEX CABLE        1.785714              890\n",
       "890           LMR400 COAX RG8 CABLE        1.662500              891\n",
       "891     #6 STRANDED INSUL GRND WIRE        1.433333              892\n",
       "892          #6 1 HOLE, 1/4\", SHORT        1.050000              893\n",
       "893                      CAT5 CABLE        0.600000              894\n",
       "\n",
       "[200 rows x 3 columns]"
      ]
     },
     "execution_count": 123,
     "metadata": {},
     "output_type": "execute_result"
    }
   ],
   "source": [
    "items.tail(200)"
   ]
  },
  {
   "cell_type": "markdown",
   "metadata": {},
   "source": [
    "The last 200 items are still largely accessories - all priced under $40. That seems like a good enough threshold for now. We can always adjust this later."
   ]
  },
  {
   "cell_type": "code",
   "execution_count": 124,
   "metadata": {},
   "outputs": [
    {
     "data": {
      "text/html": [
       "<div>\n",
       "<style scoped>\n",
       "    .dataframe tbody tr th:only-of-type {\n",
       "        vertical-align: middle;\n",
       "    }\n",
       "\n",
       "    .dataframe tbody tr th {\n",
       "        vertical-align: top;\n",
       "    }\n",
       "\n",
       "    .dataframe thead th {\n",
       "        text-align: right;\n",
       "    }\n",
       "</style>\n",
       "<table border=\"1\" class=\"dataframe\">\n",
       "  <thead>\n",
       "    <tr style=\"text-align: right;\">\n",
       "      <th></th>\n",
       "      <th>description</th>\n",
       "      <th>avg_sale_price</th>\n",
       "      <th>item_price_rank</th>\n",
       "    </tr>\n",
       "  </thead>\n",
       "  <tbody>\n",
       "    <tr>\n",
       "      <th>672</th>\n",
       "      <td>UNICATION EXTENDED WARRANTY</td>\n",
       "      <td>42.25</td>\n",
       "      <td>673</td>\n",
       "    </tr>\n",
       "    <tr>\n",
       "      <th>673</th>\n",
       "      <td>COMPANY CARGO PANT</td>\n",
       "      <td>42.00</td>\n",
       "      <td>674</td>\n",
       "    </tr>\n",
       "    <tr>\n",
       "      <th>674</th>\n",
       "      <td>CABLE, MOBILE MIC EXT</td>\n",
       "      <td>42.00</td>\n",
       "      <td>675</td>\n",
       "    </tr>\n",
       "    <tr>\n",
       "      <th>675</th>\n",
       "      <td>N MALE FOR 1/4 FLEX HF-</td>\n",
       "      <td>41.20</td>\n",
       "      <td>676</td>\n",
       "    </tr>\n",
       "    <tr>\n",
       "      <th>676</th>\n",
       "      <td>MOTO BATT LIION 2300T</td>\n",
       "      <td>41.00</td>\n",
       "      <td>677</td>\n",
       "    </tr>\n",
       "  </tbody>\n",
       "</table>\n",
       "</div>"
      ],
      "text/plain": [
       "                     description  avg_sale_price  item_price_rank\n",
       "672  UNICATION EXTENDED WARRANTY           42.25              673\n",
       "673           COMPANY CARGO PANT           42.00              674\n",
       "674        CABLE, MOBILE MIC EXT           42.00              675\n",
       "675      N MALE FOR 1/4 FLEX HF-           41.20              676\n",
       "676        MOTO BATT LIION 2300T           41.00              677"
      ]
     },
     "execution_count": 124,
     "metadata": {},
     "output_type": "execute_result"
    }
   ],
   "source": [
    "# Drop all items priced under $40\n",
    "items = items[items['avg_sale_price']>40]\n",
    "items.tail()"
   ]
  },
  {
   "cell_type": "code",
   "execution_count": 125,
   "metadata": {},
   "outputs": [
    {
     "data": {
      "text/html": [
       "<div>\n",
       "<style scoped>\n",
       "    .dataframe tbody tr th:only-of-type {\n",
       "        vertical-align: middle;\n",
       "    }\n",
       "\n",
       "    .dataframe tbody tr th {\n",
       "        vertical-align: top;\n",
       "    }\n",
       "\n",
       "    .dataframe thead th {\n",
       "        text-align: right;\n",
       "    }\n",
       "</style>\n",
       "<table border=\"1\" class=\"dataframe\">\n",
       "  <thead>\n",
       "    <tr style=\"text-align: right;\">\n",
       "      <th></th>\n",
       "      <th>description</th>\n",
       "      <th>avg_sale_price</th>\n",
       "      <th>item_price_rank</th>\n",
       "    </tr>\n",
       "  </thead>\n",
       "  <tbody>\n",
       "    <tr>\n",
       "      <th>676</th>\n",
       "      <td>MOTO BATT LIION 2300T</td>\n",
       "      <td>41.0</td>\n",
       "      <td>677</td>\n",
       "    </tr>\n",
       "  </tbody>\n",
       "</table>\n",
       "</div>"
      ],
      "text/plain": [
       "               description  avg_sale_price  item_price_rank\n",
       "676  MOTO BATT LIION 2300T            41.0              677"
      ]
     },
     "execution_count": 125,
     "metadata": {},
     "output_type": "execute_result"
    }
   ],
   "source": [
    "items[items['avg_sale_price']==items['avg_sale_price'].min()]"
   ]
  },
  {
   "cell_type": "markdown",
   "metadata": {},
   "source": [
    "### 4.2.2 Keep only the items left in original dataframe"
   ]
  },
  {
   "cell_type": "code",
   "execution_count": 126,
   "metadata": {},
   "outputs": [
    {
     "name": "stdout",
     "output_type": "stream",
     "text": [
      "<class 'pandas.core.frame.DataFrame'>\n",
      "MultiIndex: 5144 entries, ('1HOLPS', Timestamp('2015-05-08 00:00:00')) to ('4MICPD', Timestamp('2020-09-30 00:00:00'))\n",
      "Data columns (total 11 columns):\n",
      " #   Column              Non-Null Count  Dtype  \n",
      "---  ------              --------------  -----  \n",
      " 0   qty_shipped         5144 non-null   float64\n",
      " 1   item                5144 non-null   object \n",
      " 2   description         5144 non-null   object \n",
      " 3   item_price          5144 non-null   float64\n",
      " 4   industry            5144 non-null   object \n",
      " 5   contact_owner       5144 non-null   object \n",
      " 6   lifetime_sales      5144 non-null   float64\n",
      " 7   first_sale          5144 non-null   object \n",
      " 8   county              5144 non-null   object \n",
      " 9   market_opportunity  5144 non-null   float64\n",
      " 10  %_market_opp        5144 non-null   float64\n",
      "dtypes: float64(5), object(6)\n",
      "memory usage: 468.3+ KB\n"
     ]
    }
   ],
   "source": [
    "keep_list = list(items.description.unique())\n",
    "data = data[data['description'].isin(keep_list)]\n",
    "data.info()"
   ]
  },
  {
   "cell_type": "markdown",
   "metadata": {},
   "source": [
    "### 4.2.3 Join the item_price_rank with data df\n"
   ]
  },
  {
   "cell_type": "code",
   "execution_count": 127,
   "metadata": {},
   "outputs": [
    {
     "name": "stdout",
     "output_type": "stream",
     "text": [
      "<class 'pandas.core.frame.DataFrame'>\n",
      "Int64Index: 5144 entries, 0 to 5143\n",
      "Data columns (total 14 columns):\n",
      " #   Column              Non-Null Count  Dtype         \n",
      "---  ------              --------------  -----         \n",
      " 0   customer            5144 non-null   object        \n",
      " 1   invoice_date        5144 non-null   datetime64[ns]\n",
      " 2   qty_shipped         5144 non-null   float64       \n",
      " 3   item                5144 non-null   object        \n",
      " 4   description         5144 non-null   object        \n",
      " 5   item_price          5144 non-null   float64       \n",
      " 6   industry            5144 non-null   object        \n",
      " 7   contact_owner       5144 non-null   object        \n",
      " 8   lifetime_sales      5144 non-null   float64       \n",
      " 9   first_sale          5144 non-null   object        \n",
      " 10  county              5144 non-null   object        \n",
      " 11  market_opportunity  5144 non-null   float64       \n",
      " 12  %_market_opp        5144 non-null   float64       \n",
      " 13  item_price_rank     5144 non-null   int64         \n",
      "dtypes: datetime64[ns](1), float64(5), int64(1), object(7)\n",
      "memory usage: 602.8+ KB\n"
     ]
    }
   ],
   "source": [
    "# Join item sales rank with data\n",
    "data = pd.merge(data.reset_index(), items[['description', 'item_price_rank']], \n",
    "                on='description', how='inner')\n",
    "data.info()"
   ]
  },
  {
   "cell_type": "code",
   "execution_count": 128,
   "metadata": {},
   "outputs": [
    {
     "data": {
      "text/html": [
       "<div>\n",
       "<style scoped>\n",
       "    .dataframe tbody tr th:only-of-type {\n",
       "        vertical-align: middle;\n",
       "    }\n",
       "\n",
       "    .dataframe tbody tr th {\n",
       "        vertical-align: top;\n",
       "    }\n",
       "\n",
       "    .dataframe thead th {\n",
       "        text-align: right;\n",
       "    }\n",
       "</style>\n",
       "<table border=\"1\" class=\"dataframe\">\n",
       "  <thead>\n",
       "    <tr style=\"text-align: right;\">\n",
       "      <th></th>\n",
       "      <th>customer</th>\n",
       "      <th>invoice_date</th>\n",
       "      <th>qty_shipped</th>\n",
       "      <th>item</th>\n",
       "      <th>description</th>\n",
       "      <th>item_price</th>\n",
       "      <th>industry</th>\n",
       "      <th>contact_owner</th>\n",
       "      <th>lifetime_sales</th>\n",
       "      <th>first_sale</th>\n",
       "      <th>county</th>\n",
       "      <th>market_opportunity</th>\n",
       "      <th>%_market_opp</th>\n",
       "      <th>item_price_rank</th>\n",
       "    </tr>\n",
       "  </thead>\n",
       "  <tbody>\n",
       "    <tr>\n",
       "      <th>0</th>\n",
       "      <td>1HOLPS</td>\n",
       "      <td>2015-05-08</td>\n",
       "      <td>1.0</td>\n",
       "      <td>T3000</td>\n",
       "      <td>MOTO MTR3000 BASE RADIO</td>\n",
       "      <td>6020.8</td>\n",
       "      <td>K12 Education</td>\n",
       "      <td>Keith Johnson</td>\n",
       "      <td>39760.49</td>\n",
       "      <td>11/01/1999</td>\n",
       "      <td>Ottawa</td>\n",
       "      <td>825673.0</td>\n",
       "      <td>0.309</td>\n",
       "      <td>11</td>\n",
       "    </tr>\n",
       "    <tr>\n",
       "      <th>1</th>\n",
       "      <td>1AVOAU</td>\n",
       "      <td>2015-03-31</td>\n",
       "      <td>1.0</td>\n",
       "      <td>T3000</td>\n",
       "      <td>MOTO MTR3000 BASE RADIO</td>\n",
       "      <td>2775.0</td>\n",
       "      <td>Manufacturing</td>\n",
       "      <td>Jessica Spindler</td>\n",
       "      <td>88586.35</td>\n",
       "      <td>9/29/2008</td>\n",
       "      <td>Wexford</td>\n",
       "      <td>67091.0</td>\n",
       "      <td>0.114</td>\n",
       "      <td>11</td>\n",
       "    </tr>\n",
       "    <tr>\n",
       "      <th>2</th>\n",
       "      <td>1ZEEFD</td>\n",
       "      <td>2015-08-31</td>\n",
       "      <td>1.0</td>\n",
       "      <td>T3000</td>\n",
       "      <td>MOTO MTR3000 BASE RADIO</td>\n",
       "      <td>6992.0</td>\n",
       "      <td>Fire &amp; EMS</td>\n",
       "      <td>Keith Johnson</td>\n",
       "      <td>37839.27</td>\n",
       "      <td>11/01/1999</td>\n",
       "      <td>Ottawa</td>\n",
       "      <td>825673.0</td>\n",
       "      <td>0.309</td>\n",
       "      <td>11</td>\n",
       "    </tr>\n",
       "    <tr>\n",
       "      <th>3</th>\n",
       "      <td>1HILFD</td>\n",
       "      <td>2015-10-30</td>\n",
       "      <td>1.0</td>\n",
       "      <td>T3000</td>\n",
       "      <td>MOTO MTR3000 BASE RADIO</td>\n",
       "      <td>2775.0</td>\n",
       "      <td>Fire &amp; EMS</td>\n",
       "      <td>Jessica Spindler</td>\n",
       "      <td>12403.50</td>\n",
       "      <td>10/30/2013</td>\n",
       "      <td>Montmorency</td>\n",
       "      <td>16068.0</td>\n",
       "      <td>0.222</td>\n",
       "      <td>11</td>\n",
       "    </tr>\n",
       "    <tr>\n",
       "      <th>4</th>\n",
       "      <td>1FOURW</td>\n",
       "      <td>2016-03-11</td>\n",
       "      <td>3.0</td>\n",
       "      <td>T3000</td>\n",
       "      <td>MOTO MTR3000 BASE RADIO</td>\n",
       "      <td>2775.0</td>\n",
       "      <td>Hospitality</td>\n",
       "      <td>Tom Gillespie</td>\n",
       "      <td>1123935.02</td>\n",
       "      <td>1/29/2008</td>\n",
       "      <td>Berrien</td>\n",
       "      <td>510290.0</td>\n",
       "      <td>0.291</td>\n",
       "      <td>11</td>\n",
       "    </tr>\n",
       "  </tbody>\n",
       "</table>\n",
       "</div>"
      ],
      "text/plain": [
       "  customer invoice_date  qty_shipped   item              description  \\\n",
       "0   1HOLPS   2015-05-08          1.0  T3000  MOTO MTR3000 BASE RADIO   \n",
       "1   1AVOAU   2015-03-31          1.0  T3000  MOTO MTR3000 BASE RADIO   \n",
       "2   1ZEEFD   2015-08-31          1.0  T3000  MOTO MTR3000 BASE RADIO   \n",
       "3   1HILFD   2015-10-30          1.0  T3000  MOTO MTR3000 BASE RADIO   \n",
       "4   1FOURW   2016-03-11          3.0  T3000  MOTO MTR3000 BASE RADIO   \n",
       "\n",
       "   item_price       industry     contact_owner  lifetime_sales  first_sale  \\\n",
       "0      6020.8  K12 Education     Keith Johnson        39760.49  11/01/1999   \n",
       "1      2775.0  Manufacturing  Jessica Spindler        88586.35   9/29/2008   \n",
       "2      6992.0     Fire & EMS     Keith Johnson        37839.27  11/01/1999   \n",
       "3      2775.0     Fire & EMS  Jessica Spindler        12403.50  10/30/2013   \n",
       "4      2775.0    Hospitality     Tom Gillespie      1123935.02   1/29/2008   \n",
       "\n",
       "        county  market_opportunity  %_market_opp  item_price_rank  \n",
       "0       Ottawa            825673.0         0.309               11  \n",
       "1      Wexford             67091.0         0.114               11  \n",
       "2       Ottawa            825673.0         0.309               11  \n",
       "3  Montmorency             16068.0         0.222               11  \n",
       "4      Berrien            510290.0         0.291               11  "
      ]
     },
     "execution_count": 128,
     "metadata": {},
     "output_type": "execute_result"
    }
   ],
   "source": [
    "data.head()"
   ]
  },
  {
   "cell_type": "markdown",
   "metadata": {},
   "source": [
    "### 4.2.4 Drop all but highest priced item for each sale date\n",
    "\n",
    "Each row of my final data frame will represent the highest ranked item purchased on that sale date by that customer"
   ]
  },
  {
   "cell_type": "code",
   "execution_count": 129,
   "metadata": {},
   "outputs": [
    {
     "data": {
      "text/html": [
       "<div>\n",
       "<style scoped>\n",
       "    .dataframe tbody tr th:only-of-type {\n",
       "        vertical-align: middle;\n",
       "    }\n",
       "\n",
       "    .dataframe tbody tr th {\n",
       "        vertical-align: top;\n",
       "    }\n",
       "\n",
       "    .dataframe thead th {\n",
       "        text-align: right;\n",
       "    }\n",
       "</style>\n",
       "<table border=\"1\" class=\"dataframe\">\n",
       "  <thead>\n",
       "    <tr style=\"text-align: right;\">\n",
       "      <th></th>\n",
       "      <th></th>\n",
       "      <th>qty_shipped</th>\n",
       "      <th>item</th>\n",
       "      <th>description</th>\n",
       "      <th>item_price</th>\n",
       "      <th>industry</th>\n",
       "      <th>contact_owner</th>\n",
       "      <th>lifetime_sales</th>\n",
       "      <th>first_sale</th>\n",
       "      <th>county</th>\n",
       "      <th>market_opportunity</th>\n",
       "      <th>%_market_opp</th>\n",
       "      <th>item_price_rank</th>\n",
       "    </tr>\n",
       "    <tr>\n",
       "      <th>customer</th>\n",
       "      <th>invoice_date</th>\n",
       "      <th></th>\n",
       "      <th></th>\n",
       "      <th></th>\n",
       "      <th></th>\n",
       "      <th></th>\n",
       "      <th></th>\n",
       "      <th></th>\n",
       "      <th></th>\n",
       "      <th></th>\n",
       "      <th></th>\n",
       "      <th></th>\n",
       "      <th></th>\n",
       "    </tr>\n",
       "  </thead>\n",
       "  <tbody>\n",
       "    <tr>\n",
       "      <th rowspan=\"2\" valign=\"top\">7WOLPO</th>\n",
       "      <th>2017-08-31</th>\n",
       "      <td>4.0</td>\n",
       "      <td>AAH02RDC9VA1</td>\n",
       "      <td>MOTO XPR3300E 403-512 4W NKP</td>\n",
       "      <td>515.0</td>\n",
       "      <td>Utilities</td>\n",
       "      <td>Jessica Spindler</td>\n",
       "      <td>112928.57</td>\n",
       "      <td>11/01/1999</td>\n",
       "      <td>Wexford</td>\n",
       "      <td>67091.0</td>\n",
       "      <td>0.114</td>\n",
       "      <td>202</td>\n",
       "    </tr>\n",
       "    <tr>\n",
       "      <th>2016-06-24</th>\n",
       "      <td>6.0</td>\n",
       "      <td>AAH02RDC9VA1</td>\n",
       "      <td>MOTO XPR3300E 403-512 4W NKP</td>\n",
       "      <td>515.0</td>\n",
       "      <td>Utilities</td>\n",
       "      <td>Jessica Spindler</td>\n",
       "      <td>112928.57</td>\n",
       "      <td>11/01/1999</td>\n",
       "      <td>Wexford</td>\n",
       "      <td>67091.0</td>\n",
       "      <td>0.114</td>\n",
       "      <td>202</td>\n",
       "    </tr>\n",
       "    <tr>\n",
       "      <th rowspan=\"3\" valign=\"top\">7WEYER</th>\n",
       "      <th>2016-09-29</th>\n",
       "      <td>2.0</td>\n",
       "      <td>AAH01QDC9JA2</td>\n",
       "      <td>MOTO CP200D UHF 4W ND</td>\n",
       "      <td>481.5</td>\n",
       "      <td>Manufacturing</td>\n",
       "      <td>Jessica Spindler</td>\n",
       "      <td>6313.90</td>\n",
       "      <td>11/01/1999</td>\n",
       "      <td>Crawford</td>\n",
       "      <td>5375.0</td>\n",
       "      <td>4.437</td>\n",
       "      <td>221</td>\n",
       "    </tr>\n",
       "    <tr>\n",
       "      <th>2016-09-20</th>\n",
       "      <td>2.0</td>\n",
       "      <td>AAH01QDC9JA2</td>\n",
       "      <td>MOTO CP200D UHF 4W ND</td>\n",
       "      <td>481.5</td>\n",
       "      <td>Manufacturing</td>\n",
       "      <td>Jessica Spindler</td>\n",
       "      <td>6313.90</td>\n",
       "      <td>11/01/1999</td>\n",
       "      <td>Crawford</td>\n",
       "      <td>5375.0</td>\n",
       "      <td>4.437</td>\n",
       "      <td>221</td>\n",
       "    </tr>\n",
       "    <tr>\n",
       "      <th>2016-02-08</th>\n",
       "      <td>1.0</td>\n",
       "      <td>AAH01QDC9JA2</td>\n",
       "      <td>CP200D UHF 4W ND</td>\n",
       "      <td>481.5</td>\n",
       "      <td>Manufacturing</td>\n",
       "      <td>Jessica Spindler</td>\n",
       "      <td>6313.90</td>\n",
       "      <td>11/01/1999</td>\n",
       "      <td>Crawford</td>\n",
       "      <td>5375.0</td>\n",
       "      <td>4.437</td>\n",
       "      <td>236</td>\n",
       "    </tr>\n",
       "  </tbody>\n",
       "</table>\n",
       "</div>"
      ],
      "text/plain": [
       "                       qty_shipped          item  \\\n",
       "customer invoice_date                              \n",
       "7WOLPO   2017-08-31            4.0  AAH02RDC9VA1   \n",
       "         2016-06-24            6.0  AAH02RDC9VA1   \n",
       "7WEYER   2016-09-29            2.0  AAH01QDC9JA2   \n",
       "         2016-09-20            2.0  AAH01QDC9JA2   \n",
       "         2016-02-08            1.0  AAH01QDC9JA2   \n",
       "\n",
       "                                        description  item_price  \\\n",
       "customer invoice_date                                             \n",
       "7WOLPO   2017-08-31    MOTO XPR3300E 403-512 4W NKP       515.0   \n",
       "         2016-06-24    MOTO XPR3300E 403-512 4W NKP       515.0   \n",
       "7WEYER   2016-09-29           MOTO CP200D UHF 4W ND       481.5   \n",
       "         2016-09-20           MOTO CP200D UHF 4W ND       481.5   \n",
       "         2016-02-08                CP200D UHF 4W ND       481.5   \n",
       "\n",
       "                            industry     contact_owner  lifetime_sales  \\\n",
       "customer invoice_date                                                    \n",
       "7WOLPO   2017-08-31        Utilities  Jessica Spindler       112928.57   \n",
       "         2016-06-24        Utilities  Jessica Spindler       112928.57   \n",
       "7WEYER   2016-09-29    Manufacturing  Jessica Spindler         6313.90   \n",
       "         2016-09-20    Manufacturing  Jessica Spindler         6313.90   \n",
       "         2016-02-08    Manufacturing  Jessica Spindler         6313.90   \n",
       "\n",
       "                       first_sale    county  market_opportunity  %_market_opp  \\\n",
       "customer invoice_date                                                           \n",
       "7WOLPO   2017-08-31    11/01/1999   Wexford             67091.0         0.114   \n",
       "         2016-06-24    11/01/1999   Wexford             67091.0         0.114   \n",
       "7WEYER   2016-09-29    11/01/1999  Crawford              5375.0         4.437   \n",
       "         2016-09-20    11/01/1999  Crawford              5375.0         4.437   \n",
       "         2016-02-08    11/01/1999  Crawford              5375.0         4.437   \n",
       "\n",
       "                       item_price_rank  \n",
       "customer invoice_date                   \n",
       "7WOLPO   2017-08-31                202  \n",
       "         2016-06-24                202  \n",
       "7WEYER   2016-09-29                221  \n",
       "         2016-09-20                221  \n",
       "         2016-02-08                236  "
      ]
     },
     "execution_count": 129,
     "metadata": {},
     "output_type": "execute_result"
    }
   ],
   "source": [
    "# Drop all but the highest priced item for each sale date/customer combo\n",
    "\n",
    "# Make sure data are sorted by customer, then invoice_date, then item_price descending\n",
    "data.sort_values(by=['customer','invoice_date','item_price'], ascending=False, inplace=True)\n",
    "\n",
    "# Drop duplicate (customer/invoice_date) combos, keeping the first (i.e. highest priced)\n",
    "data.drop_duplicates(subset=['customer','invoice_date'], keep='first', inplace=True)\n",
    "\n",
    "# Reset index\n",
    "data.set_index(['customer','invoice_date'], inplace=True)\n",
    "\n",
    "# Confirm only one item per date per customer\n",
    "data.sort_index(level='customer')\n",
    "data.head()"
   ]
  },
  {
   "cell_type": "markdown",
   "metadata": {},
   "source": [
    "### 4.2.5 Drop unnessecary columns\n",
    "\n",
    "Since we only needed the item_price to create this ranking, we can drop that column now. (It would be highly correlated with item_price_rank anyway."
   ]
  },
  {
   "cell_type": "code",
   "execution_count": 130,
   "metadata": {},
   "outputs": [],
   "source": [
    "data.drop('item_price',axis=1, inplace=True)"
   ]
  },
  {
   "cell_type": "markdown",
   "metadata": {},
   "source": [
    "### 4.2.6 Create the Target Feature Column\n",
    "\n",
    "Now we're ready to create our target feature, which addressing the question: is this the highest priced item purchased by this customer to date?\n",
    "\n",
    "(Another way of saying, is this the highest ranked item by sales price)"
   ]
  },
  {
   "cell_type": "code",
   "execution_count": 131,
   "metadata": {},
   "outputs": [
    {
     "name": "stderr",
     "output_type": "stream",
     "text": [
      "C:\\Users\\mdurr\\anaconda3\\lib\\site-packages\\ipykernel_launcher.py:3: SettingWithCopyWarning: \n",
      "A value is trying to be set on a copy of a slice from a DataFrame\n",
      "\n",
      "See the caveats in the documentation: https://pandas.pydata.org/pandas-docs/stable/user_guide/indexing.html#returning-a-view-versus-a-copy\n",
      "  This is separate from the ipykernel package so we can avoid doing imports until\n"
     ]
    },
    {
     "data": {
      "text/html": [
       "<div>\n",
       "<style scoped>\n",
       "    .dataframe tbody tr th:only-of-type {\n",
       "        vertical-align: middle;\n",
       "    }\n",
       "\n",
       "    .dataframe tbody tr th {\n",
       "        vertical-align: top;\n",
       "    }\n",
       "\n",
       "    .dataframe thead th {\n",
       "        text-align: right;\n",
       "    }\n",
       "</style>\n",
       "<table border=\"1\" class=\"dataframe\">\n",
       "  <thead>\n",
       "    <tr style=\"text-align: right;\">\n",
       "      <th></th>\n",
       "      <th>customer</th>\n",
       "      <th>invoice_date</th>\n",
       "      <th>item_price_rank</th>\n",
       "    </tr>\n",
       "  </thead>\n",
       "  <tbody>\n",
       "    <tr>\n",
       "      <th>1</th>\n",
       "      <td>7WOLPO</td>\n",
       "      <td>2016-06-24</td>\n",
       "      <td>202</td>\n",
       "    </tr>\n",
       "    <tr>\n",
       "      <th>0</th>\n",
       "      <td>7WOLPO</td>\n",
       "      <td>2017-08-31</td>\n",
       "      <td>202</td>\n",
       "    </tr>\n",
       "    <tr>\n",
       "      <th>5</th>\n",
       "      <td>7WEYER</td>\n",
       "      <td>2015-06-05</td>\n",
       "      <td>191</td>\n",
       "    </tr>\n",
       "    <tr>\n",
       "      <th>4</th>\n",
       "      <td>7WEYER</td>\n",
       "      <td>2016-02-08</td>\n",
       "      <td>236</td>\n",
       "    </tr>\n",
       "    <tr>\n",
       "      <th>3</th>\n",
       "      <td>7WEYER</td>\n",
       "      <td>2016-09-20</td>\n",
       "      <td>221</td>\n",
       "    </tr>\n",
       "  </tbody>\n",
       "</table>\n",
       "</div>"
      ],
      "text/plain": [
       "  customer invoice_date  item_price_rank\n",
       "1   7WOLPO   2016-06-24              202\n",
       "0   7WOLPO   2017-08-31              202\n",
       "5   7WEYER   2015-06-05              191\n",
       "4   7WEYER   2016-02-08              236\n",
       "3   7WEYER   2016-09-20              221"
      ]
     },
     "execution_count": 131,
     "metadata": {},
     "output_type": "execute_result"
    }
   ],
   "source": [
    "df = data[['item_price_rank']]\n",
    "df.reset_index(inplace=True)\n",
    "df.sort_values(['customer','invoice_date'], ascending=[False, True], inplace=True)\n",
    "df.head()"
   ]
  },
  {
   "cell_type": "code",
   "execution_count": 132,
   "metadata": {},
   "outputs": [
    {
     "name": "stderr",
     "output_type": "stream",
     "text": [
      "C:\\Users\\mdurr\\anaconda3\\lib\\site-packages\\ipykernel_launcher.py:24: RuntimeWarning: invalid value encountered in greater\n"
     ]
    }
   ],
   "source": [
    "# Loop through the invoice dates for each customer & assign 1 to any purchase ranked higher than\n",
    "# prior purchases\n",
    "\n",
    "# this will be the list that becomes target feature\n",
    "target_list = []\n",
    "\n",
    "# Loop through each customer\n",
    "for customer in df.customer.unique():\n",
    "    cust_df = df[df['customer']==customer]\n",
    "    \n",
    "    # counter\n",
    "    i = 0\n",
    "    \n",
    "    for date in cust_df.invoice_date.values:\n",
    "        # If first item purchased, assign 0\n",
    "        if i == 0:\n",
    "            target_list.append(0)\n",
    "            i += 1\n",
    "            continue\n",
    "        \n",
    "        # For susequent purchases, was this item higher ranked than any previous\n",
    "        item_max = cust_df.item_price_rank.iloc[:i-1].max()\n",
    "        \n",
    "        if cust_df.item_price_rank.iloc[i] > item_max:\n",
    "            target_list.append(1)\n",
    "            i += 1\n",
    "            continue\n",
    "        else:\n",
    "            target_list.append(0)\n",
    "            i += 1\n",
    "            continue  "
   ]
  },
  {
   "cell_type": "code",
   "execution_count": 133,
   "metadata": {},
   "outputs": [
    {
     "data": {
      "text/plain": [
       "[0, 0, 0, 0, 1, 0, 0, 0, 0, 0]"
      ]
     },
     "execution_count": 133,
     "metadata": {},
     "output_type": "execute_result"
    }
   ],
   "source": [
    "# double check\n",
    "target_list[:10]"
   ]
  },
  {
   "cell_type": "code",
   "execution_count": 134,
   "metadata": {},
   "outputs": [
    {
     "data": {
      "text/html": [
       "<div>\n",
       "<style scoped>\n",
       "    .dataframe tbody tr th:only-of-type {\n",
       "        vertical-align: middle;\n",
       "    }\n",
       "\n",
       "    .dataframe tbody tr th {\n",
       "        vertical-align: top;\n",
       "    }\n",
       "\n",
       "    .dataframe thead th {\n",
       "        text-align: right;\n",
       "    }\n",
       "</style>\n",
       "<table border=\"1\" class=\"dataframe\">\n",
       "  <thead>\n",
       "    <tr style=\"text-align: right;\">\n",
       "      <th></th>\n",
       "      <th>customer</th>\n",
       "      <th>invoice_date</th>\n",
       "      <th>item_price_rank</th>\n",
       "    </tr>\n",
       "  </thead>\n",
       "  <tbody>\n",
       "    <tr>\n",
       "      <th>1</th>\n",
       "      <td>7WOLPO</td>\n",
       "      <td>2016-06-24</td>\n",
       "      <td>202</td>\n",
       "    </tr>\n",
       "    <tr>\n",
       "      <th>0</th>\n",
       "      <td>7WOLPO</td>\n",
       "      <td>2017-08-31</td>\n",
       "      <td>202</td>\n",
       "    </tr>\n",
       "    <tr>\n",
       "      <th>5</th>\n",
       "      <td>7WEYER</td>\n",
       "      <td>2015-06-05</td>\n",
       "      <td>191</td>\n",
       "    </tr>\n",
       "    <tr>\n",
       "      <th>4</th>\n",
       "      <td>7WEYER</td>\n",
       "      <td>2016-02-08</td>\n",
       "      <td>236</td>\n",
       "    </tr>\n",
       "    <tr>\n",
       "      <th>3</th>\n",
       "      <td>7WEYER</td>\n",
       "      <td>2016-09-20</td>\n",
       "      <td>221</td>\n",
       "    </tr>\n",
       "    <tr>\n",
       "      <th>2</th>\n",
       "      <td>7WEYER</td>\n",
       "      <td>2016-09-29</td>\n",
       "      <td>221</td>\n",
       "    </tr>\n",
       "    <tr>\n",
       "      <th>6</th>\n",
       "      <td>7WEXSA</td>\n",
       "      <td>2018-09-25</td>\n",
       "      <td>229</td>\n",
       "    </tr>\n",
       "    <tr>\n",
       "      <th>8</th>\n",
       "      <td>7WEXCS</td>\n",
       "      <td>2015-10-30</td>\n",
       "      <td>248</td>\n",
       "    </tr>\n",
       "    <tr>\n",
       "      <th>7</th>\n",
       "      <td>7WEXCS</td>\n",
       "      <td>2017-09-08</td>\n",
       "      <td>376</td>\n",
       "    </tr>\n",
       "    <tr>\n",
       "      <th>10</th>\n",
       "      <td>7WEQUE</td>\n",
       "      <td>2016-05-20</td>\n",
       "      <td>252</td>\n",
       "    </tr>\n",
       "    <tr>\n",
       "      <th>9</th>\n",
       "      <td>7WEQUE</td>\n",
       "      <td>2017-06-23</td>\n",
       "      <td>252</td>\n",
       "    </tr>\n",
       "    <tr>\n",
       "      <th>16</th>\n",
       "      <td>7WEMIS</td>\n",
       "      <td>2017-03-10</td>\n",
       "      <td>391</td>\n",
       "    </tr>\n",
       "    <tr>\n",
       "      <th>15</th>\n",
       "      <td>7WEMIS</td>\n",
       "      <td>2018-02-09</td>\n",
       "      <td>387</td>\n",
       "    </tr>\n",
       "    <tr>\n",
       "      <th>14</th>\n",
       "      <td>7WEMIS</td>\n",
       "      <td>2018-03-23</td>\n",
       "      <td>387</td>\n",
       "    </tr>\n",
       "    <tr>\n",
       "      <th>13</th>\n",
       "      <td>7WEMIS</td>\n",
       "      <td>2018-05-04</td>\n",
       "      <td>387</td>\n",
       "    </tr>\n",
       "    <tr>\n",
       "      <th>12</th>\n",
       "      <td>7WEMIS</td>\n",
       "      <td>2018-10-24</td>\n",
       "      <td>387</td>\n",
       "    </tr>\n",
       "    <tr>\n",
       "      <th>11</th>\n",
       "      <td>7WEMIS</td>\n",
       "      <td>2019-09-30</td>\n",
       "      <td>387</td>\n",
       "    </tr>\n",
       "    <tr>\n",
       "      <th>19</th>\n",
       "      <td>7TUSTP</td>\n",
       "      <td>2019-12-30</td>\n",
       "      <td>92</td>\n",
       "    </tr>\n",
       "    <tr>\n",
       "      <th>18</th>\n",
       "      <td>7TUSTP</td>\n",
       "      <td>2020-05-15</td>\n",
       "      <td>92</td>\n",
       "    </tr>\n",
       "    <tr>\n",
       "      <th>17</th>\n",
       "      <td>7TUSTP</td>\n",
       "      <td>2020-09-29</td>\n",
       "      <td>138</td>\n",
       "    </tr>\n",
       "    <tr>\n",
       "      <th>20</th>\n",
       "      <td>7TRCFD</td>\n",
       "      <td>2016-12-22</td>\n",
       "      <td>533</td>\n",
       "    </tr>\n",
       "    <tr>\n",
       "      <th>21</th>\n",
       "      <td>7REDPO</td>\n",
       "      <td>2018-06-29</td>\n",
       "      <td>218</td>\n",
       "    </tr>\n",
       "    <tr>\n",
       "      <th>22</th>\n",
       "      <td>7POPEX</td>\n",
       "      <td>2017-04-21</td>\n",
       "      <td>177</td>\n",
       "    </tr>\n",
       "    <tr>\n",
       "      <th>25</th>\n",
       "      <td>7PETOW</td>\n",
       "      <td>2018-07-20</td>\n",
       "      <td>196</td>\n",
       "    </tr>\n",
       "    <tr>\n",
       "      <th>24</th>\n",
       "      <td>7PETOW</td>\n",
       "      <td>2019-06-14</td>\n",
       "      <td>314</td>\n",
       "    </tr>\n",
       "  </tbody>\n",
       "</table>\n",
       "</div>"
      ],
      "text/plain": [
       "   customer invoice_date  item_price_rank\n",
       "1    7WOLPO   2016-06-24              202\n",
       "0    7WOLPO   2017-08-31              202\n",
       "5    7WEYER   2015-06-05              191\n",
       "4    7WEYER   2016-02-08              236\n",
       "3    7WEYER   2016-09-20              221\n",
       "2    7WEYER   2016-09-29              221\n",
       "6    7WEXSA   2018-09-25              229\n",
       "8    7WEXCS   2015-10-30              248\n",
       "7    7WEXCS   2017-09-08              376\n",
       "10   7WEQUE   2016-05-20              252\n",
       "9    7WEQUE   2017-06-23              252\n",
       "16   7WEMIS   2017-03-10              391\n",
       "15   7WEMIS   2018-02-09              387\n",
       "14   7WEMIS   2018-03-23              387\n",
       "13   7WEMIS   2018-05-04              387\n",
       "12   7WEMIS   2018-10-24              387\n",
       "11   7WEMIS   2019-09-30              387\n",
       "19   7TUSTP   2019-12-30               92\n",
       "18   7TUSTP   2020-05-15               92\n",
       "17   7TUSTP   2020-09-29              138\n",
       "20   7TRCFD   2016-12-22              533\n",
       "21   7REDPO   2018-06-29              218\n",
       "22   7POPEX   2017-04-21              177\n",
       "25   7PETOW   2018-07-20              196\n",
       "24   7PETOW   2019-06-14              314"
      ]
     },
     "execution_count": 134,
     "metadata": {},
     "output_type": "execute_result"
    }
   ],
   "source": [
    "df.head(25)"
   ]
  },
  {
   "cell_type": "code",
   "execution_count": 135,
   "metadata": {},
   "outputs": [
    {
     "name": "stdout",
     "output_type": "stream",
     "text": [
      "<class 'pandas.core.frame.DataFrame'>\n",
      "MultiIndex: 1949 entries, ('7WOLPO', Timestamp('2017-08-31 00:00:00')) to ('1ADACO', Timestamp('2015-04-24 00:00:00'))\n",
      "Data columns (total 12 columns):\n",
      " #   Column              Non-Null Count  Dtype  \n",
      "---  ------              --------------  -----  \n",
      " 0   qty_shipped         1949 non-null   float64\n",
      " 1   item                1949 non-null   object \n",
      " 2   description         1949 non-null   object \n",
      " 3   industry            1949 non-null   object \n",
      " 4   contact_owner       1949 non-null   object \n",
      " 5   lifetime_sales      1949 non-null   float64\n",
      " 6   first_sale          1949 non-null   object \n",
      " 7   county              1949 non-null   object \n",
      " 8   market_opportunity  1949 non-null   float64\n",
      " 9   %_market_opp        1949 non-null   float64\n",
      " 10  item_price_rank     1949 non-null   int64  \n",
      " 11  target              1949 non-null   int64  \n",
      "dtypes: float64(4), int64(2), object(6)\n",
      "memory usage: 196.1+ KB\n"
     ]
    },
    {
     "data": {
      "text/plain": [
       "None"
      ]
     },
     "metadata": {},
     "output_type": "display_data"
    },
    {
     "data": {
      "text/plain": [
       "0    1773\n",
       "1     176\n",
       "Name: target, dtype: int64"
      ]
     },
     "metadata": {},
     "output_type": "display_data"
    }
   ],
   "source": [
    "# Create target feature\n",
    "data['target'] = target_list\n",
    "display(data.info())\n",
    "display(data.target.value_counts())"
   ]
  },
  {
   "cell_type": "code",
   "execution_count": 136,
   "metadata": {},
   "outputs": [
    {
     "data": {
      "text/html": [
       "<div>\n",
       "<style scoped>\n",
       "    .dataframe tbody tr th:only-of-type {\n",
       "        vertical-align: middle;\n",
       "    }\n",
       "\n",
       "    .dataframe tbody tr th {\n",
       "        vertical-align: top;\n",
       "    }\n",
       "\n",
       "    .dataframe thead th {\n",
       "        text-align: right;\n",
       "    }\n",
       "</style>\n",
       "<table border=\"1\" class=\"dataframe\">\n",
       "  <thead>\n",
       "    <tr style=\"text-align: right;\">\n",
       "      <th></th>\n",
       "      <th></th>\n",
       "      <th>item_price_rank</th>\n",
       "      <th>target</th>\n",
       "    </tr>\n",
       "    <tr>\n",
       "      <th>customer</th>\n",
       "      <th>invoice_date</th>\n",
       "      <th></th>\n",
       "      <th></th>\n",
       "    </tr>\n",
       "  </thead>\n",
       "  <tbody>\n",
       "    <tr>\n",
       "      <th rowspan=\"4\" valign=\"top\">7PETFD</th>\n",
       "      <th>2020-05-15</th>\n",
       "      <td>489</td>\n",
       "      <td>0</td>\n",
       "    </tr>\n",
       "    <tr>\n",
       "      <th>2017-01-31</th>\n",
       "      <td>192</td>\n",
       "      <td>0</td>\n",
       "    </tr>\n",
       "    <tr>\n",
       "      <th>2015-12-18</th>\n",
       "      <td>245</td>\n",
       "      <td>1</td>\n",
       "    </tr>\n",
       "    <tr>\n",
       "      <th>2015-08-14</th>\n",
       "      <td>245</td>\n",
       "      <td>1</td>\n",
       "    </tr>\n",
       "    <tr>\n",
       "      <th>7NORCM</th>\n",
       "      <th>2017-03-17</th>\n",
       "      <td>100</td>\n",
       "      <td>0</td>\n",
       "    </tr>\n",
       "  </tbody>\n",
       "</table>\n",
       "</div>"
      ],
      "text/plain": [
       "                       item_price_rank  target\n",
       "customer invoice_date                         \n",
       "7PETFD   2020-05-15                489       0\n",
       "         2017-01-31                192       0\n",
       "         2015-12-18                245       1\n",
       "         2015-08-14                245       1\n",
       "7NORCM   2017-03-17                100       0"
      ]
     },
     "execution_count": 136,
     "metadata": {},
     "output_type": "execute_result"
    }
   ],
   "source": [
    "data[['item_price_rank','target']].iloc[27:32]"
   ]
  },
  {
   "cell_type": "markdown",
   "metadata": {},
   "source": [
    "### 4.2.7 Upsample positive class\n",
    "\n",
    "The data is very imbalanced, so I will upsample the positive class to help balance that out."
   ]
  },
  {
   "cell_type": "code",
   "execution_count": 137,
   "metadata": {},
   "outputs": [
    {
     "data": {
      "text/plain": [
       "1    1773\n",
       "0    1773\n",
       "Name: target, dtype: int64"
      ]
     },
     "execution_count": 137,
     "metadata": {},
     "output_type": "execute_result"
    }
   ],
   "source": [
    "from sklearn.utils import resample\n",
    "\n",
    "# separate classes\n",
    "data_minority = data[data['target']==1]\n",
    "data_majority = data[data['target']==0]\n",
    "\n",
    "# upsample minority\n",
    "data_minority_upsampled = resample(data_minority, \n",
    "                                 replace=True,      # sample with replacement\n",
    "                                 n_samples=1773,    # to match majority class\n",
    "                                 random_state=2)    # reproducible results)\n",
    "\n",
    "# combine upsampled results with majority class\n",
    "data_upsampled = pd.concat([data_majority, data_minority_upsampled])\n",
    "\n",
    "# check\n",
    "data_upsampled.target.value_counts()\n"
   ]
  },
  {
   "cell_type": "code",
   "execution_count": 138,
   "metadata": {},
   "outputs": [],
   "source": [
    "# Save to file\n",
    "data_upsampled.to_csv('../data/processed/data_upsampled.csv')\n",
    "data.to_csv('../data/processed/data_final_w_target.csv')"
   ]
  },
  {
   "cell_type": "markdown",
   "metadata": {},
   "source": [
    "## 4.3 Fix Column Data Types"
   ]
  },
  {
   "cell_type": "code",
   "execution_count": null,
   "metadata": {},
   "outputs": [],
   "source": [
    "# For reloading data when tweaking models in case I mess something up!\n",
    "#data = pd.read_csv('../data/processed/data_upsampled.csv', \n",
    "                   #index_col=['customer','invoice_date'])"
   ]
  },
  {
   "cell_type": "code",
   "execution_count": 140,
   "metadata": {},
   "outputs": [
    {
     "name": "stdout",
     "output_type": "stream",
     "text": [
      "<class 'pandas.core.frame.DataFrame'>\n",
      "MultiIndex: 1949 entries, ('7WOLPO', Timestamp('2017-08-31 00:00:00')) to ('1ADACO', Timestamp('2015-04-24 00:00:00'))\n",
      "Data columns (total 12 columns):\n",
      " #   Column              Non-Null Count  Dtype         \n",
      "---  ------              --------------  -----         \n",
      " 0   qty_shipped         1949 non-null   float64       \n",
      " 1   item                1949 non-null   object        \n",
      " 2   description         1949 non-null   object        \n",
      " 3   industry            1949 non-null   category      \n",
      " 4   contact_owner       1949 non-null   category      \n",
      " 5   lifetime_sales      1949 non-null   float64       \n",
      " 6   first_sale          1949 non-null   datetime64[ns]\n",
      " 7   county              1949 non-null   category      \n",
      " 8   market_opportunity  1949 non-null   float64       \n",
      " 9   %_market_opp        1949 non-null   float64       \n",
      " 10  item_price_rank     1949 non-null   int64         \n",
      " 11  target              1949 non-null   int64         \n",
      "dtypes: category(3), datetime64[ns](1), float64(4), int64(2), object(2)\n",
      "memory usage: 158.7+ KB\n"
     ]
    }
   ],
   "source": [
    "# In all that engineering we lost our data types\n",
    "data['industry'] = data['industry'].astype('category')\n",
    "data['contact_owner'] = data['contact_owner'].astype('category')\n",
    "data['county'] = data['county'].astype('category')\n",
    "\n",
    "data['first_sale'] = pd.to_datetime(data['first_sale'])\n",
    "\n",
    "# Check\n",
    "data.info()"
   ]
  },
  {
   "cell_type": "markdown",
   "metadata": {},
   "source": [
    "### 4.3.1 One hot encode Categorical features"
   ]
  },
  {
   "cell_type": "code",
   "execution_count": 141,
   "metadata": {},
   "outputs": [
    {
     "data": {
      "text/html": [
       "<div>\n",
       "<style scoped>\n",
       "    .dataframe tbody tr th:only-of-type {\n",
       "        vertical-align: middle;\n",
       "    }\n",
       "\n",
       "    .dataframe tbody tr th {\n",
       "        vertical-align: top;\n",
       "    }\n",
       "\n",
       "    .dataframe thead th {\n",
       "        text-align: right;\n",
       "    }\n",
       "</style>\n",
       "<table border=\"1\" class=\"dataframe\">\n",
       "  <thead>\n",
       "    <tr style=\"text-align: right;\">\n",
       "      <th></th>\n",
       "      <th></th>\n",
       "      <th>qty_shipped</th>\n",
       "      <th>lifetime_sales</th>\n",
       "      <th>first_sale</th>\n",
       "      <th>market_opportunity</th>\n",
       "      <th>%_market_opp</th>\n",
       "      <th>item_price_rank</th>\n",
       "      <th>target</th>\n",
       "      <th>industry_911 &amp; Dispatch</th>\n",
       "      <th>industry_Agriculture</th>\n",
       "      <th>industry_Colleges &amp; Universities</th>\n",
       "      <th>...</th>\n",
       "      <th>county_Muskegon</th>\n",
       "      <th>county_Newaygo</th>\n",
       "      <th>county_Oceana</th>\n",
       "      <th>county_Ogemaw</th>\n",
       "      <th>county_Otsego</th>\n",
       "      <th>county_Ottawa</th>\n",
       "      <th>county_Presque Isle</th>\n",
       "      <th>county_Roscommon</th>\n",
       "      <th>county_Van Buren</th>\n",
       "      <th>county_Wexford</th>\n",
       "    </tr>\n",
       "    <tr>\n",
       "      <th>customer</th>\n",
       "      <th>invoice_date</th>\n",
       "      <th></th>\n",
       "      <th></th>\n",
       "      <th></th>\n",
       "      <th></th>\n",
       "      <th></th>\n",
       "      <th></th>\n",
       "      <th></th>\n",
       "      <th></th>\n",
       "      <th></th>\n",
       "      <th></th>\n",
       "      <th></th>\n",
       "      <th></th>\n",
       "      <th></th>\n",
       "      <th></th>\n",
       "      <th></th>\n",
       "      <th></th>\n",
       "      <th></th>\n",
       "      <th></th>\n",
       "      <th></th>\n",
       "      <th></th>\n",
       "      <th></th>\n",
       "    </tr>\n",
       "  </thead>\n",
       "  <tbody>\n",
       "    <tr>\n",
       "      <th rowspan=\"2\" valign=\"top\">7WOLPO</th>\n",
       "      <th>2017-08-31</th>\n",
       "      <td>4.0</td>\n",
       "      <td>112928.57</td>\n",
       "      <td>1999-11-01</td>\n",
       "      <td>67091.0</td>\n",
       "      <td>0.114</td>\n",
       "      <td>202</td>\n",
       "      <td>0</td>\n",
       "      <td>0</td>\n",
       "      <td>0</td>\n",
       "      <td>0</td>\n",
       "      <td>...</td>\n",
       "      <td>0</td>\n",
       "      <td>0</td>\n",
       "      <td>0</td>\n",
       "      <td>0</td>\n",
       "      <td>0</td>\n",
       "      <td>0</td>\n",
       "      <td>0</td>\n",
       "      <td>0</td>\n",
       "      <td>0</td>\n",
       "      <td>1</td>\n",
       "    </tr>\n",
       "    <tr>\n",
       "      <th>2016-06-24</th>\n",
       "      <td>6.0</td>\n",
       "      <td>112928.57</td>\n",
       "      <td>1999-11-01</td>\n",
       "      <td>67091.0</td>\n",
       "      <td>0.114</td>\n",
       "      <td>202</td>\n",
       "      <td>0</td>\n",
       "      <td>0</td>\n",
       "      <td>0</td>\n",
       "      <td>0</td>\n",
       "      <td>...</td>\n",
       "      <td>0</td>\n",
       "      <td>0</td>\n",
       "      <td>0</td>\n",
       "      <td>0</td>\n",
       "      <td>0</td>\n",
       "      <td>0</td>\n",
       "      <td>0</td>\n",
       "      <td>0</td>\n",
       "      <td>0</td>\n",
       "      <td>1</td>\n",
       "    </tr>\n",
       "    <tr>\n",
       "      <th rowspan=\"3\" valign=\"top\">7WEYER</th>\n",
       "      <th>2016-09-29</th>\n",
       "      <td>2.0</td>\n",
       "      <td>6313.90</td>\n",
       "      <td>1999-11-01</td>\n",
       "      <td>5375.0</td>\n",
       "      <td>4.437</td>\n",
       "      <td>221</td>\n",
       "      <td>0</td>\n",
       "      <td>0</td>\n",
       "      <td>0</td>\n",
       "      <td>0</td>\n",
       "      <td>...</td>\n",
       "      <td>0</td>\n",
       "      <td>0</td>\n",
       "      <td>0</td>\n",
       "      <td>0</td>\n",
       "      <td>0</td>\n",
       "      <td>0</td>\n",
       "      <td>0</td>\n",
       "      <td>0</td>\n",
       "      <td>0</td>\n",
       "      <td>0</td>\n",
       "    </tr>\n",
       "    <tr>\n",
       "      <th>2016-09-20</th>\n",
       "      <td>2.0</td>\n",
       "      <td>6313.90</td>\n",
       "      <td>1999-11-01</td>\n",
       "      <td>5375.0</td>\n",
       "      <td>4.437</td>\n",
       "      <td>221</td>\n",
       "      <td>0</td>\n",
       "      <td>0</td>\n",
       "      <td>0</td>\n",
       "      <td>0</td>\n",
       "      <td>...</td>\n",
       "      <td>0</td>\n",
       "      <td>0</td>\n",
       "      <td>0</td>\n",
       "      <td>0</td>\n",
       "      <td>0</td>\n",
       "      <td>0</td>\n",
       "      <td>0</td>\n",
       "      <td>0</td>\n",
       "      <td>0</td>\n",
       "      <td>0</td>\n",
       "    </tr>\n",
       "    <tr>\n",
       "      <th>2016-02-08</th>\n",
       "      <td>1.0</td>\n",
       "      <td>6313.90</td>\n",
       "      <td>1999-11-01</td>\n",
       "      <td>5375.0</td>\n",
       "      <td>4.437</td>\n",
       "      <td>236</td>\n",
       "      <td>1</td>\n",
       "      <td>0</td>\n",
       "      <td>0</td>\n",
       "      <td>0</td>\n",
       "      <td>...</td>\n",
       "      <td>0</td>\n",
       "      <td>0</td>\n",
       "      <td>0</td>\n",
       "      <td>0</td>\n",
       "      <td>0</td>\n",
       "      <td>0</td>\n",
       "      <td>0</td>\n",
       "      <td>0</td>\n",
       "      <td>0</td>\n",
       "      <td>0</td>\n",
       "    </tr>\n",
       "  </tbody>\n",
       "</table>\n",
       "<p>5 rows × 65 columns</p>\n",
       "</div>"
      ],
      "text/plain": [
       "                       qty_shipped  lifetime_sales first_sale  \\\n",
       "customer invoice_date                                           \n",
       "7WOLPO   2017-08-31            4.0       112928.57 1999-11-01   \n",
       "         2016-06-24            6.0       112928.57 1999-11-01   \n",
       "7WEYER   2016-09-29            2.0         6313.90 1999-11-01   \n",
       "         2016-09-20            2.0         6313.90 1999-11-01   \n",
       "         2016-02-08            1.0         6313.90 1999-11-01   \n",
       "\n",
       "                       market_opportunity  %_market_opp  item_price_rank  \\\n",
       "customer invoice_date                                                      \n",
       "7WOLPO   2017-08-31               67091.0         0.114              202   \n",
       "         2016-06-24               67091.0         0.114              202   \n",
       "7WEYER   2016-09-29                5375.0         4.437              221   \n",
       "         2016-09-20                5375.0         4.437              221   \n",
       "         2016-02-08                5375.0         4.437              236   \n",
       "\n",
       "                       target  industry_911 & Dispatch  industry_Agriculture  \\\n",
       "customer invoice_date                                                          \n",
       "7WOLPO   2017-08-31         0                        0                     0   \n",
       "         2016-06-24         0                        0                     0   \n",
       "7WEYER   2016-09-29         0                        0                     0   \n",
       "         2016-09-20         0                        0                     0   \n",
       "         2016-02-08         1                        0                     0   \n",
       "\n",
       "                       industry_Colleges & Universities  ...  county_Muskegon  \\\n",
       "customer invoice_date                                    ...                    \n",
       "7WOLPO   2017-08-31                                   0  ...                0   \n",
       "         2016-06-24                                   0  ...                0   \n",
       "7WEYER   2016-09-29                                   0  ...                0   \n",
       "         2016-09-20                                   0  ...                0   \n",
       "         2016-02-08                                   0  ...                0   \n",
       "\n",
       "                       county_Newaygo  county_Oceana  county_Ogemaw  \\\n",
       "customer invoice_date                                                 \n",
       "7WOLPO   2017-08-31                 0              0              0   \n",
       "         2016-06-24                 0              0              0   \n",
       "7WEYER   2016-09-29                 0              0              0   \n",
       "         2016-09-20                 0              0              0   \n",
       "         2016-02-08                 0              0              0   \n",
       "\n",
       "                       county_Otsego  county_Ottawa  county_Presque Isle  \\\n",
       "customer invoice_date                                                      \n",
       "7WOLPO   2017-08-31                0              0                    0   \n",
       "         2016-06-24                0              0                    0   \n",
       "7WEYER   2016-09-29                0              0                    0   \n",
       "         2016-09-20                0              0                    0   \n",
       "         2016-02-08                0              0                    0   \n",
       "\n",
       "                       county_Roscommon  county_Van Buren  county_Wexford  \n",
       "customer invoice_date                                                      \n",
       "7WOLPO   2017-08-31                   0                 0               1  \n",
       "         2016-06-24                   0                 0               1  \n",
       "7WEYER   2016-09-29                   0                 0               0  \n",
       "         2016-09-20                   0                 0               0  \n",
       "         2016-02-08                   0                 0               0  \n",
       "\n",
       "[5 rows x 65 columns]"
      ]
     },
     "execution_count": 141,
     "metadata": {},
     "output_type": "execute_result"
    }
   ],
   "source": [
    "data = pd.get_dummies(data.drop(['item','description'], axis=1))\n",
    "data.head()"
   ]
  },
  {
   "cell_type": "markdown",
   "metadata": {},
   "source": [
    "## 4.4 Preprocessing - Scaling, Test/Train split"
   ]
  },
  {
   "cell_type": "code",
   "execution_count": 142,
   "metadata": {},
   "outputs": [],
   "source": [
    "from sklearn.preprocessing import StandardScaler\n",
    "\n",
    "# Define X,y\n",
    "X = data.drop(['target','first_sale'], axis=1)\n",
    "y = data.target\n",
    "\n",
    "# Preprocessing\n",
    "scaler = StandardScaler().fit(X)\n",
    "X_scaled = scaler.transform(X)"
   ]
  },
  {
   "cell_type": "code",
   "execution_count": 143,
   "metadata": {},
   "outputs": [],
   "source": [
    "# Split into training/testing sets\n",
    "from sklearn.model_selection import train_test_split\n",
    "\n",
    "y = y.ravel()\n",
    "X_train, X_test, y_train, y_test = train_test_split(X_scaled, y, random_state = 2)"
   ]
  },
  {
   "cell_type": "code",
   "execution_count": 144,
   "metadata": {},
   "outputs": [
    {
     "name": "stdout",
     "output_type": "stream",
     "text": [
      "(1949, 63)\n",
      "(1461, 63)\n",
      "(488, 63)\n"
     ]
    }
   ],
   "source": [
    "# Check shapes\n",
    "print(X.shape)\n",
    "print(X_train.shape)\n",
    "print(X_test.shape)"
   ]
  },
  {
   "cell_type": "markdown",
   "metadata": {},
   "source": [
    "# Step 5 - Modelling\n",
    "\n",
    "Now to build out 3 different models."
   ]
  },
  {
   "cell_type": "markdown",
   "metadata": {},
   "source": [
    "## 5.1 - Model 1: Random Forest\n",
    "\n",
    "Random forest is generally a good base model. It also has the added advantage of giving us feature importance, which can be translated to business impacts"
   ]
  },
  {
   "cell_type": "code",
   "execution_count": 145,
   "metadata": {},
   "outputs": [],
   "source": [
    "from sklearn.ensemble import RandomForestClassifier\n",
    "rfc = RandomForestClassifier()\n",
    "model_1 = rfc.fit(X_train, y_train)\n",
    "y_pred1 = model_1.predict(X_test)"
   ]
  },
  {
   "cell_type": "code",
   "execution_count": 146,
   "metadata": {},
   "outputs": [
    {
     "name": "stdout",
     "output_type": "stream",
     "text": [
      "              precision    recall  f1-score   support\n",
      "\n",
      "           0       0.91      0.96      0.94       442\n",
      "           1       0.19      0.09      0.12        46\n",
      "\n",
      "    accuracy                           0.88       488\n",
      "   macro avg       0.55      0.52      0.53       488\n",
      "weighted avg       0.84      0.88      0.86       488\n",
      "\n"
     ]
    }
   ],
   "source": [
    "from sklearn.metrics import classification_report\n",
    "print(classification_report(y_test, y_pred1, digits=2))"
   ]
  },
  {
   "cell_type": "markdown",
   "metadata": {},
   "source": [
    "### 5.1.1 - Hyperparameter Tuning"
   ]
  },
  {
   "cell_type": "code",
   "execution_count": 38,
   "metadata": {},
   "outputs": [
    {
     "name": "stdout",
     "output_type": "stream",
     "text": [
      "Fitting 5 folds for each of 40 candidates, totalling 200 fits\n"
     ]
    },
    {
     "name": "stderr",
     "output_type": "stream",
     "text": [
      "[Parallel(n_jobs=-1)]: Using backend LokyBackend with 8 concurrent workers.\n",
      "[Parallel(n_jobs=-1)]: Done   2 tasks      | elapsed:    1.7s\n",
      "[Parallel(n_jobs=-1)]: Done  56 tasks      | elapsed:    8.3s\n",
      "[Parallel(n_jobs=-1)]: Done 146 tasks      | elapsed:   17.6s\n",
      "[Parallel(n_jobs=-1)]: Done 200 out of 200 | elapsed:   24.5s finished\n"
     ]
    }
   ],
   "source": [
    "from sklearn.model_selection import GridSearchCV\n",
    "\n",
    "# Random forest param tuning\n",
    "param_grid = {\n",
    "    'n_estimators':np.arange(100,500,100),\n",
    "    'max_depth':[None, 3, 7, 11, 15],\n",
    "    'min_samples_leaf':np.arange(3,7,2)\n",
    "}\n",
    "\n",
    "rfc = RandomForestClassifier()\n",
    "gs1 = GridSearchCV(rfc, param_grid, verbose=5, cv=5, n_jobs=-1)\n",
    "\n",
    "gs1.results = gs1.fit(X_train, y_train)"
   ]
  },
  {
   "cell_type": "code",
   "execution_count": 39,
   "metadata": {},
   "outputs": [
    {
     "name": "stdout",
     "output_type": "stream",
     "text": [
      "Best parameters: {'max_depth': None, 'min_samples_leaf': 3, 'n_estimators': 300}\n"
     ]
    }
   ],
   "source": [
    "print('Best parameters: {}'.format(gs1.results.best_params_))"
   ]
  },
  {
   "cell_type": "code",
   "execution_count": 147,
   "metadata": {},
   "outputs": [],
   "source": [
    "# Fit best model\n",
    "rfc = RandomForestClassifier(max_depth=None,\n",
    "                            min_samples_leaf=3,\n",
    "                            n_estimators=300)\n",
    "model1 = rfc.fit(X_train, y_train)\n",
    "y_pred1 = model1.predict(X_test)"
   ]
  },
  {
   "cell_type": "code",
   "execution_count": 41,
   "metadata": {},
   "outputs": [
    {
     "name": "stdout",
     "output_type": "stream",
     "text": [
      "              precision    recall  f1-score   support\n",
      "\n",
      "           0       0.96      0.84      0.89       431\n",
      "           1       0.86      0.96      0.91       456\n",
      "\n",
      "    accuracy                           0.90       887\n",
      "   macro avg       0.91      0.90      0.90       887\n",
      "weighted avg       0.91      0.90      0.90       887\n",
      "\n"
     ]
    }
   ],
   "source": [
    "print(classification_report(y_test, y_pred1, digits=2))"
   ]
  },
  {
   "cell_type": "markdown",
   "metadata": {},
   "source": [
    "### 5.1.2 - RFC Feature Importances\n",
    "\n",
    "For this model, want to see the top features of importance."
   ]
  },
  {
   "cell_type": "code",
   "execution_count": 148,
   "metadata": {},
   "outputs": [
    {
     "name": "stdout",
     "output_type": "stream",
     "text": [
      "qty_shipped :  0.19747970675541315\n",
      "lifetime_sales :  0.17955068006956912\n",
      "market_opportunity :  0.021838439157543514\n",
      "%_market_opp :  0.02337327098412052\n",
      "item_price_rank :  0.3886930485850409\n",
      "industry_911 & Dispatch :  0.005588135829134583\n",
      "industry_Agriculture :  0.009568000139279116\n",
      "industry_Colleges & Universities :  0.003914504975464396\n",
      "industry_Construction :  0.0029294468369668145\n",
      "industry_Fire & EMS :  0.012619761668559354\n",
      "industry_Government Services :  0.008400759502639877\n",
      "industry_Healthcare :  0.011026644378489719\n",
      "industry_Hospitality :  0.007798993226071833\n",
      "industry_K12 Education :  0.010168907581726535\n",
      "industry_Law Enforcement :  0.01063493961759987\n",
      "industry_Manufacturing :  0.008985975009087679\n",
      "industry_Mining & Materials :  0.0018221762855613907\n",
      "industry_Oil & Gas :  6.987051227476936e-05\n",
      "industry_Property Management :  0.0002763488819328268\n",
      "industry_Religious Institutions :  0.0003381530631061183\n",
      "industry_Retail :  6.783129867814626e-05\n",
      "industry_Services & Training :  0.00021213641070391438\n",
      "industry_Telecommunications :  0.0015588938122944084\n",
      "industry_Transportation :  0.0044644613788960355\n",
      "industry_Utilities :  0.002352227991235117\n",
      "industry_Warehousing :  8.773791604567855e-05\n",
      "contact_owner_Jessica Spindler :  0.004151878805871766\n",
      "contact_owner_Keith Johnson :  0.006540724183576648\n",
      "contact_owner_Kelly Hoek :  0.005869745901749845\n",
      "contact_owner_Pat McBride :  0.004648539838008758\n",
      "contact_owner_Skip Petrovich :  0.005502159317456088\n",
      "contact_owner_Tom Gillespie :  0.004830347194449895\n",
      "county_Allegan :  0.004562395330936581\n",
      "county_Alpena :  4.723590367406301e-05\n",
      "county_Antrim :  0.005973676235341155\n",
      "county_Berrien :  0.002861204876318977\n",
      "county_Cass :  0.0010414269842424601\n",
      "county_Charlevoix :  0.0006298953166336237\n",
      "county_Cheboygan :  0.0015762313741912197\n",
      "county_Crawford :  0.0004305636589544182\n",
      "county_Eaton :  3.1088574628328174e-05\n",
      "county_Emmet :  0.004699664198556656\n",
      "county_Grand Traverse :  0.0014207146271934625\n",
      "county_Ionia :  2.8677794113062056e-06\n",
      "county_Kalamazoo :  0.00017447782261707757\n",
      "county_Kalkaska :  1.2846674557296934e-05\n",
      "county_Kent :  0.004433541771521986\n",
      "county_Lake :  2.0524352984311728e-05\n",
      "county_Leelanau :  0.00047592699156008214\n",
      "county_Manistee :  0.004548514502486647\n",
      "county_Mason :  0.00017939320381389506\n",
      "county_Missaukee :  0.001878787125951811\n",
      "county_Montmorency :  0.0018044681694397208\n",
      "county_Muskegon :  0.0011320159860748174\n",
      "county_Newaygo :  0.0011378480494149159\n",
      "county_Oceana :  0.000611207202509323\n",
      "county_Ogemaw :  4.44285135364603e-05\n",
      "county_Otsego :  0.0009152078857637252\n",
      "county_Ottawa :  0.006048784507744077\n",
      "county_Presque Isle :  0.0003547900519700947\n",
      "county_Roscommon :  0.003365267327424382\n",
      "county_Van Buren :  0.002742836301171531\n",
      "county_Wexford :  0.0014777215908270537\n"
     ]
    }
   ],
   "source": [
    "# Print feature importances\n",
    "for name, importance in zip(data.drop(['target','first_sale'], axis=1), \n",
    "                            model_1.feature_importances_):\n",
    "    print(name, ': ', importance)"
   ]
  },
  {
   "cell_type": "code",
   "execution_count": 150,
   "metadata": {},
   "outputs": [
    {
     "data": {
      "image/png": "[encoded data removed]",
      "text/plain": [
       "<Figure size 432x288 with 1 Axes>"
      ]
     },
     "metadata": {
      "needs_background": "light"
     },
     "output_type": "display_data"
    }
   ],
   "source": [
    "feat_importances = pd.Series(model_1.feature_importances_, \n",
    "                             index=data.drop(['target','first_sale'], axis=1).columns)\n",
    "feat_importances.sort_values(inplace=True, ascending=False)\n",
    "feat_importances[1:11].plot(kind='barh')\n",
    "\n",
    "plt.title(\"Top 10 Feature Importances\")\n",
    "plt.savefig(\"../figures/feature_importances.png\")"
   ]
  },
  {
   "cell_type": "code",
   "execution_count": 151,
   "metadata": {},
   "outputs": [
    {
     "data": {
      "image/png": "[encoded data removed]",
      "text/plain": [
       "<Figure size 432x288 with 1 Axes>"
      ]
     },
     "metadata": {
      "needs_background": "light"
     },
     "output_type": "display_data"
    }
   ],
   "source": [
    "feat_importances = pd.Series(model_1.feature_importances_, \n",
    "                             index=data.drop(['target','first_sale'], axis=1).columns)\n",
    "feat_importances.sort_values(inplace=True, ascending=False)\n",
    "feat_importances[5:16].plot(kind='barh')\n",
    "\n",
    "plt.title(\"Top Features (Controllable)\")\n",
    "plt.savefig(\"../figures/feature_importances_controllable.png\")"
   ]
  },
  {
   "cell_type": "markdown",
   "metadata": {},
   "source": [
    "## 5.2 - Model 2: Support Vector Machine (SVM)\n",
    "\n",
    "SVM models are great in high dimensional space. Our data is relatively sparse due to the number of categorical features, so will be interesting to see how well this algorithm fits a model to our data."
   ]
  },
  {
   "cell_type": "code",
   "execution_count": 9,
   "metadata": {},
   "outputs": [],
   "source": [
    "from sklearn.svm import SVC\n",
    "svc = SVC()\n",
    "model_2 = svc.fit(X_train, y_train)\n",
    "y_pred2 = model_2.predict(X_test)"
   ]
  },
  {
   "cell_type": "code",
   "execution_count": 11,
   "metadata": {},
   "outputs": [
    {
     "name": "stdout",
     "output_type": "stream",
     "text": [
      "              precision    recall  f1-score   support\n",
      "\n",
      "           0       0.65      0.66      0.65       431\n",
      "           1       0.67      0.66      0.67       456\n",
      "\n",
      "    accuracy                           0.66       887\n",
      "   macro avg       0.66      0.66      0.66       887\n",
      "weighted avg       0.66      0.66      0.66       887\n",
      "\n"
     ]
    }
   ],
   "source": [
    "print(classification_report(y_test, y_pred2, digits=2))"
   ]
  },
  {
   "cell_type": "markdown",
   "metadata": {},
   "source": [
    "### 5.2.1 - Hyperparameter Tuning"
   ]
  },
  {
   "cell_type": "code",
   "execution_count": 49,
   "metadata": {},
   "outputs": [
    {
     "name": "stdout",
     "output_type": "stream",
     "text": [
      "Fitting 5 folds for each of 18 candidates, totalling 90 fits\n"
     ]
    },
    {
     "name": "stderr",
     "output_type": "stream",
     "text": [
      "[Parallel(n_jobs=-1)]: Using backend LokyBackend with 8 concurrent workers.\n",
      "[Parallel(n_jobs=-1)]: Done   2 tasks      | elapsed:    1.5s\n",
      "[Parallel(n_jobs=-1)]: Done   9 tasks      | elapsed:    2.2s\n",
      "[Parallel(n_jobs=-1)]: Done  16 tasks      | elapsed:    2.6s\n",
      "[Parallel(n_jobs=-1)]: Done  25 tasks      | elapsed:    3.4s\n",
      "[Parallel(n_jobs=-1)]: Done  34 tasks      | elapsed:    4.2s\n",
      "[Parallel(n_jobs=-1)]: Done  45 tasks      | elapsed:    5.4s\n",
      "[Parallel(n_jobs=-1)]: Done  56 tasks      | elapsed:    6.3s\n",
      "[Parallel(n_jobs=-1)]: Done  69 tasks      | elapsed:   31.9s\n",
      "[Parallel(n_jobs=-1)]: Done  85 out of  90 | elapsed:   48.8s remaining:    2.9s\n",
      "[Parallel(n_jobs=-1)]: Done  90 out of  90 | elapsed:  1.0min finished\n"
     ]
    }
   ],
   "source": [
    "# SVC parameter tuning\n",
    "\n",
    "# reduced range of parameters due to processing power limitations\n",
    "param_grid = {\n",
    "    'kernel':['linear','rbf'],\n",
    "    'gamma':[0.1,1,10],\n",
    "    'C':[0.1,1.0,10]\n",
    "}\n",
    "\n",
    "gs2 = GridSearchCV(svc, param_grid, verbose=10, cv=5, n_jobs=-1)\n",
    "\n",
    "gs2.results = gs2.fit(X_train, y_train)"
   ]
  },
  {
   "cell_type": "code",
   "execution_count": 50,
   "metadata": {},
   "outputs": [
    {
     "name": "stdout",
     "output_type": "stream",
     "text": [
      "Best parameters: {'C': 10, 'gamma': 10, 'kernel': 'rbf'}\n"
     ]
    }
   ],
   "source": [
    "print('Best parameters: {}'.format(gs2.results.best_params_))"
   ]
  },
  {
   "cell_type": "code",
   "execution_count": 12,
   "metadata": {},
   "outputs": [],
   "source": [
    "# Fit best model\n",
    "svc = SVC(C=10, gamma=10, kernel='rbf')\n",
    "model2 = svc.fit(X_train, y_train)\n",
    "y_pred2 = model2.predict(X_test)"
   ]
  },
  {
   "cell_type": "code",
   "execution_count": 13,
   "metadata": {},
   "outputs": [
    {
     "name": "stdout",
     "output_type": "stream",
     "text": [
      "              precision    recall  f1-score   support\n",
      "\n",
      "           0       0.95      0.87      0.91       431\n",
      "           1       0.88      0.96      0.92       456\n",
      "\n",
      "    accuracy                           0.91       887\n",
      "   macro avg       0.92      0.91      0.91       887\n",
      "weighted avg       0.92      0.91      0.91       887\n",
      "\n"
     ]
    }
   ],
   "source": [
    "print(classification_report(y_test, y_pred2, digits=2))"
   ]
  },
  {
   "cell_type": "markdown",
   "metadata": {},
   "source": [
    "## 5.3 - Model 3: Logistic Regression\n",
    "\n",
    "Logistic regression is a regression algorithm used for classification."
   ]
  },
  {
   "cell_type": "code",
   "execution_count": 55,
   "metadata": {},
   "outputs": [],
   "source": [
    "from sklearn.linear_model import LogisticRegression\n",
    "\n",
    "lr = LogisticRegression()\n",
    "model_3 = lr.fit(X_train, y_train)\n",
    "y_pred3 = model_3.predict(X_test)"
   ]
  },
  {
   "cell_type": "code",
   "execution_count": 56,
   "metadata": {},
   "outputs": [
    {
     "name": "stdout",
     "output_type": "stream",
     "text": [
      "              precision    recall  f1-score   support\n",
      "\n",
      "           0       0.58      0.63      0.61       431\n",
      "           1       0.62      0.57      0.60       456\n",
      "\n",
      "    accuracy                           0.60       887\n",
      "   macro avg       0.60      0.60      0.60       887\n",
      "weighted avg       0.60      0.60      0.60       887\n",
      "\n"
     ]
    }
   ],
   "source": [
    "print(classification_report(y_test, y_pred3, digits=2))"
   ]
  },
  {
   "cell_type": "markdown",
   "metadata": {},
   "source": [
    "### 5.3.1 - Hyperparameter Tuning"
   ]
  },
  {
   "cell_type": "code",
   "execution_count": 57,
   "metadata": {},
   "outputs": [
    {
     "name": "stdout",
     "output_type": "stream",
     "text": [
      "Fitting 5 folds for each of 10 candidates, totalling 50 fits\n"
     ]
    },
    {
     "name": "stderr",
     "output_type": "stream",
     "text": [
      "[Parallel(n_jobs=-1)]: Using backend LokyBackend with 8 concurrent workers.\n",
      "[Parallel(n_jobs=-1)]: Done   2 tasks      | elapsed:    0.1s\n",
      "[Parallel(n_jobs=-1)]: Done  24 out of  50 | elapsed:    0.2s remaining:    0.2s\n",
      "[Parallel(n_jobs=-1)]: Done  50 out of  50 | elapsed:    0.3s finished\n"
     ]
    }
   ],
   "source": [
    "# Log Reg parameter tuning\n",
    "param_grid = {\n",
    "    'penalty':['l1','l2'],\n",
    "    'C':[0.1,1.0,10,100,1000]\n",
    "}\n",
    "\n",
    "gs3 = GridSearchCV(lr, param_grid, verbose=5, cv=5, n_jobs=-1)\n",
    "\n",
    "gs3.results = gs3.fit(X_train, y_train)"
   ]
  },
  {
   "cell_type": "code",
   "execution_count": 58,
   "metadata": {},
   "outputs": [
    {
     "name": "stdout",
     "output_type": "stream",
     "text": [
      "Best parameters: {'C': 1.0, 'penalty': 'l2'}\n"
     ]
    }
   ],
   "source": [
    "print('Best parameters: {}'.format(gs3.results.best_params_))"
   ]
  },
  {
   "cell_type": "code",
   "execution_count": 61,
   "metadata": {},
   "outputs": [],
   "source": [
    "# Fit best model\n",
    "lr = LogisticRegression(C=1.0, penalty='l2')\n",
    "model3 = lr.fit(X_train, y_train)\n",
    "y_pred3 = model3.predict(X_test)"
   ]
  },
  {
   "cell_type": "code",
   "execution_count": 62,
   "metadata": {},
   "outputs": [
    {
     "name": "stdout",
     "output_type": "stream",
     "text": [
      "              precision    recall  f1-score   support\n",
      "\n",
      "           0       0.58      0.63      0.61       431\n",
      "           1       0.62      0.57      0.60       456\n",
      "\n",
      "    accuracy                           0.60       887\n",
      "   macro avg       0.60      0.60      0.60       887\n",
      "weighted avg       0.60      0.60      0.60       887\n",
      "\n"
     ]
    }
   ],
   "source": [
    "print(classification_report(y_test, y_pred3, digits=2))"
   ]
  },
  {
   "cell_type": "markdown",
   "metadata": {},
   "source": [
    "# 6: Documentation: Save Model Metrics"
   ]
  },
  {
   "cell_type": "code",
   "execution_count": 14,
   "metadata": {},
   "outputs": [],
   "source": [
    "model_metrics = {\n",
    "    'model type' : 'Support Vector Machine Classifier',\n",
    "    'hyperparameters' : {'C': 10, \n",
    "                         'gamma': 10, \n",
    "                         'kernal': 'rbf'},\n",
    "    'performance' : classification_report(y_test, y_pred2, digits=2)\n",
    "}"
   ]
  },
  {
   "cell_type": "code",
   "execution_count": 15,
   "metadata": {},
   "outputs": [],
   "source": [
    "import json\n",
    "import os\n",
    "\n",
    "with open('model/model_metrics.json','w')as fp:\n",
    "    json.dump(model_metrics, fp)"
   ]
  }
 ],
 "metadata": {
  "kernelspec": {
   "display_name": "Python 3",
   "language": "python",
   "name": "python3"
  },
  "language_info": {
   "codemirror_mode": {
    "name": "ipython",
    "version": 3
   },
   "file_extension": ".py",
   "mimetype": "text/x-python",
   "name": "python",
   "nbconvert_exporter": "python",
   "pygments_lexer": "ipython3",
   "version": "3.7.6"
  }
 },
 "nbformat": 4,
 "nbformat_minor": 4
}
